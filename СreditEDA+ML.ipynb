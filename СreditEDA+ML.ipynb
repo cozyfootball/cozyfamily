{
 "cells": [
  {
   "cell_type": "code",
   "execution_count": 1,
   "id": "206a4351",
   "metadata": {},
   "outputs": [
    {
     "name": "stdout",
     "output_type": "stream",
     "text": [
      "Requirement already satisfied: phik in /opt/conda/lib/python3.9/site-packages (0.12.3)\r\n",
      "Requirement already satisfied: numpy>=1.18.0 in /opt/conda/lib/python3.9/site-packages (from phik) (1.21.1)\r\n",
      "Requirement already satisfied: scipy>=1.5.2 in /opt/conda/lib/python3.9/site-packages (from phik) (1.9.1)\r\n",
      "Requirement already satisfied: joblib>=0.14.1 in /opt/conda/lib/python3.9/site-packages (from phik) (1.1.0)\r\n",
      "Requirement already satisfied: pandas>=0.25.1 in /opt/conda/lib/python3.9/site-packages (from phik) (1.2.4)\r\n",
      "Requirement already satisfied: matplotlib>=2.2.3 in /opt/conda/lib/python3.9/site-packages (from phik) (3.3.4)\r\n",
      "Requirement already satisfied: pyparsing!=2.0.4,!=2.1.2,!=2.1.6,>=2.0.3 in /opt/conda/lib/python3.9/site-packages (from matplotlib>=2.2.3->phik) (2.4.7)\r\n",
      "Requirement already satisfied: kiwisolver>=1.0.1 in /opt/conda/lib/python3.9/site-packages (from matplotlib>=2.2.3->phik) (1.4.4)\r\n",
      "Requirement already satisfied: cycler>=0.10 in /opt/conda/lib/python3.9/site-packages (from matplotlib>=2.2.3->phik) (0.11.0)\r\n",
      "Requirement already satisfied: pillow>=6.2.0 in /opt/conda/lib/python3.9/site-packages (from matplotlib>=2.2.3->phik) (8.4.0)\r\n",
      "Requirement already satisfied: python-dateutil>=2.1 in /opt/conda/lib/python3.9/site-packages (from matplotlib>=2.2.3->phik) (2.8.1)\r\n",
      "Requirement already satisfied: pytz>=2017.3 in /opt/conda/lib/python3.9/site-packages (from pandas>=0.25.1->phik) (2021.1)\r\n",
      "Requirement already satisfied: six>=1.5 in /opt/conda/lib/python3.9/site-packages (from python-dateutil>=2.1->matplotlib>=2.2.3->phik) (1.16.0)\r\n"
     ]
    }
   ],
   "source": [
    "!pip install phik"
   ]
  },
  {
   "cell_type": "code",
   "execution_count": 2,
   "id": "e401bea4",
   "metadata": {},
   "outputs": [],
   "source": [
    "import phik\n",
    "import pandas as pd\n",
    "import matplotlib.pyplot as plt\n",
    "import seaborn as sns\n",
    "from sklearn.model_selection import train_test_split\n",
    "from sklearn.tree import DecisionTreeClassifier\n",
    "from sklearn.linear_model import LogisticRegression\n",
    "from sklearn.ensemble import RandomForestClassifier\n",
    "from sklearn.metrics import accuracy_score\n",
    "from sklearn.dummy import DummyClassifier\n",
    "from sklearn.metrics import f1_score, roc_auc_score, roc_curve, recall_score, precision_score\n",
    "from sklearn.metrics import log_loss\n",
    "from sklearn.metrics import classification_report\n",
    "from sklearn.metrics import confusion_matrix\n",
    "from catboost import CatBoostClassifier\n",
    "import warnings\n",
    "warnings.filterwarnings(\"ignore\")\n",
    "from sklearn.metrics import f1_score, roc_auc_score, roc_curve, precision_score, recall_score\n",
    "from sklearn.metrics import precision_recall_curve, accuracy_score\n",
    "from catboost import Pool\n",
    "from sklearn.model_selection import train_test_split"
   ]
  },
  {
   "cell_type": "code",
   "execution_count": null,
   "id": "17d65463",
   "metadata": {},
   "outputs": [],
   "source": []
  },
  {
   "cell_type": "markdown",
   "id": "09f2e631",
   "metadata": {},
   "source": [
    "**Заказчик**: кредитный отдел банка.  \n",
    "**Входные данные от банка**: статистика о платёжеспособности клиентов.  \n",
    "**Задача**: определить зависимости фичей от таргета(debt). Применить модель Catboost. Изучить метрики."
   ]
  },
  {
   "cell_type": "markdown",
   "id": "5ec323f7",
   "metadata": {},
   "source": [
    "## Изучение датасета"
   ]
  },
  {
   "cell_type": "code",
   "execution_count": 3,
   "id": "5f8dc946",
   "metadata": {},
   "outputs": [],
   "source": [
    "data = pd.read_csv('/datasets/data.csv')"
   ]
  },
  {
   "cell_type": "markdown",
   "id": "5fda62d0",
   "metadata": {},
   "source": [
    "### Знакомство с данными"
   ]
  },
  {
   "cell_type": "code",
   "execution_count": 4,
   "id": "1b858a89",
   "metadata": {},
   "outputs": [
    {
     "name": "stdout",
     "output_type": "stream",
     "text": [
      "Исходный датасет\n",
      "Количество строк 21525\n",
      "Количество столбцов 12\n"
     ]
    }
   ],
   "source": [
    "print('Исходный датасет')\n",
    "print(f'Количество строк {data.shape[0]}')\n",
    "print(f'Количество столбцов {data.shape[1]}')"
   ]
  },
  {
   "cell_type": "markdown",
   "id": "e601fcfc",
   "metadata": {},
   "source": [
    "В предоставленном датасете указаны сведения о 21 тысяче клиентов банка."
   ]
  },
  {
   "cell_type": "code",
   "execution_count": 5,
   "id": "3cdd7498",
   "metadata": {},
   "outputs": [
    {
     "data": {
      "text/html": [
       "<div>\n",
       "<style scoped>\n",
       "    .dataframe tbody tr th:only-of-type {\n",
       "        vertical-align: middle;\n",
       "    }\n",
       "\n",
       "    .dataframe tbody tr th {\n",
       "        vertical-align: top;\n",
       "    }\n",
       "\n",
       "    .dataframe thead th {\n",
       "        text-align: right;\n",
       "    }\n",
       "</style>\n",
       "<table border=\"1\" class=\"dataframe\">\n",
       "  <thead>\n",
       "    <tr style=\"text-align: right;\">\n",
       "      <th></th>\n",
       "      <th>children</th>\n",
       "      <th>days_employed</th>\n",
       "      <th>dob_years</th>\n",
       "      <th>education</th>\n",
       "      <th>education_id</th>\n",
       "      <th>family_status</th>\n",
       "      <th>family_status_id</th>\n",
       "      <th>gender</th>\n",
       "      <th>income_type</th>\n",
       "      <th>debt</th>\n",
       "      <th>total_income</th>\n",
       "      <th>purpose</th>\n",
       "    </tr>\n",
       "  </thead>\n",
       "  <tbody>\n",
       "    <tr>\n",
       "      <th>0</th>\n",
       "      <td>1</td>\n",
       "      <td>-8437.673028</td>\n",
       "      <td>42</td>\n",
       "      <td>высшее</td>\n",
       "      <td>0</td>\n",
       "      <td>женат / замужем</td>\n",
       "      <td>0</td>\n",
       "      <td>F</td>\n",
       "      <td>сотрудник</td>\n",
       "      <td>0</td>\n",
       "      <td>253875.639453</td>\n",
       "      <td>покупка жилья</td>\n",
       "    </tr>\n",
       "    <tr>\n",
       "      <th>1</th>\n",
       "      <td>1</td>\n",
       "      <td>-4024.803754</td>\n",
       "      <td>36</td>\n",
       "      <td>среднее</td>\n",
       "      <td>1</td>\n",
       "      <td>женат / замужем</td>\n",
       "      <td>0</td>\n",
       "      <td>F</td>\n",
       "      <td>сотрудник</td>\n",
       "      <td>0</td>\n",
       "      <td>112080.014102</td>\n",
       "      <td>приобретение автомобиля</td>\n",
       "    </tr>\n",
       "    <tr>\n",
       "      <th>2</th>\n",
       "      <td>0</td>\n",
       "      <td>-5623.422610</td>\n",
       "      <td>33</td>\n",
       "      <td>Среднее</td>\n",
       "      <td>1</td>\n",
       "      <td>женат / замужем</td>\n",
       "      <td>0</td>\n",
       "      <td>M</td>\n",
       "      <td>сотрудник</td>\n",
       "      <td>0</td>\n",
       "      <td>145885.952297</td>\n",
       "      <td>покупка жилья</td>\n",
       "    </tr>\n",
       "    <tr>\n",
       "      <th>3</th>\n",
       "      <td>3</td>\n",
       "      <td>-4124.747207</td>\n",
       "      <td>32</td>\n",
       "      <td>среднее</td>\n",
       "      <td>1</td>\n",
       "      <td>женат / замужем</td>\n",
       "      <td>0</td>\n",
       "      <td>M</td>\n",
       "      <td>сотрудник</td>\n",
       "      <td>0</td>\n",
       "      <td>267628.550329</td>\n",
       "      <td>дополнительное образование</td>\n",
       "    </tr>\n",
       "    <tr>\n",
       "      <th>4</th>\n",
       "      <td>0</td>\n",
       "      <td>340266.072047</td>\n",
       "      <td>53</td>\n",
       "      <td>среднее</td>\n",
       "      <td>1</td>\n",
       "      <td>гражданский брак</td>\n",
       "      <td>1</td>\n",
       "      <td>F</td>\n",
       "      <td>пенсионер</td>\n",
       "      <td>0</td>\n",
       "      <td>158616.077870</td>\n",
       "      <td>сыграть свадьбу</td>\n",
       "    </tr>\n",
       "    <tr>\n",
       "      <th>5</th>\n",
       "      <td>0</td>\n",
       "      <td>-926.185831</td>\n",
       "      <td>27</td>\n",
       "      <td>высшее</td>\n",
       "      <td>0</td>\n",
       "      <td>гражданский брак</td>\n",
       "      <td>1</td>\n",
       "      <td>M</td>\n",
       "      <td>компаньон</td>\n",
       "      <td>0</td>\n",
       "      <td>255763.565419</td>\n",
       "      <td>покупка жилья</td>\n",
       "    </tr>\n",
       "    <tr>\n",
       "      <th>6</th>\n",
       "      <td>0</td>\n",
       "      <td>-2879.202052</td>\n",
       "      <td>43</td>\n",
       "      <td>высшее</td>\n",
       "      <td>0</td>\n",
       "      <td>женат / замужем</td>\n",
       "      <td>0</td>\n",
       "      <td>F</td>\n",
       "      <td>компаньон</td>\n",
       "      <td>0</td>\n",
       "      <td>240525.971920</td>\n",
       "      <td>операции с жильем</td>\n",
       "    </tr>\n",
       "  </tbody>\n",
       "</table>\n",
       "</div>"
      ],
      "text/plain": [
       "   children  days_employed  dob_years education  education_id  \\\n",
       "0         1   -8437.673028         42    высшее             0   \n",
       "1         1   -4024.803754         36   среднее             1   \n",
       "2         0   -5623.422610         33   Среднее             1   \n",
       "3         3   -4124.747207         32   среднее             1   \n",
       "4         0  340266.072047         53   среднее             1   \n",
       "5         0    -926.185831         27    высшее             0   \n",
       "6         0   -2879.202052         43    высшее             0   \n",
       "\n",
       "      family_status  family_status_id gender income_type  debt   total_income  \\\n",
       "0   женат / замужем                 0      F   сотрудник     0  253875.639453   \n",
       "1   женат / замужем                 0      F   сотрудник     0  112080.014102   \n",
       "2   женат / замужем                 0      M   сотрудник     0  145885.952297   \n",
       "3   женат / замужем                 0      M   сотрудник     0  267628.550329   \n",
       "4  гражданский брак                 1      F   пенсионер     0  158616.077870   \n",
       "5  гражданский брак                 1      M   компаньон     0  255763.565419   \n",
       "6   женат / замужем                 0      F   компаньон     0  240525.971920   \n",
       "\n",
       "                      purpose  \n",
       "0               покупка жилья  \n",
       "1     приобретение автомобиля  \n",
       "2               покупка жилья  \n",
       "3  дополнительное образование  \n",
       "4             сыграть свадьбу  \n",
       "5               покупка жилья  \n",
       "6           операции с жильем  "
      ]
     },
     "execution_count": 5,
     "metadata": {},
     "output_type": "execute_result"
    }
   ],
   "source": [
    "data.head(7)"
   ]
  },
  {
   "cell_type": "markdown",
   "id": "718301b3",
   "metadata": {},
   "source": [
    "В датасете содержится любопытная информация по возрасту, образованию, количеству детей, целям кредита, полу и специальности. Попробуем изучить каждый признак отдельно и сделать выводы об отсутствии либо наличии зависимостей с наличием просрочки по кредиту."
   ]
  },
  {
   "cell_type": "markdown",
   "id": "a896161f",
   "metadata": {},
   "source": [
    "### Изучение столбцов"
   ]
  },
  {
   "cell_type": "code",
   "execution_count": 6,
   "id": "353e6052",
   "metadata": {},
   "outputs": [
    {
     "data": {
      "text/plain": [
       "Index(['children', 'days_employed', 'dob_years', 'education', 'education_id',\n",
       "       'family_status', 'family_status_id', 'gender', 'income_type', 'debt',\n",
       "       'total_income', 'purpose'],\n",
       "      dtype='object')"
      ]
     },
     "execution_count": 6,
     "metadata": {},
     "output_type": "execute_result"
    }
   ],
   "source": [
    "data.columns"
   ]
  },
  {
   "cell_type": "markdown",
   "id": "4eedb981",
   "metadata": {},
   "source": [
    "**Описание данных**  \n",
    "**children** — количество детей в семье  \n",
    "**days_employed** — общий трудовой стаж в днях  \n",
    "**dob_years** — возраст клиента в годах  \n",
    "**education** — уровень образования клиента  \n",
    "**education_id** — идентификатор уровня образования  \n",
    "**family_status** — семейное положение  \n",
    "**family_status_id** — идентификатор семейного положения  \n",
    "**gender** — пол клиента  \n",
    "**income_type** — тип занятости  \n",
    "**debt** — имел ли задолженность по возврату кредитов  \n",
    "**total_income** — ежемесячный доход  \n",
    "**purpose** — цель получения кредита  "
   ]
  },
  {
   "cell_type": "markdown",
   "id": "d924e413",
   "metadata": {},
   "source": [
    "### Дубликаты"
   ]
  },
  {
   "cell_type": "markdown",
   "id": "db6cd2c6",
   "metadata": {},
   "source": [
    "Определим количество полных дубликатов в исходном датасете."
   ]
  },
  {
   "cell_type": "code",
   "execution_count": 7,
   "id": "42e6a347",
   "metadata": {},
   "outputs": [
    {
     "name": "stdout",
     "output_type": "stream",
     "text": [
      "Количество полных дубликтов в датасете 54\n"
     ]
    }
   ],
   "source": [
    "mydups = data.duplicated().sum()\n",
    "print('Количество полных дубликтов в датасете', mydups)"
   ]
  },
  {
   "cell_type": "markdown",
   "id": "0d87f914",
   "metadata": {},
   "source": [
    "Удалим полные дубликаты из датасета."
   ]
  },
  {
   "cell_type": "code",
   "execution_count": 8,
   "id": "619e6e1a",
   "metadata": {},
   "outputs": [
    {
     "name": "stdout",
     "output_type": "stream",
     "text": [
      "Количество полных дубликтов в датасете 0\n"
     ]
    }
   ],
   "source": [
    "data = data.drop_duplicates()\n",
    "mydups = data.duplicated().sum()\n",
    "print('Количество полных дубликтов в датасете', mydups)"
   ]
  },
  {
   "cell_type": "markdown",
   "id": "b7c602ac",
   "metadata": {},
   "source": [
    "### Диапазон значений"
   ]
  },
  {
   "cell_type": "markdown",
   "id": "ff644f02",
   "metadata": {},
   "source": [
    "Изучим предложенные диапазоны числовых значений в датасете."
   ]
  },
  {
   "cell_type": "code",
   "execution_count": 9,
   "id": "d4a9ba62",
   "metadata": {},
   "outputs": [
    {
     "data": {
      "text/html": [
       "<div>\n",
       "<style scoped>\n",
       "    .dataframe tbody tr th:only-of-type {\n",
       "        vertical-align: middle;\n",
       "    }\n",
       "\n",
       "    .dataframe tbody tr th {\n",
       "        vertical-align: top;\n",
       "    }\n",
       "\n",
       "    .dataframe thead th {\n",
       "        text-align: right;\n",
       "    }\n",
       "</style>\n",
       "<table border=\"1\" class=\"dataframe\">\n",
       "  <thead>\n",
       "    <tr style=\"text-align: right;\">\n",
       "      <th></th>\n",
       "      <th>count</th>\n",
       "      <th>mean</th>\n",
       "      <th>std</th>\n",
       "      <th>min</th>\n",
       "      <th>25%</th>\n",
       "      <th>50%</th>\n",
       "      <th>75%</th>\n",
       "      <th>max</th>\n",
       "    </tr>\n",
       "  </thead>\n",
       "  <tbody>\n",
       "    <tr>\n",
       "      <th>children</th>\n",
       "      <td>21471.0</td>\n",
       "      <td>0.539565</td>\n",
       "      <td>1.382978</td>\n",
       "      <td>-1.000000</td>\n",
       "      <td>0.000000</td>\n",
       "      <td>0.000000</td>\n",
       "      <td>1.000000</td>\n",
       "      <td>2.000000e+01</td>\n",
       "    </tr>\n",
       "    <tr>\n",
       "      <th>days_employed</th>\n",
       "      <td>19351.0</td>\n",
       "      <td>63046.497661</td>\n",
       "      <td>140827.311974</td>\n",
       "      <td>-18388.949901</td>\n",
       "      <td>-2747.423625</td>\n",
       "      <td>-1203.369529</td>\n",
       "      <td>-291.095954</td>\n",
       "      <td>4.017554e+05</td>\n",
       "    </tr>\n",
       "    <tr>\n",
       "      <th>dob_years</th>\n",
       "      <td>21471.0</td>\n",
       "      <td>43.279074</td>\n",
       "      <td>12.574291</td>\n",
       "      <td>0.000000</td>\n",
       "      <td>33.000000</td>\n",
       "      <td>42.000000</td>\n",
       "      <td>53.000000</td>\n",
       "      <td>7.500000e+01</td>\n",
       "    </tr>\n",
       "    <tr>\n",
       "      <th>education_id</th>\n",
       "      <td>21471.0</td>\n",
       "      <td>0.817195</td>\n",
       "      <td>0.548508</td>\n",
       "      <td>0.000000</td>\n",
       "      <td>1.000000</td>\n",
       "      <td>1.000000</td>\n",
       "      <td>1.000000</td>\n",
       "      <td>4.000000e+00</td>\n",
       "    </tr>\n",
       "    <tr>\n",
       "      <th>family_status_id</th>\n",
       "      <td>21471.0</td>\n",
       "      <td>0.973685</td>\n",
       "      <td>1.421082</td>\n",
       "      <td>0.000000</td>\n",
       "      <td>0.000000</td>\n",
       "      <td>0.000000</td>\n",
       "      <td>1.000000</td>\n",
       "      <td>4.000000e+00</td>\n",
       "    </tr>\n",
       "    <tr>\n",
       "      <th>debt</th>\n",
       "      <td>21471.0</td>\n",
       "      <td>0.081086</td>\n",
       "      <td>0.272974</td>\n",
       "      <td>0.000000</td>\n",
       "      <td>0.000000</td>\n",
       "      <td>0.000000</td>\n",
       "      <td>0.000000</td>\n",
       "      <td>1.000000e+00</td>\n",
       "    </tr>\n",
       "    <tr>\n",
       "      <th>total_income</th>\n",
       "      <td>19351.0</td>\n",
       "      <td>167422.302208</td>\n",
       "      <td>102971.566448</td>\n",
       "      <td>20667.263793</td>\n",
       "      <td>103053.152913</td>\n",
       "      <td>145017.937533</td>\n",
       "      <td>203435.067663</td>\n",
       "      <td>2.265604e+06</td>\n",
       "    </tr>\n",
       "  </tbody>\n",
       "</table>\n",
       "</div>"
      ],
      "text/plain": [
       "                    count           mean            std           min  \\\n",
       "children          21471.0       0.539565       1.382978     -1.000000   \n",
       "days_employed     19351.0   63046.497661  140827.311974 -18388.949901   \n",
       "dob_years         21471.0      43.279074      12.574291      0.000000   \n",
       "education_id      21471.0       0.817195       0.548508      0.000000   \n",
       "family_status_id  21471.0       0.973685       1.421082      0.000000   \n",
       "debt              21471.0       0.081086       0.272974      0.000000   \n",
       "total_income      19351.0  167422.302208  102971.566448  20667.263793   \n",
       "\n",
       "                            25%            50%            75%           max  \n",
       "children               0.000000       0.000000       1.000000  2.000000e+01  \n",
       "days_employed      -2747.423625   -1203.369529    -291.095954  4.017554e+05  \n",
       "dob_years             33.000000      42.000000      53.000000  7.500000e+01  \n",
       "education_id           1.000000       1.000000       1.000000  4.000000e+00  \n",
       "family_status_id       0.000000       0.000000       1.000000  4.000000e+00  \n",
       "debt                   0.000000       0.000000       0.000000  1.000000e+00  \n",
       "total_income      103053.152913  145017.937533  203435.067663  2.265604e+06  "
      ]
     },
     "execution_count": 9,
     "metadata": {},
     "output_type": "execute_result"
    }
   ],
   "source": [
    "data.describe().T"
   ]
  },
  {
   "cell_type": "markdown",
   "id": "fbf542dd",
   "metadata": {},
   "source": [
    "В двух столбцах присутствуют пропуски.  \n",
    "Средний возраст заемщика - **43** года.  \n",
    "**8%** заемщиков уходят в просрочку."
   ]
  },
  {
   "cell_type": "markdown",
   "id": "e3bd47a8",
   "metadata": {},
   "source": [
    "### Пропуски"
   ]
  },
  {
   "cell_type": "code",
   "execution_count": 10,
   "id": "bd301f25",
   "metadata": {},
   "outputs": [
    {
     "data": {
      "text/html": [
       "<style  type=\"text/css\" >\n",
       "#T_4f9c9_row0_col0,#T_4f9c9_row2_col0,#T_4f9c9_row3_col0,#T_4f9c9_row4_col0,#T_4f9c9_row5_col0,#T_4f9c9_row6_col0,#T_4f9c9_row7_col0,#T_4f9c9_row8_col0,#T_4f9c9_row9_col0,#T_4f9c9_row11_col0{\n",
       "            background-color:  #3b4cc0;\n",
       "            color:  #f1f1f1;\n",
       "        }#T_4f9c9_row1_col0,#T_4f9c9_row10_col0{\n",
       "            background-color:  #b40426;\n",
       "            color:  #f1f1f1;\n",
       "        }</style><table id=\"T_4f9c9_\" ><thead>    <tr>        <th class=\"blank level0\" ></th>        <th class=\"col_heading level0 col0\" >0</th>    </tr></thead><tbody>\n",
       "                <tr>\n",
       "                        <th id=\"T_4f9c9_level0_row0\" class=\"row_heading level0 row0\" >children</th>\n",
       "                        <td id=\"T_4f9c9_row0_col0\" class=\"data row0 col0\" >0.000000</td>\n",
       "            </tr>\n",
       "            <tr>\n",
       "                        <th id=\"T_4f9c9_level0_row1\" class=\"row_heading level0 row1\" >days_employed</th>\n",
       "                        <td id=\"T_4f9c9_row1_col0\" class=\"data row1 col0\" >9.900000</td>\n",
       "            </tr>\n",
       "            <tr>\n",
       "                        <th id=\"T_4f9c9_level0_row2\" class=\"row_heading level0 row2\" >dob_years</th>\n",
       "                        <td id=\"T_4f9c9_row2_col0\" class=\"data row2 col0\" >0.000000</td>\n",
       "            </tr>\n",
       "            <tr>\n",
       "                        <th id=\"T_4f9c9_level0_row3\" class=\"row_heading level0 row3\" >education</th>\n",
       "                        <td id=\"T_4f9c9_row3_col0\" class=\"data row3 col0\" >0.000000</td>\n",
       "            </tr>\n",
       "            <tr>\n",
       "                        <th id=\"T_4f9c9_level0_row4\" class=\"row_heading level0 row4\" >education_id</th>\n",
       "                        <td id=\"T_4f9c9_row4_col0\" class=\"data row4 col0\" >0.000000</td>\n",
       "            </tr>\n",
       "            <tr>\n",
       "                        <th id=\"T_4f9c9_level0_row5\" class=\"row_heading level0 row5\" >family_status</th>\n",
       "                        <td id=\"T_4f9c9_row5_col0\" class=\"data row5 col0\" >0.000000</td>\n",
       "            </tr>\n",
       "            <tr>\n",
       "                        <th id=\"T_4f9c9_level0_row6\" class=\"row_heading level0 row6\" >family_status_id</th>\n",
       "                        <td id=\"T_4f9c9_row6_col0\" class=\"data row6 col0\" >0.000000</td>\n",
       "            </tr>\n",
       "            <tr>\n",
       "                        <th id=\"T_4f9c9_level0_row7\" class=\"row_heading level0 row7\" >gender</th>\n",
       "                        <td id=\"T_4f9c9_row7_col0\" class=\"data row7 col0\" >0.000000</td>\n",
       "            </tr>\n",
       "            <tr>\n",
       "                        <th id=\"T_4f9c9_level0_row8\" class=\"row_heading level0 row8\" >income_type</th>\n",
       "                        <td id=\"T_4f9c9_row8_col0\" class=\"data row8 col0\" >0.000000</td>\n",
       "            </tr>\n",
       "            <tr>\n",
       "                        <th id=\"T_4f9c9_level0_row9\" class=\"row_heading level0 row9\" >debt</th>\n",
       "                        <td id=\"T_4f9c9_row9_col0\" class=\"data row9 col0\" >0.000000</td>\n",
       "            </tr>\n",
       "            <tr>\n",
       "                        <th id=\"T_4f9c9_level0_row10\" class=\"row_heading level0 row10\" >total_income</th>\n",
       "                        <td id=\"T_4f9c9_row10_col0\" class=\"data row10 col0\" >9.900000</td>\n",
       "            </tr>\n",
       "            <tr>\n",
       "                        <th id=\"T_4f9c9_level0_row11\" class=\"row_heading level0 row11\" >purpose</th>\n",
       "                        <td id=\"T_4f9c9_row11_col0\" class=\"data row11 col0\" >0.000000</td>\n",
       "            </tr>\n",
       "    </tbody></table>"
      ],
      "text/plain": [
       "<pandas.io.formats.style.Styler at 0x7f865654cca0>"
      ]
     },
     "execution_count": 10,
     "metadata": {},
     "output_type": "execute_result"
    }
   ],
   "source": [
    "pd.DataFrame(round(data.isna().mean()*100,1)).style.background_gradient('coolwarm')"
   ]
  },
  {
   "cell_type": "markdown",
   "id": "a2249aea",
   "metadata": {},
   "source": [
    "В столбце о доходе и трудовом стаже обнаружены пропуски, их доля 10%. Изучим несколько подобных строк."
   ]
  },
  {
   "cell_type": "code",
   "execution_count": 11,
   "id": "2f9e1fac",
   "metadata": {},
   "outputs": [
    {
     "data": {
      "text/html": [
       "<div>\n",
       "<style scoped>\n",
       "    .dataframe tbody tr th:only-of-type {\n",
       "        vertical-align: middle;\n",
       "    }\n",
       "\n",
       "    .dataframe tbody tr th {\n",
       "        vertical-align: top;\n",
       "    }\n",
       "\n",
       "    .dataframe thead th {\n",
       "        text-align: right;\n",
       "    }\n",
       "</style>\n",
       "<table border=\"1\" class=\"dataframe\">\n",
       "  <thead>\n",
       "    <tr style=\"text-align: right;\">\n",
       "      <th></th>\n",
       "      <th>children</th>\n",
       "      <th>days_employed</th>\n",
       "      <th>dob_years</th>\n",
       "      <th>education</th>\n",
       "      <th>education_id</th>\n",
       "      <th>family_status</th>\n",
       "      <th>family_status_id</th>\n",
       "      <th>gender</th>\n",
       "      <th>income_type</th>\n",
       "      <th>debt</th>\n",
       "      <th>total_income</th>\n",
       "      <th>purpose</th>\n",
       "    </tr>\n",
       "  </thead>\n",
       "  <tbody>\n",
       "    <tr>\n",
       "      <th>12</th>\n",
       "      <td>0</td>\n",
       "      <td>NaN</td>\n",
       "      <td>65</td>\n",
       "      <td>среднее</td>\n",
       "      <td>1</td>\n",
       "      <td>гражданский брак</td>\n",
       "      <td>1</td>\n",
       "      <td>M</td>\n",
       "      <td>пенсионер</td>\n",
       "      <td>0</td>\n",
       "      <td>NaN</td>\n",
       "      <td>сыграть свадьбу</td>\n",
       "    </tr>\n",
       "    <tr>\n",
       "      <th>26</th>\n",
       "      <td>0</td>\n",
       "      <td>NaN</td>\n",
       "      <td>41</td>\n",
       "      <td>среднее</td>\n",
       "      <td>1</td>\n",
       "      <td>женат / замужем</td>\n",
       "      <td>0</td>\n",
       "      <td>M</td>\n",
       "      <td>госслужащий</td>\n",
       "      <td>0</td>\n",
       "      <td>NaN</td>\n",
       "      <td>образование</td>\n",
       "    </tr>\n",
       "    <tr>\n",
       "      <th>29</th>\n",
       "      <td>0</td>\n",
       "      <td>NaN</td>\n",
       "      <td>63</td>\n",
       "      <td>среднее</td>\n",
       "      <td>1</td>\n",
       "      <td>Не женат / не замужем</td>\n",
       "      <td>4</td>\n",
       "      <td>F</td>\n",
       "      <td>пенсионер</td>\n",
       "      <td>0</td>\n",
       "      <td>NaN</td>\n",
       "      <td>строительство жилой недвижимости</td>\n",
       "    </tr>\n",
       "    <tr>\n",
       "      <th>41</th>\n",
       "      <td>0</td>\n",
       "      <td>NaN</td>\n",
       "      <td>50</td>\n",
       "      <td>среднее</td>\n",
       "      <td>1</td>\n",
       "      <td>женат / замужем</td>\n",
       "      <td>0</td>\n",
       "      <td>F</td>\n",
       "      <td>госслужащий</td>\n",
       "      <td>0</td>\n",
       "      <td>NaN</td>\n",
       "      <td>сделка с подержанным автомобилем</td>\n",
       "    </tr>\n",
       "    <tr>\n",
       "      <th>55</th>\n",
       "      <td>0</td>\n",
       "      <td>NaN</td>\n",
       "      <td>54</td>\n",
       "      <td>среднее</td>\n",
       "      <td>1</td>\n",
       "      <td>гражданский брак</td>\n",
       "      <td>1</td>\n",
       "      <td>F</td>\n",
       "      <td>пенсионер</td>\n",
       "      <td>1</td>\n",
       "      <td>NaN</td>\n",
       "      <td>сыграть свадьбу</td>\n",
       "    </tr>\n",
       "    <tr>\n",
       "      <th>65</th>\n",
       "      <td>0</td>\n",
       "      <td>NaN</td>\n",
       "      <td>21</td>\n",
       "      <td>среднее</td>\n",
       "      <td>1</td>\n",
       "      <td>Не женат / не замужем</td>\n",
       "      <td>4</td>\n",
       "      <td>M</td>\n",
       "      <td>компаньон</td>\n",
       "      <td>0</td>\n",
       "      <td>NaN</td>\n",
       "      <td>операции с коммерческой недвижимостью</td>\n",
       "    </tr>\n",
       "    <tr>\n",
       "      <th>67</th>\n",
       "      <td>0</td>\n",
       "      <td>NaN</td>\n",
       "      <td>52</td>\n",
       "      <td>высшее</td>\n",
       "      <td>0</td>\n",
       "      <td>женат / замужем</td>\n",
       "      <td>0</td>\n",
       "      <td>F</td>\n",
       "      <td>пенсионер</td>\n",
       "      <td>0</td>\n",
       "      <td>NaN</td>\n",
       "      <td>покупка жилья для семьи</td>\n",
       "    </tr>\n",
       "  </tbody>\n",
       "</table>\n",
       "</div>"
      ],
      "text/plain": [
       "    children  days_employed  dob_years education  education_id  \\\n",
       "12         0            NaN         65   среднее             1   \n",
       "26         0            NaN         41   среднее             1   \n",
       "29         0            NaN         63   среднее             1   \n",
       "41         0            NaN         50   среднее             1   \n",
       "55         0            NaN         54   среднее             1   \n",
       "65         0            NaN         21   среднее             1   \n",
       "67         0            NaN         52    высшее             0   \n",
       "\n",
       "            family_status  family_status_id gender  income_type  debt  \\\n",
       "12       гражданский брак                 1      M    пенсионер     0   \n",
       "26        женат / замужем                 0      M  госслужащий     0   \n",
       "29  Не женат / не замужем                 4      F    пенсионер     0   \n",
       "41        женат / замужем                 0      F  госслужащий     0   \n",
       "55       гражданский брак                 1      F    пенсионер     1   \n",
       "65  Не женат / не замужем                 4      M    компаньон     0   \n",
       "67        женат / замужем                 0      F    пенсионер     0   \n",
       "\n",
       "    total_income                                purpose  \n",
       "12           NaN                        сыграть свадьбу  \n",
       "26           NaN                            образование  \n",
       "29           NaN       строительство жилой недвижимости  \n",
       "41           NaN       сделка с подержанным автомобилем  \n",
       "55           NaN                        сыграть свадьбу  \n",
       "65           NaN  операции с коммерческой недвижимостью  \n",
       "67           NaN                покупка жилья для семьи  "
      ]
     },
     "execution_count": 11,
     "metadata": {},
     "output_type": "execute_result"
    }
   ],
   "source": [
    "data.query('days_employed.isnull()').head(7)"
   ]
  },
  {
   "cell_type": "markdown",
   "id": "e3e5c3dd",
   "metadata": {},
   "source": [
    "Пропуски по трудовому стажу отсуствуют там же где и пропуски по доходу. При этом остальные признаки заемщика заполнены, то есть могут быть использованы не в контексте изучения этих метрик. Оставим пропуски в датасете."
   ]
  },
  {
   "cell_type": "markdown",
   "id": "e61d0e79",
   "metadata": {},
   "source": [
    "### Корреляция"
   ]
  },
  {
   "cell_type": "code",
   "execution_count": 12,
   "id": "be20b7f3",
   "metadata": {},
   "outputs": [
    {
     "data": {
      "text/html": [
       "<div>\n",
       "<style scoped>\n",
       "    .dataframe tbody tr th:only-of-type {\n",
       "        vertical-align: middle;\n",
       "    }\n",
       "\n",
       "    .dataframe tbody tr th {\n",
       "        vertical-align: top;\n",
       "    }\n",
       "\n",
       "    .dataframe thead th {\n",
       "        text-align: right;\n",
       "    }\n",
       "</style>\n",
       "<table border=\"1\" class=\"dataframe\">\n",
       "  <thead>\n",
       "    <tr style=\"text-align: right;\">\n",
       "      <th></th>\n",
       "      <th>children</th>\n",
       "      <th>days_employed</th>\n",
       "      <th>dob_years</th>\n",
       "      <th>education_id</th>\n",
       "      <th>family_status_id</th>\n",
       "      <th>debt</th>\n",
       "      <th>total_income</th>\n",
       "    </tr>\n",
       "  </thead>\n",
       "  <tbody>\n",
       "    <tr>\n",
       "      <th>children</th>\n",
       "      <td>1.000000</td>\n",
       "      <td>-0.138354</td>\n",
       "      <td>-0.173885</td>\n",
       "      <td>-0.012477</td>\n",
       "      <td>-0.091435</td>\n",
       "      <td>0.018336</td>\n",
       "      <td>0.018220</td>\n",
       "    </tr>\n",
       "    <tr>\n",
       "      <th>days_employed</th>\n",
       "      <td>-0.138354</td>\n",
       "      <td>1.000000</td>\n",
       "      <td>0.582643</td>\n",
       "      <td>0.080565</td>\n",
       "      <td>0.005726</td>\n",
       "      <td>-0.047110</td>\n",
       "      <td>-0.136648</td>\n",
       "    </tr>\n",
       "    <tr>\n",
       "      <th>dob_years</th>\n",
       "      <td>-0.173885</td>\n",
       "      <td>0.582643</td>\n",
       "      <td>1.000000</td>\n",
       "      <td>0.066885</td>\n",
       "      <td>-0.069684</td>\n",
       "      <td>-0.069379</td>\n",
       "      <td>-0.052911</td>\n",
       "    </tr>\n",
       "    <tr>\n",
       "      <th>education_id</th>\n",
       "      <td>-0.012477</td>\n",
       "      <td>0.080565</td>\n",
       "      <td>0.066885</td>\n",
       "      <td>1.000000</td>\n",
       "      <td>0.007990</td>\n",
       "      <td>0.052964</td>\n",
       "      <td>-0.178885</td>\n",
       "    </tr>\n",
       "    <tr>\n",
       "      <th>family_status_id</th>\n",
       "      <td>-0.091435</td>\n",
       "      <td>0.005726</td>\n",
       "      <td>-0.069684</td>\n",
       "      <td>0.007990</td>\n",
       "      <td>1.000000</td>\n",
       "      <td>0.020389</td>\n",
       "      <td>-0.009147</td>\n",
       "    </tr>\n",
       "    <tr>\n",
       "      <th>debt</th>\n",
       "      <td>0.018336</td>\n",
       "      <td>-0.047110</td>\n",
       "      <td>-0.069379</td>\n",
       "      <td>0.052964</td>\n",
       "      <td>0.020389</td>\n",
       "      <td>1.000000</td>\n",
       "      <td>-0.012475</td>\n",
       "    </tr>\n",
       "    <tr>\n",
       "      <th>total_income</th>\n",
       "      <td>0.018220</td>\n",
       "      <td>-0.136648</td>\n",
       "      <td>-0.052911</td>\n",
       "      <td>-0.178885</td>\n",
       "      <td>-0.009147</td>\n",
       "      <td>-0.012475</td>\n",
       "      <td>1.000000</td>\n",
       "    </tr>\n",
       "  </tbody>\n",
       "</table>\n",
       "</div>"
      ],
      "text/plain": [
       "                  children  days_employed  dob_years  education_id  \\\n",
       "children          1.000000      -0.138354  -0.173885     -0.012477   \n",
       "days_employed    -0.138354       1.000000   0.582643      0.080565   \n",
       "dob_years        -0.173885       0.582643   1.000000      0.066885   \n",
       "education_id     -0.012477       0.080565   0.066885      1.000000   \n",
       "family_status_id -0.091435       0.005726  -0.069684      0.007990   \n",
       "debt              0.018336      -0.047110  -0.069379      0.052964   \n",
       "total_income      0.018220      -0.136648  -0.052911     -0.178885   \n",
       "\n",
       "                  family_status_id      debt  total_income  \n",
       "children                 -0.091435  0.018336      0.018220  \n",
       "days_employed             0.005726 -0.047110     -0.136648  \n",
       "dob_years                -0.069684 -0.069379     -0.052911  \n",
       "education_id              0.007990  0.052964     -0.178885  \n",
       "family_status_id          1.000000  0.020389     -0.009147  \n",
       "debt                      0.020389  1.000000     -0.012475  \n",
       "total_income             -0.009147 -0.012475      1.000000  "
      ]
     },
     "execution_count": 12,
     "metadata": {},
     "output_type": "execute_result"
    }
   ],
   "source": [
    "data.corr()"
   ]
  },
  {
   "cell_type": "code",
   "execution_count": 13,
   "id": "d845dddc",
   "metadata": {},
   "outputs": [
    {
     "data": {
      "image/png": "[encoded data removed]",
      "text/plain": [
       "<Figure size 1080x720 with 2 Axes>"
      ]
     },
     "metadata": {
      "needs_background": "light"
     },
     "output_type": "display_data"
    }
   ],
   "source": [
    "plt.figure(figsize=(15,10))\n",
    "sns.heatmap(data.corr(),annot=True)\n",
    "plt.title('Heatmap корреляции')\n",
    "plt.show()"
   ]
  },
  {
   "cell_type": "markdown",
   "id": "26326e12",
   "metadata": {},
   "source": [
    "На данном этапе наибольшая корреляция к задолженности выявлена по возрасту. Чуть ниже значения корреляции по рабочему стажу."
   ]
  },
  {
   "cell_type": "markdown",
   "id": "0ce63543",
   "metadata": {},
   "source": [
    "### PHIK"
   ]
  },
  {
   "cell_type": "code",
   "execution_count": 14,
   "id": "b9f45399",
   "metadata": {},
   "outputs": [
    {
     "name": "stdout",
     "output_type": "stream",
     "text": [
      "interval columns not set, guessing: ['children', 'days_employed', 'dob_years', 'education_id', 'family_status_id', 'debt', 'total_income']\n"
     ]
    }
   ],
   "source": [
    "phik_overview = data.phik_matrix()"
   ]
  },
  {
   "cell_type": "code",
   "execution_count": 15,
   "id": "1377091e",
   "metadata": {},
   "outputs": [
    {
     "data": {
      "text/plain": [
       "<AxesSubplot:>"
      ]
     },
     "execution_count": 15,
     "metadata": {},
     "output_type": "execute_result"
    },
    {
     "data": {
      "image/png": "[encoded data removed]",
      "text/plain": [
       "<Figure size 432x288 with 2 Axes>"
      ]
     },
     "metadata": {
      "needs_background": "light"
     },
     "output_type": "display_data"
    }
   ],
   "source": [
    "sns.heatmap(phik_overview)"
   ]
  },
  {
   "cell_type": "code",
   "execution_count": 16,
   "id": "f7273467",
   "metadata": {},
   "outputs": [
    {
     "data": {
      "text/plain": [
       "debt                1.000000\n",
       "income_type         0.084100\n",
       "dob_years           0.068540\n",
       "education           0.062643\n",
       "education_id        0.047347\n",
       "gender              0.033514\n",
       "purpose             0.031848\n",
       "days_employed       0.028523\n",
       "family_status       0.027509\n",
       "family_status_id    0.027509\n",
       "total_income        0.018616\n",
       "children            0.016593\n",
       "Name: debt, dtype: float64"
      ]
     },
     "execution_count": 16,
     "metadata": {},
     "output_type": "execute_result"
    }
   ],
   "source": [
    "phik_overview['debt'].sort_values(ascending=False)"
   ]
  },
  {
   "cell_type": "markdown",
   "id": "7e50f273",
   "metadata": {},
   "source": [
    "Значения PHIK еще меньше. Сильных линейных зависимостей не выявлено."
   ]
  },
  {
   "cell_type": "markdown",
   "id": "8412952b",
   "metadata": {},
   "source": [
    "## Предобработка"
   ]
  },
  {
   "cell_type": "markdown",
   "id": "dd5f4085",
   "metadata": {},
   "source": [
    "### Тип образования заемщика"
   ]
  },
  {
   "cell_type": "code",
   "execution_count": 17,
   "id": "dfe2ef98",
   "metadata": {},
   "outputs": [
    {
     "data": {
      "text/plain": [
       "array(['высшее', 'среднее', 'Среднее', 'СРЕДНЕЕ', 'ВЫСШЕЕ',\n",
       "       'неоконченное высшее', 'начальное', 'Высшее',\n",
       "       'НЕОКОНЧЕННОЕ ВЫСШЕЕ', 'Неоконченное высшее', 'НАЧАЛЬНОЕ',\n",
       "       'Начальное', 'Ученая степень', 'УЧЕНАЯ СТЕПЕНЬ', 'ученая степень'],\n",
       "      dtype=object)"
      ]
     },
     "execution_count": 17,
     "metadata": {},
     "output_type": "execute_result"
    }
   ],
   "source": [
    "data['education'].unique() "
   ]
  },
  {
   "cell_type": "markdown",
   "id": "93f133ce",
   "metadata": {},
   "source": [
    "В столбце с типом образования обнаружены одинаковые типы написанные в разных регистрах. Приведем всё к единому стилю."
   ]
  },
  {
   "cell_type": "code",
   "execution_count": 18,
   "id": "d4b32672",
   "metadata": {},
   "outputs": [],
   "source": [
    "data['education'] = data['education'].str.lower()"
   ]
  },
  {
   "cell_type": "code",
   "execution_count": 19,
   "id": "ac46d549",
   "metadata": {},
   "outputs": [
    {
     "data": {
      "text/plain": [
       "array(['высшее', 'среднее', 'неоконченное высшее', 'начальное',\n",
       "       'ученая степень'], dtype=object)"
      ]
     },
     "execution_count": 19,
     "metadata": {},
     "output_type": "execute_result"
    }
   ],
   "source": [
    "data['education'].unique()"
   ]
  },
  {
   "cell_type": "code",
   "execution_count": 20,
   "id": "0a9a20bd",
   "metadata": {},
   "outputs": [
    {
     "data": {
      "text/html": [
       "<div>\n",
       "<style scoped>\n",
       "    .dataframe tbody tr th:only-of-type {\n",
       "        vertical-align: middle;\n",
       "    }\n",
       "\n",
       "    .dataframe tbody tr th {\n",
       "        vertical-align: top;\n",
       "    }\n",
       "\n",
       "    .dataframe thead th {\n",
       "        text-align: right;\n",
       "    }\n",
       "</style>\n",
       "<table border=\"1\" class=\"dataframe\">\n",
       "  <thead>\n",
       "    <tr style=\"text-align: right;\">\n",
       "      <th></th>\n",
       "      <th>index</th>\n",
       "      <th>education</th>\n",
       "    </tr>\n",
       "  </thead>\n",
       "  <tbody>\n",
       "    <tr>\n",
       "      <th>0</th>\n",
       "      <td>среднее</td>\n",
       "      <td>15188</td>\n",
       "    </tr>\n",
       "    <tr>\n",
       "      <th>1</th>\n",
       "      <td>высшее</td>\n",
       "      <td>5251</td>\n",
       "    </tr>\n",
       "    <tr>\n",
       "      <th>2</th>\n",
       "      <td>неоконченное высшее</td>\n",
       "      <td>744</td>\n",
       "    </tr>\n",
       "    <tr>\n",
       "      <th>3</th>\n",
       "      <td>начальное</td>\n",
       "      <td>282</td>\n",
       "    </tr>\n",
       "    <tr>\n",
       "      <th>4</th>\n",
       "      <td>ученая степень</td>\n",
       "      <td>6</td>\n",
       "    </tr>\n",
       "  </tbody>\n",
       "</table>\n",
       "</div>"
      ],
      "text/plain": [
       "                 index  education\n",
       "0              среднее      15188\n",
       "1               высшее       5251\n",
       "2  неоконченное высшее        744\n",
       "3            начальное        282\n",
       "4       ученая степень          6"
      ]
     },
     "execution_count": 20,
     "metadata": {},
     "output_type": "execute_result"
    }
   ],
   "source": [
    "data['education'].value_counts().reset_index() "
   ]
  },
  {
   "cell_type": "markdown",
   "id": "3cd3924f",
   "metadata": {},
   "source": [
    "Аномалий не выявлено, распределение не выглядит алогичным."
   ]
  },
  {
   "cell_type": "markdown",
   "id": "af045e75",
   "metadata": {},
   "source": [
    "### Цель кредита"
   ]
  },
  {
   "cell_type": "code",
   "execution_count": 21,
   "id": "0c5ed952",
   "metadata": {},
   "outputs": [
    {
     "data": {
      "text/plain": [
       "array(['покупка жилья', 'приобретение автомобиля',\n",
       "       'дополнительное образование', 'сыграть свадьбу',\n",
       "       'операции с жильем', 'образование', 'на проведение свадьбы',\n",
       "       'покупка жилья для семьи', 'покупка недвижимости',\n",
       "       'покупка коммерческой недвижимости', 'покупка жилой недвижимости',\n",
       "       'строительство собственной недвижимости', 'недвижимость',\n",
       "       'строительство недвижимости', 'на покупку подержанного автомобиля',\n",
       "       'на покупку своего автомобиля',\n",
       "       'операции с коммерческой недвижимостью',\n",
       "       'строительство жилой недвижимости', 'жилье',\n",
       "       'операции со своей недвижимостью', 'автомобили',\n",
       "       'заняться образованием', 'сделка с подержанным автомобилем',\n",
       "       'получение образования', 'автомобиль', 'свадьба',\n",
       "       'получение дополнительного образования', 'покупка своего жилья',\n",
       "       'операции с недвижимостью', 'получение высшего образования',\n",
       "       'свой автомобиль', 'сделка с автомобилем',\n",
       "       'профильное образование', 'высшее образование',\n",
       "       'покупка жилья для сдачи', 'на покупку автомобиля', 'ремонт жилью',\n",
       "       'заняться высшим образованием'], dtype=object)"
      ]
     },
     "execution_count": 21,
     "metadata": {},
     "output_type": "execute_result"
    }
   ],
   "source": [
    "data['purpose'].unique()"
   ]
  },
  {
   "cell_type": "markdown",
   "id": "c1f927b4",
   "metadata": {},
   "source": [
    "В столбце с целью кредита проблем с регистром не обнаружены, зато обнаружено отсуствие конкретных категорий, одни и те же цели могут быть написаны разными формулировками. В целях оптимизации информации напишем функцию, которая разбирает по категориям каждую формулировку и положим эти значения в новый столбец."
   ]
  },
  {
   "cell_type": "code",
   "execution_count": 22,
   "id": "26eca456",
   "metadata": {},
   "outputs": [],
   "source": [
    "def categorize_purpose(row):\n",
    "    try:\n",
    "        if 'автом' in row:\n",
    "            return 'автомобиль'\n",
    "        elif 'жил' in row or 'недвиж' in row:\n",
    "            return 'недвижимость'\n",
    "        elif 'свад' in row:\n",
    "            return 'свадьба'\n",
    "        elif 'образов' in row:\n",
    "            return 'образование'\n",
    "    except:\n",
    "        return 'нет категории'"
   ]
  },
  {
   "cell_type": "code",
   "execution_count": 23,
   "id": "ead420c8",
   "metadata": {},
   "outputs": [],
   "source": [
    "data['purpose_category'] = data['purpose'].apply(categorize_purpose)"
   ]
  },
  {
   "cell_type": "code",
   "execution_count": 24,
   "id": "80461c71",
   "metadata": {},
   "outputs": [
    {
     "data": {
      "text/html": [
       "<div>\n",
       "<style scoped>\n",
       "    .dataframe tbody tr th:only-of-type {\n",
       "        vertical-align: middle;\n",
       "    }\n",
       "\n",
       "    .dataframe tbody tr th {\n",
       "        vertical-align: top;\n",
       "    }\n",
       "\n",
       "    .dataframe thead th {\n",
       "        text-align: right;\n",
       "    }\n",
       "</style>\n",
       "<table border=\"1\" class=\"dataframe\">\n",
       "  <thead>\n",
       "    <tr style=\"text-align: right;\">\n",
       "      <th></th>\n",
       "      <th>index</th>\n",
       "      <th>purpose_category</th>\n",
       "    </tr>\n",
       "  </thead>\n",
       "  <tbody>\n",
       "    <tr>\n",
       "      <th>0</th>\n",
       "      <td>недвижимость</td>\n",
       "      <td>10814</td>\n",
       "    </tr>\n",
       "    <tr>\n",
       "      <th>1</th>\n",
       "      <td>автомобиль</td>\n",
       "      <td>4308</td>\n",
       "    </tr>\n",
       "    <tr>\n",
       "      <th>2</th>\n",
       "      <td>образование</td>\n",
       "      <td>4014</td>\n",
       "    </tr>\n",
       "    <tr>\n",
       "      <th>3</th>\n",
       "      <td>свадьба</td>\n",
       "      <td>2335</td>\n",
       "    </tr>\n",
       "  </tbody>\n",
       "</table>\n",
       "</div>"
      ],
      "text/plain": [
       "          index  purpose_category\n",
       "0  недвижимость             10814\n",
       "1    автомобиль              4308\n",
       "2   образование              4014\n",
       "3       свадьба              2335"
      ]
     },
     "execution_count": 24,
     "metadata": {},
     "output_type": "execute_result"
    }
   ],
   "source": [
    "data['purpose_category'].value_counts(dropna=False).reset_index()"
   ]
  },
  {
   "cell_type": "markdown",
   "id": "8e48e9a6",
   "metadata": {},
   "source": [
    "Категории скорректированы, пропусков нет."
   ]
  },
  {
   "cell_type": "markdown",
   "id": "a14733dc",
   "metadata": {},
   "source": [
    "### Пол заёмщика"
   ]
  },
  {
   "cell_type": "code",
   "execution_count": 25,
   "id": "ac5f615f",
   "metadata": {},
   "outputs": [
    {
     "data": {
      "text/plain": [
       "array(['F', 'M', 'XNA'], dtype=object)"
      ]
     },
     "execution_count": 25,
     "metadata": {},
     "output_type": "execute_result"
    }
   ],
   "source": [
    "data['gender'].unique()"
   ]
  },
  {
   "cell_type": "code",
   "execution_count": 26,
   "id": "040ec699",
   "metadata": {},
   "outputs": [
    {
     "data": {
      "text/html": [
       "<div>\n",
       "<style scoped>\n",
       "    .dataframe tbody tr th:only-of-type {\n",
       "        vertical-align: middle;\n",
       "    }\n",
       "\n",
       "    .dataframe tbody tr th {\n",
       "        vertical-align: top;\n",
       "    }\n",
       "\n",
       "    .dataframe thead th {\n",
       "        text-align: right;\n",
       "    }\n",
       "</style>\n",
       "<table border=\"1\" class=\"dataframe\">\n",
       "  <thead>\n",
       "    <tr style=\"text-align: right;\">\n",
       "      <th></th>\n",
       "      <th>index</th>\n",
       "      <th>gender</th>\n",
       "    </tr>\n",
       "  </thead>\n",
       "  <tbody>\n",
       "    <tr>\n",
       "      <th>0</th>\n",
       "      <td>F</td>\n",
       "      <td>14189</td>\n",
       "    </tr>\n",
       "    <tr>\n",
       "      <th>1</th>\n",
       "      <td>M</td>\n",
       "      <td>7281</td>\n",
       "    </tr>\n",
       "    <tr>\n",
       "      <th>2</th>\n",
       "      <td>XNA</td>\n",
       "      <td>1</td>\n",
       "    </tr>\n",
       "  </tbody>\n",
       "</table>\n",
       "</div>"
      ],
      "text/plain": [
       "  index  gender\n",
       "0     F   14189\n",
       "1     M    7281\n",
       "2   XNA       1"
      ]
     },
     "execution_count": 26,
     "metadata": {},
     "output_type": "execute_result"
    }
   ],
   "source": [
    "data['gender'].value_counts().reset_index()"
   ]
  },
  {
   "cell_type": "markdown",
   "id": "0cd3b6f1",
   "metadata": {},
   "source": [
    "В столбце обнаружена одна строка с непонятным полом. Изучим её."
   ]
  },
  {
   "cell_type": "code",
   "execution_count": 27,
   "id": "10366086",
   "metadata": {},
   "outputs": [
    {
     "data": {
      "text/html": [
       "<div>\n",
       "<style scoped>\n",
       "    .dataframe tbody tr th:only-of-type {\n",
       "        vertical-align: middle;\n",
       "    }\n",
       "\n",
       "    .dataframe tbody tr th {\n",
       "        vertical-align: top;\n",
       "    }\n",
       "\n",
       "    .dataframe thead th {\n",
       "        text-align: right;\n",
       "    }\n",
       "</style>\n",
       "<table border=\"1\" class=\"dataframe\">\n",
       "  <thead>\n",
       "    <tr style=\"text-align: right;\">\n",
       "      <th></th>\n",
       "      <th>children</th>\n",
       "      <th>days_employed</th>\n",
       "      <th>dob_years</th>\n",
       "      <th>education</th>\n",
       "      <th>education_id</th>\n",
       "      <th>family_status</th>\n",
       "      <th>family_status_id</th>\n",
       "      <th>gender</th>\n",
       "      <th>income_type</th>\n",
       "      <th>debt</th>\n",
       "      <th>total_income</th>\n",
       "      <th>purpose</th>\n",
       "      <th>purpose_category</th>\n",
       "    </tr>\n",
       "  </thead>\n",
       "  <tbody>\n",
       "    <tr>\n",
       "      <th>10701</th>\n",
       "      <td>0</td>\n",
       "      <td>-2358.600502</td>\n",
       "      <td>24</td>\n",
       "      <td>неоконченное высшее</td>\n",
       "      <td>2</td>\n",
       "      <td>гражданский брак</td>\n",
       "      <td>1</td>\n",
       "      <td>XNA</td>\n",
       "      <td>компаньон</td>\n",
       "      <td>0</td>\n",
       "      <td>203905.157261</td>\n",
       "      <td>покупка недвижимости</td>\n",
       "      <td>недвижимость</td>\n",
       "    </tr>\n",
       "  </tbody>\n",
       "</table>\n",
       "</div>"
      ],
      "text/plain": [
       "       children  days_employed  dob_years            education  education_id  \\\n",
       "10701         0   -2358.600502         24  неоконченное высшее             2   \n",
       "\n",
       "          family_status  family_status_id gender income_type  debt  \\\n",
       "10701  гражданский брак                 1    XNA   компаньон     0   \n",
       "\n",
       "        total_income               purpose purpose_category  \n",
       "10701  203905.157261  покупка недвижимости     недвижимость  "
      ]
     },
     "execution_count": 27,
     "metadata": {},
     "output_type": "execute_result"
    }
   ],
   "source": [
    "data_exam = data.query('gender ==\"XNA\"')\n",
    "data_exam"
   ]
  },
  {
   "cell_type": "markdown",
   "id": "57c03951",
   "metadata": {},
   "source": [
    "По указанным признаком не получается определить пол заёмщика. Удалим строку из датасета."
   ]
  },
  {
   "cell_type": "code",
   "execution_count": 28,
   "id": "ee4d7e62",
   "metadata": {},
   "outputs": [
    {
     "data": {
      "text/plain": [
       "21470"
      ]
     },
     "execution_count": 28,
     "metadata": {},
     "output_type": "execute_result"
    }
   ],
   "source": [
    "data = data.query('gender !=\"XNA\"')\n",
    "len(data)"
   ]
  },
  {
   "cell_type": "markdown",
   "id": "c24b1c1f",
   "metadata": {},
   "source": [
    "### Тип занятости заёмщика"
   ]
  },
  {
   "cell_type": "code",
   "execution_count": 29,
   "id": "d01e1b9e",
   "metadata": {},
   "outputs": [
    {
     "data": {
      "text/plain": [
       "array(['сотрудник', 'пенсионер', 'компаньон', 'госслужащий',\n",
       "       'безработный', 'предприниматель', 'студент', 'в декрете'],\n",
       "      dtype=object)"
      ]
     },
     "execution_count": 29,
     "metadata": {},
     "output_type": "execute_result"
    }
   ],
   "source": [
    "data['income_type'].unique()"
   ]
  },
  {
   "cell_type": "code",
   "execution_count": 30,
   "id": "01ee9cbe",
   "metadata": {},
   "outputs": [
    {
     "data": {
      "text/html": [
       "<div>\n",
       "<style scoped>\n",
       "    .dataframe tbody tr th:only-of-type {\n",
       "        vertical-align: middle;\n",
       "    }\n",
       "\n",
       "    .dataframe tbody tr th {\n",
       "        vertical-align: top;\n",
       "    }\n",
       "\n",
       "    .dataframe thead th {\n",
       "        text-align: right;\n",
       "    }\n",
       "</style>\n",
       "<table border=\"1\" class=\"dataframe\">\n",
       "  <thead>\n",
       "    <tr style=\"text-align: right;\">\n",
       "      <th></th>\n",
       "      <th>index</th>\n",
       "      <th>income_type</th>\n",
       "    </tr>\n",
       "  </thead>\n",
       "  <tbody>\n",
       "    <tr>\n",
       "      <th>0</th>\n",
       "      <td>сотрудник</td>\n",
       "      <td>11091</td>\n",
       "    </tr>\n",
       "    <tr>\n",
       "      <th>1</th>\n",
       "      <td>компаньон</td>\n",
       "      <td>5079</td>\n",
       "    </tr>\n",
       "    <tr>\n",
       "      <th>2</th>\n",
       "      <td>пенсионер</td>\n",
       "      <td>3837</td>\n",
       "    </tr>\n",
       "    <tr>\n",
       "      <th>3</th>\n",
       "      <td>госслужащий</td>\n",
       "      <td>1457</td>\n",
       "    </tr>\n",
       "    <tr>\n",
       "      <th>4</th>\n",
       "      <td>безработный</td>\n",
       "      <td>2</td>\n",
       "    </tr>\n",
       "    <tr>\n",
       "      <th>5</th>\n",
       "      <td>предприниматель</td>\n",
       "      <td>2</td>\n",
       "    </tr>\n",
       "    <tr>\n",
       "      <th>6</th>\n",
       "      <td>в декрете</td>\n",
       "      <td>1</td>\n",
       "    </tr>\n",
       "    <tr>\n",
       "      <th>7</th>\n",
       "      <td>студент</td>\n",
       "      <td>1</td>\n",
       "    </tr>\n",
       "  </tbody>\n",
       "</table>\n",
       "</div>"
      ],
      "text/plain": [
       "             index  income_type\n",
       "0        сотрудник        11091\n",
       "1        компаньон         5079\n",
       "2        пенсионер         3837\n",
       "3      госслужащий         1457\n",
       "4      безработный            2\n",
       "5  предприниматель            2\n",
       "6        в декрете            1\n",
       "7          студент            1"
      ]
     },
     "execution_count": 30,
     "metadata": {},
     "output_type": "execute_result"
    }
   ],
   "source": [
    "data['income_type'].value_counts().reset_index()"
   ]
  },
  {
   "cell_type": "markdown",
   "id": "dc1e6306",
   "metadata": {},
   "source": [
    "Аномалий не выявлено, распределение не выглядит алогичным."
   ]
  },
  {
   "cell_type": "markdown",
   "id": "6fb9b9f2",
   "metadata": {},
   "source": [
    "### Семейный статус"
   ]
  },
  {
   "cell_type": "code",
   "execution_count": 31,
   "id": "c7ba2b6f",
   "metadata": {},
   "outputs": [
    {
     "data": {
      "text/plain": [
       "array(['женат / замужем', 'гражданский брак', 'вдовец / вдова',\n",
       "       'в разводе', 'Не женат / не замужем'], dtype=object)"
      ]
     },
     "execution_count": 31,
     "metadata": {},
     "output_type": "execute_result"
    }
   ],
   "source": [
    "data['family_status'].unique()"
   ]
  },
  {
   "cell_type": "code",
   "execution_count": 32,
   "id": "473f053d",
   "metadata": {},
   "outputs": [],
   "source": [
    "data['family_status'] = data['family_status'].str.lower()"
   ]
  },
  {
   "cell_type": "code",
   "execution_count": 33,
   "id": "8c5af2b1",
   "metadata": {},
   "outputs": [
    {
     "data": {
      "text/plain": [
       "женат / замужем          12344\n",
       "гражданский брак          4162\n",
       "не женат / не замужем     2810\n",
       "в разводе                 1195\n",
       "вдовец / вдова             959\n",
       "Name: family_status, dtype: int64"
      ]
     },
     "execution_count": 33,
     "metadata": {},
     "output_type": "execute_result"
    }
   ],
   "source": [
    "data['family_status'].value_counts()"
   ]
  },
  {
   "cell_type": "markdown",
   "id": "83fa4e1e",
   "metadata": {},
   "source": [
    "В данном столбце исправлена одна категория в части регистра. В остальном аномалий и ошибок не выявлено."
   ]
  },
  {
   "cell_type": "markdown",
   "id": "61e72a4e",
   "metadata": {},
   "source": [
    "### Количество детей"
   ]
  },
  {
   "cell_type": "code",
   "execution_count": 34,
   "id": "a7d6de32",
   "metadata": {},
   "outputs": [
    {
     "data": {
      "text/plain": [
       "array([ 1,  0,  3,  2, -1,  4, 20,  5])"
      ]
     },
     "execution_count": 34,
     "metadata": {},
     "output_type": "execute_result"
    }
   ],
   "source": [
    "data['children'].unique()"
   ]
  },
  {
   "cell_type": "markdown",
   "id": "b42efbc3",
   "metadata": {},
   "source": [
    "\"-1\" и \"20\" детей выглядят как аномалии или технические ошибки"
   ]
  },
  {
   "cell_type": "code",
   "execution_count": 35,
   "id": "743d2037",
   "metadata": {},
   "outputs": [
    {
     "data": {
      "text/html": [
       "<div>\n",
       "<style scoped>\n",
       "    .dataframe tbody tr th:only-of-type {\n",
       "        vertical-align: middle;\n",
       "    }\n",
       "\n",
       "    .dataframe tbody tr th {\n",
       "        vertical-align: top;\n",
       "    }\n",
       "\n",
       "    .dataframe thead th {\n",
       "        text-align: right;\n",
       "    }\n",
       "</style>\n",
       "<table border=\"1\" class=\"dataframe\">\n",
       "  <thead>\n",
       "    <tr style=\"text-align: right;\">\n",
       "      <th></th>\n",
       "      <th>index</th>\n",
       "      <th>children</th>\n",
       "    </tr>\n",
       "  </thead>\n",
       "  <tbody>\n",
       "    <tr>\n",
       "      <th>0</th>\n",
       "      <td>0</td>\n",
       "      <td>14106</td>\n",
       "    </tr>\n",
       "    <tr>\n",
       "      <th>1</th>\n",
       "      <td>1</td>\n",
       "      <td>4809</td>\n",
       "    </tr>\n",
       "    <tr>\n",
       "      <th>2</th>\n",
       "      <td>2</td>\n",
       "      <td>2052</td>\n",
       "    </tr>\n",
       "    <tr>\n",
       "      <th>3</th>\n",
       "      <td>3</td>\n",
       "      <td>330</td>\n",
       "    </tr>\n",
       "    <tr>\n",
       "      <th>4</th>\n",
       "      <td>20</td>\n",
       "      <td>76</td>\n",
       "    </tr>\n",
       "    <tr>\n",
       "      <th>5</th>\n",
       "      <td>-1</td>\n",
       "      <td>47</td>\n",
       "    </tr>\n",
       "    <tr>\n",
       "      <th>6</th>\n",
       "      <td>4</td>\n",
       "      <td>41</td>\n",
       "    </tr>\n",
       "    <tr>\n",
       "      <th>7</th>\n",
       "      <td>5</td>\n",
       "      <td>9</td>\n",
       "    </tr>\n",
       "  </tbody>\n",
       "</table>\n",
       "</div>"
      ],
      "text/plain": [
       "   index  children\n",
       "0      0     14106\n",
       "1      1      4809\n",
       "2      2      2052\n",
       "3      3       330\n",
       "4     20        76\n",
       "5     -1        47\n",
       "6      4        41\n",
       "7      5         9"
      ]
     },
     "execution_count": 35,
     "metadata": {},
     "output_type": "execute_result"
    }
   ],
   "source": [
    "data['children'].value_counts().reset_index()"
   ]
  },
  {
   "cell_type": "markdown",
   "id": "90e120da",
   "metadata": {},
   "source": [
    "Посмотрим строки по заемщикам со значением \"-1\"."
   ]
  },
  {
   "cell_type": "code",
   "execution_count": 36,
   "id": "f358b885",
   "metadata": {},
   "outputs": [
    {
     "data": {
      "text/html": [
       "<div>\n",
       "<style scoped>\n",
       "    .dataframe tbody tr th:only-of-type {\n",
       "        vertical-align: middle;\n",
       "    }\n",
       "\n",
       "    .dataframe tbody tr th {\n",
       "        vertical-align: top;\n",
       "    }\n",
       "\n",
       "    .dataframe thead th {\n",
       "        text-align: right;\n",
       "    }\n",
       "</style>\n",
       "<table border=\"1\" class=\"dataframe\">\n",
       "  <thead>\n",
       "    <tr style=\"text-align: right;\">\n",
       "      <th></th>\n",
       "      <th>children</th>\n",
       "      <th>days_employed</th>\n",
       "      <th>dob_years</th>\n",
       "      <th>education</th>\n",
       "      <th>education_id</th>\n",
       "      <th>family_status</th>\n",
       "      <th>family_status_id</th>\n",
       "      <th>gender</th>\n",
       "      <th>income_type</th>\n",
       "      <th>debt</th>\n",
       "      <th>total_income</th>\n",
       "      <th>purpose</th>\n",
       "      <th>purpose_category</th>\n",
       "    </tr>\n",
       "  </thead>\n",
       "  <tbody>\n",
       "    <tr>\n",
       "      <th>291</th>\n",
       "      <td>-1</td>\n",
       "      <td>-4417.703588</td>\n",
       "      <td>46</td>\n",
       "      <td>среднее</td>\n",
       "      <td>1</td>\n",
       "      <td>гражданский брак</td>\n",
       "      <td>1</td>\n",
       "      <td>F</td>\n",
       "      <td>сотрудник</td>\n",
       "      <td>0</td>\n",
       "      <td>102816.346412</td>\n",
       "      <td>профильное образование</td>\n",
       "      <td>образование</td>\n",
       "    </tr>\n",
       "    <tr>\n",
       "      <th>705</th>\n",
       "      <td>-1</td>\n",
       "      <td>-902.084528</td>\n",
       "      <td>50</td>\n",
       "      <td>среднее</td>\n",
       "      <td>1</td>\n",
       "      <td>женат / замужем</td>\n",
       "      <td>0</td>\n",
       "      <td>F</td>\n",
       "      <td>госслужащий</td>\n",
       "      <td>0</td>\n",
       "      <td>137882.899271</td>\n",
       "      <td>приобретение автомобиля</td>\n",
       "      <td>автомобиль</td>\n",
       "    </tr>\n",
       "    <tr>\n",
       "      <th>742</th>\n",
       "      <td>-1</td>\n",
       "      <td>-3174.456205</td>\n",
       "      <td>57</td>\n",
       "      <td>среднее</td>\n",
       "      <td>1</td>\n",
       "      <td>женат / замужем</td>\n",
       "      <td>0</td>\n",
       "      <td>F</td>\n",
       "      <td>сотрудник</td>\n",
       "      <td>0</td>\n",
       "      <td>64268.044444</td>\n",
       "      <td>дополнительное образование</td>\n",
       "      <td>образование</td>\n",
       "    </tr>\n",
       "    <tr>\n",
       "      <th>800</th>\n",
       "      <td>-1</td>\n",
       "      <td>349987.852217</td>\n",
       "      <td>54</td>\n",
       "      <td>среднее</td>\n",
       "      <td>1</td>\n",
       "      <td>не женат / не замужем</td>\n",
       "      <td>4</td>\n",
       "      <td>F</td>\n",
       "      <td>пенсионер</td>\n",
       "      <td>0</td>\n",
       "      <td>86293.724153</td>\n",
       "      <td>дополнительное образование</td>\n",
       "      <td>образование</td>\n",
       "    </tr>\n",
       "    <tr>\n",
       "      <th>941</th>\n",
       "      <td>-1</td>\n",
       "      <td>NaN</td>\n",
       "      <td>57</td>\n",
       "      <td>среднее</td>\n",
       "      <td>1</td>\n",
       "      <td>женат / замужем</td>\n",
       "      <td>0</td>\n",
       "      <td>F</td>\n",
       "      <td>пенсионер</td>\n",
       "      <td>0</td>\n",
       "      <td>NaN</td>\n",
       "      <td>на покупку своего автомобиля</td>\n",
       "      <td>автомобиль</td>\n",
       "    </tr>\n",
       "    <tr>\n",
       "      <th>1363</th>\n",
       "      <td>-1</td>\n",
       "      <td>-1195.264956</td>\n",
       "      <td>55</td>\n",
       "      <td>среднее</td>\n",
       "      <td>1</td>\n",
       "      <td>женат / замужем</td>\n",
       "      <td>0</td>\n",
       "      <td>F</td>\n",
       "      <td>компаньон</td>\n",
       "      <td>0</td>\n",
       "      <td>69550.699692</td>\n",
       "      <td>профильное образование</td>\n",
       "      <td>образование</td>\n",
       "    </tr>\n",
       "    <tr>\n",
       "      <th>1929</th>\n",
       "      <td>-1</td>\n",
       "      <td>-1461.303336</td>\n",
       "      <td>38</td>\n",
       "      <td>среднее</td>\n",
       "      <td>1</td>\n",
       "      <td>не женат / не замужем</td>\n",
       "      <td>4</td>\n",
       "      <td>M</td>\n",
       "      <td>сотрудник</td>\n",
       "      <td>0</td>\n",
       "      <td>109121.569013</td>\n",
       "      <td>покупка жилья</td>\n",
       "      <td>недвижимость</td>\n",
       "    </tr>\n",
       "  </tbody>\n",
       "</table>\n",
       "</div>"
      ],
      "text/plain": [
       "      children  days_employed  dob_years education  education_id  \\\n",
       "291         -1   -4417.703588         46   среднее             1   \n",
       "705         -1    -902.084528         50   среднее             1   \n",
       "742         -1   -3174.456205         57   среднее             1   \n",
       "800         -1  349987.852217         54   среднее             1   \n",
       "941         -1            NaN         57   среднее             1   \n",
       "1363        -1   -1195.264956         55   среднее             1   \n",
       "1929        -1   -1461.303336         38   среднее             1   \n",
       "\n",
       "              family_status  family_status_id gender  income_type  debt  \\\n",
       "291        гражданский брак                 1      F    сотрудник     0   \n",
       "705         женат / замужем                 0      F  госслужащий     0   \n",
       "742         женат / замужем                 0      F    сотрудник     0   \n",
       "800   не женат / не замужем                 4      F    пенсионер     0   \n",
       "941         женат / замужем                 0      F    пенсионер     0   \n",
       "1363        женат / замужем                 0      F    компаньон     0   \n",
       "1929  не женат / не замужем                 4      M    сотрудник     0   \n",
       "\n",
       "       total_income                       purpose purpose_category  \n",
       "291   102816.346412        профильное образование      образование  \n",
       "705   137882.899271       приобретение автомобиля       автомобиль  \n",
       "742    64268.044444    дополнительное образование      образование  \n",
       "800    86293.724153    дополнительное образование      образование  \n",
       "941             NaN  на покупку своего автомобиля       автомобиль  \n",
       "1363   69550.699692        профильное образование      образование  \n",
       "1929  109121.569013                 покупка жилья     недвижимость  "
      ]
     },
     "execution_count": 36,
     "metadata": {},
     "output_type": "execute_result"
    }
   ],
   "source": [
    "data_exam = data.query('children == -1')\n",
    "data_exam.head(7)"
   ]
  },
  {
   "cell_type": "code",
   "execution_count": 37,
   "id": "53a1738b",
   "metadata": {},
   "outputs": [
    {
     "data": {
      "text/plain": [
       "42.57446808510638"
      ]
     },
     "execution_count": 37,
     "metadata": {},
     "output_type": "execute_result"
    }
   ],
   "source": [
    "data_exam['dob_years'].mean()"
   ]
  },
  {
   "cell_type": "markdown",
   "id": "437263b4",
   "metadata": {},
   "source": [
    "41 человек со средним возрастом 42,5 года.\n",
    "Предположим, что в данном столбце техническая ошибка и минус 1 по факту является 1 ребенком. Заменим значения на корректные."
   ]
  },
  {
   "cell_type": "code",
   "execution_count": 38,
   "id": "fa3eeb19",
   "metadata": {},
   "outputs": [],
   "source": [
    "data['children'] = data['children'].replace(-1, 1)"
   ]
  },
  {
   "cell_type": "markdown",
   "id": "5fe5a73c",
   "metadata": {},
   "source": [
    "Изучим заемщиком со значением \"20\" детей."
   ]
  },
  {
   "cell_type": "code",
   "execution_count": 39,
   "id": "efdf1d68",
   "metadata": {},
   "outputs": [
    {
     "data": {
      "text/html": [
       "<div>\n",
       "<style scoped>\n",
       "    .dataframe tbody tr th:only-of-type {\n",
       "        vertical-align: middle;\n",
       "    }\n",
       "\n",
       "    .dataframe tbody tr th {\n",
       "        vertical-align: top;\n",
       "    }\n",
       "\n",
       "    .dataframe thead th {\n",
       "        text-align: right;\n",
       "    }\n",
       "</style>\n",
       "<table border=\"1\" class=\"dataframe\">\n",
       "  <thead>\n",
       "    <tr style=\"text-align: right;\">\n",
       "      <th></th>\n",
       "      <th>children</th>\n",
       "      <th>days_employed</th>\n",
       "      <th>dob_years</th>\n",
       "      <th>education</th>\n",
       "      <th>education_id</th>\n",
       "      <th>family_status</th>\n",
       "      <th>family_status_id</th>\n",
       "      <th>gender</th>\n",
       "      <th>income_type</th>\n",
       "      <th>debt</th>\n",
       "      <th>total_income</th>\n",
       "      <th>purpose</th>\n",
       "      <th>purpose_category</th>\n",
       "    </tr>\n",
       "  </thead>\n",
       "  <tbody>\n",
       "    <tr>\n",
       "      <th>606</th>\n",
       "      <td>20</td>\n",
       "      <td>-880.221113</td>\n",
       "      <td>21</td>\n",
       "      <td>среднее</td>\n",
       "      <td>1</td>\n",
       "      <td>женат / замужем</td>\n",
       "      <td>0</td>\n",
       "      <td>M</td>\n",
       "      <td>компаньон</td>\n",
       "      <td>0</td>\n",
       "      <td>145334.865002</td>\n",
       "      <td>покупка жилья</td>\n",
       "      <td>недвижимость</td>\n",
       "    </tr>\n",
       "    <tr>\n",
       "      <th>720</th>\n",
       "      <td>20</td>\n",
       "      <td>-855.595512</td>\n",
       "      <td>44</td>\n",
       "      <td>среднее</td>\n",
       "      <td>1</td>\n",
       "      <td>женат / замужем</td>\n",
       "      <td>0</td>\n",
       "      <td>F</td>\n",
       "      <td>компаньон</td>\n",
       "      <td>0</td>\n",
       "      <td>112998.738649</td>\n",
       "      <td>покупка недвижимости</td>\n",
       "      <td>недвижимость</td>\n",
       "    </tr>\n",
       "    <tr>\n",
       "      <th>1074</th>\n",
       "      <td>20</td>\n",
       "      <td>-3310.411598</td>\n",
       "      <td>56</td>\n",
       "      <td>среднее</td>\n",
       "      <td>1</td>\n",
       "      <td>женат / замужем</td>\n",
       "      <td>0</td>\n",
       "      <td>F</td>\n",
       "      <td>сотрудник</td>\n",
       "      <td>1</td>\n",
       "      <td>229518.537004</td>\n",
       "      <td>получение образования</td>\n",
       "      <td>образование</td>\n",
       "    </tr>\n",
       "    <tr>\n",
       "      <th>2510</th>\n",
       "      <td>20</td>\n",
       "      <td>-2714.161249</td>\n",
       "      <td>59</td>\n",
       "      <td>высшее</td>\n",
       "      <td>0</td>\n",
       "      <td>вдовец / вдова</td>\n",
       "      <td>2</td>\n",
       "      <td>F</td>\n",
       "      <td>сотрудник</td>\n",
       "      <td>0</td>\n",
       "      <td>264474.835577</td>\n",
       "      <td>операции с коммерческой недвижимостью</td>\n",
       "      <td>недвижимость</td>\n",
       "    </tr>\n",
       "    <tr>\n",
       "      <th>2941</th>\n",
       "      <td>20</td>\n",
       "      <td>-2161.591519</td>\n",
       "      <td>0</td>\n",
       "      <td>среднее</td>\n",
       "      <td>1</td>\n",
       "      <td>женат / замужем</td>\n",
       "      <td>0</td>\n",
       "      <td>F</td>\n",
       "      <td>сотрудник</td>\n",
       "      <td>0</td>\n",
       "      <td>199739.941398</td>\n",
       "      <td>на покупку автомобиля</td>\n",
       "      <td>автомобиль</td>\n",
       "    </tr>\n",
       "    <tr>\n",
       "      <th>3302</th>\n",
       "      <td>20</td>\n",
       "      <td>NaN</td>\n",
       "      <td>35</td>\n",
       "      <td>среднее</td>\n",
       "      <td>1</td>\n",
       "      <td>не женат / не замужем</td>\n",
       "      <td>4</td>\n",
       "      <td>F</td>\n",
       "      <td>госслужащий</td>\n",
       "      <td>0</td>\n",
       "      <td>NaN</td>\n",
       "      <td>профильное образование</td>\n",
       "      <td>образование</td>\n",
       "    </tr>\n",
       "    <tr>\n",
       "      <th>3396</th>\n",
       "      <td>20</td>\n",
       "      <td>NaN</td>\n",
       "      <td>56</td>\n",
       "      <td>высшее</td>\n",
       "      <td>0</td>\n",
       "      <td>женат / замужем</td>\n",
       "      <td>0</td>\n",
       "      <td>F</td>\n",
       "      <td>компаньон</td>\n",
       "      <td>0</td>\n",
       "      <td>NaN</td>\n",
       "      <td>высшее образование</td>\n",
       "      <td>образование</td>\n",
       "    </tr>\n",
       "  </tbody>\n",
       "</table>\n",
       "</div>"
      ],
      "text/plain": [
       "      children  days_employed  dob_years education  education_id  \\\n",
       "606         20    -880.221113         21   среднее             1   \n",
       "720         20    -855.595512         44   среднее             1   \n",
       "1074        20   -3310.411598         56   среднее             1   \n",
       "2510        20   -2714.161249         59    высшее             0   \n",
       "2941        20   -2161.591519          0   среднее             1   \n",
       "3302        20            NaN         35   среднее             1   \n",
       "3396        20            NaN         56    высшее             0   \n",
       "\n",
       "              family_status  family_status_id gender  income_type  debt  \\\n",
       "606         женат / замужем                 0      M    компаньон     0   \n",
       "720         женат / замужем                 0      F    компаньон     0   \n",
       "1074        женат / замужем                 0      F    сотрудник     1   \n",
       "2510         вдовец / вдова                 2      F    сотрудник     0   \n",
       "2941        женат / замужем                 0      F    сотрудник     0   \n",
       "3302  не женат / не замужем                 4      F  госслужащий     0   \n",
       "3396        женат / замужем                 0      F    компаньон     0   \n",
       "\n",
       "       total_income                                purpose purpose_category  \n",
       "606   145334.865002                          покупка жилья     недвижимость  \n",
       "720   112998.738649                   покупка недвижимости     недвижимость  \n",
       "1074  229518.537004                  получение образования      образование  \n",
       "2510  264474.835577  операции с коммерческой недвижимостью     недвижимость  \n",
       "2941  199739.941398                  на покупку автомобиля       автомобиль  \n",
       "3302            NaN                 профильное образование      образование  \n",
       "3396            NaN                     высшее образование      образование  "
      ]
     },
     "execution_count": 39,
     "metadata": {},
     "output_type": "execute_result"
    }
   ],
   "source": [
    "data_exam = data.query('children == 20')\n",
    "data_exam.head(7)"
   ]
  },
  {
   "cell_type": "code",
   "execution_count": 40,
   "id": "24ae3df4",
   "metadata": {},
   "outputs": [
    {
     "data": {
      "text/plain": [
       "41.81578947368421"
      ]
     },
     "execution_count": 40,
     "metadata": {},
     "output_type": "execute_result"
    }
   ],
   "source": [
    "data_exam['dob_years'].mean()"
   ]
  },
  {
   "cell_type": "markdown",
   "id": "bd6ae7f8",
   "metadata": {},
   "source": [
    "Средний возраст чуть ниже. \n",
    "Предположим, что в данном столбце также присутствует техническая ошибка. Заменим 20 на 2."
   ]
  },
  {
   "cell_type": "code",
   "execution_count": 41,
   "id": "28578ab1",
   "metadata": {},
   "outputs": [],
   "source": [
    "data['children'] = data['children'].replace(20, 2)"
   ]
  },
  {
   "cell_type": "code",
   "execution_count": 42,
   "id": "2b1a1b62",
   "metadata": {},
   "outputs": [
    {
     "data": {
      "text/html": [
       "<div>\n",
       "<style scoped>\n",
       "    .dataframe tbody tr th:only-of-type {\n",
       "        vertical-align: middle;\n",
       "    }\n",
       "\n",
       "    .dataframe tbody tr th {\n",
       "        vertical-align: top;\n",
       "    }\n",
       "\n",
       "    .dataframe thead th {\n",
       "        text-align: right;\n",
       "    }\n",
       "</style>\n",
       "<table border=\"1\" class=\"dataframe\">\n",
       "  <thead>\n",
       "    <tr style=\"text-align: right;\">\n",
       "      <th></th>\n",
       "      <th>index</th>\n",
       "      <th>children</th>\n",
       "    </tr>\n",
       "  </thead>\n",
       "  <tbody>\n",
       "    <tr>\n",
       "      <th>0</th>\n",
       "      <td>0</td>\n",
       "      <td>14106</td>\n",
       "    </tr>\n",
       "    <tr>\n",
       "      <th>1</th>\n",
       "      <td>1</td>\n",
       "      <td>4856</td>\n",
       "    </tr>\n",
       "    <tr>\n",
       "      <th>2</th>\n",
       "      <td>2</td>\n",
       "      <td>2128</td>\n",
       "    </tr>\n",
       "    <tr>\n",
       "      <th>3</th>\n",
       "      <td>3</td>\n",
       "      <td>330</td>\n",
       "    </tr>\n",
       "    <tr>\n",
       "      <th>4</th>\n",
       "      <td>4</td>\n",
       "      <td>41</td>\n",
       "    </tr>\n",
       "    <tr>\n",
       "      <th>5</th>\n",
       "      <td>5</td>\n",
       "      <td>9</td>\n",
       "    </tr>\n",
       "  </tbody>\n",
       "</table>\n",
       "</div>"
      ],
      "text/plain": [
       "   index  children\n",
       "0      0     14106\n",
       "1      1      4856\n",
       "2      2      2128\n",
       "3      3       330\n",
       "4      4        41\n",
       "5      5         9"
      ]
     },
     "execution_count": 42,
     "metadata": {},
     "output_type": "execute_result"
    }
   ],
   "source": [
    "data['children'].value_counts().reset_index()"
   ]
  },
  {
   "cell_type": "markdown",
   "id": "e83a0496",
   "metadata": {},
   "source": [
    "### Возраст"
   ]
  },
  {
   "cell_type": "code",
   "execution_count": 43,
   "id": "9320b696",
   "metadata": {},
   "outputs": [
    {
     "data": {
      "text/plain": [
       "array([42, 36, 33, 32, 53, 27, 43, 50, 35, 41, 40, 65, 54, 56, 26, 48, 24,\n",
       "       21, 57, 67, 28, 63, 62, 47, 34, 68, 25, 31, 30, 20, 49, 37, 45, 61,\n",
       "       64, 44, 52, 46, 23, 38, 39, 51,  0, 59, 29, 60, 55, 58, 71, 22, 73,\n",
       "       66, 69, 19, 72, 70, 74, 75])"
      ]
     },
     "execution_count": 43,
     "metadata": {},
     "output_type": "execute_result"
    }
   ],
   "source": [
    "data['dob_years'].unique()"
   ]
  },
  {
   "cell_type": "markdown",
   "id": "78651adf",
   "metadata": {},
   "source": [
    "Все значения находятся в пределах допустимого диапазона, но есть нули. Посмотрим сколько их."
   ]
  },
  {
   "cell_type": "code",
   "execution_count": 44,
   "id": "b026081d",
   "metadata": {},
   "outputs": [
    {
     "data": {
      "text/plain": [
       "101"
      ]
     },
     "execution_count": 44,
     "metadata": {},
     "output_type": "execute_result"
    }
   ],
   "source": [
    "len(data.loc[data['dob_years'] == 0])"
   ]
  },
  {
   "cell_type": "code",
   "execution_count": 45,
   "id": "a1570799",
   "metadata": {},
   "outputs": [
    {
     "data": {
      "text/html": [
       "<div>\n",
       "<style scoped>\n",
       "    .dataframe tbody tr th:only-of-type {\n",
       "        vertical-align: middle;\n",
       "    }\n",
       "\n",
       "    .dataframe tbody tr th {\n",
       "        vertical-align: top;\n",
       "    }\n",
       "\n",
       "    .dataframe thead th {\n",
       "        text-align: right;\n",
       "    }\n",
       "</style>\n",
       "<table border=\"1\" class=\"dataframe\">\n",
       "  <thead>\n",
       "    <tr style=\"text-align: right;\">\n",
       "      <th></th>\n",
       "      <th>children</th>\n",
       "      <th>days_employed</th>\n",
       "      <th>dob_years</th>\n",
       "      <th>education</th>\n",
       "      <th>education_id</th>\n",
       "      <th>family_status</th>\n",
       "      <th>family_status_id</th>\n",
       "      <th>gender</th>\n",
       "      <th>income_type</th>\n",
       "      <th>debt</th>\n",
       "      <th>total_income</th>\n",
       "      <th>purpose</th>\n",
       "      <th>purpose_category</th>\n",
       "    </tr>\n",
       "  </thead>\n",
       "  <tbody>\n",
       "    <tr>\n",
       "      <th>99</th>\n",
       "      <td>0</td>\n",
       "      <td>346541.618895</td>\n",
       "      <td>0</td>\n",
       "      <td>среднее</td>\n",
       "      <td>1</td>\n",
       "      <td>женат / замужем</td>\n",
       "      <td>0</td>\n",
       "      <td>F</td>\n",
       "      <td>пенсионер</td>\n",
       "      <td>0</td>\n",
       "      <td>71291.522491</td>\n",
       "      <td>автомобиль</td>\n",
       "      <td>автомобиль</td>\n",
       "    </tr>\n",
       "    <tr>\n",
       "      <th>149</th>\n",
       "      <td>0</td>\n",
       "      <td>-2664.273168</td>\n",
       "      <td>0</td>\n",
       "      <td>среднее</td>\n",
       "      <td>1</td>\n",
       "      <td>в разводе</td>\n",
       "      <td>3</td>\n",
       "      <td>F</td>\n",
       "      <td>сотрудник</td>\n",
       "      <td>0</td>\n",
       "      <td>70176.435951</td>\n",
       "      <td>операции с жильем</td>\n",
       "      <td>недвижимость</td>\n",
       "    </tr>\n",
       "    <tr>\n",
       "      <th>270</th>\n",
       "      <td>3</td>\n",
       "      <td>-1872.663186</td>\n",
       "      <td>0</td>\n",
       "      <td>среднее</td>\n",
       "      <td>1</td>\n",
       "      <td>женат / замужем</td>\n",
       "      <td>0</td>\n",
       "      <td>F</td>\n",
       "      <td>сотрудник</td>\n",
       "      <td>0</td>\n",
       "      <td>102166.458894</td>\n",
       "      <td>ремонт жилью</td>\n",
       "      <td>недвижимость</td>\n",
       "    </tr>\n",
       "    <tr>\n",
       "      <th>578</th>\n",
       "      <td>0</td>\n",
       "      <td>397856.565013</td>\n",
       "      <td>0</td>\n",
       "      <td>среднее</td>\n",
       "      <td>1</td>\n",
       "      <td>женат / замужем</td>\n",
       "      <td>0</td>\n",
       "      <td>F</td>\n",
       "      <td>пенсионер</td>\n",
       "      <td>0</td>\n",
       "      <td>97620.687042</td>\n",
       "      <td>строительство собственной недвижимости</td>\n",
       "      <td>недвижимость</td>\n",
       "    </tr>\n",
       "    <tr>\n",
       "      <th>1040</th>\n",
       "      <td>0</td>\n",
       "      <td>-1158.029561</td>\n",
       "      <td>0</td>\n",
       "      <td>высшее</td>\n",
       "      <td>0</td>\n",
       "      <td>в разводе</td>\n",
       "      <td>3</td>\n",
       "      <td>F</td>\n",
       "      <td>компаньон</td>\n",
       "      <td>0</td>\n",
       "      <td>303994.134987</td>\n",
       "      <td>свой автомобиль</td>\n",
       "      <td>автомобиль</td>\n",
       "    </tr>\n",
       "    <tr>\n",
       "      <th>1149</th>\n",
       "      <td>0</td>\n",
       "      <td>-934.654854</td>\n",
       "      <td>0</td>\n",
       "      <td>среднее</td>\n",
       "      <td>1</td>\n",
       "      <td>женат / замужем</td>\n",
       "      <td>0</td>\n",
       "      <td>F</td>\n",
       "      <td>компаньон</td>\n",
       "      <td>0</td>\n",
       "      <td>201852.430096</td>\n",
       "      <td>покупка недвижимости</td>\n",
       "      <td>недвижимость</td>\n",
       "    </tr>\n",
       "    <tr>\n",
       "      <th>1175</th>\n",
       "      <td>0</td>\n",
       "      <td>370879.508002</td>\n",
       "      <td>0</td>\n",
       "      <td>среднее</td>\n",
       "      <td>1</td>\n",
       "      <td>женат / замужем</td>\n",
       "      <td>0</td>\n",
       "      <td>F</td>\n",
       "      <td>пенсионер</td>\n",
       "      <td>0</td>\n",
       "      <td>313949.845188</td>\n",
       "      <td>получение дополнительного образования</td>\n",
       "      <td>образование</td>\n",
       "    </tr>\n",
       "  </tbody>\n",
       "</table>\n",
       "</div>"
      ],
      "text/plain": [
       "      children  days_employed  dob_years education  education_id  \\\n",
       "99           0  346541.618895          0   среднее             1   \n",
       "149          0   -2664.273168          0   среднее             1   \n",
       "270          3   -1872.663186          0   среднее             1   \n",
       "578          0  397856.565013          0   среднее             1   \n",
       "1040         0   -1158.029561          0    высшее             0   \n",
       "1149         0    -934.654854          0   среднее             1   \n",
       "1175         0  370879.508002          0   среднее             1   \n",
       "\n",
       "        family_status  family_status_id gender income_type  debt  \\\n",
       "99    женат / замужем                 0      F   пенсионер     0   \n",
       "149         в разводе                 3      F   сотрудник     0   \n",
       "270   женат / замужем                 0      F   сотрудник     0   \n",
       "578   женат / замужем                 0      F   пенсионер     0   \n",
       "1040        в разводе                 3      F   компаньон     0   \n",
       "1149  женат / замужем                 0      F   компаньон     0   \n",
       "1175  женат / замужем                 0      F   пенсионер     0   \n",
       "\n",
       "       total_income                                 purpose purpose_category  \n",
       "99     71291.522491                              автомобиль       автомобиль  \n",
       "149    70176.435951                       операции с жильем     недвижимость  \n",
       "270   102166.458894                            ремонт жилью     недвижимость  \n",
       "578    97620.687042  строительство собственной недвижимости     недвижимость  \n",
       "1040  303994.134987                         свой автомобиль       автомобиль  \n",
       "1149  201852.430096                    покупка недвижимости     недвижимость  \n",
       "1175  313949.845188   получение дополнительного образования      образование  "
      ]
     },
     "execution_count": 45,
     "metadata": {},
     "output_type": "execute_result"
    }
   ],
   "source": [
    "data_exam = data.query('dob_years == 0')\n",
    "data_exam.head(7)"
   ]
  },
  {
   "cell_type": "markdown",
   "id": "84cee82f",
   "metadata": {},
   "source": [
    "Судя по срезу это техническая ошибка, а не младенцы. Замени 0 на медиану."
   ]
  },
  {
   "cell_type": "code",
   "execution_count": 46,
   "id": "f463399c",
   "metadata": {},
   "outputs": [
    {
     "data": {
      "text/plain": [
       "21369"
      ]
     },
     "execution_count": 46,
     "metadata": {},
     "output_type": "execute_result"
    }
   ],
   "source": [
    "data_exam = data.query('dob_years > 18')\n",
    "len(data_exam)"
   ]
  },
  {
   "cell_type": "code",
   "execution_count": 47,
   "id": "d002a052",
   "metadata": {},
   "outputs": [
    {
     "name": "stdout",
     "output_type": "stream",
     "text": [
      "Среднее по датасету без нулей: 43.48453367027002)\n",
      "Медиана по датасету без нулей: 43.0\n"
     ]
    }
   ],
   "source": [
    "print(f'Среднее по датасету без нулей: {data_exam[\"dob_years\"].mean()})')\n",
    "print(f'Медиана по датасету без нулей: {data_exam[\"dob_years\"].median()}')"
   ]
  },
  {
   "cell_type": "code",
   "execution_count": 48,
   "id": "aa217432",
   "metadata": {},
   "outputs": [],
   "source": [
    "data['dob_years'] = data['dob_years'].replace(0, data_exam[\"dob_years\"].median())"
   ]
  },
  {
   "cell_type": "code",
   "execution_count": 49,
   "id": "f48fd892",
   "metadata": {},
   "outputs": [
    {
     "data": {
      "text/plain": [
       "array([42., 36., 33., 32., 53., 27., 43., 50., 35., 41., 40., 65., 54.,\n",
       "       56., 26., 48., 24., 21., 57., 67., 28., 63., 62., 47., 34., 68.,\n",
       "       25., 31., 30., 20., 49., 37., 45., 61., 64., 44., 52., 46., 23.,\n",
       "       38., 39., 51., 59., 29., 60., 55., 58., 71., 22., 73., 66., 69.,\n",
       "       19., 72., 70., 74., 75.])"
      ]
     },
     "execution_count": 49,
     "metadata": {},
     "output_type": "execute_result"
    }
   ],
   "source": [
    "data['dob_years'].unique()"
   ]
  },
  {
   "cell_type": "markdown",
   "id": "dd6fb565",
   "metadata": {},
   "source": [
    "### Стаж"
   ]
  },
  {
   "cell_type": "code",
   "execution_count": 50,
   "id": "786d7d55",
   "metadata": {},
   "outputs": [
    {
     "data": {
      "text/plain": [
       "0      -8437.673028\n",
       "1      -4024.803754\n",
       "2      -5623.422610\n",
       "3      -4124.747207\n",
       "4     340266.072047\n",
       "5       -926.185831\n",
       "6      -2879.202052\n",
       "7       -152.779569\n",
       "8      -6929.865299\n",
       "9      -2188.756445\n",
       "10     -4171.483647\n",
       "11      -792.701887\n",
       "12              NaN\n",
       "13     -1846.641941\n",
       "14     -1844.956182\n",
       "Name: days_employed, dtype: float64"
      ]
     },
     "execution_count": 50,
     "metadata": {},
     "output_type": "execute_result"
    }
   ],
   "source": [
    "data['days_employed'].head(15)"
   ]
  },
  {
   "cell_type": "markdown",
   "id": "9c3cf570",
   "metadata": {},
   "source": [
    "В столбце обнаружены минусовые значения. Предположим, что это техническая ошибка и заменим - на +."
   ]
  },
  {
   "cell_type": "code",
   "execution_count": 51,
   "id": "d07a2086",
   "metadata": {},
   "outputs": [],
   "source": [
    "data['days_employed'] = data['days_employed'].abs()"
   ]
  },
  {
   "cell_type": "code",
   "execution_count": 52,
   "id": "e74e71bf",
   "metadata": {},
   "outputs": [
    {
     "data": {
      "text/plain": [
       "0      8437.673028\n",
       "1      4024.803754\n",
       "2      5623.422610\n",
       "3      4124.747207\n",
       "4    340266.072047\n",
       "5       926.185831\n",
       "6      2879.202052\n",
       "7       152.779569\n",
       "8      6929.865299\n",
       "9      2188.756445\n",
       "Name: days_employed, dtype: float64"
      ]
     },
     "execution_count": 52,
     "metadata": {},
     "output_type": "execute_result"
    }
   ],
   "source": [
    "data['days_employed'].head(10)"
   ]
  },
  {
   "cell_type": "code",
   "execution_count": 53,
   "id": "4feefe77",
   "metadata": {},
   "outputs": [
    {
     "name": "stdout",
     "output_type": "stream",
     "text": [
      "Максимальное значение 401755.40047533\n",
      "Минимальное значение 24.14163324048118\n"
     ]
    },
    {
     "data": {
      "image/png": "[encoded data removed]",
      "text/plain": [
       "<Figure size 720x720 with 1 Axes>"
      ]
     },
     "metadata": {
      "needs_background": "light"
     },
     "output_type": "display_data"
    }
   ],
   "source": [
    "data.hist('days_employed', bins=500, range=(0, 10000), figsize=(10,10))\n",
    "plt.title('Гистограмма параметра \"Трудовой стаж, дни\"')\n",
    "plt.xlabel('Общий стаж в днях')\n",
    "plt.ylabel('Количество заемщиков')\n",
    "print('Максимальное значение', data['days_employed'].max())\n",
    "print('Минимальное значение', data['days_employed'].min())"
   ]
  },
  {
   "cell_type": "markdown",
   "id": "187340a0",
   "metadata": {},
   "source": [
    "Распределение по стажу выглядит логично, больше всего заемщиков с околонулевым стажом, чем больше стажа, тем отчётливее снижение. Предположим, что 50 лет это максимально возможный стаж из расчёта 20 + 50 = 75 лет. Сколько заемщиков в датасете со стажем больше этого значения?"
   ]
  },
  {
   "cell_type": "code",
   "execution_count": 54,
   "id": "57b0fd32",
   "metadata": {},
   "outputs": [
    {
     "data": {
      "text/plain": [
       "(3446, 13)"
      ]
     },
     "execution_count": 54,
     "metadata": {},
     "output_type": "execute_result"
    }
   ],
   "source": [
    "data_exam = data.query('days_employed > 50 * 365')\n",
    "data_exam.shape"
   ]
  },
  {
   "cell_type": "markdown",
   "id": "f190ef27",
   "metadata": {},
   "source": [
    "В датасете обнаружено 3445 строчек с общим трудовым стажем больше 65 лет. Это маловероятно. Вероятно человеческа ошибка при вводе или техническая при расчете. "
   ]
  },
  {
   "cell_type": "code",
   "execution_count": 55,
   "id": "5981ea97",
   "metadata": {},
   "outputs": [
    {
     "data": {
      "text/html": [
       "<div>\n",
       "<style scoped>\n",
       "    .dataframe tbody tr th:only-of-type {\n",
       "        vertical-align: middle;\n",
       "    }\n",
       "\n",
       "    .dataframe tbody tr th {\n",
       "        vertical-align: top;\n",
       "    }\n",
       "\n",
       "    .dataframe thead th {\n",
       "        text-align: right;\n",
       "    }\n",
       "</style>\n",
       "<table border=\"1\" class=\"dataframe\">\n",
       "  <thead>\n",
       "    <tr style=\"text-align: right;\">\n",
       "      <th></th>\n",
       "      <th>index</th>\n",
       "      <th>income_type</th>\n",
       "    </tr>\n",
       "  </thead>\n",
       "  <tbody>\n",
       "    <tr>\n",
       "      <th>0</th>\n",
       "      <td>пенсионер</td>\n",
       "      <td>3443</td>\n",
       "    </tr>\n",
       "    <tr>\n",
       "      <th>1</th>\n",
       "      <td>безработный</td>\n",
       "      <td>2</td>\n",
       "    </tr>\n",
       "    <tr>\n",
       "      <th>2</th>\n",
       "      <td>сотрудник</td>\n",
       "      <td>1</td>\n",
       "    </tr>\n",
       "  </tbody>\n",
       "</table>\n",
       "</div>"
      ],
      "text/plain": [
       "         index  income_type\n",
       "0    пенсионер         3443\n",
       "1  безработный            2\n",
       "2    сотрудник            1"
      ]
     },
     "execution_count": 55,
     "metadata": {},
     "output_type": "execute_result"
    }
   ],
   "source": [
    "data_exam['income_type'].value_counts().reset_index()"
   ]
  },
  {
   "cell_type": "markdown",
   "id": "d387272a",
   "metadata": {},
   "source": [
    "Некорректный стаж указан в основном у пенсионеров. Всего пенсионеров больше 3 800 ни них 3 400 это неправильный стаж.  "
   ]
  },
  {
   "cell_type": "code",
   "execution_count": 56,
   "id": "479bbe34",
   "metadata": {},
   "outputs": [
    {
     "data": {
      "text/plain": [
       "3837"
      ]
     },
     "execution_count": 56,
     "metadata": {},
     "output_type": "execute_result"
    }
   ],
   "source": [
    "data_pens = data.query('income_type == \"пенсионер\"')\n",
    "len(data_pens)"
   ]
  },
  {
   "cell_type": "code",
   "execution_count": 57,
   "id": "9121c52f",
   "metadata": {
    "scrolled": true
   },
   "outputs": [
    {
     "name": "stdout",
     "output_type": "stream",
     "text": [
      "Максимальное значение 401755.40047533\n",
      "Минимальное значение 328728.72060451825\n",
      "Среднее значение 365003.4912448612\n",
      "Медиана 365213.3062657312\n"
     ]
    },
    {
     "data": {
      "image/png": "[encoded data removed]",
      "text/plain": [
       "<Figure size 432x432 with 1 Axes>"
      ]
     },
     "metadata": {
      "needs_background": "light"
     },
     "output_type": "display_data"
    }
   ],
   "source": [
    "data_pens['days_employed'].unique()\n",
    "data_pens.hist('days_employed', bins=111, range=(300000, 450000), figsize=(6,6))\n",
    "plt.title('Гистограмма параметра \"Трудовой стаж, дни\"')\n",
    "plt.xlabel('Общий стаж в днях')\n",
    "plt.ylabel('Количество заемщиков-пенсионеров')\n",
    "print('Максимальное значение', data_pens['days_employed'].max())\n",
    "print('Минимальное значение', data_pens['days_employed'].min())\n",
    "print('Среднее значение', data_pens['days_employed'].mean())\n",
    "print('Медиана', data_pens['days_employed'].median())"
   ]
  },
  {
   "cell_type": "markdown",
   "id": "ee4dc24b",
   "metadata": {},
   "source": [
    "Основной массив значения лежит в диапазоне от 300 000 до 420 000 дней.  \n",
    "Вероятно это техническая ошибка.  \n"
   ]
  },
  {
   "cell_type": "code",
   "execution_count": 58,
   "id": "6e5cfa8b",
   "metadata": {},
   "outputs": [
    {
     "data": {
      "text/plain": [
       "14798    395302.838654\n",
       "3133     337524.466835\n",
       "16335     18388.949901\n",
       "4299      17615.563266\n",
       "7329      16593.472817\n",
       "17838     16264.699501\n",
       "16825     16119.687737\n",
       "3974      15835.725775\n",
       "1539      15785.678893\n",
       "4321      15773.061335\n",
       "7731      15618.063786\n",
       "15675     15410.040779\n",
       "19788     15267.541183\n",
       "16868     15193.032201\n",
       "5581      15079.216069\n",
       "Name: days_employed, dtype: float64"
      ]
     },
     "execution_count": 58,
     "metadata": {},
     "output_type": "execute_result"
    }
   ],
   "source": [
    "data_exam = data.query('income_type != \"пенсионер\"')\n",
    "data_exam['days_employed'].sort_values(ascending=False).head(15)"
   ]
  },
  {
   "cell_type": "markdown",
   "id": "58f2b5a7",
   "metadata": {},
   "source": [
    "Хвостик неаномального стажа заканчивается в районе 15-18 тысяч дней, что соотвествует 40-45 годам. \n",
    "Поставим всем пенсионерам максимальный стаж в указанном диапазоне с помощью функции."
   ]
  },
  {
   "cell_type": "code",
   "execution_count": 59,
   "id": "92bb004e",
   "metadata": {},
   "outputs": [],
   "source": [
    "import random\n",
    "def pens_emp(row):\n",
    "    days_emp = random.randint(10000, 18000)\n",
    "    if row['income_type'] == \"пенсионер\":\n",
    "        return days_emp\n",
    "    return row['days_employed']"
   ]
  },
  {
   "cell_type": "code",
   "execution_count": 60,
   "id": "94115c1b",
   "metadata": {},
   "outputs": [
    {
     "data": {
      "text/html": [
       "<div>\n",
       "<style scoped>\n",
       "    .dataframe tbody tr th:only-of-type {\n",
       "        vertical-align: middle;\n",
       "    }\n",
       "\n",
       "    .dataframe tbody tr th {\n",
       "        vertical-align: top;\n",
       "    }\n",
       "\n",
       "    .dataframe thead th {\n",
       "        text-align: right;\n",
       "    }\n",
       "</style>\n",
       "<table border=\"1\" class=\"dataframe\">\n",
       "  <thead>\n",
       "    <tr style=\"text-align: right;\">\n",
       "      <th></th>\n",
       "      <th>children</th>\n",
       "      <th>days_employed</th>\n",
       "      <th>dob_years</th>\n",
       "      <th>education</th>\n",
       "      <th>education_id</th>\n",
       "      <th>family_status</th>\n",
       "      <th>family_status_id</th>\n",
       "      <th>gender</th>\n",
       "      <th>income_type</th>\n",
       "      <th>debt</th>\n",
       "      <th>total_income</th>\n",
       "      <th>purpose</th>\n",
       "      <th>purpose_category</th>\n",
       "      <th>true_days</th>\n",
       "    </tr>\n",
       "  </thead>\n",
       "  <tbody>\n",
       "    <tr>\n",
       "      <th>0</th>\n",
       "      <td>1</td>\n",
       "      <td>8437.673028</td>\n",
       "      <td>42.0</td>\n",
       "      <td>высшее</td>\n",
       "      <td>0</td>\n",
       "      <td>женат / замужем</td>\n",
       "      <td>0</td>\n",
       "      <td>F</td>\n",
       "      <td>сотрудник</td>\n",
       "      <td>0</td>\n",
       "      <td>253875.639453</td>\n",
       "      <td>покупка жилья</td>\n",
       "      <td>недвижимость</td>\n",
       "      <td>8437.673028</td>\n",
       "    </tr>\n",
       "    <tr>\n",
       "      <th>1</th>\n",
       "      <td>1</td>\n",
       "      <td>4024.803754</td>\n",
       "      <td>36.0</td>\n",
       "      <td>среднее</td>\n",
       "      <td>1</td>\n",
       "      <td>женат / замужем</td>\n",
       "      <td>0</td>\n",
       "      <td>F</td>\n",
       "      <td>сотрудник</td>\n",
       "      <td>0</td>\n",
       "      <td>112080.014102</td>\n",
       "      <td>приобретение автомобиля</td>\n",
       "      <td>автомобиль</td>\n",
       "      <td>4024.803754</td>\n",
       "    </tr>\n",
       "    <tr>\n",
       "      <th>2</th>\n",
       "      <td>0</td>\n",
       "      <td>5623.422610</td>\n",
       "      <td>33.0</td>\n",
       "      <td>среднее</td>\n",
       "      <td>1</td>\n",
       "      <td>женат / замужем</td>\n",
       "      <td>0</td>\n",
       "      <td>M</td>\n",
       "      <td>сотрудник</td>\n",
       "      <td>0</td>\n",
       "      <td>145885.952297</td>\n",
       "      <td>покупка жилья</td>\n",
       "      <td>недвижимость</td>\n",
       "      <td>5623.422610</td>\n",
       "    </tr>\n",
       "    <tr>\n",
       "      <th>3</th>\n",
       "      <td>3</td>\n",
       "      <td>4124.747207</td>\n",
       "      <td>32.0</td>\n",
       "      <td>среднее</td>\n",
       "      <td>1</td>\n",
       "      <td>женат / замужем</td>\n",
       "      <td>0</td>\n",
       "      <td>M</td>\n",
       "      <td>сотрудник</td>\n",
       "      <td>0</td>\n",
       "      <td>267628.550329</td>\n",
       "      <td>дополнительное образование</td>\n",
       "      <td>образование</td>\n",
       "      <td>4124.747207</td>\n",
       "    </tr>\n",
       "    <tr>\n",
       "      <th>4</th>\n",
       "      <td>0</td>\n",
       "      <td>340266.072047</td>\n",
       "      <td>53.0</td>\n",
       "      <td>среднее</td>\n",
       "      <td>1</td>\n",
       "      <td>гражданский брак</td>\n",
       "      <td>1</td>\n",
       "      <td>F</td>\n",
       "      <td>пенсионер</td>\n",
       "      <td>0</td>\n",
       "      <td>158616.077870</td>\n",
       "      <td>сыграть свадьбу</td>\n",
       "      <td>свадьба</td>\n",
       "      <td>14621.000000</td>\n",
       "    </tr>\n",
       "    <tr>\n",
       "      <th>5</th>\n",
       "      <td>0</td>\n",
       "      <td>926.185831</td>\n",
       "      <td>27.0</td>\n",
       "      <td>высшее</td>\n",
       "      <td>0</td>\n",
       "      <td>гражданский брак</td>\n",
       "      <td>1</td>\n",
       "      <td>M</td>\n",
       "      <td>компаньон</td>\n",
       "      <td>0</td>\n",
       "      <td>255763.565419</td>\n",
       "      <td>покупка жилья</td>\n",
       "      <td>недвижимость</td>\n",
       "      <td>926.185831</td>\n",
       "    </tr>\n",
       "    <tr>\n",
       "      <th>6</th>\n",
       "      <td>0</td>\n",
       "      <td>2879.202052</td>\n",
       "      <td>43.0</td>\n",
       "      <td>высшее</td>\n",
       "      <td>0</td>\n",
       "      <td>женат / замужем</td>\n",
       "      <td>0</td>\n",
       "      <td>F</td>\n",
       "      <td>компаньон</td>\n",
       "      <td>0</td>\n",
       "      <td>240525.971920</td>\n",
       "      <td>операции с жильем</td>\n",
       "      <td>недвижимость</td>\n",
       "      <td>2879.202052</td>\n",
       "    </tr>\n",
       "  </tbody>\n",
       "</table>\n",
       "</div>"
      ],
      "text/plain": [
       "   children  days_employed  dob_years education  education_id  \\\n",
       "0         1    8437.673028       42.0    высшее             0   \n",
       "1         1    4024.803754       36.0   среднее             1   \n",
       "2         0    5623.422610       33.0   среднее             1   \n",
       "3         3    4124.747207       32.0   среднее             1   \n",
       "4         0  340266.072047       53.0   среднее             1   \n",
       "5         0     926.185831       27.0    высшее             0   \n",
       "6         0    2879.202052       43.0    высшее             0   \n",
       "\n",
       "      family_status  family_status_id gender income_type  debt   total_income  \\\n",
       "0   женат / замужем                 0      F   сотрудник     0  253875.639453   \n",
       "1   женат / замужем                 0      F   сотрудник     0  112080.014102   \n",
       "2   женат / замужем                 0      M   сотрудник     0  145885.952297   \n",
       "3   женат / замужем                 0      M   сотрудник     0  267628.550329   \n",
       "4  гражданский брак                 1      F   пенсионер     0  158616.077870   \n",
       "5  гражданский брак                 1      M   компаньон     0  255763.565419   \n",
       "6   женат / замужем                 0      F   компаньон     0  240525.971920   \n",
       "\n",
       "                      purpose purpose_category     true_days  \n",
       "0               покупка жилья     недвижимость   8437.673028  \n",
       "1     приобретение автомобиля       автомобиль   4024.803754  \n",
       "2               покупка жилья     недвижимость   5623.422610  \n",
       "3  дополнительное образование      образование   4124.747207  \n",
       "4             сыграть свадьбу          свадьба  14621.000000  \n",
       "5               покупка жилья     недвижимость    926.185831  \n",
       "6           операции с жильем     недвижимость   2879.202052  "
      ]
     },
     "execution_count": 60,
     "metadata": {},
     "output_type": "execute_result"
    }
   ],
   "source": [
    "data['true_days'] = data.apply(pens_emp, axis=1)\n",
    "data.head(7)"
   ]
  },
  {
   "cell_type": "code",
   "execution_count": 61,
   "id": "adfead95",
   "metadata": {},
   "outputs": [
    {
     "data": {
      "image/png": "[encoded data removed]",
      "text/plain": [
       "<Figure size 432x288 with 1 Axes>"
      ]
     },
     "metadata": {
      "needs_background": "light"
     },
     "output_type": "display_data"
    }
   ],
   "source": [
    "data['true_days'].hist(bins=100, range=(1,15000))\n",
    "plt.show()"
   ]
  },
  {
   "cell_type": "markdown",
   "id": "5c3eaec6",
   "metadata": {},
   "source": [
    "Применён эксперемнтальный метод исправления данных по пенсионерам."
   ]
  },
  {
   "cell_type": "markdown",
   "id": "493e0a15",
   "metadata": {},
   "source": [
    "### Зарплата"
   ]
  },
  {
   "cell_type": "code",
   "execution_count": 62,
   "id": "cfccaf33",
   "metadata": {},
   "outputs": [
    {
     "name": "stdout",
     "output_type": "stream",
     "text": [
      "Максимальное значение 2265604.028722744\n",
      "Минимальное значение 20667.26379327158\n",
      "Среднее значение 167420.41678930717\n",
      "Медиана 145011.70929552132\n"
     ]
    },
    {
     "data": {
      "image/png": "[encoded data removed]",
      "text/plain": [
       "<Figure size 720x720 with 1 Axes>"
      ]
     },
     "metadata": {
      "needs_background": "light"
     },
     "output_type": "display_data"
    }
   ],
   "source": [
    "data.hist('total_income', bins=200, range=(0, 1000000), figsize=(10,10))\n",
    "plt.title('Гистограмма параметра \"Ежемесячный доход, руб.\"')\n",
    "plt.xlabel('Доход')\n",
    "plt.ylabel('Количество заемщиков')\n",
    "print('Максимальное значение', data['total_income'].max())\n",
    "print('Минимальное значение', data['total_income'].min())\n",
    "print('Среднее значение', data['total_income'].mean())\n",
    "print('Медиана', data['total_income'].median())"
   ]
  },
  {
   "cell_type": "markdown",
   "id": "de3c5cfa",
   "metadata": {},
   "source": [
    "Распределение является нормальным. Аномалий не обнаружено.  \n",
    "Среднее значение 167 тыс.руб.  \n",
    "Медиана 145 тыс. руб."
   ]
  },
  {
   "cell_type": "markdown",
   "id": "f397dece",
   "metadata": {},
   "source": [
    "**Финальная проверка на дубликаты**"
   ]
  },
  {
   "cell_type": "code",
   "execution_count": 63,
   "id": "5ff17aee",
   "metadata": {},
   "outputs": [
    {
     "name": "stdout",
     "output_type": "stream",
     "text": [
      "Количество полных дубликтов в датасете 9\n",
      "Количество полных дубликтов в датасете 0\n"
     ]
    }
   ],
   "source": [
    "mydups = data.duplicated().sum()\n",
    "print('Количество полных дубликтов в датасете', mydups)\n",
    "data = data.drop_duplicates()\n",
    "mydups = data.duplicated().sum()\n",
    "print('Количество полных дубликтов в датасете', mydups)"
   ]
  },
  {
   "cell_type": "markdown",
   "id": "8e783887",
   "metadata": {},
   "source": [
    "## Анализ"
   ]
  },
  {
   "cell_type": "markdown",
   "id": "6c426fe1",
   "metadata": {},
   "source": [
    "### Пол заемщика"
   ]
  },
  {
   "cell_type": "code",
   "execution_count": 64,
   "id": "5a09508b",
   "metadata": {},
   "outputs": [
    {
     "data": {
      "text/html": [
       "<div>\n",
       "<style scoped>\n",
       "    .dataframe tbody tr th:only-of-type {\n",
       "        vertical-align: middle;\n",
       "    }\n",
       "\n",
       "    .dataframe tbody tr th {\n",
       "        vertical-align: top;\n",
       "    }\n",
       "\n",
       "    .dataframe thead th {\n",
       "        text-align: right;\n",
       "    }\n",
       "</style>\n",
       "<table border=\"1\" class=\"dataframe\">\n",
       "  <thead>\n",
       "    <tr style=\"text-align: right;\">\n",
       "      <th></th>\n",
       "      <th>count</th>\n",
       "      <th>mean</th>\n",
       "    </tr>\n",
       "    <tr>\n",
       "      <th>gender</th>\n",
       "      <th></th>\n",
       "      <th></th>\n",
       "    </tr>\n",
       "  </thead>\n",
       "  <tbody>\n",
       "    <tr>\n",
       "      <th>F</th>\n",
       "      <td>14182</td>\n",
       "      <td>0.070089</td>\n",
       "    </tr>\n",
       "    <tr>\n",
       "      <th>M</th>\n",
       "      <td>7279</td>\n",
       "      <td>0.102624</td>\n",
       "    </tr>\n",
       "  </tbody>\n",
       "</table>\n",
       "</div>"
      ],
      "text/plain": [
       "        count      mean\n",
       "gender                 \n",
       "F       14182  0.070089\n",
       "M        7279  0.102624"
      ]
     },
     "execution_count": 64,
     "metadata": {},
     "output_type": "execute_result"
    }
   ],
   "source": [
    "data.groupby('gender')['debt'].agg(['count', 'mean'])"
   ]
  },
  {
   "cell_type": "markdown",
   "id": "de65c8aa",
   "metadata": {},
   "source": [
    "**Наблюдение 1**  \n",
    "Клиентский портфель банка на две трети состоит из женщин.  При этом женщины-заёмщики показывают значительно большую надежность, по сравнению с мужчинами.\n",
    "Рассмотрим остальные параментре в контексте поле заемщиков для более детального поиска зависимостей."
   ]
  },
  {
   "cell_type": "markdown",
   "id": "d7aff5fa",
   "metadata": {},
   "source": [
    "Для дальнейшего удобства разделим датафрейм по гендеру."
   ]
  },
  {
   "cell_type": "code",
   "execution_count": 65,
   "id": "81c8108f",
   "metadata": {},
   "outputs": [],
   "source": [
    "w_df = data.query('gender == \"F\"').copy()\n",
    "m_df = data.query('gender == \"M\"').copy()"
   ]
  },
  {
   "cell_type": "markdown",
   "id": "1b6fda11",
   "metadata": {},
   "source": [
    "### Возраст"
   ]
  },
  {
   "cell_type": "code",
   "execution_count": 66,
   "id": "b7557b80",
   "metadata": {},
   "outputs": [
    {
     "name": "stdout",
     "output_type": "stream",
     "text": [
      "Средний возраст заемщика 43.482176972182096\n",
      "Медианый возраст заемщика 43.0\n",
      "Средний возраст мужчин 41.15441681549663\n",
      "Медианый возраст мужчин 40.0\n",
      "Средний возраст женщин 44.676914398533356\n",
      "Медианый возраст женщи 44.0\n"
     ]
    }
   ],
   "source": [
    "print('Средний возраст заемщика', data['dob_years'].mean())\n",
    "print('Медианый возраст заемщика', data['dob_years'].median())\n",
    "print('Средний возраст мужчин', m_df['dob_years'].mean())\n",
    "print('Медианый возраст мужчин', m_df['dob_years'].median())\n",
    "print('Средний возраст женщин', w_df['dob_years'].mean())\n",
    "print('Медианый возраст женщи', w_df['dob_years'].median())"
   ]
  },
  {
   "cell_type": "markdown",
   "id": "f5828834",
   "metadata": {},
   "source": [
    "Так как диапазон возрастов заемщиков довольно широк применим функцию, которая создать дополнительный столбец с сегментам по возрасту. Сегменты возьмём типовые 6-летние."
   ]
  },
  {
   "cell_type": "code",
   "execution_count": 67,
   "id": "09d9cf80",
   "metadata": {},
   "outputs": [],
   "source": [
    "def categorize_age(age):\n",
    "    if age > 17 and age <24:\n",
    "        return '1. 18-24'\n",
    "    elif age >= 24 and age <30:\n",
    "        return '2. 24-30'\n",
    "    elif age >= 30 and age <36:\n",
    "        return '3. 30-36'\n",
    "    elif age >= 36 and age <42:\n",
    "        return '4. 36-42'\n",
    "    elif age >= 42 and age <48:\n",
    "        return '5. 42-48'\n",
    "    elif age >= 48 and age <54:\n",
    "        return '6. 48-54'\n",
    "    elif age >= 54 and age <60:\n",
    "        return '7. 54 - 60'\n",
    "    elif age >= 60:\n",
    "        return '8. 60+'\n",
    "    elif age == 0:\n",
    "        return '9. 0'\n",
    "data['age_group'] = data['dob_years'].apply(categorize_age)"
   ]
  },
  {
   "cell_type": "code",
   "execution_count": 68,
   "id": "2c53d811",
   "metadata": {},
   "outputs": [
    {
     "data": {
      "text/html": [
       "<div>\n",
       "<style scoped>\n",
       "    .dataframe tbody tr th:only-of-type {\n",
       "        vertical-align: middle;\n",
       "    }\n",
       "\n",
       "    .dataframe tbody tr th {\n",
       "        vertical-align: top;\n",
       "    }\n",
       "\n",
       "    .dataframe thead th {\n",
       "        text-align: right;\n",
       "    }\n",
       "</style>\n",
       "<table border=\"1\" class=\"dataframe\">\n",
       "  <thead>\n",
       "    <tr style=\"text-align: right;\">\n",
       "      <th></th>\n",
       "      <th>count</th>\n",
       "      <th>mean</th>\n",
       "    </tr>\n",
       "    <tr>\n",
       "      <th>age_group</th>\n",
       "      <th></th>\n",
       "      <th></th>\n",
       "    </tr>\n",
       "  </thead>\n",
       "  <tbody>\n",
       "    <tr>\n",
       "      <th>1. 18-24</th>\n",
       "      <td>611</td>\n",
       "      <td>0.104746</td>\n",
       "    </tr>\n",
       "    <tr>\n",
       "      <th>2. 24-30</th>\n",
       "      <td>2568</td>\n",
       "      <td>0.110981</td>\n",
       "    </tr>\n",
       "    <tr>\n",
       "      <th>3. 30-36</th>\n",
       "      <td>3403</td>\n",
       "      <td>0.102557</td>\n",
       "    </tr>\n",
       "    <tr>\n",
       "      <th>4. 36-42</th>\n",
       "      <td>3471</td>\n",
       "      <td>0.086430</td>\n",
       "    </tr>\n",
       "    <tr>\n",
       "      <th>5. 42-48</th>\n",
       "      <td>3199</td>\n",
       "      <td>0.078149</td>\n",
       "    </tr>\n",
       "    <tr>\n",
       "      <th>6. 48-54</th>\n",
       "      <td>2946</td>\n",
       "      <td>0.067549</td>\n",
       "    </tr>\n",
       "    <tr>\n",
       "      <th>7. 54 - 60</th>\n",
       "      <td>2757</td>\n",
       "      <td>0.062024</td>\n",
       "    </tr>\n",
       "    <tr>\n",
       "      <th>8. 60+</th>\n",
       "      <td>2506</td>\n",
       "      <td>0.049082</td>\n",
       "    </tr>\n",
       "  </tbody>\n",
       "</table>\n",
       "</div>"
      ],
      "text/plain": [
       "            count      mean\n",
       "age_group                  \n",
       "1. 18-24      611  0.104746\n",
       "2. 24-30     2568  0.110981\n",
       "3. 30-36     3403  0.102557\n",
       "4. 36-42     3471  0.086430\n",
       "5. 42-48     3199  0.078149\n",
       "6. 48-54     2946  0.067549\n",
       "7. 54 - 60   2757  0.062024\n",
       "8. 60+       2506  0.049082"
      ]
     },
     "execution_count": 68,
     "metadata": {},
     "output_type": "execute_result"
    }
   ],
   "source": [
    "data.groupby(['age_group'])['debt'].agg(['count', 'mean'])"
   ]
  },
  {
   "cell_type": "markdown",
   "id": "ee35e5fc",
   "metadata": {},
   "source": [
    "Справедливо сравнивать группы 2-8 и исключить из сравнения группу 1 из-за малой выборки.  \n",
    "**Группы 2 - 8 демонстрируют четкую линейную зависимость**: чем старше человек, тем ниже вероятность уйти в просрочку.  \n",
    "Рассмотрим эти же показатели в части гендера."
   ]
  },
  {
   "cell_type": "code",
   "execution_count": 69,
   "id": "533c1e4e",
   "metadata": {},
   "outputs": [
    {
     "data": {
      "text/html": [
       "<div>\n",
       "<style scoped>\n",
       "    .dataframe tbody tr th:only-of-type {\n",
       "        vertical-align: middle;\n",
       "    }\n",
       "\n",
       "    .dataframe tbody tr th {\n",
       "        vertical-align: top;\n",
       "    }\n",
       "\n",
       "    .dataframe thead th {\n",
       "        text-align: right;\n",
       "    }\n",
       "</style>\n",
       "<table border=\"1\" class=\"dataframe\">\n",
       "  <thead>\n",
       "    <tr style=\"text-align: right;\">\n",
       "      <th></th>\n",
       "      <th></th>\n",
       "      <th>count</th>\n",
       "      <th>mean</th>\n",
       "    </tr>\n",
       "    <tr>\n",
       "      <th>age_group</th>\n",
       "      <th>gender</th>\n",
       "      <th></th>\n",
       "      <th></th>\n",
       "    </tr>\n",
       "  </thead>\n",
       "  <tbody>\n",
       "    <tr>\n",
       "      <th rowspan=\"2\" valign=\"top\">1. 18-24</th>\n",
       "      <th>F</th>\n",
       "      <td>345</td>\n",
       "      <td>0.081159</td>\n",
       "    </tr>\n",
       "    <tr>\n",
       "      <th>M</th>\n",
       "      <td>266</td>\n",
       "      <td>0.135338</td>\n",
       "    </tr>\n",
       "    <tr>\n",
       "      <th rowspan=\"2\" valign=\"top\">2. 24-30</th>\n",
       "      <th>F</th>\n",
       "      <td>1475</td>\n",
       "      <td>0.102373</td>\n",
       "    </tr>\n",
       "    <tr>\n",
       "      <th>M</th>\n",
       "      <td>1093</td>\n",
       "      <td>0.122598</td>\n",
       "    </tr>\n",
       "    <tr>\n",
       "      <th rowspan=\"2\" valign=\"top\">3. 30-36</th>\n",
       "      <th>F</th>\n",
       "      <td>2039</td>\n",
       "      <td>0.099559</td>\n",
       "    </tr>\n",
       "    <tr>\n",
       "      <th>M</th>\n",
       "      <td>1364</td>\n",
       "      <td>0.107038</td>\n",
       "    </tr>\n",
       "    <tr>\n",
       "      <th rowspan=\"2\" valign=\"top\">4. 36-42</th>\n",
       "      <th>F</th>\n",
       "      <td>2200</td>\n",
       "      <td>0.078636</td>\n",
       "    </tr>\n",
       "    <tr>\n",
       "      <th>M</th>\n",
       "      <td>1271</td>\n",
       "      <td>0.099921</td>\n",
       "    </tr>\n",
       "    <tr>\n",
       "      <th rowspan=\"2\" valign=\"top\">5. 42-48</th>\n",
       "      <th>F</th>\n",
       "      <td>2100</td>\n",
       "      <td>0.064762</td>\n",
       "    </tr>\n",
       "    <tr>\n",
       "      <th>M</th>\n",
       "      <td>1099</td>\n",
       "      <td>0.103731</td>\n",
       "    </tr>\n",
       "    <tr>\n",
       "      <th rowspan=\"2\" valign=\"top\">6. 48-54</th>\n",
       "      <th>F</th>\n",
       "      <td>2049</td>\n",
       "      <td>0.057589</td>\n",
       "    </tr>\n",
       "    <tr>\n",
       "      <th>M</th>\n",
       "      <td>897</td>\n",
       "      <td>0.090301</td>\n",
       "    </tr>\n",
       "    <tr>\n",
       "      <th rowspan=\"2\" valign=\"top\">7. 54 - 60</th>\n",
       "      <th>F</th>\n",
       "      <td>2043</td>\n",
       "      <td>0.049927</td>\n",
       "    </tr>\n",
       "    <tr>\n",
       "      <th>M</th>\n",
       "      <td>714</td>\n",
       "      <td>0.096639</td>\n",
       "    </tr>\n",
       "    <tr>\n",
       "      <th rowspan=\"2\" valign=\"top\">8. 60+</th>\n",
       "      <th>F</th>\n",
       "      <td>1931</td>\n",
       "      <td>0.042983</td>\n",
       "    </tr>\n",
       "    <tr>\n",
       "      <th>M</th>\n",
       "      <td>575</td>\n",
       "      <td>0.069565</td>\n",
       "    </tr>\n",
       "  </tbody>\n",
       "</table>\n",
       "</div>"
      ],
      "text/plain": [
       "                   count      mean\n",
       "age_group  gender                 \n",
       "1. 18-24   F         345  0.081159\n",
       "           M         266  0.135338\n",
       "2. 24-30   F        1475  0.102373\n",
       "           M        1093  0.122598\n",
       "3. 30-36   F        2039  0.099559\n",
       "           M        1364  0.107038\n",
       "4. 36-42   F        2200  0.078636\n",
       "           M        1271  0.099921\n",
       "5. 42-48   F        2100  0.064762\n",
       "           M        1099  0.103731\n",
       "6. 48-54   F        2049  0.057589\n",
       "           M         897  0.090301\n",
       "7. 54 - 60 F        2043  0.049927\n",
       "           M         714  0.096639\n",
       "8. 60+     F        1931  0.042983\n",
       "           M         575  0.069565"
      ]
     },
     "execution_count": 69,
     "metadata": {},
     "output_type": "execute_result"
    }
   ],
   "source": [
    "data.groupby(['age_group','gender'])['debt'].agg(['count', 'mean'])"
   ]
  },
  {
   "cell_type": "markdown",
   "id": "3eee5ed8",
   "metadata": {},
   "source": [
    "**Наблюдение 2**  \n",
    "Возраст человека влияет на вероятность выхода в просрочку. Чеш выше возраст, тем меньше вероятность. При более детальном изучении возраста выяснилось, что кол-во женщин в группах 3-8 практически одинаковое, а вот количество мужчин снижается от группы к группе. Вероятно высокий показатель по мужскому полу связан не только с гендерными особенностями, но и с тем, что мужской портфель банка моложе женского."
   ]
  },
  {
   "cell_type": "markdown",
   "id": "a2ea706c",
   "metadata": {},
   "source": [
    "### Образование"
   ]
  },
  {
   "cell_type": "code",
   "execution_count": 70,
   "id": "757e062e",
   "metadata": {},
   "outputs": [
    {
     "data": {
      "text/html": [
       "<div>\n",
       "<style scoped>\n",
       "    .dataframe tbody tr th:only-of-type {\n",
       "        vertical-align: middle;\n",
       "    }\n",
       "\n",
       "    .dataframe tbody tr th {\n",
       "        vertical-align: top;\n",
       "    }\n",
       "\n",
       "    .dataframe thead th {\n",
       "        text-align: right;\n",
       "    }\n",
       "</style>\n",
       "<table border=\"1\" class=\"dataframe\">\n",
       "  <thead>\n",
       "    <tr style=\"text-align: right;\">\n",
       "      <th></th>\n",
       "      <th>count</th>\n",
       "      <th>mean</th>\n",
       "    </tr>\n",
       "    <tr>\n",
       "      <th>education</th>\n",
       "      <th></th>\n",
       "      <th></th>\n",
       "    </tr>\n",
       "  </thead>\n",
       "  <tbody>\n",
       "    <tr>\n",
       "      <th>высшее</th>\n",
       "      <td>5251</td>\n",
       "      <td>0.052942</td>\n",
       "    </tr>\n",
       "    <tr>\n",
       "      <th>начальное</th>\n",
       "      <td>282</td>\n",
       "      <td>0.109929</td>\n",
       "    </tr>\n",
       "    <tr>\n",
       "      <th>неоконченное высшее</th>\n",
       "      <td>743</td>\n",
       "      <td>0.091521</td>\n",
       "    </tr>\n",
       "    <tr>\n",
       "      <th>среднее</th>\n",
       "      <td>15179</td>\n",
       "      <td>0.089861</td>\n",
       "    </tr>\n",
       "    <tr>\n",
       "      <th>ученая степень</th>\n",
       "      <td>6</td>\n",
       "      <td>0.000000</td>\n",
       "    </tr>\n",
       "  </tbody>\n",
       "</table>\n",
       "</div>"
      ],
      "text/plain": [
       "                     count      mean\n",
       "education                           \n",
       "высшее                5251  0.052942\n",
       "начальное              282  0.109929\n",
       "неоконченное высшее    743  0.091521\n",
       "среднее              15179  0.089861\n",
       "ученая степень           6  0.000000"
      ]
     },
     "execution_count": 70,
     "metadata": {},
     "output_type": "execute_result"
    }
   ],
   "source": [
    "data.groupby('education')['debt'].agg(['count', 'mean'])"
   ]
  },
  {
   "cell_type": "code",
   "execution_count": 71,
   "id": "fd7ac47e",
   "metadata": {},
   "outputs": [
    {
     "data": {
      "text/html": [
       "<div>\n",
       "<style scoped>\n",
       "    .dataframe tbody tr th:only-of-type {\n",
       "        vertical-align: middle;\n",
       "    }\n",
       "\n",
       "    .dataframe tbody tr th {\n",
       "        vertical-align: top;\n",
       "    }\n",
       "\n",
       "    .dataframe thead th {\n",
       "        text-align: right;\n",
       "    }\n",
       "</style>\n",
       "<table border=\"1\" class=\"dataframe\">\n",
       "  <thead>\n",
       "    <tr style=\"text-align: right;\">\n",
       "      <th></th>\n",
       "      <th></th>\n",
       "      <th>count</th>\n",
       "      <th>mean</th>\n",
       "    </tr>\n",
       "    <tr>\n",
       "      <th>education</th>\n",
       "      <th>gender</th>\n",
       "      <th></th>\n",
       "      <th></th>\n",
       "    </tr>\n",
       "  </thead>\n",
       "  <tbody>\n",
       "    <tr>\n",
       "      <th rowspan=\"2\" valign=\"top\">высшее</th>\n",
       "      <th>F</th>\n",
       "      <td>3540</td>\n",
       "      <td>0.047175</td>\n",
       "    </tr>\n",
       "    <tr>\n",
       "      <th>M</th>\n",
       "      <td>1711</td>\n",
       "      <td>0.064874</td>\n",
       "    </tr>\n",
       "    <tr>\n",
       "      <th rowspan=\"2\" valign=\"top\">начальное</th>\n",
       "      <th>F</th>\n",
       "      <td>163</td>\n",
       "      <td>0.098160</td>\n",
       "    </tr>\n",
       "    <tr>\n",
       "      <th>M</th>\n",
       "      <td>119</td>\n",
       "      <td>0.126050</td>\n",
       "    </tr>\n",
       "    <tr>\n",
       "      <th rowspan=\"2\" valign=\"top\">неоконченное высшее</th>\n",
       "      <th>F</th>\n",
       "      <td>460</td>\n",
       "      <td>0.089130</td>\n",
       "    </tr>\n",
       "    <tr>\n",
       "      <th>M</th>\n",
       "      <td>283</td>\n",
       "      <td>0.095406</td>\n",
       "    </tr>\n",
       "    <tr>\n",
       "      <th rowspan=\"2\" valign=\"top\">среднее</th>\n",
       "      <th>F</th>\n",
       "      <td>10017</td>\n",
       "      <td>0.076869</td>\n",
       "    </tr>\n",
       "    <tr>\n",
       "      <th>M</th>\n",
       "      <td>5162</td>\n",
       "      <td>0.115072</td>\n",
       "    </tr>\n",
       "    <tr>\n",
       "      <th rowspan=\"2\" valign=\"top\">ученая степень</th>\n",
       "      <th>F</th>\n",
       "      <td>2</td>\n",
       "      <td>0.000000</td>\n",
       "    </tr>\n",
       "    <tr>\n",
       "      <th>M</th>\n",
       "      <td>4</td>\n",
       "      <td>0.000000</td>\n",
       "    </tr>\n",
       "  </tbody>\n",
       "</table>\n",
       "</div>"
      ],
      "text/plain": [
       "                            count      mean\n",
       "education           gender                 \n",
       "высшее              F        3540  0.047175\n",
       "                    M        1711  0.064874\n",
       "начальное           F         163  0.098160\n",
       "                    M         119  0.126050\n",
       "неоконченное высшее F         460  0.089130\n",
       "                    M         283  0.095406\n",
       "среднее             F       10017  0.076869\n",
       "                    M        5162  0.115072\n",
       "ученая степень      F           2  0.000000\n",
       "                    M           4  0.000000"
      ]
     },
     "execution_count": 71,
     "metadata": {},
     "output_type": "execute_result"
    }
   ],
   "source": [
    "data.groupby(['education','gender'])['debt'].agg(['count', 'mean'])"
   ]
  },
  {
   "cell_type": "markdown",
   "id": "d2db7c91",
   "metadata": {},
   "source": [
    "**Наблюдение 3**  \n",
    "Наиболее надёжными в контексте образования являются заемщики с высшим образованием.  \n",
    "Наиболее не надёжными заемщики с начальным образованием.  \n",
    "Надежность заемщиков со средним и неоконченным высшим образованием выше, чем с начальным, но значительно уступает заемщикам с высшим.  \n",
    "По заёмщикам с ученой степенью невозможно сделать вывод в связи с малой выборкой.  \n",
    "Надежность заемщиков с неоконченным высшим практически не отличается, но малой размер выборки и влияние других факторов не позволяет сделать выводы о малой корреляции в данной группе."
   ]
  },
  {
   "cell_type": "markdown",
   "id": "fa90585d",
   "metadata": {},
   "source": [
    "### Дети"
   ]
  },
  {
   "cell_type": "code",
   "execution_count": 72,
   "id": "e30bda61",
   "metadata": {},
   "outputs": [
    {
     "data": {
      "text/html": [
       "<div>\n",
       "<style scoped>\n",
       "    .dataframe tbody tr th:only-of-type {\n",
       "        vertical-align: middle;\n",
       "    }\n",
       "\n",
       "    .dataframe tbody tr th {\n",
       "        vertical-align: top;\n",
       "    }\n",
       "\n",
       "    .dataframe thead th {\n",
       "        text-align: right;\n",
       "    }\n",
       "</style>\n",
       "<table border=\"1\" class=\"dataframe\">\n",
       "  <thead>\n",
       "    <tr style=\"text-align: right;\">\n",
       "      <th></th>\n",
       "      <th>count</th>\n",
       "      <th>mean</th>\n",
       "    </tr>\n",
       "    <tr>\n",
       "      <th>children</th>\n",
       "      <th></th>\n",
       "      <th></th>\n",
       "    </tr>\n",
       "  </thead>\n",
       "  <tbody>\n",
       "    <tr>\n",
       "      <th>0</th>\n",
       "      <td>14098</td>\n",
       "      <td>0.075401</td>\n",
       "    </tr>\n",
       "    <tr>\n",
       "      <th>1</th>\n",
       "      <td>4855</td>\n",
       "      <td>0.091658</td>\n",
       "    </tr>\n",
       "    <tr>\n",
       "      <th>2</th>\n",
       "      <td>2128</td>\n",
       "      <td>0.094925</td>\n",
       "    </tr>\n",
       "    <tr>\n",
       "      <th>3</th>\n",
       "      <td>330</td>\n",
       "      <td>0.081818</td>\n",
       "    </tr>\n",
       "    <tr>\n",
       "      <th>4</th>\n",
       "      <td>41</td>\n",
       "      <td>0.097561</td>\n",
       "    </tr>\n",
       "    <tr>\n",
       "      <th>5</th>\n",
       "      <td>9</td>\n",
       "      <td>0.000000</td>\n",
       "    </tr>\n",
       "  </tbody>\n",
       "</table>\n",
       "</div>"
      ],
      "text/plain": [
       "          count      mean\n",
       "children                 \n",
       "0         14098  0.075401\n",
       "1          4855  0.091658\n",
       "2          2128  0.094925\n",
       "3           330  0.081818\n",
       "4            41  0.097561\n",
       "5             9  0.000000"
      ]
     },
     "execution_count": 72,
     "metadata": {},
     "output_type": "execute_result"
    }
   ],
   "source": [
    "data.groupby('children')['debt'].agg(['count', 'mean'])"
   ]
  },
  {
   "cell_type": "code",
   "execution_count": 73,
   "id": "0425a74b",
   "metadata": {},
   "outputs": [
    {
     "data": {
      "text/html": [
       "<div>\n",
       "<style scoped>\n",
       "    .dataframe tbody tr th:only-of-type {\n",
       "        vertical-align: middle;\n",
       "    }\n",
       "\n",
       "    .dataframe tbody tr th {\n",
       "        vertical-align: top;\n",
       "    }\n",
       "\n",
       "    .dataframe thead th {\n",
       "        text-align: right;\n",
       "    }\n",
       "</style>\n",
       "<table border=\"1\" class=\"dataframe\">\n",
       "  <thead>\n",
       "    <tr style=\"text-align: right;\">\n",
       "      <th></th>\n",
       "      <th></th>\n",
       "      <th>count</th>\n",
       "      <th>mean</th>\n",
       "    </tr>\n",
       "    <tr>\n",
       "      <th>children</th>\n",
       "      <th>gender</th>\n",
       "      <th></th>\n",
       "      <th></th>\n",
       "    </tr>\n",
       "  </thead>\n",
       "  <tbody>\n",
       "    <tr>\n",
       "      <th rowspan=\"2\" valign=\"top\">0</th>\n",
       "      <th>F</th>\n",
       "      <td>9528</td>\n",
       "      <td>0.062133</td>\n",
       "    </tr>\n",
       "    <tr>\n",
       "      <th>M</th>\n",
       "      <td>4570</td>\n",
       "      <td>0.103063</td>\n",
       "    </tr>\n",
       "    <tr>\n",
       "      <th rowspan=\"2\" valign=\"top\">1</th>\n",
       "      <th>F</th>\n",
       "      <td>3120</td>\n",
       "      <td>0.078846</td>\n",
       "    </tr>\n",
       "    <tr>\n",
       "      <th>M</th>\n",
       "      <td>1735</td>\n",
       "      <td>0.114697</td>\n",
       "    </tr>\n",
       "    <tr>\n",
       "      <th rowspan=\"2\" valign=\"top\">2</th>\n",
       "      <th>F</th>\n",
       "      <td>1303</td>\n",
       "      <td>0.105909</td>\n",
       "    </tr>\n",
       "    <tr>\n",
       "      <th>M</th>\n",
       "      <td>825</td>\n",
       "      <td>0.077576</td>\n",
       "    </tr>\n",
       "    <tr>\n",
       "      <th rowspan=\"2\" valign=\"top\">3</th>\n",
       "      <th>F</th>\n",
       "      <td>196</td>\n",
       "      <td>0.086735</td>\n",
       "    </tr>\n",
       "    <tr>\n",
       "      <th>M</th>\n",
       "      <td>134</td>\n",
       "      <td>0.074627</td>\n",
       "    </tr>\n",
       "    <tr>\n",
       "      <th rowspan=\"2\" valign=\"top\">4</th>\n",
       "      <th>F</th>\n",
       "      <td>28</td>\n",
       "      <td>0.035714</td>\n",
       "    </tr>\n",
       "    <tr>\n",
       "      <th>M</th>\n",
       "      <td>13</td>\n",
       "      <td>0.230769</td>\n",
       "    </tr>\n",
       "    <tr>\n",
       "      <th rowspan=\"2\" valign=\"top\">5</th>\n",
       "      <th>F</th>\n",
       "      <td>7</td>\n",
       "      <td>0.000000</td>\n",
       "    </tr>\n",
       "    <tr>\n",
       "      <th>M</th>\n",
       "      <td>2</td>\n",
       "      <td>0.000000</td>\n",
       "    </tr>\n",
       "  </tbody>\n",
       "</table>\n",
       "</div>"
      ],
      "text/plain": [
       "                 count      mean\n",
       "children gender                 \n",
       "0        F        9528  0.062133\n",
       "         M        4570  0.103063\n",
       "1        F        3120  0.078846\n",
       "         M        1735  0.114697\n",
       "2        F        1303  0.105909\n",
       "         M         825  0.077576\n",
       "3        F         196  0.086735\n",
       "         M         134  0.074627\n",
       "4        F          28  0.035714\n",
       "         M          13  0.230769\n",
       "5        F           7  0.000000\n",
       "         M           2  0.000000"
      ]
     },
     "execution_count": 73,
     "metadata": {},
     "output_type": "execute_result"
    }
   ],
   "source": [
    "data.groupby(['children','gender'])['debt'].agg(['count', 'mean'])"
   ]
  },
  {
   "cell_type": "markdown",
   "id": "11d477ea",
   "metadata": {},
   "source": [
    "**Наблюдение 4**  \n",
    "Наличие детей увеличивает риск уйти в просрочку.  \n",
    "Чем больше детей, тем выше вероятность просрочки.  \n",
    "При этом более детальное изучение данного атрибута в части гендера выявило интересную закономерность. Женщины с двумя детьми наиболее рисковый сегмент в части ухода в просрочку. В данной группе женщины по вероятности значительно выше мужчин, хотя в остальных группах вероятность по мучжинам всегда выше."
   ]
  },
  {
   "cell_type": "markdown",
   "id": "95209bbb",
   "metadata": {},
   "source": [
    "### Семейное положение"
   ]
  },
  {
   "cell_type": "code",
   "execution_count": 74,
   "id": "c076c343",
   "metadata": {},
   "outputs": [
    {
     "data": {
      "text/html": [
       "<div>\n",
       "<style scoped>\n",
       "    .dataframe tbody tr th:only-of-type {\n",
       "        vertical-align: middle;\n",
       "    }\n",
       "\n",
       "    .dataframe tbody tr th {\n",
       "        vertical-align: top;\n",
       "    }\n",
       "\n",
       "    .dataframe thead th {\n",
       "        text-align: right;\n",
       "    }\n",
       "</style>\n",
       "<table border=\"1\" class=\"dataframe\">\n",
       "  <thead>\n",
       "    <tr style=\"text-align: right;\">\n",
       "      <th></th>\n",
       "      <th>count</th>\n",
       "      <th>mean</th>\n",
       "    </tr>\n",
       "    <tr>\n",
       "      <th>family_status</th>\n",
       "      <th></th>\n",
       "      <th></th>\n",
       "    </tr>\n",
       "  </thead>\n",
       "  <tbody>\n",
       "    <tr>\n",
       "      <th>в разводе</th>\n",
       "      <td>1195</td>\n",
       "      <td>0.071130</td>\n",
       "    </tr>\n",
       "    <tr>\n",
       "      <th>вдовец / вдова</th>\n",
       "      <td>959</td>\n",
       "      <td>0.065693</td>\n",
       "    </tr>\n",
       "    <tr>\n",
       "      <th>гражданский брак</th>\n",
       "      <td>4156</td>\n",
       "      <td>0.093359</td>\n",
       "    </tr>\n",
       "    <tr>\n",
       "      <th>женат / замужем</th>\n",
       "      <td>12341</td>\n",
       "      <td>0.075440</td>\n",
       "    </tr>\n",
       "    <tr>\n",
       "      <th>не женат / не замужем</th>\n",
       "      <td>2810</td>\n",
       "      <td>0.097509</td>\n",
       "    </tr>\n",
       "  </tbody>\n",
       "</table>\n",
       "</div>"
      ],
      "text/plain": [
       "                       count      mean\n",
       "family_status                         \n",
       "в разводе               1195  0.071130\n",
       "вдовец / вдова           959  0.065693\n",
       "гражданский брак        4156  0.093359\n",
       "женат / замужем        12341  0.075440\n",
       "не женат / не замужем   2810  0.097509"
      ]
     },
     "execution_count": 74,
     "metadata": {},
     "output_type": "execute_result"
    }
   ],
   "source": [
    "data.groupby('family_status')['debt'].agg(['count', 'mean'])"
   ]
  },
  {
   "cell_type": "code",
   "execution_count": 75,
   "id": "a96c74d8",
   "metadata": {},
   "outputs": [
    {
     "data": {
      "text/html": [
       "<div>\n",
       "<style scoped>\n",
       "    .dataframe tbody tr th:only-of-type {\n",
       "        vertical-align: middle;\n",
       "    }\n",
       "\n",
       "    .dataframe tbody tr th {\n",
       "        vertical-align: top;\n",
       "    }\n",
       "\n",
       "    .dataframe thead th {\n",
       "        text-align: right;\n",
       "    }\n",
       "</style>\n",
       "<table border=\"1\" class=\"dataframe\">\n",
       "  <thead>\n",
       "    <tr style=\"text-align: right;\">\n",
       "      <th></th>\n",
       "      <th></th>\n",
       "      <th>count</th>\n",
       "      <th>mean</th>\n",
       "    </tr>\n",
       "    <tr>\n",
       "      <th>family_status</th>\n",
       "      <th>gender</th>\n",
       "      <th></th>\n",
       "      <th></th>\n",
       "    </tr>\n",
       "  </thead>\n",
       "  <tbody>\n",
       "    <tr>\n",
       "      <th rowspan=\"2\" valign=\"top\">в разводе</th>\n",
       "      <th>F</th>\n",
       "      <td>936</td>\n",
       "      <td>0.065171</td>\n",
       "    </tr>\n",
       "    <tr>\n",
       "      <th>M</th>\n",
       "      <td>259</td>\n",
       "      <td>0.092664</td>\n",
       "    </tr>\n",
       "    <tr>\n",
       "      <th rowspan=\"2\" valign=\"top\">вдовец / вдова</th>\n",
       "      <th>F</th>\n",
       "      <td>904</td>\n",
       "      <td>0.057522</td>\n",
       "    </tr>\n",
       "    <tr>\n",
       "      <th>M</th>\n",
       "      <td>55</td>\n",
       "      <td>0.200000</td>\n",
       "    </tr>\n",
       "    <tr>\n",
       "      <th rowspan=\"2\" valign=\"top\">гражданский брак</th>\n",
       "      <th>F</th>\n",
       "      <td>2851</td>\n",
       "      <td>0.081726</td>\n",
       "    </tr>\n",
       "    <tr>\n",
       "      <th>M</th>\n",
       "      <td>1305</td>\n",
       "      <td>0.118774</td>\n",
       "    </tr>\n",
       "    <tr>\n",
       "      <th rowspan=\"2\" valign=\"top\">женат / замужем</th>\n",
       "      <th>F</th>\n",
       "      <td>7762</td>\n",
       "      <td>0.068281</td>\n",
       "    </tr>\n",
       "    <tr>\n",
       "      <th>M</th>\n",
       "      <td>4579</td>\n",
       "      <td>0.087574</td>\n",
       "    </tr>\n",
       "    <tr>\n",
       "      <th rowspan=\"2\" valign=\"top\">не женат / не замужем</th>\n",
       "      <th>F</th>\n",
       "      <td>1729</td>\n",
       "      <td>0.068248</td>\n",
       "    </tr>\n",
       "    <tr>\n",
       "      <th>M</th>\n",
       "      <td>1081</td>\n",
       "      <td>0.144311</td>\n",
       "    </tr>\n",
       "  </tbody>\n",
       "</table>\n",
       "</div>"
      ],
      "text/plain": [
       "                              count      mean\n",
       "family_status         gender                 \n",
       "в разводе             F         936  0.065171\n",
       "                      M         259  0.092664\n",
       "вдовец / вдова        F         904  0.057522\n",
       "                      M          55  0.200000\n",
       "гражданский брак      F        2851  0.081726\n",
       "                      M        1305  0.118774\n",
       "женат / замужем       F        7762  0.068281\n",
       "                      M        4579  0.087574\n",
       "не женат / не замужем F        1729  0.068248\n",
       "                      M        1081  0.144311"
      ]
     },
     "execution_count": 75,
     "metadata": {},
     "output_type": "execute_result"
    }
   ],
   "source": [
    "data.groupby(['family_status','gender'])['debt'].agg(['count', 'mean'])"
   ]
  },
  {
   "cell_type": "markdown",
   "id": "439cfd0a",
   "metadata": {},
   "source": [
    "**Наблюдение 5**  \n",
    "Самыми надежным заёмщиками являются вдовы.  \n",
    "Cамыми ненадежными - не женатые мужчины.  \n",
    "**Интересный факт:**  Показатель надежности у женщин в браке и не замужем практически одинаков, а у мужчин отличается почти в два раза."
   ]
  },
  {
   "cell_type": "markdown",
   "id": "e2259eb1",
   "metadata": {},
   "source": [
    "### Цель кредита"
   ]
  },
  {
   "cell_type": "code",
   "execution_count": 76,
   "id": "87a186a8",
   "metadata": {},
   "outputs": [
    {
     "data": {
      "text/html": [
       "<div>\n",
       "<style scoped>\n",
       "    .dataframe tbody tr th:only-of-type {\n",
       "        vertical-align: middle;\n",
       "    }\n",
       "\n",
       "    .dataframe tbody tr th {\n",
       "        vertical-align: top;\n",
       "    }\n",
       "\n",
       "    .dataframe thead th {\n",
       "        text-align: right;\n",
       "    }\n",
       "</style>\n",
       "<table border=\"1\" class=\"dataframe\">\n",
       "  <thead>\n",
       "    <tr style=\"text-align: right;\">\n",
       "      <th></th>\n",
       "      <th>count</th>\n",
       "      <th>mean</th>\n",
       "    </tr>\n",
       "    <tr>\n",
       "      <th>purpose_category</th>\n",
       "      <th></th>\n",
       "      <th></th>\n",
       "    </tr>\n",
       "  </thead>\n",
       "  <tbody>\n",
       "    <tr>\n",
       "      <th>автомобиль</th>\n",
       "      <td>4307</td>\n",
       "      <td>0.093569</td>\n",
       "    </tr>\n",
       "    <tr>\n",
       "      <th>недвижимость</th>\n",
       "      <td>10810</td>\n",
       "      <td>0.072340</td>\n",
       "    </tr>\n",
       "    <tr>\n",
       "      <th>образование</th>\n",
       "      <td>4014</td>\n",
       "      <td>0.092177</td>\n",
       "    </tr>\n",
       "    <tr>\n",
       "      <th>свадьба</th>\n",
       "      <td>2330</td>\n",
       "      <td>0.079828</td>\n",
       "    </tr>\n",
       "  </tbody>\n",
       "</table>\n",
       "</div>"
      ],
      "text/plain": [
       "                  count      mean\n",
       "purpose_category                 \n",
       "автомобиль         4307  0.093569\n",
       "недвижимость      10810  0.072340\n",
       "образование        4014  0.092177\n",
       "свадьба            2330  0.079828"
      ]
     },
     "execution_count": 76,
     "metadata": {},
     "output_type": "execute_result"
    }
   ],
   "source": [
    "data.groupby('purpose_category')['debt'].agg(['count', 'mean'])"
   ]
  },
  {
   "cell_type": "code",
   "execution_count": 77,
   "id": "3dac8b10",
   "metadata": {},
   "outputs": [
    {
     "data": {
      "text/html": [
       "<div>\n",
       "<style scoped>\n",
       "    .dataframe tbody tr th:only-of-type {\n",
       "        vertical-align: middle;\n",
       "    }\n",
       "\n",
       "    .dataframe tbody tr th {\n",
       "        vertical-align: top;\n",
       "    }\n",
       "\n",
       "    .dataframe thead th {\n",
       "        text-align: right;\n",
       "    }\n",
       "</style>\n",
       "<table border=\"1\" class=\"dataframe\">\n",
       "  <thead>\n",
       "    <tr style=\"text-align: right;\">\n",
       "      <th></th>\n",
       "      <th></th>\n",
       "      <th>count</th>\n",
       "      <th>mean</th>\n",
       "    </tr>\n",
       "    <tr>\n",
       "      <th>purpose_category</th>\n",
       "      <th>gender</th>\n",
       "      <th></th>\n",
       "      <th></th>\n",
       "    </tr>\n",
       "  </thead>\n",
       "  <tbody>\n",
       "    <tr>\n",
       "      <th rowspan=\"2\" valign=\"top\">автомобиль</th>\n",
       "      <th>F</th>\n",
       "      <td>2861</td>\n",
       "      <td>0.082139</td>\n",
       "    </tr>\n",
       "    <tr>\n",
       "      <th>M</th>\n",
       "      <td>1446</td>\n",
       "      <td>0.116183</td>\n",
       "    </tr>\n",
       "    <tr>\n",
       "      <th rowspan=\"2\" valign=\"top\">недвижимость</th>\n",
       "      <th>F</th>\n",
       "      <td>7085</td>\n",
       "      <td>0.062668</td>\n",
       "    </tr>\n",
       "    <tr>\n",
       "      <th>M</th>\n",
       "      <td>3725</td>\n",
       "      <td>0.090738</td>\n",
       "    </tr>\n",
       "    <tr>\n",
       "      <th rowspan=\"2\" valign=\"top\">образование</th>\n",
       "      <th>F</th>\n",
       "      <td>2668</td>\n",
       "      <td>0.077586</td>\n",
       "    </tr>\n",
       "    <tr>\n",
       "      <th>M</th>\n",
       "      <td>1346</td>\n",
       "      <td>0.121100</td>\n",
       "    </tr>\n",
       "    <tr>\n",
       "      <th rowspan=\"2\" valign=\"top\">свадьба</th>\n",
       "      <th>F</th>\n",
       "      <td>1568</td>\n",
       "      <td>0.068878</td>\n",
       "    </tr>\n",
       "    <tr>\n",
       "      <th>M</th>\n",
       "      <td>762</td>\n",
       "      <td>0.102362</td>\n",
       "    </tr>\n",
       "  </tbody>\n",
       "</table>\n",
       "</div>"
      ],
      "text/plain": [
       "                         count      mean\n",
       "purpose_category gender                 \n",
       "автомобиль       F        2861  0.082139\n",
       "                 M        1446  0.116183\n",
       "недвижимость     F        7085  0.062668\n",
       "                 M        3725  0.090738\n",
       "образование      F        2668  0.077586\n",
       "                 M        1346  0.121100\n",
       "свадьба          F        1568  0.068878\n",
       "                 M         762  0.102362"
      ]
     },
     "execution_count": 77,
     "metadata": {},
     "output_type": "execute_result"
    }
   ],
   "source": [
    "data.groupby(['purpose_category','gender'])['debt'].agg(['count', 'mean'])"
   ]
  },
  {
   "cell_type": "markdown",
   "id": "60ab3d6a",
   "metadata": {},
   "source": [
    "**Наблюдение 6**  \n",
    "Наиболее надежный сегмент - кредиты на недвижимость. Наиболее надежный клиент - женщина берущая ипотеку. Далее в порядке увеличения вероятности - женщина-заемщик на свадьбу, образование, автомобиль. Мужчины идут со значительным отставанием по всем категориям."
   ]
  },
  {
   "cell_type": "markdown",
   "id": "c0d0043e",
   "metadata": {},
   "source": [
    "### Тип занятости"
   ]
  },
  {
   "cell_type": "code",
   "execution_count": 78,
   "id": "80cbe2bb",
   "metadata": {},
   "outputs": [
    {
     "data": {
      "text/html": [
       "<div>\n",
       "<style scoped>\n",
       "    .dataframe tbody tr th:only-of-type {\n",
       "        vertical-align: middle;\n",
       "    }\n",
       "\n",
       "    .dataframe tbody tr th {\n",
       "        vertical-align: top;\n",
       "    }\n",
       "\n",
       "    .dataframe thead th {\n",
       "        text-align: right;\n",
       "    }\n",
       "</style>\n",
       "<table border=\"1\" class=\"dataframe\">\n",
       "  <thead>\n",
       "    <tr style=\"text-align: right;\">\n",
       "      <th></th>\n",
       "      <th>count</th>\n",
       "      <th>mean</th>\n",
       "    </tr>\n",
       "    <tr>\n",
       "      <th>income_type</th>\n",
       "      <th></th>\n",
       "      <th></th>\n",
       "    </tr>\n",
       "  </thead>\n",
       "  <tbody>\n",
       "    <tr>\n",
       "      <th>безработный</th>\n",
       "      <td>2</td>\n",
       "      <td>0.500000</td>\n",
       "    </tr>\n",
       "    <tr>\n",
       "      <th>в декрете</th>\n",
       "      <td>1</td>\n",
       "      <td>1.000000</td>\n",
       "    </tr>\n",
       "    <tr>\n",
       "      <th>госслужащий</th>\n",
       "      <td>1457</td>\n",
       "      <td>0.059025</td>\n",
       "    </tr>\n",
       "    <tr>\n",
       "      <th>компаньон</th>\n",
       "      <td>5077</td>\n",
       "      <td>0.074059</td>\n",
       "    </tr>\n",
       "    <tr>\n",
       "      <th>пенсионер</th>\n",
       "      <td>3837</td>\n",
       "      <td>0.056294</td>\n",
       "    </tr>\n",
       "    <tr>\n",
       "      <th>предприниматель</th>\n",
       "      <td>2</td>\n",
       "      <td>0.000000</td>\n",
       "    </tr>\n",
       "    <tr>\n",
       "      <th>сотрудник</th>\n",
       "      <td>11084</td>\n",
       "      <td>0.095724</td>\n",
       "    </tr>\n",
       "    <tr>\n",
       "      <th>студент</th>\n",
       "      <td>1</td>\n",
       "      <td>0.000000</td>\n",
       "    </tr>\n",
       "  </tbody>\n",
       "</table>\n",
       "</div>"
      ],
      "text/plain": [
       "                 count      mean\n",
       "income_type                     \n",
       "безработный          2  0.500000\n",
       "в декрете            1  1.000000\n",
       "госслужащий       1457  0.059025\n",
       "компаньон         5077  0.074059\n",
       "пенсионер         3837  0.056294\n",
       "предприниматель      2  0.000000\n",
       "сотрудник        11084  0.095724\n",
       "студент              1  0.000000"
      ]
     },
     "execution_count": 78,
     "metadata": {},
     "output_type": "execute_result"
    }
   ],
   "source": [
    "data.groupby('income_type')['debt'].agg(['count', 'mean'])"
   ]
  },
  {
   "cell_type": "code",
   "execution_count": 79,
   "id": "f4e3821a",
   "metadata": {},
   "outputs": [
    {
     "data": {
      "text/html": [
       "<div>\n",
       "<style scoped>\n",
       "    .dataframe tbody tr th:only-of-type {\n",
       "        vertical-align: middle;\n",
       "    }\n",
       "\n",
       "    .dataframe tbody tr th {\n",
       "        vertical-align: top;\n",
       "    }\n",
       "\n",
       "    .dataframe thead th {\n",
       "        text-align: right;\n",
       "    }\n",
       "</style>\n",
       "<table border=\"1\" class=\"dataframe\">\n",
       "  <thead>\n",
       "    <tr style=\"text-align: right;\">\n",
       "      <th></th>\n",
       "      <th></th>\n",
       "      <th>count</th>\n",
       "      <th>mean</th>\n",
       "    </tr>\n",
       "    <tr>\n",
       "      <th>income_type</th>\n",
       "      <th>gender</th>\n",
       "      <th></th>\n",
       "      <th></th>\n",
       "    </tr>\n",
       "  </thead>\n",
       "  <tbody>\n",
       "    <tr>\n",
       "      <th rowspan=\"2\" valign=\"top\">безработный</th>\n",
       "      <th>F</th>\n",
       "      <td>1</td>\n",
       "      <td>0.000000</td>\n",
       "    </tr>\n",
       "    <tr>\n",
       "      <th>M</th>\n",
       "      <td>1</td>\n",
       "      <td>1.000000</td>\n",
       "    </tr>\n",
       "    <tr>\n",
       "      <th>в декрете</th>\n",
       "      <th>F</th>\n",
       "      <td>1</td>\n",
       "      <td>1.000000</td>\n",
       "    </tr>\n",
       "    <tr>\n",
       "      <th rowspan=\"2\" valign=\"top\">госслужащий</th>\n",
       "      <th>F</th>\n",
       "      <td>1072</td>\n",
       "      <td>0.054104</td>\n",
       "    </tr>\n",
       "    <tr>\n",
       "      <th>M</th>\n",
       "      <td>385</td>\n",
       "      <td>0.072727</td>\n",
       "    </tr>\n",
       "    <tr>\n",
       "      <th rowspan=\"2\" valign=\"top\">компаньон</th>\n",
       "      <th>F</th>\n",
       "      <td>3191</td>\n",
       "      <td>0.066123</td>\n",
       "    </tr>\n",
       "    <tr>\n",
       "      <th>M</th>\n",
       "      <td>1886</td>\n",
       "      <td>0.087487</td>\n",
       "    </tr>\n",
       "    <tr>\n",
       "      <th rowspan=\"2\" valign=\"top\">пенсионер</th>\n",
       "      <th>F</th>\n",
       "      <td>3140</td>\n",
       "      <td>0.052548</td>\n",
       "    </tr>\n",
       "    <tr>\n",
       "      <th>M</th>\n",
       "      <td>697</td>\n",
       "      <td>0.073171</td>\n",
       "    </tr>\n",
       "    <tr>\n",
       "      <th rowspan=\"2\" valign=\"top\">предприниматель</th>\n",
       "      <th>F</th>\n",
       "      <td>1</td>\n",
       "      <td>0.000000</td>\n",
       "    </tr>\n",
       "    <tr>\n",
       "      <th>M</th>\n",
       "      <td>1</td>\n",
       "      <td>0.000000</td>\n",
       "    </tr>\n",
       "    <tr>\n",
       "      <th rowspan=\"2\" valign=\"top\">сотрудник</th>\n",
       "      <th>F</th>\n",
       "      <td>6776</td>\n",
       "      <td>0.082497</td>\n",
       "    </tr>\n",
       "    <tr>\n",
       "      <th>M</th>\n",
       "      <td>4308</td>\n",
       "      <td>0.116527</td>\n",
       "    </tr>\n",
       "    <tr>\n",
       "      <th>студент</th>\n",
       "      <th>M</th>\n",
       "      <td>1</td>\n",
       "      <td>0.000000</td>\n",
       "    </tr>\n",
       "  </tbody>\n",
       "</table>\n",
       "</div>"
      ],
      "text/plain": [
       "                        count      mean\n",
       "income_type     gender                 \n",
       "безработный     F           1  0.000000\n",
       "                M           1  1.000000\n",
       "в декрете       F           1  1.000000\n",
       "госслужащий     F        1072  0.054104\n",
       "                M         385  0.072727\n",
       "компаньон       F        3191  0.066123\n",
       "                M        1886  0.087487\n",
       "пенсионер       F        3140  0.052548\n",
       "                M         697  0.073171\n",
       "предприниматель F           1  0.000000\n",
       "                M           1  0.000000\n",
       "сотрудник       F        6776  0.082497\n",
       "                M        4308  0.116527\n",
       "студент         M           1  0.000000"
      ]
     },
     "execution_count": 79,
     "metadata": {},
     "output_type": "execute_result"
    }
   ],
   "source": [
    "data.groupby(['income_type','gender'])['debt'].agg(['count', 'mean'])"
   ]
  },
  {
   "cell_type": "markdown",
   "id": "f6ac29b4",
   "metadata": {},
   "source": [
    "**Наблюдение 7**  \n",
    "Наиболее надежные заёмщики - женщины: пенсионеры и госслужащие.  \n",
    "Наименее надежные заёмщики - мужчины: сотрудники."
   ]
  },
  {
   "cell_type": "markdown",
   "id": "2bacbe3d",
   "metadata": {},
   "source": [
    "### Доход"
   ]
  },
  {
   "cell_type": "markdown",
   "id": "63265fb1",
   "metadata": {},
   "source": [
    "Так как доход это количественная переменная применим функцию и создадим доп.столбец для разделения по аналогии с возрастом."
   ]
  },
  {
   "cell_type": "code",
   "execution_count": 80,
   "id": "d2648057",
   "metadata": {},
   "outputs": [],
   "source": [
    "def categorize_money(salary):\n",
    "    if salary > 0 and salary < 30000:\n",
    "        return '1. до 30 тыс.'\n",
    "    elif salary >= 30000 and salary < 50000:\n",
    "        return '2. 30-50 тыс'\n",
    "    elif salary >= 50000 and salary <75000:\n",
    "        return '3. 50-75 тыс'\n",
    "    elif salary >= 75000 and salary <100000:\n",
    "        return '4. 75-100 тыс'\n",
    "    elif salary >= 100000 and salary <150000:\n",
    "        return '5. 100-150 тыс'\n",
    "    elif salary >= 150000 and salary <250000:\n",
    "        return '6. 150-250 тыс'\n",
    "    elif salary >= 250000 and salary <500000:\n",
    "        return '7. 250-500 тыс'\n",
    "    elif salary >= 500000:\n",
    "        return '8. 500 тыс +'\n",
    "data['salary_group'] = data['total_income'].apply(categorize_money)"
   ]
  },
  {
   "cell_type": "code",
   "execution_count": 81,
   "id": "4194e715",
   "metadata": {},
   "outputs": [
    {
     "data": {
      "text/html": [
       "<div>\n",
       "<style scoped>\n",
       "    .dataframe tbody tr th:only-of-type {\n",
       "        vertical-align: middle;\n",
       "    }\n",
       "\n",
       "    .dataframe tbody tr th {\n",
       "        vertical-align: top;\n",
       "    }\n",
       "\n",
       "    .dataframe thead th {\n",
       "        text-align: right;\n",
       "    }\n",
       "</style>\n",
       "<table border=\"1\" class=\"dataframe\">\n",
       "  <thead>\n",
       "    <tr style=\"text-align: right;\">\n",
       "      <th></th>\n",
       "      <th>count</th>\n",
       "      <th>mean</th>\n",
       "    </tr>\n",
       "    <tr>\n",
       "      <th>salary_group</th>\n",
       "      <th></th>\n",
       "      <th></th>\n",
       "    </tr>\n",
       "  </thead>\n",
       "  <tbody>\n",
       "    <tr>\n",
       "      <th>1. до 30 тыс.</th>\n",
       "      <td>22</td>\n",
       "      <td>0.090909</td>\n",
       "    </tr>\n",
       "    <tr>\n",
       "      <th>2. 30-50 тыс</th>\n",
       "      <td>350</td>\n",
       "      <td>0.060000</td>\n",
       "    </tr>\n",
       "    <tr>\n",
       "      <th>3. 50-75 тыс</th>\n",
       "      <td>1493</td>\n",
       "      <td>0.075687</td>\n",
       "    </tr>\n",
       "    <tr>\n",
       "      <th>4. 75-100 тыс</th>\n",
       "      <td>2598</td>\n",
       "      <td>0.083911</td>\n",
       "    </tr>\n",
       "    <tr>\n",
       "      <th>5. 100-150 тыс</th>\n",
       "      <td>5704</td>\n",
       "      <td>0.086080</td>\n",
       "    </tr>\n",
       "    <tr>\n",
       "      <th>6. 150-250 тыс</th>\n",
       "      <td>6371</td>\n",
       "      <td>0.083503</td>\n",
       "    </tr>\n",
       "    <tr>\n",
       "      <th>7. 250-500 тыс</th>\n",
       "      <td>2590</td>\n",
       "      <td>0.069498</td>\n",
       "    </tr>\n",
       "    <tr>\n",
       "      <th>8. 500 тыс +</th>\n",
       "      <td>222</td>\n",
       "      <td>0.063063</td>\n",
       "    </tr>\n",
       "  </tbody>\n",
       "</table>\n",
       "</div>"
      ],
      "text/plain": [
       "                count      mean\n",
       "salary_group                   \n",
       "1. до 30 тыс.      22  0.090909\n",
       "2. 30-50 тыс      350  0.060000\n",
       "3. 50-75 тыс     1493  0.075687\n",
       "4. 75-100 тыс    2598  0.083911\n",
       "5. 100-150 тыс   5704  0.086080\n",
       "6. 150-250 тыс   6371  0.083503\n",
       "7. 250-500 тыс   2590  0.069498\n",
       "8. 500 тыс +      222  0.063063"
      ]
     },
     "execution_count": 81,
     "metadata": {},
     "output_type": "execute_result"
    }
   ],
   "source": [
    "data.groupby('salary_group')['debt'].agg(['count', 'mean'])"
   ]
  },
  {
   "cell_type": "code",
   "execution_count": 82,
   "id": "b8735ef8",
   "metadata": {},
   "outputs": [
    {
     "data": {
      "text/html": [
       "<div>\n",
       "<style scoped>\n",
       "    .dataframe tbody tr th:only-of-type {\n",
       "        vertical-align: middle;\n",
       "    }\n",
       "\n",
       "    .dataframe tbody tr th {\n",
       "        vertical-align: top;\n",
       "    }\n",
       "\n",
       "    .dataframe thead th {\n",
       "        text-align: right;\n",
       "    }\n",
       "</style>\n",
       "<table border=\"1\" class=\"dataframe\">\n",
       "  <thead>\n",
       "    <tr style=\"text-align: right;\">\n",
       "      <th></th>\n",
       "      <th></th>\n",
       "      <th>count</th>\n",
       "      <th>mean</th>\n",
       "    </tr>\n",
       "    <tr>\n",
       "      <th>salary_group</th>\n",
       "      <th>gender</th>\n",
       "      <th></th>\n",
       "      <th></th>\n",
       "    </tr>\n",
       "  </thead>\n",
       "  <tbody>\n",
       "    <tr>\n",
       "      <th rowspan=\"2\" valign=\"top\">1. до 30 тыс.</th>\n",
       "      <th>F</th>\n",
       "      <td>16</td>\n",
       "      <td>0.125000</td>\n",
       "    </tr>\n",
       "    <tr>\n",
       "      <th>M</th>\n",
       "      <td>6</td>\n",
       "      <td>0.000000</td>\n",
       "    </tr>\n",
       "    <tr>\n",
       "      <th rowspan=\"2\" valign=\"top\">2. 30-50 тыс</th>\n",
       "      <th>F</th>\n",
       "      <td>309</td>\n",
       "      <td>0.048544</td>\n",
       "    </tr>\n",
       "    <tr>\n",
       "      <th>M</th>\n",
       "      <td>41</td>\n",
       "      <td>0.146341</td>\n",
       "    </tr>\n",
       "    <tr>\n",
       "      <th rowspan=\"2\" valign=\"top\">3. 50-75 тыс</th>\n",
       "      <th>F</th>\n",
       "      <td>1220</td>\n",
       "      <td>0.068033</td>\n",
       "    </tr>\n",
       "    <tr>\n",
       "      <th>M</th>\n",
       "      <td>273</td>\n",
       "      <td>0.109890</td>\n",
       "    </tr>\n",
       "    <tr>\n",
       "      <th rowspan=\"2\" valign=\"top\">4. 75-100 тыс</th>\n",
       "      <th>F</th>\n",
       "      <td>2014</td>\n",
       "      <td>0.075968</td>\n",
       "    </tr>\n",
       "    <tr>\n",
       "      <th>M</th>\n",
       "      <td>584</td>\n",
       "      <td>0.111301</td>\n",
       "    </tr>\n",
       "    <tr>\n",
       "      <th rowspan=\"2\" valign=\"top\">5. 100-150 тыс</th>\n",
       "      <th>F</th>\n",
       "      <td>3977</td>\n",
       "      <td>0.074177</td>\n",
       "    </tr>\n",
       "    <tr>\n",
       "      <th>M</th>\n",
       "      <td>1727</td>\n",
       "      <td>0.113492</td>\n",
       "    </tr>\n",
       "    <tr>\n",
       "      <th rowspan=\"2\" valign=\"top\">6. 150-250 тыс</th>\n",
       "      <th>F</th>\n",
       "      <td>3752</td>\n",
       "      <td>0.067431</td>\n",
       "    </tr>\n",
       "    <tr>\n",
       "      <th>M</th>\n",
       "      <td>2619</td>\n",
       "      <td>0.106529</td>\n",
       "    </tr>\n",
       "    <tr>\n",
       "      <th rowspan=\"2\" valign=\"top\">7. 250-500 тыс</th>\n",
       "      <th>F</th>\n",
       "      <td>1374</td>\n",
       "      <td>0.064047</td>\n",
       "    </tr>\n",
       "    <tr>\n",
       "      <th>M</th>\n",
       "      <td>1216</td>\n",
       "      <td>0.075658</td>\n",
       "    </tr>\n",
       "    <tr>\n",
       "      <th rowspan=\"2\" valign=\"top\">8. 500 тыс +</th>\n",
       "      <th>F</th>\n",
       "      <td>90</td>\n",
       "      <td>0.066667</td>\n",
       "    </tr>\n",
       "    <tr>\n",
       "      <th>M</th>\n",
       "      <td>132</td>\n",
       "      <td>0.060606</td>\n",
       "    </tr>\n",
       "  </tbody>\n",
       "</table>\n",
       "</div>"
      ],
      "text/plain": [
       "                       count      mean\n",
       "salary_group   gender                 \n",
       "1. до 30 тыс.  F          16  0.125000\n",
       "               M           6  0.000000\n",
       "2. 30-50 тыс   F         309  0.048544\n",
       "               M          41  0.146341\n",
       "3. 50-75 тыс   F        1220  0.068033\n",
       "               M         273  0.109890\n",
       "4. 75-100 тыс  F        2014  0.075968\n",
       "               M         584  0.111301\n",
       "5. 100-150 тыс F        3977  0.074177\n",
       "               M        1727  0.113492\n",
       "6. 150-250 тыс F        3752  0.067431\n",
       "               M        2619  0.106529\n",
       "7. 250-500 тыс F        1374  0.064047\n",
       "               M        1216  0.075658\n",
       "8. 500 тыс +   F          90  0.066667\n",
       "               M         132  0.060606"
      ]
     },
     "execution_count": 82,
     "metadata": {},
     "output_type": "execute_result"
    }
   ],
   "source": [
    "data.groupby(['salary_group','gender'])['debt'].agg(['count', 'mean'])"
   ]
  },
  {
   "cell_type": "markdown",
   "id": "4c3eaaba",
   "metadata": {},
   "source": [
    "**Наблюдение 8**  \n",
    "У женщины наиболее рисковым является диапазон дохода - 75-150 тыс.руб. Наименее рисковый диапазоны 250-500 тыс.руб.\n",
    "У мужчин наиболее рисковый сегмент  - 75-150 тыс.руб. Наименее рисковый - 250+ тыс.руб."
   ]
  },
  {
   "cell_type": "markdown",
   "id": "de02cebb",
   "metadata": {},
   "source": [
    "### Трудовой стаж"
   ]
  },
  {
   "cell_type": "markdown",
   "id": "93958050",
   "metadata": {},
   "source": [
    "Так как доход это количественная переменная применим функцию и создадим доп.столбец для разделения по аналогии с возрастом. Так как по пенсионерам был выявлен неадекватный стаж отфильтруем их из выборки. Создадим новый столбец, в котором будем указывать стаж в годах."
   ]
  },
  {
   "cell_type": "code",
   "execution_count": 83,
   "id": "113b2187",
   "metadata": {},
   "outputs": [],
   "source": [
    "data['years_emp'] = data['true_days'] / 365"
   ]
  },
  {
   "cell_type": "code",
   "execution_count": 84,
   "id": "e41e7ac3",
   "metadata": {},
   "outputs": [],
   "source": [
    "def categorize_emp(years):\n",
    "    if years > 0 and years < 2:\n",
    "        return '1. до 2ух лет.'\n",
    "    elif years >= 2 and years < 5:\n",
    "        return '2. 2 - 5 лет'\n",
    "    elif years >= 5 and years <10:\n",
    "        return '3. 5-10 лет'\n",
    "    elif years >= 10 and years <15:\n",
    "        return '4. 10-15 лет'\n",
    "    elif years >= 15 and years <25:\n",
    "        return '5. 15-25 лет'\n",
    "    elif years >= 25 and years <35:\n",
    "        return '6. 25-35 лет'\n",
    "    elif years >= 35 and years <45:\n",
    "        return '7. 35-45 лет'\n",
    "    elif years >= 45 and years <55:\n",
    "        return '8. 45-55 лет'\n",
    "    elif years >= 55:\n",
    "        return '9. 55+'\n",
    "data['years_emp_group'] = data['years_emp'].apply(categorize_emp)"
   ]
  },
  {
   "cell_type": "code",
   "execution_count": 85,
   "id": "250041eb",
   "metadata": {},
   "outputs": [
    {
     "data": {
      "text/html": [
       "<div>\n",
       "<style scoped>\n",
       "    .dataframe tbody tr th:only-of-type {\n",
       "        vertical-align: middle;\n",
       "    }\n",
       "\n",
       "    .dataframe tbody tr th {\n",
       "        vertical-align: top;\n",
       "    }\n",
       "\n",
       "    .dataframe thead th {\n",
       "        text-align: right;\n",
       "    }\n",
       "</style>\n",
       "<table border=\"1\" class=\"dataframe\">\n",
       "  <thead>\n",
       "    <tr style=\"text-align: right;\">\n",
       "      <th></th>\n",
       "      <th>count</th>\n",
       "      <th>mean</th>\n",
       "    </tr>\n",
       "    <tr>\n",
       "      <th>years_emp_group</th>\n",
       "      <th></th>\n",
       "      <th></th>\n",
       "    </tr>\n",
       "  </thead>\n",
       "  <tbody>\n",
       "    <tr>\n",
       "      <th>1. до 2ух лет.</th>\n",
       "      <td>3850</td>\n",
       "      <td>0.111948</td>\n",
       "    </tr>\n",
       "    <tr>\n",
       "      <th>2. 2 - 5 лет</th>\n",
       "      <td>4788</td>\n",
       "      <td>0.093776</td>\n",
       "    </tr>\n",
       "    <tr>\n",
       "      <th>3. 5-10 лет</th>\n",
       "      <td>4118</td>\n",
       "      <td>0.084264</td>\n",
       "    </tr>\n",
       "    <tr>\n",
       "      <th>4. 10-15 лет</th>\n",
       "      <td>1714</td>\n",
       "      <td>0.060093</td>\n",
       "    </tr>\n",
       "    <tr>\n",
       "      <th>5. 15-25 лет</th>\n",
       "      <td>1055</td>\n",
       "      <td>0.044550</td>\n",
       "    </tr>\n",
       "    <tr>\n",
       "      <th>6. 25-35 лет</th>\n",
       "      <td>1653</td>\n",
       "      <td>0.052027</td>\n",
       "    </tr>\n",
       "    <tr>\n",
       "      <th>7. 35-45 лет</th>\n",
       "      <td>1816</td>\n",
       "      <td>0.051211</td>\n",
       "    </tr>\n",
       "    <tr>\n",
       "      <th>8. 45-55 лет</th>\n",
       "      <td>748</td>\n",
       "      <td>0.065508</td>\n",
       "    </tr>\n",
       "    <tr>\n",
       "      <th>9. 55+</th>\n",
       "      <td>2</td>\n",
       "      <td>0.500000</td>\n",
       "    </tr>\n",
       "  </tbody>\n",
       "</table>\n",
       "</div>"
      ],
      "text/plain": [
       "                 count      mean\n",
       "years_emp_group                 \n",
       "1. до 2ух лет.    3850  0.111948\n",
       "2. 2 - 5 лет      4788  0.093776\n",
       "3. 5-10 лет       4118  0.084264\n",
       "4. 10-15 лет      1714  0.060093\n",
       "5. 15-25 лет      1055  0.044550\n",
       "6. 25-35 лет      1653  0.052027\n",
       "7. 35-45 лет      1816  0.051211\n",
       "8. 45-55 лет       748  0.065508\n",
       "9. 55+               2  0.500000"
      ]
     },
     "execution_count": 85,
     "metadata": {},
     "output_type": "execute_result"
    }
   ],
   "source": [
    "data.groupby('years_emp_group')['debt'].agg(['count', 'mean'])"
   ]
  },
  {
   "cell_type": "code",
   "execution_count": 86,
   "id": "03f2e6e4",
   "metadata": {},
   "outputs": [
    {
     "data": {
      "text/html": [
       "<div>\n",
       "<style scoped>\n",
       "    .dataframe tbody tr th:only-of-type {\n",
       "        vertical-align: middle;\n",
       "    }\n",
       "\n",
       "    .dataframe tbody tr th {\n",
       "        vertical-align: top;\n",
       "    }\n",
       "\n",
       "    .dataframe thead th {\n",
       "        text-align: right;\n",
       "    }\n",
       "</style>\n",
       "<table border=\"1\" class=\"dataframe\">\n",
       "  <thead>\n",
       "    <tr style=\"text-align: right;\">\n",
       "      <th></th>\n",
       "      <th></th>\n",
       "      <th>count</th>\n",
       "      <th>mean</th>\n",
       "    </tr>\n",
       "    <tr>\n",
       "      <th>years_emp_group</th>\n",
       "      <th>gender</th>\n",
       "      <th></th>\n",
       "      <th></th>\n",
       "    </tr>\n",
       "  </thead>\n",
       "  <tbody>\n",
       "    <tr>\n",
       "      <th rowspan=\"2\" valign=\"top\">1. до 2ух лет.</th>\n",
       "      <th>F</th>\n",
       "      <td>2270</td>\n",
       "      <td>0.099559</td>\n",
       "    </tr>\n",
       "    <tr>\n",
       "      <th>M</th>\n",
       "      <td>1580</td>\n",
       "      <td>0.129747</td>\n",
       "    </tr>\n",
       "    <tr>\n",
       "      <th rowspan=\"2\" valign=\"top\">2. 2 - 5 лет</th>\n",
       "      <th>F</th>\n",
       "      <td>2867</td>\n",
       "      <td>0.075689</td>\n",
       "    </tr>\n",
       "    <tr>\n",
       "      <th>M</th>\n",
       "      <td>1921</td>\n",
       "      <td>0.120770</td>\n",
       "    </tr>\n",
       "    <tr>\n",
       "      <th rowspan=\"2\" valign=\"top\">3. 5-10 лет</th>\n",
       "      <th>F</th>\n",
       "      <td>2619</td>\n",
       "      <td>0.081329</td>\n",
       "    </tr>\n",
       "    <tr>\n",
       "      <th>M</th>\n",
       "      <td>1499</td>\n",
       "      <td>0.089393</td>\n",
       "    </tr>\n",
       "    <tr>\n",
       "      <th rowspan=\"2\" valign=\"top\">4. 10-15 лет</th>\n",
       "      <th>F</th>\n",
       "      <td>1131</td>\n",
       "      <td>0.054819</td>\n",
       "    </tr>\n",
       "    <tr>\n",
       "      <th>M</th>\n",
       "      <td>583</td>\n",
       "      <td>0.070326</td>\n",
       "    </tr>\n",
       "    <tr>\n",
       "      <th rowspan=\"2\" valign=\"top\">5. 15-25 лет</th>\n",
       "      <th>F</th>\n",
       "      <td>745</td>\n",
       "      <td>0.037584</td>\n",
       "    </tr>\n",
       "    <tr>\n",
       "      <th>M</th>\n",
       "      <td>310</td>\n",
       "      <td>0.061290</td>\n",
       "    </tr>\n",
       "    <tr>\n",
       "      <th rowspan=\"2\" valign=\"top\">6. 25-35 лет</th>\n",
       "      <th>F</th>\n",
       "      <td>1351</td>\n",
       "      <td>0.048113</td>\n",
       "    </tr>\n",
       "    <tr>\n",
       "      <th>M</th>\n",
       "      <td>302</td>\n",
       "      <td>0.069536</td>\n",
       "    </tr>\n",
       "    <tr>\n",
       "      <th rowspan=\"2\" valign=\"top\">7. 35-45 лет</th>\n",
       "      <th>F</th>\n",
       "      <td>1473</td>\n",
       "      <td>0.048880</td>\n",
       "    </tr>\n",
       "    <tr>\n",
       "      <th>M</th>\n",
       "      <td>343</td>\n",
       "      <td>0.061224</td>\n",
       "    </tr>\n",
       "    <tr>\n",
       "      <th rowspan=\"2\" valign=\"top\">8. 45-55 лет</th>\n",
       "      <th>F</th>\n",
       "      <td>629</td>\n",
       "      <td>0.062003</td>\n",
       "    </tr>\n",
       "    <tr>\n",
       "      <th>M</th>\n",
       "      <td>119</td>\n",
       "      <td>0.084034</td>\n",
       "    </tr>\n",
       "    <tr>\n",
       "      <th rowspan=\"2\" valign=\"top\">9. 55+</th>\n",
       "      <th>F</th>\n",
       "      <td>1</td>\n",
       "      <td>0.000000</td>\n",
       "    </tr>\n",
       "    <tr>\n",
       "      <th>M</th>\n",
       "      <td>1</td>\n",
       "      <td>1.000000</td>\n",
       "    </tr>\n",
       "  </tbody>\n",
       "</table>\n",
       "</div>"
      ],
      "text/plain": [
       "                        count      mean\n",
       "years_emp_group gender                 \n",
       "1. до 2ух лет.  F        2270  0.099559\n",
       "                M        1580  0.129747\n",
       "2. 2 - 5 лет    F        2867  0.075689\n",
       "                M        1921  0.120770\n",
       "3. 5-10 лет     F        2619  0.081329\n",
       "                M        1499  0.089393\n",
       "4. 10-15 лет    F        1131  0.054819\n",
       "                M         583  0.070326\n",
       "5. 15-25 лет    F         745  0.037584\n",
       "                M         310  0.061290\n",
       "6. 25-35 лет    F        1351  0.048113\n",
       "                M         302  0.069536\n",
       "7. 35-45 лет    F        1473  0.048880\n",
       "                M         343  0.061224\n",
       "8. 45-55 лет    F         629  0.062003\n",
       "                M         119  0.084034\n",
       "9. 55+          F           1  0.000000\n",
       "                M           1  1.000000"
      ]
     },
     "execution_count": 86,
     "metadata": {},
     "output_type": "execute_result"
    }
   ],
   "source": [
    "data.groupby(['years_emp_group','gender'])['debt'].agg(['count', 'mean'])"
   ]
  },
  {
   "cell_type": "markdown",
   "id": "ae490116",
   "metadata": {},
   "source": [
    "**Наблюдение 9**  \n",
    "Выявлена тендеция - чем выше стаж, тем меньше вероятность просрочки. Рассмотрим этот же показатель в по сегменту пола заемщика."
   ]
  },
  {
   "cell_type": "code",
   "execution_count": 87,
   "id": "476f9df7",
   "metadata": {},
   "outputs": [
    {
     "name": "stdout",
     "output_type": "stream",
     "text": [
      "Количество строк в датасете 21461\n"
     ]
    }
   ],
   "source": [
    "print(f'Количество строк в датасете {len(data)}')"
   ]
  },
  {
   "cell_type": "markdown",
   "id": "192d6fa2",
   "metadata": {},
   "source": [
    "### Клиентский профиль"
   ]
  },
  {
   "cell_type": "markdown",
   "id": "af8dd489",
   "metadata": {},
   "source": [
    "**По результатам EDA** разделим клиентский портфель банка на **2 сегмента:** \n",
    "1. Целевой\n",
    "2. Рисковый  \n",
    "\n",
    "В целевом перечислим **наименее** рисковые подсегменты клиентов. Те клиенты, риск ухода просрочки по которым минимален(по сравнению с средним показателем по портфелю).  \n",
    "В рисковом укажем подсегменты клиентов, которые **более** склонны к уходу в просрочку."
   ]
  },
  {
   "cell_type": "markdown",
   "id": "fb15935f",
   "metadata": {},
   "source": [
    "✅**Целевой сегмент**✅\n",
    "\n",
    "**Пол:** Женский - 7%(доля просрочки среди заёмщиков)  \n",
    "**Возраст(лет):** 42-48 - 7,8%, 48-54 - 6,7%, 54-60 - 6,2%, 60+ - 4,9%  \n",
    "**Образование:** высшее - 5,2%  \n",
    "**Дети(шт):** нет детей - 7,5%  \n",
    "**Семейное положение:** женат/замужем - 7,5%  \n",
    "**Цель кредита:** недвижимость - 7,2%, свадьба - 7,9%  \n",
    "**Тип занятости:**  пенсонер - 5,6%, госслужащий - 5,9%  \n",
    "**Доход(руб):** 250-500 тыс. - 6,9%, 50-75 тыс. - 7,5%  \n",
    "**Стаж(лет):**  10-15 - 6%, 15-25 - 4,4%  "
   ]
  },
  {
   "cell_type": "markdown",
   "id": "0c8dd38d",
   "metadata": {},
   "source": [
    "❗️❗️**Рисковый сегмент**❗️❗️\n",
    "\n",
    "**Пол:** Мужской - 10,2%(доля просрочки среди заёмщиков)  \n",
    "**Возраст(лет):** 24-30 - 11,1%, 30-36 - 10,3%, 36-42 - 8,6%   \n",
    "**Образование:** среднее - 5,2%  \n",
    "**Дети(шт):** нет детей - 8,9%. *Отдельной группой(из за малой выборки) высокого риска - начальное и неоконченное высшее*    \n",
    "**Семейное положение:** не женат/не замужем - 9,7%, гражданский брак - 9,3%  \n",
    "**Цель кредита:** автомобиль - 9,3%, образование - 9,2%   \n",
    "**Тип занятости:**  сотрудник - 9,6%  \n",
    "**Доход(руб):** 75-100 тыс. - 8,4%, 100-150 тыс. - 8,6%, 150-250 тыс. - 8,3%    \n",
    "**Стаж(лет):**  до двух лет - 11,1%, 2-5 лет - 9,4%, 5-10 лет - 8,4%    "
   ]
  },
  {
   "cell_type": "markdown",
   "id": "30ea0757",
   "metadata": {},
   "source": [
    "⚠️**Особенности**⚠️  \n",
    "**Пол**: две трети датасета - женщины  \n",
    "**Возраст**: женщины однородно распределены по всем возрастным подсегментам. А вот у мужчин наблюдается непропорциональный дефицит представителей 45+  \n",
    "**Дети**: в рамках исследования можно сделать четкий вывод только по заемщикам с 1 и 2 детьми. Заемщиков с детьми больше двух в датасете незначительное количество  \n",
    "**Семейное положение**: наличие узаконенных отношений оказывает минимальное влияние на женщин-заемщиков. В любом из случаев доля просрочки в данном сегменте не более 6,9%. У мужчин ситуация обратная: 8,7% у женатых и более 14% у не женатых. Отдельно следует отметить, что количество вдов в датасете почти в 20 раз превышает количество вдовцев и не коррелирует с общими данными датасета. При этом именно по вдовам доле просрочки на минимальном уровне  \n",
    "**Цель кредита**: кредит на свадьбы мы внесли в малорисковый сегмент в первую очередь за счёт женщин. А вот кредит на свадьбу для мужчин, как и кредит на образование это высокорисковый долг  \n",
    "**Тип занятости**: непропорционально(относительно всего датасета) выглядит распределение по госслужащим (женщин больше в 3 раза), по пенсионерам (женщин больше в 4 раза)  \n",
    "**Доход**: не удалось выявить зависимости \"чем больше доход, тем меньше вероятность просрочки\". В первую очередь вклда в это внесли мужчины, у которых в объединенном сегменте от 50 до 250 доля просрочки стабильно превышает 10%.  Максимальным значением у женщин является доля - 7,4%"
   ]
  },
  {
   "cell_type": "markdown",
   "id": "424b2420",
   "metadata": {},
   "source": [
    "## Машинное обучение"
   ]
  },
  {
   "cell_type": "markdown",
   "id": "c3ce8f38",
   "metadata": {},
   "source": [
    "**Пропуски**"
   ]
  },
  {
   "cell_type": "code",
   "execution_count": 88,
   "id": "9f23778b",
   "metadata": {},
   "outputs": [
    {
     "data": {
      "text/html": [
       "<style  type=\"text/css\" >\n",
       "#T_2e460_row0_col0,#T_2e460_row2_col0,#T_2e460_row3_col0,#T_2e460_row4_col0,#T_2e460_row5_col0,#T_2e460_row6_col0,#T_2e460_row7_col0,#T_2e460_row8_col0,#T_2e460_row9_col0,#T_2e460_row11_col0,#T_2e460_row12_col0,#T_2e460_row14_col0{\n",
       "            background-color:  #3b4cc0;\n",
       "            color:  #f1f1f1;\n",
       "        }#T_2e460_row1_col0,#T_2e460_row10_col0,#T_2e460_row15_col0{\n",
       "            background-color:  #b40426;\n",
       "            color:  #f1f1f1;\n",
       "        }#T_2e460_row13_col0,#T_2e460_row16_col0,#T_2e460_row17_col0{\n",
       "            background-color:  #eb7d62;\n",
       "            color:  #000000;\n",
       "        }</style><table id=\"T_2e460_\" ><thead>    <tr>        <th class=\"blank level0\" ></th>        <th class=\"col_heading level0 col0\" >0</th>    </tr></thead><tbody>\n",
       "                <tr>\n",
       "                        <th id=\"T_2e460_level0_row0\" class=\"row_heading level0 row0\" >children</th>\n",
       "                        <td id=\"T_2e460_row0_col0\" class=\"data row0 col0\" >0.000000</td>\n",
       "            </tr>\n",
       "            <tr>\n",
       "                        <th id=\"T_2e460_level0_row1\" class=\"row_heading level0 row1\" >days_employed</th>\n",
       "                        <td id=\"T_2e460_row1_col0\" class=\"data row1 col0\" >9.800000</td>\n",
       "            </tr>\n",
       "            <tr>\n",
       "                        <th id=\"T_2e460_level0_row2\" class=\"row_heading level0 row2\" >dob_years</th>\n",
       "                        <td id=\"T_2e460_row2_col0\" class=\"data row2 col0\" >0.000000</td>\n",
       "            </tr>\n",
       "            <tr>\n",
       "                        <th id=\"T_2e460_level0_row3\" class=\"row_heading level0 row3\" >education</th>\n",
       "                        <td id=\"T_2e460_row3_col0\" class=\"data row3 col0\" >0.000000</td>\n",
       "            </tr>\n",
       "            <tr>\n",
       "                        <th id=\"T_2e460_level0_row4\" class=\"row_heading level0 row4\" >education_id</th>\n",
       "                        <td id=\"T_2e460_row4_col0\" class=\"data row4 col0\" >0.000000</td>\n",
       "            </tr>\n",
       "            <tr>\n",
       "                        <th id=\"T_2e460_level0_row5\" class=\"row_heading level0 row5\" >family_status</th>\n",
       "                        <td id=\"T_2e460_row5_col0\" class=\"data row5 col0\" >0.000000</td>\n",
       "            </tr>\n",
       "            <tr>\n",
       "                        <th id=\"T_2e460_level0_row6\" class=\"row_heading level0 row6\" >family_status_id</th>\n",
       "                        <td id=\"T_2e460_row6_col0\" class=\"data row6 col0\" >0.000000</td>\n",
       "            </tr>\n",
       "            <tr>\n",
       "                        <th id=\"T_2e460_level0_row7\" class=\"row_heading level0 row7\" >gender</th>\n",
       "                        <td id=\"T_2e460_row7_col0\" class=\"data row7 col0\" >0.000000</td>\n",
       "            </tr>\n",
       "            <tr>\n",
       "                        <th id=\"T_2e460_level0_row8\" class=\"row_heading level0 row8\" >income_type</th>\n",
       "                        <td id=\"T_2e460_row8_col0\" class=\"data row8 col0\" >0.000000</td>\n",
       "            </tr>\n",
       "            <tr>\n",
       "                        <th id=\"T_2e460_level0_row9\" class=\"row_heading level0 row9\" >debt</th>\n",
       "                        <td id=\"T_2e460_row9_col0\" class=\"data row9 col0\" >0.000000</td>\n",
       "            </tr>\n",
       "            <tr>\n",
       "                        <th id=\"T_2e460_level0_row10\" class=\"row_heading level0 row10\" >total_income</th>\n",
       "                        <td id=\"T_2e460_row10_col0\" class=\"data row10 col0\" >9.800000</td>\n",
       "            </tr>\n",
       "            <tr>\n",
       "                        <th id=\"T_2e460_level0_row11\" class=\"row_heading level0 row11\" >purpose</th>\n",
       "                        <td id=\"T_2e460_row11_col0\" class=\"data row11 col0\" >0.000000</td>\n",
       "            </tr>\n",
       "            <tr>\n",
       "                        <th id=\"T_2e460_level0_row12\" class=\"row_heading level0 row12\" >purpose_category</th>\n",
       "                        <td id=\"T_2e460_row12_col0\" class=\"data row12 col0\" >0.000000</td>\n",
       "            </tr>\n",
       "            <tr>\n",
       "                        <th id=\"T_2e460_level0_row13\" class=\"row_heading level0 row13\" >true_days</th>\n",
       "                        <td id=\"T_2e460_row13_col0\" class=\"data row13 col0\" >8.000000</td>\n",
       "            </tr>\n",
       "            <tr>\n",
       "                        <th id=\"T_2e460_level0_row14\" class=\"row_heading level0 row14\" >age_group</th>\n",
       "                        <td id=\"T_2e460_row14_col0\" class=\"data row14 col0\" >0.000000</td>\n",
       "            </tr>\n",
       "            <tr>\n",
       "                        <th id=\"T_2e460_level0_row15\" class=\"row_heading level0 row15\" >salary_group</th>\n",
       "                        <td id=\"T_2e460_row15_col0\" class=\"data row15 col0\" >9.800000</td>\n",
       "            </tr>\n",
       "            <tr>\n",
       "                        <th id=\"T_2e460_level0_row16\" class=\"row_heading level0 row16\" >years_emp</th>\n",
       "                        <td id=\"T_2e460_row16_col0\" class=\"data row16 col0\" >8.000000</td>\n",
       "            </tr>\n",
       "            <tr>\n",
       "                        <th id=\"T_2e460_level0_row17\" class=\"row_heading level0 row17\" >years_emp_group</th>\n",
       "                        <td id=\"T_2e460_row17_col0\" class=\"data row17 col0\" >8.000000</td>\n",
       "            </tr>\n",
       "    </tbody></table>"
      ],
      "text/plain": [
       "<pandas.io.formats.style.Styler at 0x7f864db657f0>"
      ]
     },
     "execution_count": 88,
     "metadata": {},
     "output_type": "execute_result"
    }
   ],
   "source": [
    "pd.DataFrame(round(data.isna().mean()*100,1)).style.background_gradient('coolwarm')"
   ]
  },
  {
   "cell_type": "code",
   "execution_count": 89,
   "id": "0f63f997",
   "metadata": {},
   "outputs": [
    {
     "data": {
      "text/plain": [
       "21461"
      ]
     },
     "execution_count": 89,
     "metadata": {},
     "output_type": "execute_result"
    }
   ],
   "source": [
    "len(data)"
   ]
  },
  {
   "cell_type": "markdown",
   "id": "e4be1746",
   "metadata": {},
   "source": [
    "Уберем из датасета пропуски."
   ]
  },
  {
   "cell_type": "code",
   "execution_count": 90,
   "id": "68b2c4da",
   "metadata": {},
   "outputs": [],
   "source": [
    "data_ml = data.query('total_income > 0')"
   ]
  },
  {
   "cell_type": "code",
   "execution_count": 91,
   "id": "adc09ef5",
   "metadata": {},
   "outputs": [
    {
     "data": {
      "text/plain": [
       "19350"
      ]
     },
     "execution_count": 91,
     "metadata": {},
     "output_type": "execute_result"
    }
   ],
   "source": [
    "len(data_ml)"
   ]
  },
  {
   "cell_type": "markdown",
   "id": "7c3ce8f0",
   "metadata": {},
   "source": [
    "Датасет похудел на 10%. Посмотрим сколько было просрочников в строках с пропусками."
   ]
  },
  {
   "cell_type": "code",
   "execution_count": 92,
   "id": "7f92f69e",
   "metadata": {},
   "outputs": [
    {
     "data": {
      "text/plain": [
       "0.08053055423969682"
      ]
     },
     "execution_count": 92,
     "metadata": {},
     "output_type": "execute_result"
    }
   ],
   "source": [
    "data_noml = data.query('total_income.isna()')\n",
    "data_noml['debt'].mean()"
   ]
  },
  {
   "cell_type": "markdown",
   "id": "7e6fe839",
   "metadata": {},
   "source": [
    "Аномалий нет. Показатель чуть ниже среднего по датасету. Исключения пропусков не искажает датасет по целвому признаку."
   ]
  },
  {
   "cell_type": "code",
   "execution_count": 93,
   "id": "f04953ec",
   "metadata": {},
   "outputs": [
    {
     "data": {
      "text/plain": [
       "0.08118863049095608"
      ]
     },
     "execution_count": 93,
     "metadata": {},
     "output_type": "execute_result"
    }
   ],
   "source": [
    "data_ml['debt'].mean()"
   ]
  },
  {
   "cell_type": "markdown",
   "id": "b2fe61c0",
   "metadata": {},
   "source": [
    "Удалим бесполезные столбцы"
   ]
  },
  {
   "cell_type": "code",
   "execution_count": 94,
   "id": "ebeabd3d",
   "metadata": {},
   "outputs": [],
   "source": [
    "data_ml = data_ml.drop(['education_id', 'family_status_id', 'purpose'], axis=1).copy()"
   ]
  },
  {
   "cell_type": "code",
   "execution_count": 95,
   "id": "3d3418d6",
   "metadata": {},
   "outputs": [
    {
     "data": {
      "text/html": [
       "<style  type=\"text/css\" >\n",
       "#T_fb967_row0_col0,#T_fb967_row1_col0,#T_fb967_row2_col0,#T_fb967_row3_col0,#T_fb967_row4_col0,#T_fb967_row5_col0,#T_fb967_row6_col0,#T_fb967_row7_col0,#T_fb967_row8_col0,#T_fb967_row9_col0,#T_fb967_row10_col0,#T_fb967_row11_col0,#T_fb967_row12_col0,#T_fb967_row13_col0,#T_fb967_row14_col0{\n",
       "            background-color:  #3b4cc0;\n",
       "            color:  #f1f1f1;\n",
       "        }</style><table id=\"T_fb967_\" ><thead>    <tr>        <th class=\"blank level0\" ></th>        <th class=\"col_heading level0 col0\" >0</th>    </tr></thead><tbody>\n",
       "                <tr>\n",
       "                        <th id=\"T_fb967_level0_row0\" class=\"row_heading level0 row0\" >children</th>\n",
       "                        <td id=\"T_fb967_row0_col0\" class=\"data row0 col0\" >0.000000</td>\n",
       "            </tr>\n",
       "            <tr>\n",
       "                        <th id=\"T_fb967_level0_row1\" class=\"row_heading level0 row1\" >days_employed</th>\n",
       "                        <td id=\"T_fb967_row1_col0\" class=\"data row1 col0\" >0.000000</td>\n",
       "            </tr>\n",
       "            <tr>\n",
       "                        <th id=\"T_fb967_level0_row2\" class=\"row_heading level0 row2\" >dob_years</th>\n",
       "                        <td id=\"T_fb967_row2_col0\" class=\"data row2 col0\" >0.000000</td>\n",
       "            </tr>\n",
       "            <tr>\n",
       "                        <th id=\"T_fb967_level0_row3\" class=\"row_heading level0 row3\" >education</th>\n",
       "                        <td id=\"T_fb967_row3_col0\" class=\"data row3 col0\" >0.000000</td>\n",
       "            </tr>\n",
       "            <tr>\n",
       "                        <th id=\"T_fb967_level0_row4\" class=\"row_heading level0 row4\" >family_status</th>\n",
       "                        <td id=\"T_fb967_row4_col0\" class=\"data row4 col0\" >0.000000</td>\n",
       "            </tr>\n",
       "            <tr>\n",
       "                        <th id=\"T_fb967_level0_row5\" class=\"row_heading level0 row5\" >gender</th>\n",
       "                        <td id=\"T_fb967_row5_col0\" class=\"data row5 col0\" >0.000000</td>\n",
       "            </tr>\n",
       "            <tr>\n",
       "                        <th id=\"T_fb967_level0_row6\" class=\"row_heading level0 row6\" >income_type</th>\n",
       "                        <td id=\"T_fb967_row6_col0\" class=\"data row6 col0\" >0.000000</td>\n",
       "            </tr>\n",
       "            <tr>\n",
       "                        <th id=\"T_fb967_level0_row7\" class=\"row_heading level0 row7\" >debt</th>\n",
       "                        <td id=\"T_fb967_row7_col0\" class=\"data row7 col0\" >0.000000</td>\n",
       "            </tr>\n",
       "            <tr>\n",
       "                        <th id=\"T_fb967_level0_row8\" class=\"row_heading level0 row8\" >total_income</th>\n",
       "                        <td id=\"T_fb967_row8_col0\" class=\"data row8 col0\" >0.000000</td>\n",
       "            </tr>\n",
       "            <tr>\n",
       "                        <th id=\"T_fb967_level0_row9\" class=\"row_heading level0 row9\" >purpose_category</th>\n",
       "                        <td id=\"T_fb967_row9_col0\" class=\"data row9 col0\" >0.000000</td>\n",
       "            </tr>\n",
       "            <tr>\n",
       "                        <th id=\"T_fb967_level0_row10\" class=\"row_heading level0 row10\" >true_days</th>\n",
       "                        <td id=\"T_fb967_row10_col0\" class=\"data row10 col0\" >0.000000</td>\n",
       "            </tr>\n",
       "            <tr>\n",
       "                        <th id=\"T_fb967_level0_row11\" class=\"row_heading level0 row11\" >age_group</th>\n",
       "                        <td id=\"T_fb967_row11_col0\" class=\"data row11 col0\" >0.000000</td>\n",
       "            </tr>\n",
       "            <tr>\n",
       "                        <th id=\"T_fb967_level0_row12\" class=\"row_heading level0 row12\" >salary_group</th>\n",
       "                        <td id=\"T_fb967_row12_col0\" class=\"data row12 col0\" >0.000000</td>\n",
       "            </tr>\n",
       "            <tr>\n",
       "                        <th id=\"T_fb967_level0_row13\" class=\"row_heading level0 row13\" >years_emp</th>\n",
       "                        <td id=\"T_fb967_row13_col0\" class=\"data row13 col0\" >0.000000</td>\n",
       "            </tr>\n",
       "            <tr>\n",
       "                        <th id=\"T_fb967_level0_row14\" class=\"row_heading level0 row14\" >years_emp_group</th>\n",
       "                        <td id=\"T_fb967_row14_col0\" class=\"data row14 col0\" >0.000000</td>\n",
       "            </tr>\n",
       "    </tbody></table>"
      ],
      "text/plain": [
       "<pandas.io.formats.style.Styler at 0x7f864db60c40>"
      ]
     },
     "execution_count": 95,
     "metadata": {},
     "output_type": "execute_result"
    }
   ],
   "source": [
    "pd.DataFrame(round(data_ml.isna().mean()*100,1)).style.background_gradient('coolwarm')"
   ]
  },
  {
   "cell_type": "markdown",
   "id": "ed83202f",
   "metadata": {},
   "source": [
    "Пропусков нет."
   ]
  },
  {
   "cell_type": "code",
   "execution_count": 96,
   "id": "2f5ea753",
   "metadata": {},
   "outputs": [
    {
     "name": "stdout",
     "output_type": "stream",
     "text": [
      "<class 'pandas.core.frame.DataFrame'>\n",
      "Int64Index: 19350 entries, 0 to 21524\n",
      "Data columns (total 15 columns):\n",
      " #   Column            Non-Null Count  Dtype  \n",
      "---  ------            --------------  -----  \n",
      " 0   children          19350 non-null  int64  \n",
      " 1   days_employed     19350 non-null  float64\n",
      " 2   dob_years         19350 non-null  float64\n",
      " 3   education         19350 non-null  object \n",
      " 4   family_status     19350 non-null  object \n",
      " 5   gender            19350 non-null  object \n",
      " 6   income_type       19350 non-null  object \n",
      " 7   debt              19350 non-null  int64  \n",
      " 8   total_income      19350 non-null  float64\n",
      " 9   purpose_category  19350 non-null  object \n",
      " 10  true_days         19350 non-null  float64\n",
      " 11  age_group         19350 non-null  object \n",
      " 12  salary_group      19350 non-null  object \n",
      " 13  years_emp         19350 non-null  float64\n",
      " 14  years_emp_group   19350 non-null  object \n",
      "dtypes: float64(5), int64(2), object(8)\n",
      "memory usage: 2.4+ MB\n"
     ]
    }
   ],
   "source": [
    "data_ml.info()"
   ]
  },
  {
   "cell_type": "code",
   "execution_count": 97,
   "id": "f63f7838",
   "metadata": {},
   "outputs": [],
   "source": [
    "train, test = train_test_split(data_ml, train_size=0.6, random_state=1589, stratify=data_ml['debt'])\n",
    "val, test = train_test_split(test, train_size=0.5, random_state=1589, stratify=test['debt'])"
   ]
  },
  {
   "cell_type": "code",
   "execution_count": 98,
   "id": "882975a0",
   "metadata": {},
   "outputs": [
    {
     "name": "stdout",
     "output_type": "stream",
     "text": [
      "Доля таргета на обучении 0.08122308354866495\n",
      "Доля таргета на тесте 0.08113695090439277\n",
      "Доля таргета на валидации 0.08113695090439277\n"
     ]
    }
   ],
   "source": [
    "print(f'Доля таргета на обучении {train[\"debt\"].mean()}')\n",
    "print(f'Доля таргета на тесте {test[\"debt\"].mean()}')\n",
    "print(f'Доля таргета на валидации {val[\"debt\"].mean()}')"
   ]
  },
  {
   "cell_type": "code",
   "execution_count": 99,
   "id": "7ec5ed2e",
   "metadata": {},
   "outputs": [
    {
     "name": "stdout",
     "output_type": "stream",
     "text": [
      "Длина выборки на обучении 11610\n",
      "Длина выборки на тесте 3870\n",
      "Длина выборки на валидации 3870\n"
     ]
    }
   ],
   "source": [
    "print(f'Длина выборки на обучении {len(train)}')\n",
    "print(f'Длина выборки на тесте {len(test)}')\n",
    "print(f'Длина выборки на валидации {len(val)}')"
   ]
  },
  {
   "cell_type": "markdown",
   "id": "88706e6f",
   "metadata": {},
   "source": [
    "**Функция подсчета эффективности**"
   ]
  },
  {
   "cell_type": "code",
   "execution_count": 100,
   "id": "f211fb8b",
   "metadata": {},
   "outputs": [],
   "source": [
    "def profit_model(df, score):\n",
    "    print(f'Accuracy: {accuracy_score(df[\"debt\"], df[score])}')\n",
    "    print(f'Recall: {recall_score(df[\"debt\"], df[score])}')\n",
    "    print(f'Precision: {precision_score(df[\"debt\"], df[score])}')\n",
    "    print(f'F1: {f1_score(df[\"debt\"], df[score])}')\n",
    "    print(f'ROC_AUC: {roc_auc_score(df[\"debt\"], df[score])}')\n"
   ]
  },
  {
   "cell_type": "markdown",
   "id": "f69679c8",
   "metadata": {},
   "source": [
    "**Человеческое обучение**"
   ]
  },
  {
   "cell_type": "markdown",
   "id": "2fef135a",
   "metadata": {},
   "source": [
    "Объединим тренировочную и валидационную выборки."
   ]
  },
  {
   "cell_type": "code",
   "execution_count": 101,
   "id": "f11e2277",
   "metadata": {},
   "outputs": [],
   "source": [
    "train_full = pd.concat([train, val])"
   ]
  },
  {
   "cell_type": "markdown",
   "id": "c432ee56",
   "metadata": {},
   "source": [
    "Сделаем прогноз по возрасту и запишем его как модель."
   ]
  },
  {
   "cell_type": "code",
   "execution_count": 102,
   "id": "35058fca",
   "metadata": {},
   "outputs": [],
   "source": [
    "model = train_full.groupby('age_group')['debt'].mean().reset_index()"
   ]
  },
  {
   "cell_type": "code",
   "execution_count": 103,
   "id": "b33f4954",
   "metadata": {},
   "outputs": [
    {
     "data": {
      "text/html": [
       "<div>\n",
       "<style scoped>\n",
       "    .dataframe tbody tr th:only-of-type {\n",
       "        vertical-align: middle;\n",
       "    }\n",
       "\n",
       "    .dataframe tbody tr th {\n",
       "        vertical-align: top;\n",
       "    }\n",
       "\n",
       "    .dataframe thead th {\n",
       "        text-align: right;\n",
       "    }\n",
       "</style>\n",
       "<table border=\"1\" class=\"dataframe\">\n",
       "  <thead>\n",
       "    <tr style=\"text-align: right;\">\n",
       "      <th></th>\n",
       "      <th>age_group</th>\n",
       "      <th>human_score</th>\n",
       "    </tr>\n",
       "  </thead>\n",
       "  <tbody>\n",
       "    <tr>\n",
       "      <th>0</th>\n",
       "      <td>1. 18-24</td>\n",
       "      <td>0.102804</td>\n",
       "    </tr>\n",
       "    <tr>\n",
       "      <th>1</th>\n",
       "      <td>2. 24-30</td>\n",
       "      <td>0.109477</td>\n",
       "    </tr>\n",
       "    <tr>\n",
       "      <th>2</th>\n",
       "      <td>3. 30-36</td>\n",
       "      <td>0.106374</td>\n",
       "    </tr>\n",
       "    <tr>\n",
       "      <th>3</th>\n",
       "      <td>4. 36-42</td>\n",
       "      <td>0.091160</td>\n",
       "    </tr>\n",
       "    <tr>\n",
       "      <th>4</th>\n",
       "      <td>5. 42-48</td>\n",
       "      <td>0.078622</td>\n",
       "    </tr>\n",
       "    <tr>\n",
       "      <th>5</th>\n",
       "      <td>6. 48-54</td>\n",
       "      <td>0.065628</td>\n",
       "    </tr>\n",
       "    <tr>\n",
       "      <th>6</th>\n",
       "      <td>7. 54 - 60</td>\n",
       "      <td>0.055360</td>\n",
       "    </tr>\n",
       "    <tr>\n",
       "      <th>7</th>\n",
       "      <td>8. 60+</td>\n",
       "      <td>0.049730</td>\n",
       "    </tr>\n",
       "  </tbody>\n",
       "</table>\n",
       "</div>"
      ],
      "text/plain": [
       "    age_group  human_score\n",
       "0    1. 18-24     0.102804\n",
       "1    2. 24-30     0.109477\n",
       "2    3. 30-36     0.106374\n",
       "3    4. 36-42     0.091160\n",
       "4    5. 42-48     0.078622\n",
       "5    6. 48-54     0.065628\n",
       "6  7. 54 - 60     0.055360\n",
       "7      8. 60+     0.049730"
      ]
     },
     "execution_count": 103,
     "metadata": {},
     "output_type": "execute_result"
    }
   ],
   "source": [
    "model = model.rename(columns={'debt': 'human_score'})\n",
    "model"
   ]
  },
  {
   "cell_type": "code",
   "execution_count": 104,
   "id": "4572f65d",
   "metadata": {},
   "outputs": [],
   "source": [
    "train_full = train_full.merge(model, how='left', on='age_group')"
   ]
  },
  {
   "cell_type": "code",
   "execution_count": 105,
   "id": "cb352a33",
   "metadata": {},
   "outputs": [],
   "source": [
    "test = test.merge(model, how='left', on='age_group')"
   ]
  },
  {
   "cell_type": "code",
   "execution_count": 106,
   "id": "9bfa7bcc",
   "metadata": {},
   "outputs": [
    {
     "data": {
      "text/html": [
       "<div>\n",
       "<style scoped>\n",
       "    .dataframe tbody tr th:only-of-type {\n",
       "        vertical-align: middle;\n",
       "    }\n",
       "\n",
       "    .dataframe tbody tr th {\n",
       "        vertical-align: top;\n",
       "    }\n",
       "\n",
       "    .dataframe thead th {\n",
       "        text-align: right;\n",
       "    }\n",
       "</style>\n",
       "<table border=\"1\" class=\"dataframe\">\n",
       "  <thead>\n",
       "    <tr style=\"text-align: right;\">\n",
       "      <th></th>\n",
       "      <th>children</th>\n",
       "      <th>days_employed</th>\n",
       "      <th>dob_years</th>\n",
       "      <th>education</th>\n",
       "      <th>family_status</th>\n",
       "      <th>gender</th>\n",
       "      <th>income_type</th>\n",
       "      <th>debt</th>\n",
       "      <th>total_income</th>\n",
       "      <th>purpose_category</th>\n",
       "      <th>true_days</th>\n",
       "      <th>age_group</th>\n",
       "      <th>salary_group</th>\n",
       "      <th>years_emp</th>\n",
       "      <th>years_emp_group</th>\n",
       "      <th>human_score</th>\n",
       "    </tr>\n",
       "  </thead>\n",
       "  <tbody>\n",
       "    <tr>\n",
       "      <th>0</th>\n",
       "      <td>0</td>\n",
       "      <td>629.048598</td>\n",
       "      <td>43.0</td>\n",
       "      <td>среднее</td>\n",
       "      <td>не женат / не замужем</td>\n",
       "      <td>M</td>\n",
       "      <td>сотрудник</td>\n",
       "      <td>1</td>\n",
       "      <td>92312.510708</td>\n",
       "      <td>образование</td>\n",
       "      <td>629.048598</td>\n",
       "      <td>5. 42-48</td>\n",
       "      <td>4. 75-100 тыс</td>\n",
       "      <td>1.723421</td>\n",
       "      <td>1. до 2ух лет.</td>\n",
       "      <td>0.078622</td>\n",
       "    </tr>\n",
       "    <tr>\n",
       "      <th>1</th>\n",
       "      <td>0</td>\n",
       "      <td>1685.343962</td>\n",
       "      <td>45.0</td>\n",
       "      <td>среднее</td>\n",
       "      <td>женат / замужем</td>\n",
       "      <td>F</td>\n",
       "      <td>сотрудник</td>\n",
       "      <td>0</td>\n",
       "      <td>86794.808675</td>\n",
       "      <td>недвижимость</td>\n",
       "      <td>1685.343962</td>\n",
       "      <td>5. 42-48</td>\n",
       "      <td>4. 75-100 тыс</td>\n",
       "      <td>4.617381</td>\n",
       "      <td>2. 2 - 5 лет</td>\n",
       "      <td>0.078622</td>\n",
       "    </tr>\n",
       "    <tr>\n",
       "      <th>2</th>\n",
       "      <td>3</td>\n",
       "      <td>336041.671089</td>\n",
       "      <td>51.0</td>\n",
       "      <td>среднее</td>\n",
       "      <td>женат / замужем</td>\n",
       "      <td>M</td>\n",
       "      <td>пенсионер</td>\n",
       "      <td>0</td>\n",
       "      <td>185694.053263</td>\n",
       "      <td>автомобиль</td>\n",
       "      <td>12823.000000</td>\n",
       "      <td>6. 48-54</td>\n",
       "      <td>6. 150-250 тыс</td>\n",
       "      <td>35.131507</td>\n",
       "      <td>7. 35-45 лет</td>\n",
       "      <td>0.065628</td>\n",
       "    </tr>\n",
       "    <tr>\n",
       "      <th>3</th>\n",
       "      <td>1</td>\n",
       "      <td>2897.490379</td>\n",
       "      <td>33.0</td>\n",
       "      <td>среднее</td>\n",
       "      <td>гражданский брак</td>\n",
       "      <td>F</td>\n",
       "      <td>сотрудник</td>\n",
       "      <td>0</td>\n",
       "      <td>121762.798344</td>\n",
       "      <td>свадьба</td>\n",
       "      <td>2897.490379</td>\n",
       "      <td>3. 30-36</td>\n",
       "      <td>5. 100-150 тыс</td>\n",
       "      <td>7.938330</td>\n",
       "      <td>3. 5-10 лет</td>\n",
       "      <td>0.106374</td>\n",
       "    </tr>\n",
       "    <tr>\n",
       "      <th>4</th>\n",
       "      <td>0</td>\n",
       "      <td>3996.533881</td>\n",
       "      <td>52.0</td>\n",
       "      <td>среднее</td>\n",
       "      <td>женат / замужем</td>\n",
       "      <td>F</td>\n",
       "      <td>сотрудник</td>\n",
       "      <td>0</td>\n",
       "      <td>104469.118545</td>\n",
       "      <td>недвижимость</td>\n",
       "      <td>3996.533881</td>\n",
       "      <td>6. 48-54</td>\n",
       "      <td>5. 100-150 тыс</td>\n",
       "      <td>10.949408</td>\n",
       "      <td>4. 10-15 лет</td>\n",
       "      <td>0.065628</td>\n",
       "    </tr>\n",
       "    <tr>\n",
       "      <th>5</th>\n",
       "      <td>2</td>\n",
       "      <td>2430.345577</td>\n",
       "      <td>34.0</td>\n",
       "      <td>среднее</td>\n",
       "      <td>женат / замужем</td>\n",
       "      <td>F</td>\n",
       "      <td>сотрудник</td>\n",
       "      <td>0</td>\n",
       "      <td>85995.912852</td>\n",
       "      <td>недвижимость</td>\n",
       "      <td>2430.345577</td>\n",
       "      <td>3. 30-36</td>\n",
       "      <td>4. 75-100 тыс</td>\n",
       "      <td>6.658481</td>\n",
       "      <td>3. 5-10 лет</td>\n",
       "      <td>0.106374</td>\n",
       "    </tr>\n",
       "    <tr>\n",
       "      <th>6</th>\n",
       "      <td>0</td>\n",
       "      <td>6220.125291</td>\n",
       "      <td>55.0</td>\n",
       "      <td>среднее</td>\n",
       "      <td>гражданский брак</td>\n",
       "      <td>F</td>\n",
       "      <td>сотрудник</td>\n",
       "      <td>0</td>\n",
       "      <td>123776.650111</td>\n",
       "      <td>свадьба</td>\n",
       "      <td>6220.125291</td>\n",
       "      <td>7. 54 - 60</td>\n",
       "      <td>5. 100-150 тыс</td>\n",
       "      <td>17.041439</td>\n",
       "      <td>5. 15-25 лет</td>\n",
       "      <td>0.055360</td>\n",
       "    </tr>\n",
       "  </tbody>\n",
       "</table>\n",
       "</div>"
      ],
      "text/plain": [
       "   children  days_employed  dob_years education          family_status gender  \\\n",
       "0         0     629.048598       43.0   среднее  не женат / не замужем      M   \n",
       "1         0    1685.343962       45.0   среднее        женат / замужем      F   \n",
       "2         3  336041.671089       51.0   среднее        женат / замужем      M   \n",
       "3         1    2897.490379       33.0   среднее       гражданский брак      F   \n",
       "4         0    3996.533881       52.0   среднее        женат / замужем      F   \n",
       "5         2    2430.345577       34.0   среднее        женат / замужем      F   \n",
       "6         0    6220.125291       55.0   среднее       гражданский брак      F   \n",
       "\n",
       "  income_type  debt   total_income purpose_category     true_days   age_group  \\\n",
       "0   сотрудник     1   92312.510708      образование    629.048598    5. 42-48   \n",
       "1   сотрудник     0   86794.808675     недвижимость   1685.343962    5. 42-48   \n",
       "2   пенсионер     0  185694.053263       автомобиль  12823.000000    6. 48-54   \n",
       "3   сотрудник     0  121762.798344          свадьба   2897.490379    3. 30-36   \n",
       "4   сотрудник     0  104469.118545     недвижимость   3996.533881    6. 48-54   \n",
       "5   сотрудник     0   85995.912852     недвижимость   2430.345577    3. 30-36   \n",
       "6   сотрудник     0  123776.650111          свадьба   6220.125291  7. 54 - 60   \n",
       "\n",
       "     salary_group  years_emp years_emp_group  human_score  \n",
       "0   4. 75-100 тыс   1.723421  1. до 2ух лет.     0.078622  \n",
       "1   4. 75-100 тыс   4.617381    2. 2 - 5 лет     0.078622  \n",
       "2  6. 150-250 тыс  35.131507    7. 35-45 лет     0.065628  \n",
       "3  5. 100-150 тыс   7.938330     3. 5-10 лет     0.106374  \n",
       "4  5. 100-150 тыс  10.949408    4. 10-15 лет     0.065628  \n",
       "5   4. 75-100 тыс   6.658481     3. 5-10 лет     0.106374  \n",
       "6  5. 100-150 тыс  17.041439    5. 15-25 лет     0.055360  "
      ]
     },
     "execution_count": 106,
     "metadata": {},
     "output_type": "execute_result"
    }
   ],
   "source": [
    "test.head(7)"
   ]
  },
  {
   "cell_type": "code",
   "execution_count": 107,
   "id": "7f93fb83",
   "metadata": {},
   "outputs": [],
   "source": [
    "test['scorage'] = (test['human_score'] > 0.109006) * 1"
   ]
  },
  {
   "cell_type": "code",
   "execution_count": 108,
   "id": "8a7a3d9e",
   "metadata": {},
   "outputs": [
    {
     "name": "stdout",
     "output_type": "stream",
     "text": [
      "              precision    recall  f1-score   support\n",
      "\n",
      "           0       0.92      0.87      0.90      3556\n",
      "           1       0.12      0.19      0.15       314\n",
      "\n",
      "    accuracy                           0.82      3870\n",
      "   macro avg       0.52      0.53      0.52      3870\n",
      "weighted avg       0.86      0.82      0.84      3870\n",
      "\n"
     ]
    }
   ],
   "source": [
    "print(classification_report(test['debt'],test['scorage']))"
   ]
  },
  {
   "cell_type": "code",
   "execution_count": 109,
   "id": "9937277b",
   "metadata": {},
   "outputs": [
    {
     "name": "stdout",
     "output_type": "stream",
     "text": [
      "Accuracy: 0.8178294573643411\n",
      "Recall: 0.1910828025477707\n",
      "Precision: 0.11741682974559686\n",
      "F1: 0.14545454545454545\n",
      "ROC_AUC: 0.5321274530174174\n"
     ]
    }
   ],
   "source": [
    "print(f'Accuracy: {accuracy_score(test[\"debt\"],test[\"scorage\"])}')\n",
    "print(f'Recall: {recall_score(test[\"debt\"],test[\"scorage\"])}')\n",
    "print(f'Precision: {precision_score(test[\"debt\"],test[\"scorage\"])}')\n",
    "print(f'F1: {f1_score(test[\"debt\"],test[\"scorage\"])}')\n",
    "print(f'ROC_AUC: {roc_auc_score(test[\"debt\"],test[\"scorage\"])}')"
   ]
  },
  {
   "cell_type": "markdown",
   "id": "09fbc731",
   "metadata": {},
   "source": [
    "## Машинное обучение"
   ]
  },
  {
   "cell_type": "code",
   "execution_count": 110,
   "id": "b82fe886",
   "metadata": {},
   "outputs": [
    {
     "data": {
      "text/plain": [
       "Index(['children', 'days_employed', 'dob_years', 'education', 'family_status',\n",
       "       'gender', 'income_type', 'debt', 'total_income', 'purpose_category',\n",
       "       'true_days', 'age_group', 'salary_group', 'years_emp',\n",
       "       'years_emp_group', 'human_score'],\n",
       "      dtype='object')"
      ]
     },
     "execution_count": 110,
     "metadata": {},
     "output_type": "execute_result"
    }
   ],
   "source": [
    "train_full.columns"
   ]
  },
  {
   "cell_type": "markdown",
   "id": "5ba55444",
   "metadata": {},
   "source": [
    "Обучение на 4 фичах"
   ]
  },
  {
   "cell_type": "code",
   "execution_count": 111,
   "id": "142dc4cd",
   "metadata": {},
   "outputs": [],
   "source": [
    "X = ['children', 'days_employed', 'dob_years', 'total_income']\n",
    "y = ['debt']"
   ]
  },
  {
   "cell_type": "code",
   "execution_count": 112,
   "id": "5cbc2685",
   "metadata": {},
   "outputs": [
    {
     "name": "stdout",
     "output_type": "stream",
     "text": [
      "0:\tlearn: 0.6900109\ttest: 0.6900361\tbest: 0.6900361 (0)\ttotal: 50.8ms\tremaining: 50.8s\n",
      "100:\tlearn: 0.4713482\ttest: 0.4723978\tbest: 0.4723978 (100)\ttotal: 388ms\tremaining: 3.45s\n",
      "200:\tlearn: 0.3698611\ttest: 0.3720384\tbest: 0.3720384 (200)\ttotal: 724ms\tremaining: 2.88s\n",
      "300:\tlearn: 0.3219935\ttest: 0.3252708\tbest: 0.3252708 (300)\ttotal: 1.04s\tremaining: 2.42s\n",
      "400:\tlearn: 0.2985161\ttest: 0.3028402\tbest: 0.3028402 (400)\ttotal: 1.38s\tremaining: 2.06s\n",
      "500:\tlearn: 0.2866564\ttest: 0.2918866\tbest: 0.2918866 (500)\ttotal: 1.69s\tremaining: 1.68s\n",
      "600:\tlearn: 0.2803452\ttest: 0.2865004\tbest: 0.2865004 (600)\ttotal: 2.01s\tremaining: 1.34s\n",
      "700:\tlearn: 0.2768499\ttest: 0.2838610\tbest: 0.2838610 (700)\ttotal: 2.33s\tremaining: 996ms\n",
      "800:\tlearn: 0.2747671\ttest: 0.2826396\tbest: 0.2826396 (800)\ttotal: 2.65s\tremaining: 658ms\n",
      "900:\tlearn: 0.2733873\ttest: 0.2821940\tbest: 0.2821940 (900)\ttotal: 2.98s\tremaining: 327ms\n",
      "999:\tlearn: 0.2724533\ttest: 0.2821013\tbest: 0.2820777 (974)\ttotal: 3.31s\tremaining: 0us\n",
      "\n",
      "bestTest = 0.2820777299\n",
      "bestIteration = 974\n",
      "\n",
      "Shrink model to first 975 iterations.\n"
     ]
    },
    {
     "data": {
      "text/plain": [
       "<catboost.core.CatBoostClassifier at 0x7f864da6d0a0>"
      ]
     },
     "execution_count": 112,
     "metadata": {},
     "output_type": "execute_result"
    }
   ],
   "source": [
    "params = {'verbose':100,'random_seed':1589, 'learning_rate':0.003}\n",
    "model = CatBoostClassifier(**params)\n",
    "model.fit(train[X],train[y], eval_set=(val[X],val[y]))"
   ]
  },
  {
   "cell_type": "code",
   "execution_count": 113,
   "id": "ffe768bb",
   "metadata": {},
   "outputs": [
    {
     "data": {
      "image/png": "[encoded data removed]",
      "text/plain": [
       "<Figure size 720x720 with 1 Axes>"
      ]
     },
     "metadata": {
      "needs_background": "light"
     },
     "output_type": "display_data"
    },
    {
     "name": "stdout",
     "output_type": "stream",
     "text": [
      "AUC: 0.649993423787161\n"
     ]
    }
   ],
   "source": [
    "probabilities_valid = model.predict_proba(train[X])\n",
    "probabilities_one_valid = probabilities_valid[:, 1]\n",
    "\n",
    "fpr, tpr, thresholds = roc_curve(train[y], probabilities_one_valid) \n",
    "\n",
    "plt.figure(figsize=(10, 10))\n",
    "plt.plot(fpr, tpr, linestyle='-')\n",
    "plt.plot([0, 1], [0, 1], linestyle='--')\n",
    "plt.xlim([0.0, 1.0])\n",
    "plt.ylim([0.0, 1.0])\n",
    "plt.xlabel('False Positive Rate')\n",
    "plt.ylabel('True Positive Rate')\n",
    "plt.title('ROC-кривая')\n",
    "plt.show()\n",
    "\n",
    "auc_roc = roc_auc_score(train[y], probabilities_one_valid)\n",
    "\n",
    "print(\"AUC:\", auc_roc)"
   ]
  },
  {
   "cell_type": "code",
   "execution_count": 114,
   "id": "4df5e497",
   "metadata": {},
   "outputs": [
    {
     "data": {
      "image/png": "[encoded data removed]",
      "text/plain": [
       "<Figure size 720x720 with 1 Axes>"
      ]
     },
     "metadata": {
      "needs_background": "light"
     },
     "output_type": "display_data"
    },
    {
     "name": "stdout",
     "output_type": "stream",
     "text": [
      "AUC: 0.5856124572804196\n"
     ]
    }
   ],
   "source": [
    "probabilities_test = model.predict_proba(test[X])\n",
    "probabilities_one_test = probabilities_test[:, 1]\n",
    "\n",
    "fpr, tpr, thresholds = roc_curve(test[y], probabilities_one_test) \n",
    "\n",
    "plt.figure(figsize=(10, 10))\n",
    "plt.plot(fpr, tpr, linestyle='-')\n",
    "plt.plot([0, 1], [0, 1], linestyle='--')\n",
    "plt.xlim([0.0, 1.0])\n",
    "plt.ylim([0.0, 1.0])\n",
    "plt.xlabel('False Positive Rate')\n",
    "plt.ylabel('True Positive Rate')\n",
    "plt.title('ROC-кривая')\n",
    "plt.show()\n",
    "\n",
    "auc_roc = roc_auc_score(test[y], probabilities_one_test)\n",
    "\n",
    "print(\"AUC:\", auc_roc)"
   ]
  },
  {
   "cell_type": "code",
   "execution_count": 115,
   "id": "8148df4e",
   "metadata": {},
   "outputs": [],
   "source": [
    "test['4_features_score'] = model.predict_proba(test[X])[:,1]"
   ]
  },
  {
   "cell_type": "code",
   "execution_count": 116,
   "id": "23028ec5",
   "metadata": {},
   "outputs": [
    {
     "data": {
      "image/png": "[encoded data removed]",
      "text/plain": [
       "<Figure size 432x288 with 1 Axes>"
      ]
     },
     "metadata": {
      "needs_background": "light"
     },
     "output_type": "display_data"
    }
   ],
   "source": [
    "test['4_features_score'].hist()\n",
    "plt.show()"
   ]
  },
  {
   "cell_type": "code",
   "execution_count": 117,
   "id": "7dfde452",
   "metadata": {},
   "outputs": [
    {
     "data": {
      "text/plain": [
       "309"
      ]
     },
     "execution_count": 117,
     "metadata": {},
     "output_type": "execute_result"
    }
   ],
   "source": [
    "test['4_features'] = (test['4_features_score'] > 0.130706) * 1\n",
    "test['4_features'].sum()"
   ]
  },
  {
   "cell_type": "code",
   "execution_count": 118,
   "id": "dcc531a1",
   "metadata": {},
   "outputs": [
    {
     "name": "stdout",
     "output_type": "stream",
     "text": [
      "              precision    recall  f1-score   support\n",
      "\n",
      "           0       0.92      0.92      0.92      3556\n",
      "           1       0.12      0.12      0.12       314\n",
      "\n",
      "    accuracy                           0.86      3870\n",
      "   macro avg       0.52      0.52      0.52      3870\n",
      "weighted avg       0.86      0.86      0.86      3870\n",
      "\n"
     ]
    }
   ],
   "source": [
    "print(classification_report(test[y],test['4_features']))"
   ]
  },
  {
   "cell_type": "code",
   "execution_count": 119,
   "id": "c36bfaa4",
   "metadata": {},
   "outputs": [
    {
     "name": "stdout",
     "output_type": "stream",
     "text": [
      "Accuracy: 0.858656330749354\n",
      "Recall: 0.12101910828025478\n",
      "Precision: 0.12297734627831715\n",
      "F1: 0.1219903691813804\n",
      "ROC_AUC: 0.5224049422166178\n"
     ]
    }
   ],
   "source": [
    "print(f'Accuracy: {accuracy_score(test[\"debt\"],test[\"4_features\"])}')\n",
    "print(f'Recall: {recall_score(test[\"debt\"],test[\"4_features\"])}')\n",
    "print(f'Precision: {precision_score(test[\"debt\"],test[\"4_features\"])}')\n",
    "print(f'F1: {f1_score(test[\"debt\"],test[\"4_features\"])}')\n",
    "print(f'ROC_AUC: {roc_auc_score(test[\"debt\"],test[\"4_features\"])}')"
   ]
  },
  {
   "cell_type": "code",
   "execution_count": 120,
   "id": "f8c969e3",
   "metadata": {},
   "outputs": [
    {
     "data": {
      "text/plain": [
       "Index(['children', 'days_employed', 'dob_years', 'education', 'family_status',\n",
       "       'gender', 'income_type', 'debt', 'total_income', 'purpose_category',\n",
       "       'true_days', 'age_group', 'salary_group', 'years_emp',\n",
       "       'years_emp_group', 'human_score', 'scorage', '4_features_score',\n",
       "       '4_features'],\n",
       "      dtype='object')"
      ]
     },
     "execution_count": 120,
     "metadata": {},
     "output_type": "execute_result"
    }
   ],
   "source": [
    "test.columns"
   ]
  },
  {
   "cell_type": "code",
   "execution_count": 123,
   "id": "424ad8ee",
   "metadata": {},
   "outputs": [],
   "source": [
    "X = ['children', 'days_employed', 'dob_years', 'education', 'family_status',\n",
    "       'gender', 'income_type',  'total_income', 'purpose_category',\n",
    "       'true_days', 'age_group', 'salary_group', 'years_emp', 'years_emp_group'\n",
    "       ]\n",
    "\n",
    "cat_features = ['education', 'family_status',\n",
    "       'gender', 'income_type', 'purpose_category',\n",
    "       'age_group', 'salary_group',  'years_emp_group',\n",
    "        ]\n",
    "y = ['debt']"
   ]
  },
  {
   "cell_type": "code",
   "execution_count": 124,
   "id": "a67ab7aa",
   "metadata": {},
   "outputs": [],
   "source": [
    "pool_train = Pool(data=train[X], label=train[y],\n",
    "                  cat_features = cat_features)\n",
    "\n",
    "pool_val =  Pool(val[X], val[y],\n",
    "                  cat_features = cat_features)"
   ]
  },
  {
   "cell_type": "code",
   "execution_count": 125,
   "id": "a8eed674",
   "metadata": {},
   "outputs": [
    {
     "name": "stdout",
     "output_type": "stream",
     "text": [
      "0:\tlearn: 0.6868626\ttest: 0.6868797\tbest: 0.6868797 (0)\ttotal: 41.4ms\tremaining: 41.4s\n",
      "100:\tlearn: 0.3693670\ttest: 0.3706338\tbest: 0.3706338 (100)\ttotal: 2.92s\tremaining: 26s\n",
      "200:\tlearn: 0.2979726\ttest: 0.3008684\tbest: 0.3008684 (200)\ttotal: 5.07s\tremaining: 20.1s\n",
      "300:\tlearn: 0.2796514\ttest: 0.2839300\tbest: 0.2839300 (300)\ttotal: 6.84s\tremaining: 15.9s\n",
      "400:\tlearn: 0.2735245\ttest: 0.2794206\tbest: 0.2794206 (400)\ttotal: 8.54s\tremaining: 12.8s\n",
      "500:\tlearn: 0.2704701\ttest: 0.2781688\tbest: 0.2781688 (500)\ttotal: 10.3s\tremaining: 10.2s\n",
      "600:\tlearn: 0.2682680\ttest: 0.2779439\tbest: 0.2779283 (589)\ttotal: 12.2s\tremaining: 8.12s\n",
      "700:\tlearn: 0.2667262\ttest: 0.2780237\tbest: 0.2779264 (621)\ttotal: 14.2s\tremaining: 6.06s\n",
      "800:\tlearn: 0.2653365\ttest: 0.2781910\tbest: 0.2779264 (621)\ttotal: 16.2s\tremaining: 4.02s\n",
      "900:\tlearn: 0.2640649\ttest: 0.2783069\tbest: 0.2779264 (621)\ttotal: 18.3s\tremaining: 2s\n",
      "999:\tlearn: 0.2629432\ttest: 0.2784360\tbest: 0.2779264 (621)\ttotal: 20.3s\tremaining: 0us\n",
      "\n",
      "bestTest = 0.2779263517\n",
      "bestIteration = 621\n",
      "\n",
      "Shrink model to first 622 iterations.\n"
     ]
    },
    {
     "data": {
      "text/plain": [
       "<catboost.core.CatBoostClassifier at 0x7f864d6f8250>"
      ]
     },
     "execution_count": 125,
     "metadata": {},
     "output_type": "execute_result"
    }
   ],
   "source": [
    "params = {'verbose':100,'random_seed':1589, 'learning_rate':0.006}\n",
    "model = CatBoostClassifier(**params)\n",
    "model.fit(pool_train, eval_set=pool_val)"
   ]
  },
  {
   "cell_type": "code",
   "execution_count": 126,
   "id": "7e6bacbb",
   "metadata": {},
   "outputs": [
    {
     "data": {
      "image/png": "[encoded data removed]",
      "text/plain": [
       "<Figure size 720x720 with 1 Axes>"
      ]
     },
     "metadata": {
      "needs_background": "light"
     },
     "output_type": "display_data"
    },
    {
     "name": "stdout",
     "output_type": "stream",
     "text": [
      "AUC: 0.675520910120021\n"
     ]
    }
   ],
   "source": [
    "probabilities_valid = model.predict_proba(train[X])\n",
    "probabilities_one_valid = probabilities_valid[:, 1]\n",
    "\n",
    "fpr, tpr, thresholds = roc_curve(train[y], probabilities_one_valid) \n",
    "\n",
    "plt.figure(figsize=(10, 10))\n",
    "plt.plot(fpr, tpr, linestyle='-')\n",
    "plt.plot([0, 1], [0, 1], linestyle='--')\n",
    "plt.xlim([0.0, 1.0])\n",
    "plt.ylim([0.0, 1.0])\n",
    "plt.xlabel('False Positive Rate')\n",
    "plt.ylabel('True Positive Rate')\n",
    "plt.title('ROC-кривая')\n",
    "plt.show()\n",
    "\n",
    "auc_roc = roc_auc_score (train[y], probabilities_one_valid)\n",
    "\n",
    "print(\"AUC:\", auc_roc)"
   ]
  },
  {
   "cell_type": "code",
   "execution_count": 127,
   "id": "6c0ebbaa",
   "metadata": {},
   "outputs": [
    {
     "data": {
      "image/png": "[encoded data removed]",
      "text/plain": [
       "<Figure size 720x720 with 1 Axes>"
      ]
     },
     "metadata": {
      "needs_background": "light"
     },
     "output_type": "display_data"
    },
    {
     "name": "stdout",
     "output_type": "stream",
     "text": [
      "AUC: 0.6214704849791864\n"
     ]
    }
   ],
   "source": [
    "probabilities_valid = model.predict_proba(test[X])\n",
    "probabilities_one_valid = probabilities_valid[:, 1]\n",
    "\n",
    "fpr, tpr, thresholds = roc_curve(test[y], probabilities_one_valid) \n",
    "\n",
    "plt.figure(figsize=(10, 10))\n",
    "plt.plot(fpr, tpr, linestyle='-')\n",
    "plt.plot([0, 1], [0, 1], linestyle='--')\n",
    "plt.xlim([0.0, 1.0])\n",
    "plt.ylim([0.0, 1.0])\n",
    "plt.xlabel('False Positive Rate')\n",
    "plt.ylabel('True Positive Rate')\n",
    "plt.title('ROC-кривая')\n",
    "plt.show()\n",
    "\n",
    "auc_roc = roc_auc_score(test[y], probabilities_one_valid)\n",
    "\n",
    "print(\"AUC:\", auc_roc)"
   ]
  },
  {
   "cell_type": "code",
   "execution_count": 128,
   "id": "a02e0f77",
   "metadata": {},
   "outputs": [],
   "source": [
    "test['catboost_score'] = model.predict_proba(test[X])[:,1]"
   ]
  },
  {
   "cell_type": "code",
   "execution_count": 129,
   "id": "b51e6d1f",
   "metadata": {},
   "outputs": [
    {
     "data": {
      "text/plain": [
       "<AxesSubplot:>"
      ]
     },
     "execution_count": 129,
     "metadata": {},
     "output_type": "execute_result"
    },
    {
     "data": {
      "image/png": "[encoded data removed]",
      "text/plain": [
       "<Figure size 432x288 with 1 Axes>"
      ]
     },
     "metadata": {
      "needs_background": "light"
     },
     "output_type": "display_data"
    }
   ],
   "source": [
    "test['catboost_score'].hist()"
   ]
  },
  {
   "cell_type": "code",
   "execution_count": 130,
   "id": "8b0d15b4",
   "metadata": {},
   "outputs": [
    {
     "data": {
      "text/plain": [
       "360"
      ]
     },
     "execution_count": 130,
     "metadata": {},
     "output_type": "execute_result"
    }
   ],
   "source": [
    "test['catboost_full'] = (test['catboost_score'] > 0.128706) * 1\n",
    "test['catboost_full'].sum()"
   ]
  },
  {
   "cell_type": "code",
   "execution_count": 131,
   "id": "308a38b4",
   "metadata": {},
   "outputs": [
    {
     "data": {
      "text/html": [
       "<div>\n",
       "<style scoped>\n",
       "    .dataframe tbody tr th:only-of-type {\n",
       "        vertical-align: middle;\n",
       "    }\n",
       "\n",
       "    .dataframe tbody tr th {\n",
       "        vertical-align: top;\n",
       "    }\n",
       "\n",
       "    .dataframe thead th {\n",
       "        text-align: right;\n",
       "    }\n",
       "</style>\n",
       "<table border=\"1\" class=\"dataframe\">\n",
       "  <thead>\n",
       "    <tr style=\"text-align: right;\">\n",
       "      <th></th>\n",
       "      <th>Feature Id</th>\n",
       "      <th>Importances</th>\n",
       "    </tr>\n",
       "  </thead>\n",
       "  <tbody>\n",
       "    <tr>\n",
       "      <th>0</th>\n",
       "      <td>education</td>\n",
       "      <td>18.791362</td>\n",
       "    </tr>\n",
       "    <tr>\n",
       "      <th>1</th>\n",
       "      <td>purpose_category</td>\n",
       "      <td>10.727892</td>\n",
       "    </tr>\n",
       "    <tr>\n",
       "      <th>2</th>\n",
       "      <td>dob_years</td>\n",
       "      <td>10.668981</td>\n",
       "    </tr>\n",
       "    <tr>\n",
       "      <th>3</th>\n",
       "      <td>gender</td>\n",
       "      <td>9.049902</td>\n",
       "    </tr>\n",
       "    <tr>\n",
       "      <th>4</th>\n",
       "      <td>days_employed</td>\n",
       "      <td>8.685390</td>\n",
       "    </tr>\n",
       "    <tr>\n",
       "      <th>5</th>\n",
       "      <td>years_emp</td>\n",
       "      <td>7.672426</td>\n",
       "    </tr>\n",
       "    <tr>\n",
       "      <th>6</th>\n",
       "      <td>true_days</td>\n",
       "      <td>6.735636</td>\n",
       "    </tr>\n",
       "    <tr>\n",
       "      <th>7</th>\n",
       "      <td>family_status</td>\n",
       "      <td>5.961865</td>\n",
       "    </tr>\n",
       "    <tr>\n",
       "      <th>8</th>\n",
       "      <td>total_income</td>\n",
       "      <td>5.558553</td>\n",
       "    </tr>\n",
       "    <tr>\n",
       "      <th>9</th>\n",
       "      <td>income_type</td>\n",
       "      <td>4.302670</td>\n",
       "    </tr>\n",
       "    <tr>\n",
       "      <th>10</th>\n",
       "      <td>children</td>\n",
       "      <td>3.699156</td>\n",
       "    </tr>\n",
       "    <tr>\n",
       "      <th>11</th>\n",
       "      <td>years_emp_group</td>\n",
       "      <td>3.386383</td>\n",
       "    </tr>\n",
       "    <tr>\n",
       "      <th>12</th>\n",
       "      <td>age_group</td>\n",
       "      <td>2.406035</td>\n",
       "    </tr>\n",
       "    <tr>\n",
       "      <th>13</th>\n",
       "      <td>salary_group</td>\n",
       "      <td>2.353750</td>\n",
       "    </tr>\n",
       "  </tbody>\n",
       "</table>\n",
       "</div>"
      ],
      "text/plain": [
       "          Feature Id  Importances\n",
       "0          education    18.791362\n",
       "1   purpose_category    10.727892\n",
       "2          dob_years    10.668981\n",
       "3             gender     9.049902\n",
       "4      days_employed     8.685390\n",
       "5          years_emp     7.672426\n",
       "6          true_days     6.735636\n",
       "7      family_status     5.961865\n",
       "8       total_income     5.558553\n",
       "9        income_type     4.302670\n",
       "10          children     3.699156\n",
       "11   years_emp_group     3.386383\n",
       "12         age_group     2.406035\n",
       "13      salary_group     2.353750"
      ]
     },
     "execution_count": 131,
     "metadata": {},
     "output_type": "execute_result"
    }
   ],
   "source": [
    "model.get_feature_importance(prettified=True)"
   ]
  },
  {
   "cell_type": "code",
   "execution_count": 138,
   "id": "71229576",
   "metadata": {},
   "outputs": [
    {
     "name": "stdout",
     "output_type": "stream",
     "text": [
      "              precision    recall  f1-score   support\n",
      "\n",
      "           0       0.93      0.91      0.92      3556\n",
      "           1       0.15      0.17      0.16       314\n",
      "\n",
      "    accuracy                           0.85      3870\n",
      "   macro avg       0.54      0.54      0.54      3870\n",
      "weighted avg       0.86      0.85      0.86      3870\n",
      "\n"
     ]
    }
   ],
   "source": [
    "print(classification_report(test[y],test['catboost_full']))"
   ]
  },
  {
   "cell_type": "markdown",
   "id": "ef1b742d",
   "metadata": {},
   "source": [
    "## Метрики классификации"
   ]
  },
  {
   "cell_type": "code",
   "execution_count": 139,
   "id": "246791db",
   "metadata": {},
   "outputs": [],
   "source": [
    "tn, fp, fn, tp = confusion_matrix(test[y], test['catboost_full']).ravel()"
   ]
  },
  {
   "cell_type": "markdown",
   "id": "c1dde24a",
   "metadata": {},
   "source": [
    "**Recall**  \n",
    "*TruePositive(правильная единичка) / AllPositive(все единички)*  \n",
    "Процент единичек, которые модель прометила как единички.  \n",
    " "
   ]
  },
  {
   "cell_type": "code",
   "execution_count": 140,
   "id": "676ec14a",
   "metadata": {},
   "outputs": [
    {
     "data": {
      "text/plain": [
       "0.17197452229299362"
      ]
     },
     "execution_count": 140,
     "metadata": {},
     "output_type": "execute_result"
    }
   ],
   "source": [
    "recall = tp / (tp + fn)\n",
    "recall"
   ]
  },
  {
   "cell_type": "code",
   "execution_count": 141,
   "id": "7f578437",
   "metadata": {},
   "outputs": [
    {
     "data": {
      "text/plain": [
       "0.17197452229299362"
      ]
     },
     "execution_count": 141,
     "metadata": {},
     "output_type": "execute_result"
    }
   ],
   "source": [
    "recall_score(test[y], test['catboost_full'])"
   ]
  },
  {
   "cell_type": "markdown",
   "id": "49961598",
   "metadata": {},
   "source": [
    "**Precision**  \n",
    "*TruePositive(правильная единичка) / PredPositive(все предсказанные единички)*  \n",
    "Процент правильных единичек, среди всех предсказанных единичек.  \n",
    "Насколько хорошо модель предсказывает единички. "
   ]
  },
  {
   "cell_type": "code",
   "execution_count": 142,
   "id": "5883bd91",
   "metadata": {},
   "outputs": [
    {
     "data": {
      "text/plain": [
       "0.15"
      ]
     },
     "execution_count": 142,
     "metadata": {},
     "output_type": "execute_result"
    }
   ],
   "source": [
    "precision = tp / (tp + fp)\n",
    "precision"
   ]
  },
  {
   "cell_type": "code",
   "execution_count": 143,
   "id": "29c85be4",
   "metadata": {},
   "outputs": [
    {
     "data": {
      "text/plain": [
       "0.15"
      ]
     },
     "execution_count": 143,
     "metadata": {},
     "output_type": "execute_result"
    }
   ],
   "source": [
    "precision_score(test[y], test['catboost_full'])"
   ]
  },
  {
   "cell_type": "markdown",
   "id": "9fa78684",
   "metadata": {},
   "source": [
    "**F1**  \n",
    "F-мера представляет собой гармоническое среднее между точностью и полнотой. Она стремится к нулю, если точность или полнота стремится к нулю."
   ]
  },
  {
   "cell_type": "code",
   "execution_count": 144,
   "id": "86542d28",
   "metadata": {},
   "outputs": [
    {
     "data": {
      "text/plain": [
       "0.1602373887240356"
      ]
     },
     "execution_count": 144,
     "metadata": {},
     "output_type": "execute_result"
    }
   ],
   "source": [
    "f1 = (2 * recall * precision) / (recall + precision)\n",
    "f1"
   ]
  },
  {
   "cell_type": "code",
   "execution_count": 145,
   "id": "6023d58f",
   "metadata": {},
   "outputs": [
    {
     "data": {
      "text/plain": [
       "0.1602373887240356"
      ]
     },
     "execution_count": 145,
     "metadata": {},
     "output_type": "execute_result"
    }
   ],
   "source": [
    "f1_score(test[y], test['catboost_full'])"
   ]
  },
  {
   "cell_type": "markdown",
   "id": "20724571",
   "metadata": {},
   "source": [
    "**Accuracy**  \n",
    "Процентр правильных ответов(не учитывает дисбаланс классов)."
   ]
  },
  {
   "cell_type": "code",
   "execution_count": 146,
   "id": "ed0bb49a",
   "metadata": {},
   "outputs": [
    {
     "data": {
      "text/plain": [
       "0.8537467700258398"
      ]
     },
     "execution_count": 146,
     "metadata": {},
     "output_type": "execute_result"
    }
   ],
   "source": [
    "accuracy = (tp + tn) / (tp + tn + fp +fn)\n",
    "accuracy"
   ]
  },
  {
   "cell_type": "code",
   "execution_count": 148,
   "id": "09fda2e8",
   "metadata": {},
   "outputs": [
    {
     "data": {
      "text/plain": [
       "0.8537467700258398"
      ]
     },
     "execution_count": 148,
     "metadata": {},
     "output_type": "execute_result"
    }
   ],
   "source": [
    "accuracy_score(test[y], test['catboost_full'])"
   ]
  },
  {
   "cell_type": "code",
   "execution_count": 149,
   "id": "1ef001d9",
   "metadata": {},
   "outputs": [
    {
     "data": {
      "text/plain": [
       "0.9188630490956072"
      ]
     },
     "execution_count": 149,
     "metadata": {},
     "output_type": "execute_result"
    }
   ],
   "source": [
    "1 - test['debt'].mean()"
   ]
  },
  {
   "cell_type": "markdown",
   "id": "6d536966",
   "metadata": {},
   "source": [
    "**ROC**  "
   ]
  },
  {
   "cell_type": "code",
   "execution_count": 153,
   "id": "dcb45e3f",
   "metadata": {},
   "outputs": [
    {
     "data": {
      "text/html": [
       "<div>\n",
       "<style scoped>\n",
       "    .dataframe tbody tr th:only-of-type {\n",
       "        vertical-align: middle;\n",
       "    }\n",
       "\n",
       "    .dataframe tbody tr th {\n",
       "        vertical-align: top;\n",
       "    }\n",
       "\n",
       "    .dataframe thead th {\n",
       "        text-align: right;\n",
       "    }\n",
       "</style>\n",
       "<table border=\"1\" class=\"dataframe\">\n",
       "  <thead>\n",
       "    <tr style=\"text-align: right;\">\n",
       "      <th></th>\n",
       "      <th>fpr</th>\n",
       "      <th>tpr</th>\n",
       "      <th>thr</th>\n",
       "    </tr>\n",
       "  </thead>\n",
       "  <tbody>\n",
       "    <tr>\n",
       "      <th>0</th>\n",
       "      <td>0.000000</td>\n",
       "      <td>0.000000</td>\n",
       "      <td>1.190933</td>\n",
       "    </tr>\n",
       "    <tr>\n",
       "      <th>1</th>\n",
       "      <td>0.000281</td>\n",
       "      <td>0.000000</td>\n",
       "      <td>0.190933</td>\n",
       "    </tr>\n",
       "    <tr>\n",
       "      <th>2</th>\n",
       "      <td>0.002250</td>\n",
       "      <td>0.000000</td>\n",
       "      <td>0.178722</td>\n",
       "    </tr>\n",
       "    <tr>\n",
       "      <th>3</th>\n",
       "      <td>0.002250</td>\n",
       "      <td>0.003185</td>\n",
       "      <td>0.178699</td>\n",
       "    </tr>\n",
       "    <tr>\n",
       "      <th>4</th>\n",
       "      <td>0.002531</td>\n",
       "      <td>0.003185</td>\n",
       "      <td>0.177175</td>\n",
       "    </tr>\n",
       "    <tr>\n",
       "      <th>5</th>\n",
       "      <td>0.002531</td>\n",
       "      <td>0.006369</td>\n",
       "      <td>0.176033</td>\n",
       "    </tr>\n",
       "    <tr>\n",
       "      <th>6</th>\n",
       "      <td>0.003656</td>\n",
       "      <td>0.006369</td>\n",
       "      <td>0.174212</td>\n",
       "    </tr>\n",
       "  </tbody>\n",
       "</table>\n",
       "</div>"
      ],
      "text/plain": [
       "        fpr       tpr       thr\n",
       "0  0.000000  0.000000  1.190933\n",
       "1  0.000281  0.000000  0.190933\n",
       "2  0.002250  0.000000  0.178722\n",
       "3  0.002250  0.003185  0.178699\n",
       "4  0.002531  0.003185  0.177175\n",
       "5  0.002531  0.006369  0.176033\n",
       "6  0.003656  0.006369  0.174212"
      ]
     },
     "execution_count": 153,
     "metadata": {},
     "output_type": "execute_result"
    }
   ],
   "source": [
    "fprs, tprs, thrs = roc_curve(test['debt'], test['catboost_score'])\n",
    "roc = pd.DataFrame({'fpr': fprs, 'tpr': tprs, 'thr':thrs})\n",
    "roc.head(7)"
   ]
  },
  {
   "cell_type": "code",
   "execution_count": 154,
   "id": "52c5d8cd",
   "metadata": {},
   "outputs": [
    {
     "data": {
      "image/png": "[encoded data removed]",
      "text/plain": [
       "<Figure size 432x432 with 1 Axes>"
      ]
     },
     "metadata": {
      "needs_background": "light"
     },
     "output_type": "display_data"
    }
   ],
   "source": [
    "roc.plot(x='fpr', y='tpr', figsize=(6,6), grid=True)\n",
    "plt.show()"
   ]
  },
  {
   "cell_type": "code",
   "execution_count": 155,
   "id": "e018bcf5",
   "metadata": {},
   "outputs": [
    {
     "data": {
      "image/png": "[encoded data removed]",
      "text/plain": [
       "<Figure size 432x432 with 1 Axes>"
      ]
     },
     "metadata": {
      "needs_background": "light"
     },
     "output_type": "display_data"
    }
   ],
   "source": [
    "roc['random'] = roc['fpr']\n",
    "roc['ideal'] = 1\n",
    "roc.plot(x='fpr', y=['tpr', 'random', 'ideal'], figsize=(6,6), grid=True)\n",
    "plt.show()"
   ]
  },
  {
   "cell_type": "code",
   "execution_count": 156,
   "id": "8c36a2fb",
   "metadata": {},
   "outputs": [
    {
     "data": {
      "text/plain": [
       "0.6214704849791864"
      ]
     },
     "execution_count": 156,
     "metadata": {},
     "output_type": "execute_result"
    }
   ],
   "source": [
    "roc_auc_score(test['debt'], test['catboost_score'])"
   ]
  },
  {
   "cell_type": "markdown",
   "id": "262ac102",
   "metadata": {},
   "source": [
    "**Подбор порога**"
   ]
  },
  {
   "cell_type": "code",
   "execution_count": 157,
   "id": "155d8d9d",
   "metadata": {},
   "outputs": [],
   "source": [
    "from tqdm.notebook import tqdm"
   ]
  },
  {
   "cell_type": "code",
   "execution_count": 158,
   "id": "17e6c512",
   "metadata": {},
   "outputs": [
    {
     "data": {
      "application/vnd.jupyter.widget-view+json": {
       "model_id": "5fd2771ce8dd4d13af2a2c86fd495fa9",
       "version_major": 2,
       "version_minor": 0
      },
      "text/plain": [
       "  0%|          | 0/567 [00:00<?, ?it/s]"
      ]
     },
     "metadata": {},
     "output_type": "display_data"
    }
   ],
   "source": [
    "trhs = list(test['catboost_score'].unique())\n",
    "\n",
    "result = []\n",
    "for thr in tqdm(thrs):\n",
    "    test['find_thr'] = (test['catboost_score'] > thr) *1\n",
    "    result.append((thr, f1_score(test['debt'], test['find_thr'])))"
   ]
  },
  {
   "cell_type": "code",
   "execution_count": 160,
   "id": "f37d01db",
   "metadata": {},
   "outputs": [
    {
     "data": {
      "text/html": [
       "<div>\n",
       "<style scoped>\n",
       "    .dataframe tbody tr th:only-of-type {\n",
       "        vertical-align: middle;\n",
       "    }\n",
       "\n",
       "    .dataframe tbody tr th {\n",
       "        vertical-align: top;\n",
       "    }\n",
       "\n",
       "    .dataframe thead th {\n",
       "        text-align: right;\n",
       "    }\n",
       "</style>\n",
       "<table border=\"1\" class=\"dataframe\">\n",
       "  <thead>\n",
       "    <tr style=\"text-align: right;\">\n",
       "      <th></th>\n",
       "      <th>thr</th>\n",
       "      <th>f1</th>\n",
       "    </tr>\n",
       "  </thead>\n",
       "  <tbody>\n",
       "    <tr>\n",
       "      <th>219</th>\n",
       "      <td>0.107627</td>\n",
       "      <td>0.197492</td>\n",
       "    </tr>\n",
       "    <tr>\n",
       "      <th>212</th>\n",
       "      <td>0.108833</td>\n",
       "      <td>0.196616</td>\n",
       "    </tr>\n",
       "    <tr>\n",
       "      <th>214</th>\n",
       "      <td>0.108557</td>\n",
       "      <td>0.196486</td>\n",
       "    </tr>\n",
       "    <tr>\n",
       "      <th>213</th>\n",
       "      <td>0.108821</td>\n",
       "      <td>0.196457</td>\n",
       "    </tr>\n",
       "    <tr>\n",
       "      <th>215</th>\n",
       "      <td>0.108548</td>\n",
       "      <td>0.196329</td>\n",
       "    </tr>\n",
       "    <tr>\n",
       "      <th>218</th>\n",
       "      <td>0.107706</td>\n",
       "      <td>0.196232</td>\n",
       "    </tr>\n",
       "    <tr>\n",
       "      <th>216</th>\n",
       "      <td>0.107937</td>\n",
       "      <td>0.195738</td>\n",
       "    </tr>\n",
       "  </tbody>\n",
       "</table>\n",
       "</div>"
      ],
      "text/plain": [
       "          thr        f1\n",
       "219  0.107627  0.197492\n",
       "212  0.108833  0.196616\n",
       "214  0.108557  0.196486\n",
       "213  0.108821  0.196457\n",
       "215  0.108548  0.196329\n",
       "218  0.107706  0.196232\n",
       "216  0.107937  0.195738"
      ]
     },
     "execution_count": 160,
     "metadata": {},
     "output_type": "execute_result"
    }
   ],
   "source": [
    "t = pd.DataFrame(result, columns =['thr', 'f1'])\n",
    "t.sort_values('f1', ascending=False).head(7)"
   ]
  },
  {
   "cell_type": "code",
   "execution_count": 161,
   "id": "21f323a5",
   "metadata": {},
   "outputs": [
    {
     "data": {
      "text/html": [
       "<div>\n",
       "<style scoped>\n",
       "    .dataframe tbody tr th:only-of-type {\n",
       "        vertical-align: middle;\n",
       "    }\n",
       "\n",
       "    .dataframe tbody tr th {\n",
       "        vertical-align: top;\n",
       "    }\n",
       "\n",
       "    .dataframe thead th {\n",
       "        text-align: right;\n",
       "    }\n",
       "</style>\n",
       "<table border=\"1\" class=\"dataframe\">\n",
       "  <thead>\n",
       "    <tr style=\"text-align: right;\">\n",
       "      <th></th>\n",
       "      <th>thr</th>\n",
       "      <th>f1</th>\n",
       "    </tr>\n",
       "  </thead>\n",
       "  <tbody>\n",
       "    <tr>\n",
       "      <th>219</th>\n",
       "      <td>0.107627</td>\n",
       "      <td>0.197492</td>\n",
       "    </tr>\n",
       "  </tbody>\n",
       "</table>\n",
       "</div>"
      ],
      "text/plain": [
       "          thr        f1\n",
       "219  0.107627  0.197492"
      ]
     },
     "execution_count": 161,
     "metadata": {},
     "output_type": "execute_result"
    }
   ],
   "source": [
    "t[t['f1'] == t['f1'].max()]"
   ]
  },
  {
   "cell_type": "code",
   "execution_count": 162,
   "id": "209fd99a",
   "metadata": {},
   "outputs": [
    {
     "data": {
      "text/plain": [
       "0.19890368050117463"
      ]
     },
     "execution_count": 162,
     "metadata": {},
     "output_type": "execute_result"
    }
   ],
   "source": [
    "test['catboost_2'] = (test['catboost_score'] > 0.107627) * 1\n",
    "f1_score(test['debt'], test['catboost_2']) "
   ]
  },
  {
   "cell_type": "code",
   "execution_count": 163,
   "id": "7a2783de",
   "metadata": {},
   "outputs": [
    {
     "data": {
      "image/png": "[encoded data removed]",
      "text/plain": [
       "<Figure size 720x720 with 1 Axes>"
      ]
     },
     "metadata": {
      "needs_background": "light"
     },
     "output_type": "display_data"
    },
    {
     "name": "stdout",
     "output_type": "stream",
     "text": [
      "AUC: 0.6214704849791864\n"
     ]
    }
   ],
   "source": [
    "probabilities_valid = model.predict_proba(test[X])\n",
    "probabilities_one_valid = probabilities_valid[:, 1]\n",
    "\n",
    "fpr, tpr, thresholds = roc_curve(test[y], probabilities_one_valid) \n",
    "\n",
    "plt.figure(figsize=(10, 10))\n",
    "plt.plot(fpr, tpr, linestyle='-')\n",
    "plt.plot([0, 1], [0, 1], linestyle='--')\n",
    "plt.xlim([0.0, 1.0])\n",
    "plt.ylim([0.0, 1.0])\n",
    "plt.xlabel('False Positive Rate')\n",
    "plt.ylabel('True Positive Rate')\n",
    "plt.title('ROC-кривая')\n",
    "plt.show()\n",
    "\n",
    "auc_roc = roc_auc_score(test[y], probabilities_one_valid)\n",
    "\n",
    "print(\"AUC:\", auc_roc)"
   ]
  }
 ],
 "metadata": {
  "ExecuteTimeLog": [
   {
    "duration": 1055,
    "start_time": "2022-12-10T08:57:01.762Z"
   },
   {
    "duration": 74,
    "start_time": "2022-12-10T10:55:18.619Z"
   },
   {
    "duration": 22,
    "start_time": "2022-12-10T10:55:28.277Z"
   },
   {
    "duration": 14,
    "start_time": "2022-12-10T11:02:36.116Z"
   },
   {
    "duration": 16,
    "start_time": "2022-12-10T11:02:54.260Z"
   },
   {
    "duration": 6,
    "start_time": "2022-12-10T11:03:37.530Z"
   },
   {
    "duration": 5,
    "start_time": "2022-12-10T11:05:13.579Z"
   },
   {
    "duration": 16,
    "start_time": "2022-12-10T11:06:20.123Z"
   },
   {
    "duration": 31,
    "start_time": "2022-12-10T11:06:59.568Z"
   },
   {
    "duration": 457,
    "start_time": "2022-12-10T11:07:29.993Z"
   },
   {
    "duration": 8,
    "start_time": "2022-12-10T23:20:51.294Z"
   },
   {
    "duration": 4,
    "start_time": "2022-12-11T08:19:41.421Z"
   },
   {
    "duration": 11,
    "start_time": "2022-12-11T08:22:39.736Z"
   },
   {
    "duration": 14,
    "start_time": "2022-12-11T08:23:05.119Z"
   },
   {
    "duration": 17,
    "start_time": "2022-12-11T08:23:08.029Z"
   },
   {
    "duration": 7,
    "start_time": "2022-12-11T08:23:27.346Z"
   },
   {
    "duration": 6,
    "start_time": "2022-12-11T08:23:44.297Z"
   },
   {
    "duration": 6,
    "start_time": "2022-12-11T08:24:01.982Z"
   },
   {
    "duration": 5,
    "start_time": "2022-12-11T08:24:22.880Z"
   },
   {
    "duration": 5,
    "start_time": "2022-12-11T08:24:45.200Z"
   },
   {
    "duration": 7,
    "start_time": "2022-12-11T08:25:13.705Z"
   },
   {
    "duration": 6,
    "start_time": "2022-12-11T08:25:27.629Z"
   },
   {
    "duration": 9,
    "start_time": "2022-12-11T08:25:57.249Z"
   },
   {
    "duration": 25,
    "start_time": "2022-12-11T08:26:02.918Z"
   },
   {
    "duration": 16,
    "start_time": "2022-12-11T08:26:21.662Z"
   },
   {
    "duration": 15,
    "start_time": "2022-12-11T08:33:49.567Z"
   },
   {
    "duration": 756,
    "start_time": "2022-12-11T08:34:32.009Z"
   },
   {
    "duration": 6,
    "start_time": "2022-12-11T08:34:36.870Z"
   },
   {
    "duration": 4,
    "start_time": "2022-12-11T08:34:52.375Z"
   },
   {
    "duration": 5,
    "start_time": "2022-12-11T08:34:55.192Z"
   },
   {
    "duration": 78,
    "start_time": "2022-12-11T11:08:54.636Z"
   },
   {
    "duration": 14,
    "start_time": "2022-12-11T11:08:56.931Z"
   },
   {
    "duration": 5,
    "start_time": "2022-12-11T11:08:57.957Z"
   },
   {
    "duration": 20,
    "start_time": "2022-12-11T11:08:59.404Z"
   },
   {
    "duration": 33,
    "start_time": "2022-12-11T11:09:00.321Z"
   },
   {
    "duration": 17,
    "start_time": "2022-12-11T11:09:01.473Z"
   },
   {
    "duration": 8,
    "start_time": "2022-12-11T11:09:02.457Z"
   },
   {
    "duration": 12,
    "start_time": "2022-12-11T11:09:03.010Z"
   },
   {
    "duration": 7,
    "start_time": "2022-12-11T11:09:03.483Z"
   },
   {
    "duration": 7,
    "start_time": "2022-12-11T11:09:04.100Z"
   },
   {
    "duration": 7,
    "start_time": "2022-12-11T11:09:04.711Z"
   },
   {
    "duration": 8,
    "start_time": "2022-12-11T11:09:05.553Z"
   },
   {
    "duration": 8,
    "start_time": "2022-12-11T11:09:06.538Z"
   },
   {
    "duration": 6,
    "start_time": "2022-12-11T11:09:07.313Z"
   },
   {
    "duration": 8,
    "start_time": "2022-12-11T11:09:07.948Z"
   },
   {
    "duration": 5,
    "start_time": "2022-12-11T11:09:10.547Z"
   },
   {
    "duration": 5,
    "start_time": "2022-12-11T11:09:21.423Z"
   },
   {
    "duration": 5,
    "start_time": "2022-12-11T11:10:31.303Z"
   },
   {
    "duration": 9,
    "start_time": "2022-12-11T11:11:02.518Z"
   },
   {
    "duration": 7,
    "start_time": "2022-12-11T11:11:11.018Z"
   },
   {
    "duration": 7,
    "start_time": "2022-12-11T11:32:16.078Z"
   },
   {
    "duration": 699,
    "start_time": "2022-12-23T00:55:31.366Z"
   },
   {
    "duration": 22,
    "start_time": "2022-12-23T00:55:32.067Z"
   },
   {
    "duration": 15,
    "start_time": "2022-12-23T00:55:32.090Z"
   },
   {
    "duration": 27,
    "start_time": "2022-12-23T00:55:32.107Z"
   },
   {
    "duration": 36,
    "start_time": "2022-12-23T00:55:32.135Z"
   },
   {
    "duration": 453,
    "start_time": "2022-12-23T00:55:32.173Z"
   },
   {
    "duration": 7,
    "start_time": "2022-12-23T00:55:32.628Z"
   },
   {
    "duration": 17,
    "start_time": "2022-12-23T00:55:32.636Z"
   },
   {
    "duration": 23,
    "start_time": "2022-12-23T00:55:32.654Z"
   },
   {
    "duration": 30,
    "start_time": "2022-12-23T00:55:32.680Z"
   },
   {
    "duration": 15,
    "start_time": "2022-12-23T00:55:32.712Z"
   },
   {
    "duration": 30,
    "start_time": "2022-12-23T00:55:32.728Z"
   },
   {
    "duration": 14,
    "start_time": "2022-12-23T00:55:32.759Z"
   },
   {
    "duration": 31,
    "start_time": "2022-12-23T00:55:32.774Z"
   },
   {
    "duration": 13,
    "start_time": "2022-12-23T00:55:32.807Z"
   },
   {
    "duration": 21,
    "start_time": "2022-12-23T00:55:32.821Z"
   },
   {
    "duration": 17,
    "start_time": "2022-12-23T00:55:32.844Z"
   },
   {
    "duration": 22,
    "start_time": "2022-12-23T00:55:32.863Z"
   },
   {
    "duration": 18,
    "start_time": "2022-12-23T00:55:32.887Z"
   },
   {
    "duration": 13,
    "start_time": "2022-12-23T00:55:32.907Z"
   },
   {
    "duration": 29,
    "start_time": "2022-12-23T00:55:32.922Z"
   },
   {
    "duration": 13,
    "start_time": "2022-12-23T00:55:32.952Z"
   },
   {
    "duration": 17,
    "start_time": "2022-12-23T00:55:32.967Z"
   },
   {
    "duration": 13,
    "start_time": "2022-12-23T00:55:55.255Z"
   },
   {
    "duration": 5,
    "start_time": "2022-12-23T00:56:15.335Z"
   },
   {
    "duration": 14,
    "start_time": "2022-12-23T00:56:17.707Z"
   },
   {
    "duration": 6,
    "start_time": "2022-12-23T00:56:57.575Z"
   },
   {
    "duration": 6,
    "start_time": "2022-12-23T00:57:06.541Z"
   },
   {
    "duration": 3,
    "start_time": "2022-12-23T00:58:33.137Z"
   },
   {
    "duration": 8,
    "start_time": "2022-12-23T00:58:55.794Z"
   },
   {
    "duration": 4,
    "start_time": "2022-12-23T00:59:02.061Z"
   },
   {
    "duration": 13,
    "start_time": "2022-12-23T07:40:48.288Z"
   },
   {
    "duration": 37,
    "start_time": "2022-12-23T12:03:08.028Z"
   },
   {
    "duration": 18,
    "start_time": "2022-12-23T12:04:05.062Z"
   },
   {
    "duration": 16,
    "start_time": "2022-12-23T12:04:12.568Z"
   },
   {
    "duration": 78,
    "start_time": "2022-12-23T12:04:22.370Z"
   },
   {
    "duration": 18,
    "start_time": "2022-12-23T12:04:26.538Z"
   },
   {
    "duration": 5,
    "start_time": "2022-12-23T12:04:28.134Z"
   },
   {
    "duration": 18,
    "start_time": "2022-12-23T12:04:29.950Z"
   },
   {
    "duration": 35,
    "start_time": "2022-12-23T12:04:30.436Z"
   },
   {
    "duration": 36,
    "start_time": "2022-12-23T12:04:33.057Z"
   },
   {
    "duration": 17,
    "start_time": "2022-12-23T12:04:34.307Z"
   },
   {
    "duration": 6,
    "start_time": "2022-12-23T13:12:24.007Z"
   },
   {
    "duration": 5,
    "start_time": "2022-12-23T13:13:36.877Z"
   },
   {
    "duration": 2,
    "start_time": "2022-12-23T13:14:52.422Z"
   },
   {
    "duration": 5,
    "start_time": "2022-12-23T13:44:30.571Z"
   },
   {
    "duration": 5,
    "start_time": "2022-12-23T13:44:41.089Z"
   },
   {
    "duration": 4,
    "start_time": "2022-12-23T13:44:41.460Z"
   },
   {
    "duration": 5,
    "start_time": "2022-12-23T13:44:42.019Z"
   },
   {
    "duration": 5,
    "start_time": "2022-12-23T13:44:42.487Z"
   },
   {
    "duration": 6,
    "start_time": "2022-12-23T13:44:42.940Z"
   },
   {
    "duration": 5,
    "start_time": "2022-12-23T13:45:09.952Z"
   },
   {
    "duration": 4,
    "start_time": "2022-12-23T13:45:13.729Z"
   },
   {
    "duration": 5,
    "start_time": "2022-12-23T13:45:23.007Z"
   },
   {
    "duration": 6,
    "start_time": "2022-12-23T13:45:38.868Z"
   },
   {
    "duration": 8,
    "start_time": "2022-12-23T13:45:53.317Z"
   },
   {
    "duration": 9,
    "start_time": "2022-12-23T13:46:56.118Z"
   },
   {
    "duration": 7,
    "start_time": "2022-12-23T13:47:04.855Z"
   },
   {
    "duration": 7,
    "start_time": "2022-12-23T20:40:00.023Z"
   },
   {
    "duration": 10,
    "start_time": "2022-12-24T12:34:27.926Z"
   },
   {
    "duration": 672,
    "start_time": "2023-01-11T08:51:00.994Z"
   },
   {
    "duration": 24,
    "start_time": "2023-01-11T08:51:04.371Z"
   },
   {
    "duration": 4,
    "start_time": "2023-01-11T08:51:05.595Z"
   },
   {
    "duration": 32,
    "start_time": "2023-01-11T08:51:07.517Z"
   },
   {
    "duration": 32,
    "start_time": "2023-01-11T08:51:08.055Z"
   },
   {
    "duration": 34,
    "start_time": "2023-01-11T08:51:09.550Z"
   },
   {
    "duration": 9,
    "start_time": "2023-01-11T08:51:28.330Z"
   },
   {
    "duration": 4,
    "start_time": "2023-01-11T08:51:56.430Z"
   },
   {
    "duration": 19,
    "start_time": "2023-01-11T08:52:02.017Z"
   },
   {
    "duration": 12,
    "start_time": "2023-01-11T08:52:45.363Z"
   },
   {
    "duration": 124,
    "start_time": "2023-01-11T09:10:26.971Z"
   },
   {
    "duration": 8,
    "start_time": "2023-01-11T09:11:28.578Z"
   },
   {
    "duration": 19,
    "start_time": "2023-01-11T09:11:39.168Z"
   },
   {
    "duration": 91,
    "start_time": "2023-01-11T09:12:11.341Z"
   },
   {
    "duration": 13,
    "start_time": "2023-01-11T09:12:28.929Z"
   },
   {
    "duration": 18,
    "start_time": "2023-01-11T09:17:46.884Z"
   },
   {
    "duration": 29,
    "start_time": "2023-01-11T09:24:16.946Z"
   },
   {
    "duration": 17,
    "start_time": "2023-01-11T09:24:25.382Z"
   },
   {
    "duration": 6,
    "start_time": "2023-01-11T09:28:06.326Z"
   },
   {
    "duration": 4,
    "start_time": "2023-01-11T09:31:36.579Z"
   },
   {
    "duration": 9,
    "start_time": "2023-01-11T09:31:43.490Z"
   },
   {
    "duration": 9,
    "start_time": "2023-01-11T09:32:04.351Z"
   },
   {
    "duration": 7,
    "start_time": "2023-01-11T09:32:08.975Z"
   },
   {
    "duration": 4,
    "start_time": "2023-01-11T09:32:39.508Z"
   },
   {
    "duration": 9,
    "start_time": "2023-01-11T09:32:40.078Z"
   },
   {
    "duration": 7,
    "start_time": "2023-01-11T09:32:40.590Z"
   },
   {
    "duration": 11,
    "start_time": "2023-01-11T09:33:00.994Z"
   },
   {
    "duration": 6,
    "start_time": "2023-01-11T09:33:06.335Z"
   },
   {
    "duration": 11,
    "start_time": "2023-01-11T09:33:07.378Z"
   },
   {
    "duration": 6,
    "start_time": "2023-01-11T09:33:07.953Z"
   },
   {
    "duration": 8,
    "start_time": "2023-01-11T09:33:08.492Z"
   },
   {
    "duration": 6,
    "start_time": "2023-01-11T09:33:43.734Z"
   },
   {
    "duration": 10,
    "start_time": "2023-01-11T09:34:01.617Z"
   },
   {
    "duration": 17,
    "start_time": "2023-01-11T09:34:38.908Z"
   },
   {
    "duration": 11,
    "start_time": "2023-01-11T09:34:44.696Z"
   },
   {
    "duration": 21,
    "start_time": "2023-01-11T09:34:50.943Z"
   },
   {
    "duration": 7,
    "start_time": "2023-01-11T09:36:48.269Z"
   },
   {
    "duration": 6,
    "start_time": "2023-01-11T09:38:32.027Z"
   },
   {
    "duration": 14,
    "start_time": "2023-01-11T09:40:03.726Z"
   },
   {
    "duration": 9,
    "start_time": "2023-01-11T09:40:05.319Z"
   },
   {
    "duration": 6,
    "start_time": "2023-01-11T09:40:45.672Z"
   },
   {
    "duration": 27,
    "start_time": "2023-01-11T09:41:29.780Z"
   },
   {
    "duration": 11,
    "start_time": "2023-01-11T09:41:56.418Z"
   },
   {
    "duration": 17,
    "start_time": "2023-01-11T09:44:19.954Z"
   },
   {
    "duration": 8,
    "start_time": "2023-01-11T09:46:06.651Z"
   },
   {
    "duration": 4,
    "start_time": "2023-01-11T09:46:14.220Z"
   },
   {
    "duration": 5,
    "start_time": "2023-01-11T09:46:18.287Z"
   },
   {
    "duration": 17,
    "start_time": "2023-01-11T09:46:33.635Z"
   },
   {
    "duration": 4,
    "start_time": "2023-01-11T09:49:47.575Z"
   },
   {
    "duration": 6,
    "start_time": "2023-01-11T09:51:11.336Z"
   },
   {
    "duration": 9,
    "start_time": "2023-01-11T09:53:41.319Z"
   },
   {
    "duration": 5,
    "start_time": "2023-01-11T09:53:45.259Z"
   },
   {
    "duration": 40,
    "start_time": "2023-01-11T09:54:48.119Z"
   },
   {
    "duration": 17,
    "start_time": "2023-01-11T09:55:09.281Z"
   },
   {
    "duration": 6,
    "start_time": "2023-01-11T09:56:42.375Z"
   },
   {
    "duration": 6,
    "start_time": "2023-01-11T09:57:15.823Z"
   },
   {
    "duration": 5,
    "start_time": "2023-01-11T09:57:28.655Z"
   },
   {
    "duration": 8,
    "start_time": "2023-01-11T09:57:51.348Z"
   },
   {
    "duration": 12,
    "start_time": "2023-01-11T09:57:57.826Z"
   },
   {
    "duration": 315,
    "start_time": "2023-01-11T10:05:35.112Z"
   },
   {
    "duration": 4,
    "start_time": "2023-01-11T10:05:37.995Z"
   },
   {
    "duration": 12,
    "start_time": "2023-01-11T10:05:38.700Z"
   },
   {
    "duration": 6,
    "start_time": "2023-01-11T10:05:39.782Z"
   },
   {
    "duration": 18,
    "start_time": "2023-01-11T10:05:40.908Z"
   },
   {
    "duration": 34,
    "start_time": "2023-01-11T10:05:41.393Z"
   },
   {
    "duration": 34,
    "start_time": "2023-01-11T10:05:42.185Z"
   },
   {
    "duration": 59,
    "start_time": "2023-01-11T10:05:42.770Z"
   },
   {
    "duration": 17,
    "start_time": "2023-01-11T10:05:43.168Z"
   },
   {
    "duration": 7,
    "start_time": "2023-01-11T10:05:44.054Z"
   },
   {
    "duration": 13,
    "start_time": "2023-01-11T10:05:44.455Z"
   },
   {
    "duration": 6,
    "start_time": "2023-01-11T10:05:44.664Z"
   },
   {
    "duration": 7,
    "start_time": "2023-01-11T10:05:44.864Z"
   },
   {
    "duration": 7,
    "start_time": "2023-01-11T10:05:45.259Z"
   },
   {
    "duration": 3,
    "start_time": "2023-01-11T10:05:45.671Z"
   },
   {
    "duration": 15,
    "start_time": "2023-01-11T10:05:45.866Z"
   },
   {
    "duration": 7,
    "start_time": "2023-01-11T10:05:46.092Z"
   },
   {
    "duration": 6,
    "start_time": "2023-01-11T10:05:46.517Z"
   },
   {
    "duration": 7,
    "start_time": "2023-01-11T10:05:46.764Z"
   },
   {
    "duration": 28,
    "start_time": "2023-01-11T10:05:48.214Z"
   },
   {
    "duration": 13,
    "start_time": "2023-01-11T10:05:49.859Z"
   },
   {
    "duration": 7,
    "start_time": "2023-01-11T10:05:50.377Z"
   },
   {
    "duration": 6,
    "start_time": "2023-01-11T10:05:53.401Z"
   },
   {
    "duration": 13,
    "start_time": "2023-01-11T10:05:53.665Z"
   },
   {
    "duration": 10,
    "start_time": "2023-01-11T10:05:54.113Z"
   },
   {
    "duration": 5,
    "start_time": "2023-01-11T10:05:55.685Z"
   },
   {
    "duration": 8,
    "start_time": "2023-01-11T10:05:56.422Z"
   },
   {
    "duration": 18,
    "start_time": "2023-01-11T10:05:57.485Z"
   },
   {
    "duration": 4,
    "start_time": "2023-01-11T10:05:58.569Z"
   },
   {
    "duration": 17,
    "start_time": "2023-01-11T10:05:59.277Z"
   },
   {
    "duration": 4,
    "start_time": "2023-01-11T10:06:00.302Z"
   },
   {
    "duration": 6,
    "start_time": "2023-01-11T10:06:00.676Z"
   },
   {
    "duration": 5,
    "start_time": "2023-01-11T10:06:01.908Z"
   },
   {
    "duration": 5,
    "start_time": "2023-01-11T10:06:02.547Z"
   },
   {
    "duration": 17,
    "start_time": "2023-01-11T10:06:03.143Z"
   },
   {
    "duration": 6,
    "start_time": "2023-01-11T10:06:06.370Z"
   },
   {
    "duration": 5,
    "start_time": "2023-01-11T10:06:10.762Z"
   },
   {
    "duration": 312,
    "start_time": "2023-01-11T10:07:19.278Z"
   },
   {
    "duration": 271,
    "start_time": "2023-01-11T10:07:30.864Z"
   },
   {
    "duration": 1678,
    "start_time": "2023-01-11T10:07:44.707Z"
   },
   {
    "duration": 5,
    "start_time": "2023-01-11T10:08:09.623Z"
   },
   {
    "duration": 7,
    "start_time": "2023-01-11T10:08:10.183Z"
   },
   {
    "duration": 1594,
    "start_time": "2023-01-11T10:08:12.093Z"
   },
   {
    "duration": 8,
    "start_time": "2023-01-11T10:08:13.689Z"
   },
   {
    "duration": 1594,
    "start_time": "2023-01-11T10:08:18.992Z"
   },
   {
    "duration": 1629,
    "start_time": "2023-01-11T10:09:33.905Z"
   },
   {
    "duration": 13,
    "start_time": "2023-01-11T10:10:39.684Z"
   },
   {
    "duration": 35,
    "start_time": "2023-01-11T10:10:44.169Z"
   },
   {
    "duration": 14,
    "start_time": "2023-01-11T10:11:10.013Z"
   },
   {
    "duration": 14,
    "start_time": "2023-01-11T10:11:29.115Z"
   },
   {
    "duration": 9,
    "start_time": "2023-01-11T10:11:30.998Z"
   },
   {
    "duration": 3,
    "start_time": "2023-01-11T10:11:58.971Z"
   },
   {
    "duration": 3,
    "start_time": "2023-01-11T10:12:04.483Z"
   },
   {
    "duration": 1642,
    "start_time": "2023-01-11T10:12:45.464Z"
   },
   {
    "duration": 322,
    "start_time": "2023-01-11T10:12:58.363Z"
   },
   {
    "duration": 1554,
    "start_time": "2023-01-11T10:13:16.836Z"
   },
   {
    "duration": 11,
    "start_time": "2023-01-11T10:15:33.173Z"
   },
   {
    "duration": 6,
    "start_time": "2023-01-11T10:15:52.108Z"
   },
   {
    "duration": 6,
    "start_time": "2023-01-11T10:16:04.670Z"
   },
   {
    "duration": 11,
    "start_time": "2023-01-11T10:16:43.382Z"
   },
   {
    "duration": 8,
    "start_time": "2023-01-11T10:16:47.675Z"
   },
   {
    "duration": 6,
    "start_time": "2023-01-11T10:16:53.670Z"
   },
   {
    "duration": 7,
    "start_time": "2023-01-11T10:16:58.768Z"
   },
   {
    "duration": 29,
    "start_time": "2023-01-11T10:17:53.797Z"
   },
   {
    "duration": 8,
    "start_time": "2023-01-11T10:18:03.359Z"
   },
   {
    "duration": 8,
    "start_time": "2023-01-11T10:18:08.219Z"
   },
   {
    "duration": 10,
    "start_time": "2023-01-11T10:18:13.667Z"
   },
   {
    "duration": 17,
    "start_time": "2023-01-11T10:19:48.759Z"
   },
   {
    "duration": 5,
    "start_time": "2023-01-11T10:20:17.270Z"
   },
   {
    "duration": 6,
    "start_time": "2023-01-11T10:20:46.551Z"
   },
   {
    "duration": 9,
    "start_time": "2023-01-11T10:23:01.089Z"
   },
   {
    "duration": 7,
    "start_time": "2023-01-11T10:30:37.560Z"
   },
   {
    "duration": 1746,
    "start_time": "2023-01-11T10:31:05.781Z"
   },
   {
    "duration": 280,
    "start_time": "2023-01-11T10:31:30.405Z"
   },
   {
    "duration": 304,
    "start_time": "2023-01-11T10:31:49.745Z"
   },
   {
    "duration": 456,
    "start_time": "2023-01-11T10:32:18.855Z"
   },
   {
    "duration": 343,
    "start_time": "2023-01-11T10:32:25.358Z"
   },
   {
    "duration": 243,
    "start_time": "2023-01-11T10:32:33.891Z"
   },
   {
    "duration": 993,
    "start_time": "2023-01-11T10:38:30.119Z"
   },
   {
    "duration": 910,
    "start_time": "2023-01-11T13:00:00.240Z"
   },
   {
    "duration": 903,
    "start_time": "2023-01-11T13:01:04.592Z"
   },
   {
    "duration": 211,
    "start_time": "2023-01-11T13:01:39.793Z"
   },
   {
    "duration": 5,
    "start_time": "2023-01-11T13:02:02.608Z"
   },
   {
    "duration": 5,
    "start_time": "2023-01-11T13:02:08.451Z"
   },
   {
    "duration": 1493,
    "start_time": "2023-01-11T13:02:32.094Z"
   },
   {
    "duration": 1619,
    "start_time": "2023-01-11T13:03:04.520Z"
   },
   {
    "duration": 4,
    "start_time": "2023-01-11T13:03:40.749Z"
   },
   {
    "duration": 17,
    "start_time": "2023-01-11T13:03:57.207Z"
   },
   {
    "duration": 10,
    "start_time": "2023-01-11T13:04:59.707Z"
   },
   {
    "duration": 27,
    "start_time": "2023-01-11T13:05:08.631Z"
   },
   {
    "duration": 10,
    "start_time": "2023-01-11T13:06:57.535Z"
   },
   {
    "duration": 1667,
    "start_time": "2023-01-11T13:07:13.200Z"
   },
   {
    "duration": 1671,
    "start_time": "2023-01-11T13:07:46.386Z"
   },
   {
    "duration": 767,
    "start_time": "2023-01-11T13:09:44.024Z"
   },
   {
    "duration": 5,
    "start_time": "2023-01-11T13:09:44.793Z"
   },
   {
    "duration": 17,
    "start_time": "2023-01-11T13:09:44.800Z"
   },
   {
    "duration": 5,
    "start_time": "2023-01-11T13:09:44.819Z"
   },
   {
    "duration": 24,
    "start_time": "2023-01-11T13:09:44.825Z"
   },
   {
    "duration": 33,
    "start_time": "2023-01-11T13:09:44.851Z"
   },
   {
    "duration": 58,
    "start_time": "2023-01-11T13:09:44.885Z"
   },
   {
    "duration": 58,
    "start_time": "2023-01-11T13:09:44.945Z"
   },
   {
    "duration": 31,
    "start_time": "2023-01-11T13:09:45.005Z"
   },
   {
    "duration": 6,
    "start_time": "2023-01-11T13:09:45.040Z"
   },
   {
    "duration": 17,
    "start_time": "2023-01-11T13:09:45.047Z"
   },
   {
    "duration": 12,
    "start_time": "2023-01-11T13:09:45.066Z"
   },
   {
    "duration": 11,
    "start_time": "2023-01-11T13:09:45.080Z"
   },
   {
    "duration": 35,
    "start_time": "2023-01-11T13:09:45.093Z"
   },
   {
    "duration": 5,
    "start_time": "2023-01-11T13:09:45.130Z"
   },
   {
    "duration": 13,
    "start_time": "2023-01-11T13:09:45.137Z"
   },
   {
    "duration": 8,
    "start_time": "2023-01-11T13:09:45.152Z"
   },
   {
    "duration": 8,
    "start_time": "2023-01-11T13:09:45.162Z"
   },
   {
    "duration": 10,
    "start_time": "2023-01-11T13:09:45.172Z"
   },
   {
    "duration": 51,
    "start_time": "2023-01-11T13:09:45.184Z"
   },
   {
    "duration": 10,
    "start_time": "2023-01-11T13:09:45.236Z"
   },
   {
    "duration": 8,
    "start_time": "2023-01-11T13:09:45.247Z"
   },
   {
    "duration": 18,
    "start_time": "2023-01-11T13:09:45.257Z"
   },
   {
    "duration": 24,
    "start_time": "2023-01-11T13:09:45.276Z"
   },
   {
    "duration": 22,
    "start_time": "2023-01-11T13:09:45.302Z"
   },
   {
    "duration": 11,
    "start_time": "2023-01-11T13:09:45.325Z"
   },
   {
    "duration": 9,
    "start_time": "2023-01-11T13:09:45.337Z"
   },
   {
    "duration": 22,
    "start_time": "2023-01-11T13:09:45.349Z"
   },
   {
    "duration": 3,
    "start_time": "2023-01-11T13:09:45.373Z"
   },
   {
    "duration": 18,
    "start_time": "2023-01-11T13:09:45.377Z"
   },
   {
    "duration": 27,
    "start_time": "2023-01-11T13:09:45.397Z"
   },
   {
    "duration": 9,
    "start_time": "2023-01-11T13:09:45.425Z"
   },
   {
    "duration": 6,
    "start_time": "2023-01-11T13:09:45.436Z"
   },
   {
    "duration": 7,
    "start_time": "2023-01-11T13:09:45.443Z"
   },
   {
    "duration": 24,
    "start_time": "2023-01-11T13:09:45.451Z"
   },
   {
    "duration": 5,
    "start_time": "2023-01-11T13:09:45.477Z"
   },
   {
    "duration": 6,
    "start_time": "2023-01-11T13:09:45.483Z"
   },
   {
    "duration": 32,
    "start_time": "2023-01-11T13:09:45.490Z"
   },
   {
    "duration": 1478,
    "start_time": "2023-01-11T13:09:45.524Z"
   },
   {
    "duration": 8,
    "start_time": "2023-01-11T13:09:47.004Z"
   },
   {
    "duration": 26,
    "start_time": "2023-01-11T13:09:47.013Z"
   },
   {
    "duration": 24,
    "start_time": "2023-01-11T13:09:47.040Z"
   },
   {
    "duration": 28,
    "start_time": "2023-01-11T13:09:47.066Z"
   },
   {
    "duration": 14,
    "start_time": "2023-01-11T13:09:47.096Z"
   },
   {
    "duration": 230,
    "start_time": "2023-01-11T13:09:47.111Z"
   },
   {
    "duration": 219,
    "start_time": "2023-01-11T13:09:47.343Z"
   },
   {
    "duration": 1504,
    "start_time": "2023-01-11T13:09:47.564Z"
   },
   {
    "duration": 8,
    "start_time": "2023-01-11T13:09:49.069Z"
   },
   {
    "duration": 1663,
    "start_time": "2023-01-11T13:11:03.061Z"
   },
   {
    "duration": 309,
    "start_time": "2023-01-11T13:11:19.330Z"
   },
   {
    "duration": 377,
    "start_time": "2023-01-11T13:12:06.883Z"
   },
   {
    "duration": 308,
    "start_time": "2023-01-11T13:12:25.136Z"
   },
   {
    "duration": 333,
    "start_time": "2023-01-11T13:14:17.003Z"
   },
   {
    "duration": 315,
    "start_time": "2023-01-11T13:14:40.142Z"
   },
   {
    "duration": 502,
    "start_time": "2023-01-11T13:14:46.398Z"
   },
   {
    "duration": 227,
    "start_time": "2023-01-11T13:15:01.020Z"
   },
   {
    "duration": 213,
    "start_time": "2023-01-11T13:15:09.791Z"
   },
   {
    "duration": 91,
    "start_time": "2023-01-11T13:15:40.897Z"
   },
   {
    "duration": 1457,
    "start_time": "2023-01-11T13:15:45.899Z"
   },
   {
    "duration": 1728,
    "start_time": "2023-01-11T13:16:02.531Z"
   },
   {
    "duration": 13,
    "start_time": "2023-01-11T13:26:24.855Z"
   },
   {
    "duration": 13,
    "start_time": "2023-01-11T16:03:14.236Z"
   },
   {
    "duration": 71,
    "start_time": "2023-01-11T18:26:02.159Z"
   },
   {
    "duration": 1102,
    "start_time": "2023-01-11T18:26:10.392Z"
   },
   {
    "duration": 289,
    "start_time": "2023-01-11T18:26:30.057Z"
   },
   {
    "duration": 10,
    "start_time": "2023-01-11T18:26:38.316Z"
   },
   {
    "duration": 13,
    "start_time": "2023-01-11T18:26:58.629Z"
   },
   {
    "duration": 224,
    "start_time": "2023-01-11T18:27:26.336Z"
   },
   {
    "duration": 12,
    "start_time": "2023-01-11T18:27:34.458Z"
   },
   {
    "duration": 71,
    "start_time": "2023-01-11T18:29:45.353Z"
   },
   {
    "duration": 10,
    "start_time": "2023-01-11T18:32:50.874Z"
   },
   {
    "duration": 14,
    "start_time": "2023-01-11T18:33:31.892Z"
   },
   {
    "duration": 10,
    "start_time": "2023-01-11T18:36:54.542Z"
   },
   {
    "duration": 22,
    "start_time": "2023-01-11T18:38:36.922Z"
   },
   {
    "duration": 12,
    "start_time": "2023-01-11T18:40:02.098Z"
   },
   {
    "duration": 7,
    "start_time": "2023-01-11T18:44:02.041Z"
   },
   {
    "duration": 13,
    "start_time": "2023-01-11T18:45:25.797Z"
   },
   {
    "duration": 69,
    "start_time": "2023-01-11T18:48:06.432Z"
   },
   {
    "duration": 14,
    "start_time": "2023-01-11T18:52:20.900Z"
   },
   {
    "duration": 12,
    "start_time": "2023-01-11T18:52:28.603Z"
   },
   {
    "duration": 83,
    "start_time": "2023-01-11T18:53:45.292Z"
   },
   {
    "duration": 15,
    "start_time": "2023-01-11T18:54:06.068Z"
   },
   {
    "duration": 4,
    "start_time": "2023-01-11T19:01:37.626Z"
   },
   {
    "duration": 14,
    "start_time": "2023-01-11T19:05:37.563Z"
   },
   {
    "duration": 13,
    "start_time": "2023-01-11T19:05:48.968Z"
   },
   {
    "duration": 10,
    "start_time": "2023-01-11T19:08:18.462Z"
   },
   {
    "duration": 13,
    "start_time": "2023-01-11T19:08:24.991Z"
   },
   {
    "duration": 13,
    "start_time": "2023-01-11T19:08:27.998Z"
   },
   {
    "duration": 18,
    "start_time": "2023-01-11T19:09:50.408Z"
   },
   {
    "duration": 12,
    "start_time": "2023-01-11T19:09:52.636Z"
   },
   {
    "duration": 16,
    "start_time": "2023-01-11T19:10:07.500Z"
   },
   {
    "duration": 12,
    "start_time": "2023-01-11T19:10:18.279Z"
   },
   {
    "duration": 12,
    "start_time": "2023-01-11T19:11:09.396Z"
   },
   {
    "duration": 14,
    "start_time": "2023-01-11T19:14:00.188Z"
   },
   {
    "duration": 13,
    "start_time": "2023-01-11T19:14:00.915Z"
   },
   {
    "duration": 15,
    "start_time": "2023-01-11T19:14:10.244Z"
   },
   {
    "duration": 12,
    "start_time": "2023-01-11T19:14:12.550Z"
   },
   {
    "duration": 71,
    "start_time": "2023-01-11T19:14:42.974Z"
   },
   {
    "duration": 14,
    "start_time": "2023-01-11T19:14:47.247Z"
   },
   {
    "duration": 14,
    "start_time": "2023-01-11T19:15:05.088Z"
   },
   {
    "duration": 13,
    "start_time": "2023-01-11T19:15:07.988Z"
   },
   {
    "duration": 12,
    "start_time": "2023-01-11T19:15:09.716Z"
   },
   {
    "duration": 13,
    "start_time": "2023-01-11T19:15:18.300Z"
   },
   {
    "duration": 12,
    "start_time": "2023-01-11T19:15:21.285Z"
   },
   {
    "duration": 13,
    "start_time": "2023-01-11T19:15:23.272Z"
   },
   {
    "duration": 1608,
    "start_time": "2023-01-11T19:26:17.297Z"
   },
   {
    "duration": 25,
    "start_time": "2023-01-11T19:26:31.890Z"
   },
   {
    "duration": 47,
    "start_time": "2023-01-12T17:39:13.298Z"
   },
   {
    "duration": 952,
    "start_time": "2023-01-12T17:39:23.022Z"
   },
   {
    "duration": 6,
    "start_time": "2023-01-12T17:39:23.976Z"
   },
   {
    "duration": 22,
    "start_time": "2023-01-12T17:39:23.983Z"
   },
   {
    "duration": 22,
    "start_time": "2023-01-12T17:39:24.007Z"
   },
   {
    "duration": 21,
    "start_time": "2023-01-12T17:39:24.031Z"
   },
   {
    "duration": 31,
    "start_time": "2023-01-12T17:39:24.054Z"
   },
   {
    "duration": 41,
    "start_time": "2023-01-12T17:39:24.087Z"
   },
   {
    "duration": 66,
    "start_time": "2023-01-12T17:39:24.130Z"
   },
   {
    "duration": 17,
    "start_time": "2023-01-12T17:39:24.204Z"
   },
   {
    "duration": 5,
    "start_time": "2023-01-12T17:39:24.224Z"
   },
   {
    "duration": 15,
    "start_time": "2023-01-12T17:39:24.231Z"
   },
   {
    "duration": 10,
    "start_time": "2023-01-12T17:39:24.247Z"
   },
   {
    "duration": 10,
    "start_time": "2023-01-12T17:39:24.259Z"
   },
   {
    "duration": 36,
    "start_time": "2023-01-12T17:39:24.270Z"
   },
   {
    "duration": 5,
    "start_time": "2023-01-12T17:39:24.307Z"
   },
   {
    "duration": 18,
    "start_time": "2023-01-12T17:39:24.314Z"
   },
   {
    "duration": 12,
    "start_time": "2023-01-12T17:39:24.334Z"
   },
   {
    "duration": 9,
    "start_time": "2023-01-12T17:39:24.347Z"
   },
   {
    "duration": 12,
    "start_time": "2023-01-12T17:39:24.358Z"
   },
   {
    "duration": 34,
    "start_time": "2023-01-12T17:39:24.372Z"
   },
   {
    "duration": 5,
    "start_time": "2023-01-12T17:39:24.408Z"
   },
   {
    "duration": 13,
    "start_time": "2023-01-12T17:39:24.414Z"
   },
   {
    "duration": 8,
    "start_time": "2023-01-12T17:39:24.430Z"
   },
   {
    "duration": 23,
    "start_time": "2023-01-12T17:39:24.440Z"
   },
   {
    "duration": 12,
    "start_time": "2023-01-12T17:39:24.465Z"
   },
   {
    "duration": 8,
    "start_time": "2023-01-12T17:39:24.479Z"
   },
   {
    "duration": 16,
    "start_time": "2023-01-12T17:39:24.489Z"
   },
   {
    "duration": 17,
    "start_time": "2023-01-12T17:39:24.509Z"
   },
   {
    "duration": 12,
    "start_time": "2023-01-12T17:39:24.529Z"
   },
   {
    "duration": 18,
    "start_time": "2023-01-12T17:39:24.542Z"
   },
   {
    "duration": 4,
    "start_time": "2023-01-12T17:39:24.562Z"
   },
   {
    "duration": 8,
    "start_time": "2023-01-12T17:39:24.568Z"
   },
   {
    "duration": 28,
    "start_time": "2023-01-12T17:39:24.578Z"
   },
   {
    "duration": 6,
    "start_time": "2023-01-12T17:39:24.607Z"
   },
   {
    "duration": 18,
    "start_time": "2023-01-12T17:39:24.615Z"
   },
   {
    "duration": 8,
    "start_time": "2023-01-12T17:39:24.634Z"
   },
   {
    "duration": 10,
    "start_time": "2023-01-12T17:39:24.643Z"
   },
   {
    "duration": 7,
    "start_time": "2023-01-12T17:39:24.655Z"
   },
   {
    "duration": 1474,
    "start_time": "2023-01-12T17:39:24.664Z"
   },
   {
    "duration": 12,
    "start_time": "2023-01-12T17:39:26.140Z"
   },
   {
    "duration": 17,
    "start_time": "2023-01-12T17:39:26.154Z"
   },
   {
    "duration": 6,
    "start_time": "2023-01-12T17:39:26.173Z"
   },
   {
    "duration": 6,
    "start_time": "2023-01-12T17:39:26.205Z"
   },
   {
    "duration": 11,
    "start_time": "2023-01-12T17:39:26.212Z"
   },
   {
    "duration": 282,
    "start_time": "2023-01-12T17:39:26.224Z"
   },
   {
    "duration": 210,
    "start_time": "2023-01-12T17:39:26.508Z"
   },
   {
    "duration": 1662,
    "start_time": "2023-01-12T17:39:26.720Z"
   },
   {
    "duration": 338,
    "start_time": "2023-01-12T17:39:28.384Z"
   },
   {
    "duration": 13,
    "start_time": "2023-01-12T17:39:28.723Z"
   },
   {
    "duration": 22,
    "start_time": "2023-01-12T17:39:28.737Z"
   },
   {
    "duration": 10,
    "start_time": "2023-01-12T17:39:28.761Z"
   },
   {
    "duration": 10,
    "start_time": "2023-01-12T17:39:28.773Z"
   },
   {
    "duration": 30,
    "start_time": "2023-01-12T17:39:28.785Z"
   },
   {
    "duration": 10,
    "start_time": "2023-01-12T17:39:28.817Z"
   },
   {
    "duration": 10,
    "start_time": "2023-01-12T17:39:28.829Z"
   },
   {
    "duration": 13,
    "start_time": "2023-01-12T17:39:28.840Z"
   },
   {
    "duration": 21,
    "start_time": "2023-01-12T17:39:28.855Z"
   },
   {
    "duration": 34,
    "start_time": "2023-01-12T17:39:28.877Z"
   },
   {
    "duration": 15,
    "start_time": "2023-01-12T17:39:28.913Z"
   },
   {
    "duration": 6,
    "start_time": "2023-01-12T17:39:28.930Z"
   },
   {
    "duration": 14,
    "start_time": "2023-01-12T17:39:28.937Z"
   },
   {
    "duration": 11,
    "start_time": "2023-01-12T17:39:28.952Z"
   },
   {
    "duration": 51,
    "start_time": "2023-01-12T17:39:28.965Z"
   },
   {
    "duration": 13,
    "start_time": "2023-01-12T17:42:34.021Z"
   },
   {
    "duration": 16,
    "start_time": "2023-01-12T17:42:39.295Z"
   },
   {
    "duration": 11,
    "start_time": "2023-01-12T17:43:24.088Z"
   },
   {
    "duration": 370,
    "start_time": "2023-01-12T17:44:16.573Z"
   },
   {
    "duration": 409,
    "start_time": "2023-01-12T17:44:50.285Z"
   },
   {
    "duration": 936,
    "start_time": "2023-01-12T17:45:45.823Z"
   },
   {
    "duration": 740,
    "start_time": "2023-01-12T17:46:00.512Z"
   },
   {
    "duration": 11,
    "start_time": "2023-01-12T17:48:20.013Z"
   },
   {
    "duration": 10,
    "start_time": "2023-01-12T17:48:29.159Z"
   },
   {
    "duration": 506,
    "start_time": "2023-01-12T17:56:10.759Z"
   },
   {
    "duration": 403,
    "start_time": "2023-01-12T18:20:53.002Z"
   },
   {
    "duration": 9249,
    "start_time": "2023-01-12T18:21:54.140Z"
   },
   {
    "duration": 306,
    "start_time": "2023-01-12T18:22:09.320Z"
   },
   {
    "duration": 302,
    "start_time": "2023-01-12T18:22:19.350Z"
   },
   {
    "duration": 299,
    "start_time": "2023-01-12T18:22:37.629Z"
   },
   {
    "duration": 702,
    "start_time": "2023-01-13T07:56:03.211Z"
   },
   {
    "duration": 5,
    "start_time": "2023-01-13T07:56:03.915Z"
   },
   {
    "duration": 32,
    "start_time": "2023-01-13T07:56:03.922Z"
   },
   {
    "duration": 41,
    "start_time": "2023-01-13T07:56:03.956Z"
   },
   {
    "duration": 44,
    "start_time": "2023-01-13T07:56:03.999Z"
   },
   {
    "duration": 67,
    "start_time": "2023-01-13T07:56:04.045Z"
   },
   {
    "duration": 42,
    "start_time": "2023-01-13T07:56:04.114Z"
   },
   {
    "duration": 72,
    "start_time": "2023-01-13T07:56:04.158Z"
   },
   {
    "duration": 14,
    "start_time": "2023-01-13T07:56:04.231Z"
   },
   {
    "duration": 24,
    "start_time": "2023-01-13T07:56:04.247Z"
   },
   {
    "duration": 26,
    "start_time": "2023-01-13T07:56:04.272Z"
   },
   {
    "duration": 36,
    "start_time": "2023-01-13T07:56:04.299Z"
   },
   {
    "duration": 25,
    "start_time": "2023-01-13T07:56:04.337Z"
   },
   {
    "duration": 49,
    "start_time": "2023-01-13T07:56:04.364Z"
   },
   {
    "duration": 65,
    "start_time": "2023-01-13T07:56:04.415Z"
   },
   {
    "duration": 52,
    "start_time": "2023-01-13T07:56:04.482Z"
   },
   {
    "duration": 31,
    "start_time": "2023-01-13T07:56:04.536Z"
   },
   {
    "duration": 43,
    "start_time": "2023-01-13T07:56:04.569Z"
   },
   {
    "duration": 26,
    "start_time": "2023-01-13T07:56:04.614Z"
   },
   {
    "duration": 52,
    "start_time": "2023-01-13T07:56:04.642Z"
   },
   {
    "duration": 6,
    "start_time": "2023-01-13T07:56:04.695Z"
   },
   {
    "duration": 39,
    "start_time": "2023-01-13T07:56:04.702Z"
   },
   {
    "duration": 36,
    "start_time": "2023-01-13T07:56:04.743Z"
   },
   {
    "duration": 40,
    "start_time": "2023-01-13T07:56:04.780Z"
   },
   {
    "duration": 36,
    "start_time": "2023-01-13T07:56:04.822Z"
   },
   {
    "duration": 37,
    "start_time": "2023-01-13T07:56:04.860Z"
   },
   {
    "duration": 60,
    "start_time": "2023-01-13T07:56:04.899Z"
   },
   {
    "duration": 43,
    "start_time": "2023-01-13T07:56:04.963Z"
   },
   {
    "duration": 34,
    "start_time": "2023-01-13T07:56:05.007Z"
   },
   {
    "duration": 40,
    "start_time": "2023-01-13T07:56:05.043Z"
   },
   {
    "duration": 48,
    "start_time": "2023-01-13T07:56:05.085Z"
   },
   {
    "duration": 47,
    "start_time": "2023-01-13T07:56:05.134Z"
   },
   {
    "duration": 20,
    "start_time": "2023-01-13T07:56:05.183Z"
   },
   {
    "duration": 40,
    "start_time": "2023-01-13T07:56:05.205Z"
   },
   {
    "duration": 60,
    "start_time": "2023-01-13T07:56:05.247Z"
   },
   {
    "duration": 15,
    "start_time": "2023-01-13T07:56:05.309Z"
   },
   {
    "duration": 25,
    "start_time": "2023-01-13T07:56:05.325Z"
   },
   {
    "duration": 49,
    "start_time": "2023-01-13T07:56:05.352Z"
   },
   {
    "duration": 808,
    "start_time": "2023-01-13T07:56:05.403Z"
   },
   {
    "duration": 7,
    "start_time": "2023-01-13T07:56:06.213Z"
   },
   {
    "duration": 33,
    "start_time": "2023-01-13T07:56:06.221Z"
   },
   {
    "duration": 39,
    "start_time": "2023-01-13T07:56:06.255Z"
   },
   {
    "duration": 21,
    "start_time": "2023-01-13T07:56:06.296Z"
   },
   {
    "duration": 21,
    "start_time": "2023-01-13T07:56:06.318Z"
   },
   {
    "duration": 313,
    "start_time": "2023-01-13T07:56:06.341Z"
   },
   {
    "duration": 83,
    "start_time": "2023-01-13T07:56:06.656Z"
   },
   {
    "duration": 0,
    "start_time": "2023-01-13T07:56:06.741Z"
   },
   {
    "duration": 0,
    "start_time": "2023-01-13T07:56:06.743Z"
   },
   {
    "duration": 0,
    "start_time": "2023-01-13T07:56:06.743Z"
   },
   {
    "duration": 0,
    "start_time": "2023-01-13T07:56:06.744Z"
   },
   {
    "duration": 0,
    "start_time": "2023-01-13T07:56:06.745Z"
   },
   {
    "duration": 0,
    "start_time": "2023-01-13T07:56:06.746Z"
   },
   {
    "duration": 0,
    "start_time": "2023-01-13T07:56:06.747Z"
   },
   {
    "duration": 0,
    "start_time": "2023-01-13T07:56:06.748Z"
   },
   {
    "duration": 0,
    "start_time": "2023-01-13T07:56:06.749Z"
   },
   {
    "duration": 0,
    "start_time": "2023-01-13T07:56:06.750Z"
   },
   {
    "duration": 0,
    "start_time": "2023-01-13T07:56:06.751Z"
   },
   {
    "duration": 0,
    "start_time": "2023-01-13T07:56:06.752Z"
   },
   {
    "duration": 0,
    "start_time": "2023-01-13T07:56:06.753Z"
   },
   {
    "duration": 0,
    "start_time": "2023-01-13T07:56:06.754Z"
   },
   {
    "duration": 0,
    "start_time": "2023-01-13T07:56:06.754Z"
   },
   {
    "duration": 0,
    "start_time": "2023-01-13T07:56:06.756Z"
   },
   {
    "duration": 282,
    "start_time": "2023-01-13T07:56:36.397Z"
   },
   {
    "duration": 11,
    "start_time": "2023-01-13T07:56:41.174Z"
   },
   {
    "duration": 12,
    "start_time": "2023-01-13T07:56:41.864Z"
   },
   {
    "duration": 15,
    "start_time": "2023-01-13T07:56:54.501Z"
   },
   {
    "duration": 9,
    "start_time": "2023-01-13T07:56:56.262Z"
   },
   {
    "duration": 14,
    "start_time": "2023-01-13T07:56:58.106Z"
   },
   {
    "duration": 10,
    "start_time": "2023-01-13T07:56:59.651Z"
   },
   {
    "duration": 11,
    "start_time": "2023-01-13T07:57:01.562Z"
   },
   {
    "duration": 10,
    "start_time": "2023-01-13T07:57:05.657Z"
   },
   {
    "duration": 15,
    "start_time": "2023-01-13T07:57:10.782Z"
   },
   {
    "duration": 11,
    "start_time": "2023-01-13T07:57:11.399Z"
   },
   {
    "duration": 16,
    "start_time": "2023-01-13T07:57:30.602Z"
   },
   {
    "duration": 15,
    "start_time": "2023-01-13T07:57:31.238Z"
   },
   {
    "duration": 14,
    "start_time": "2023-01-13T07:58:01.870Z"
   },
   {
    "duration": 5,
    "start_time": "2023-01-13T07:58:43.172Z"
   },
   {
    "duration": 17,
    "start_time": "2023-01-13T07:58:43.694Z"
   },
   {
    "duration": 13,
    "start_time": "2023-01-13T07:58:44.555Z"
   },
   {
    "duration": 13,
    "start_time": "2023-01-13T08:00:28.882Z"
   },
   {
    "duration": 14,
    "start_time": "2023-01-13T08:00:48.736Z"
   },
   {
    "duration": 10,
    "start_time": "2023-01-13T08:00:51.607Z"
   },
   {
    "duration": 11,
    "start_time": "2023-01-13T08:00:52.911Z"
   },
   {
    "duration": 3,
    "start_time": "2023-01-13T08:01:12.157Z"
   },
   {
    "duration": 3,
    "start_time": "2023-01-13T08:01:41.641Z"
   },
   {
    "duration": 5,
    "start_time": "2023-01-13T08:02:05.330Z"
   },
   {
    "duration": 19,
    "start_time": "2023-01-13T08:06:09.522Z"
   },
   {
    "duration": 12,
    "start_time": "2023-01-13T08:07:36.418Z"
   },
   {
    "duration": 11,
    "start_time": "2023-01-13T08:07:37.143Z"
   },
   {
    "duration": 12,
    "start_time": "2023-01-13T08:07:43.085Z"
   },
   {
    "duration": 10,
    "start_time": "2023-01-13T08:07:43.444Z"
   },
   {
    "duration": 21,
    "start_time": "2023-01-13T18:00:15.207Z"
   },
   {
    "duration": 12,
    "start_time": "2023-01-13T18:00:37.976Z"
   },
   {
    "duration": 22,
    "start_time": "2023-01-13T18:02:15.689Z"
   },
   {
    "duration": 18,
    "start_time": "2023-01-13T18:06:52.606Z"
   },
   {
    "duration": 21,
    "start_time": "2023-01-13T18:07:06.953Z"
   },
   {
    "duration": 68,
    "start_time": "2023-01-13T18:07:23.934Z"
   },
   {
    "duration": 23,
    "start_time": "2023-01-13T18:07:32.867Z"
   },
   {
    "duration": 11,
    "start_time": "2023-01-14T13:49:53.442Z"
   },
   {
    "duration": 16,
    "start_time": "2023-01-14T13:52:55.185Z"
   },
   {
    "duration": 16,
    "start_time": "2023-01-14T13:53:24.938Z"
   },
   {
    "duration": 12,
    "start_time": "2023-01-14T13:55:48.603Z"
   },
   {
    "duration": 14,
    "start_time": "2023-01-14T14:04:45.012Z"
   },
   {
    "duration": 18,
    "start_time": "2023-01-14T14:04:45.675Z"
   },
   {
    "duration": 21,
    "start_time": "2023-01-14T14:06:54.285Z"
   },
   {
    "duration": 37,
    "start_time": "2023-01-14T14:07:00.514Z"
   },
   {
    "duration": 17,
    "start_time": "2023-01-14T14:07:41.998Z"
   },
   {
    "duration": 19,
    "start_time": "2023-01-14T14:08:00.996Z"
   },
   {
    "duration": 19,
    "start_time": "2023-01-14T14:08:15.259Z"
   },
   {
    "duration": 148,
    "start_time": "2023-01-14T14:08:39.001Z"
   },
   {
    "duration": 163,
    "start_time": "2023-01-14T14:08:48.141Z"
   },
   {
    "duration": 126,
    "start_time": "2023-01-14T14:08:54.987Z"
   },
   {
    "duration": 8,
    "start_time": "2023-01-14T14:09:27.326Z"
   },
   {
    "duration": 19,
    "start_time": "2023-01-14T14:11:55.410Z"
   },
   {
    "duration": 2,
    "start_time": "2023-01-14T14:14:20.997Z"
   },
   {
    "duration": 11,
    "start_time": "2023-01-14T14:15:04.176Z"
   },
   {
    "duration": 18,
    "start_time": "2023-01-14T14:15:31.707Z"
   },
   {
    "duration": 15,
    "start_time": "2023-01-14T14:23:27.065Z"
   },
   {
    "duration": 16,
    "start_time": "2023-01-14T14:42:22.861Z"
   },
   {
    "duration": 11,
    "start_time": "2023-01-14T14:42:38.248Z"
   },
   {
    "duration": 23,
    "start_time": "2023-01-14T14:42:44.926Z"
   },
   {
    "duration": 15,
    "start_time": "2023-01-14T14:56:32.644Z"
   },
   {
    "duration": 18,
    "start_time": "2023-01-14T20:22:14.975Z"
   },
   {
    "duration": 14,
    "start_time": "2023-01-14T20:27:05.386Z"
   },
   {
    "duration": 18,
    "start_time": "2023-01-14T20:27:36.335Z"
   },
   {
    "duration": 13,
    "start_time": "2023-01-14T20:27:45.366Z"
   },
   {
    "duration": 11,
    "start_time": "2023-01-14T20:28:37.304Z"
   },
   {
    "duration": 20,
    "start_time": "2023-01-14T20:32:30.444Z"
   },
   {
    "duration": 17,
    "start_time": "2023-01-14T20:32:42.387Z"
   },
   {
    "duration": 16,
    "start_time": "2023-01-14T20:33:25.587Z"
   },
   {
    "duration": 14,
    "start_time": "2023-01-14T20:35:20.320Z"
   },
   {
    "duration": 15,
    "start_time": "2023-01-14T20:38:30.025Z"
   },
   {
    "duration": 14,
    "start_time": "2023-01-14T20:39:54.526Z"
   },
   {
    "duration": 15,
    "start_time": "2023-01-14T20:45:53.054Z"
   },
   {
    "duration": 14,
    "start_time": "2023-01-14T20:46:15.537Z"
   },
   {
    "duration": 603,
    "start_time": "2023-01-14T20:47:39.243Z"
   },
   {
    "duration": 1260,
    "start_time": "2023-01-14T20:47:47.047Z"
   },
   {
    "duration": 5,
    "start_time": "2023-01-14T20:47:48.309Z"
   },
   {
    "duration": 15,
    "start_time": "2023-01-14T20:47:48.315Z"
   },
   {
    "duration": 3,
    "start_time": "2023-01-14T20:47:48.332Z"
   },
   {
    "duration": 19,
    "start_time": "2023-01-14T20:47:48.337Z"
   },
   {
    "duration": 49,
    "start_time": "2023-01-14T20:47:48.357Z"
   },
   {
    "duration": 38,
    "start_time": "2023-01-14T20:47:48.408Z"
   },
   {
    "duration": 77,
    "start_time": "2023-01-14T20:47:48.448Z"
   },
   {
    "duration": 15,
    "start_time": "2023-01-14T20:47:48.526Z"
   },
   {
    "duration": 15,
    "start_time": "2023-01-14T20:47:48.543Z"
   },
   {
    "duration": 695,
    "start_time": "2023-01-14T20:47:48.560Z"
   },
   {
    "duration": 5,
    "start_time": "2023-01-14T20:47:49.257Z"
   },
   {
    "duration": 12,
    "start_time": "2023-01-14T20:47:49.263Z"
   },
   {
    "duration": 8,
    "start_time": "2023-01-14T20:47:49.277Z"
   },
   {
    "duration": 7,
    "start_time": "2023-01-14T20:47:49.304Z"
   },
   {
    "duration": 9,
    "start_time": "2023-01-14T20:47:49.313Z"
   },
   {
    "duration": 5,
    "start_time": "2023-01-14T20:47:49.323Z"
   },
   {
    "duration": 11,
    "start_time": "2023-01-14T20:47:49.329Z"
   },
   {
    "duration": 8,
    "start_time": "2023-01-14T20:47:49.341Z"
   },
   {
    "duration": 14,
    "start_time": "2023-01-14T20:47:49.350Z"
   },
   {
    "duration": 9,
    "start_time": "2023-01-14T20:47:49.365Z"
   },
   {
    "duration": 31,
    "start_time": "2023-01-14T20:47:49.375Z"
   },
   {
    "duration": 5,
    "start_time": "2023-01-14T20:47:49.407Z"
   },
   {
    "duration": 23,
    "start_time": "2023-01-14T20:47:49.413Z"
   },
   {
    "duration": 11,
    "start_time": "2023-01-14T20:47:49.438Z"
   },
   {
    "duration": 16,
    "start_time": "2023-01-14T20:47:49.450Z"
   },
   {
    "duration": 14,
    "start_time": "2023-01-14T20:47:49.468Z"
   },
   {
    "duration": 15,
    "start_time": "2023-01-14T20:47:49.486Z"
   },
   {
    "duration": 5,
    "start_time": "2023-01-14T20:47:49.505Z"
   },
   {
    "duration": 19,
    "start_time": "2023-01-14T20:47:49.511Z"
   },
   {
    "duration": 4,
    "start_time": "2023-01-14T20:47:49.531Z"
   },
   {
    "duration": 19,
    "start_time": "2023-01-14T20:47:49.536Z"
   },
   {
    "duration": 4,
    "start_time": "2023-01-14T20:47:49.556Z"
   },
   {
    "duration": 7,
    "start_time": "2023-01-14T20:47:49.561Z"
   },
   {
    "duration": 35,
    "start_time": "2023-01-14T20:47:49.569Z"
   },
   {
    "duration": 5,
    "start_time": "2023-01-14T20:47:49.606Z"
   },
   {
    "duration": 18,
    "start_time": "2023-01-14T20:47:49.612Z"
   },
   {
    "duration": 4,
    "start_time": "2023-01-14T20:47:49.632Z"
   },
   {
    "duration": 5,
    "start_time": "2023-01-14T20:47:49.637Z"
   },
   {
    "duration": 8,
    "start_time": "2023-01-14T20:47:49.643Z"
   },
   {
    "duration": 869,
    "start_time": "2023-01-14T20:47:49.652Z"
   },
   {
    "duration": 13,
    "start_time": "2023-01-14T20:47:50.523Z"
   },
   {
    "duration": 15,
    "start_time": "2023-01-14T20:47:50.537Z"
   },
   {
    "duration": 7,
    "start_time": "2023-01-14T20:47:50.554Z"
   },
   {
    "duration": 8,
    "start_time": "2023-01-14T20:47:50.563Z"
   },
   {
    "duration": 32,
    "start_time": "2023-01-14T20:47:50.573Z"
   },
   {
    "duration": 310,
    "start_time": "2023-01-14T20:47:50.607Z"
   },
   {
    "duration": 299,
    "start_time": "2023-01-14T20:47:50.919Z"
   },
   {
    "duration": 10,
    "start_time": "2023-01-14T20:47:51.220Z"
   },
   {
    "duration": 18,
    "start_time": "2023-01-14T20:47:51.231Z"
   },
   {
    "duration": 9,
    "start_time": "2023-01-14T20:47:51.251Z"
   },
   {
    "duration": 12,
    "start_time": "2023-01-14T20:47:51.261Z"
   },
   {
    "duration": 15,
    "start_time": "2023-01-14T20:47:51.274Z"
   },
   {
    "duration": 27,
    "start_time": "2023-01-14T20:47:51.290Z"
   },
   {
    "duration": 10,
    "start_time": "2023-01-14T20:47:51.319Z"
   },
   {
    "duration": 13,
    "start_time": "2023-01-14T20:47:51.331Z"
   },
   {
    "duration": 9,
    "start_time": "2023-01-14T20:47:51.345Z"
   },
   {
    "duration": 13,
    "start_time": "2023-01-14T20:47:51.356Z"
   },
   {
    "duration": 13,
    "start_time": "2023-01-14T20:47:51.404Z"
   },
   {
    "duration": 14,
    "start_time": "2023-01-14T20:47:51.419Z"
   },
   {
    "duration": 11,
    "start_time": "2023-01-14T20:47:51.434Z"
   },
   {
    "duration": 14,
    "start_time": "2023-01-14T20:47:51.447Z"
   },
   {
    "duration": 44,
    "start_time": "2023-01-14T20:47:51.463Z"
   },
   {
    "duration": 14,
    "start_time": "2023-01-14T20:47:51.508Z"
   },
   {
    "duration": 16,
    "start_time": "2023-01-14T20:47:51.524Z"
   },
   {
    "duration": 18,
    "start_time": "2023-01-14T20:47:51.541Z"
   },
   {
    "duration": 15,
    "start_time": "2023-01-14T20:47:51.561Z"
   },
   {
    "duration": 41,
    "start_time": "2023-01-14T20:47:51.577Z"
   },
   {
    "duration": 11,
    "start_time": "2023-01-14T20:47:51.619Z"
   },
   {
    "duration": 13,
    "start_time": "2023-01-14T20:47:51.631Z"
   },
   {
    "duration": 14,
    "start_time": "2023-01-14T20:47:51.645Z"
   },
   {
    "duration": 284,
    "start_time": "2023-01-15T08:23:07.184Z"
   },
   {
    "duration": 3007,
    "start_time": "2023-01-15T08:23:23.920Z"
   },
   {
    "duration": 80,
    "start_time": "2023-01-15T08:25:31.574Z"
   },
   {
    "duration": 118,
    "start_time": "2023-01-15T08:25:49.038Z"
   },
   {
    "duration": 24,
    "start_time": "2023-01-15T08:26:00.154Z"
   },
   {
    "duration": 20,
    "start_time": "2023-01-15T08:28:36.422Z"
   },
   {
    "duration": 5,
    "start_time": "2023-01-15T08:31:06.349Z"
   },
   {
    "duration": 9,
    "start_time": "2023-01-15T08:31:22.740Z"
   },
   {
    "duration": 4,
    "start_time": "2023-01-15T08:31:29.607Z"
   },
   {
    "duration": 20,
    "start_time": "2023-01-15T08:31:36.473Z"
   },
   {
    "duration": 18,
    "start_time": "2023-01-15T08:31:42.649Z"
   },
   {
    "duration": 20,
    "start_time": "2023-01-15T08:31:47.964Z"
   },
   {
    "duration": 3,
    "start_time": "2023-01-15T08:32:23.856Z"
   },
   {
    "duration": 29,
    "start_time": "2023-01-15T08:33:30.124Z"
   },
   {
    "duration": 26,
    "start_time": "2023-01-15T08:34:16.730Z"
   },
   {
    "duration": 5,
    "start_time": "2023-01-15T08:34:24.447Z"
   },
   {
    "duration": 21,
    "start_time": "2023-01-15T08:35:03.301Z"
   },
   {
    "duration": 4,
    "start_time": "2023-01-15T08:37:14.531Z"
   },
   {
    "duration": 5,
    "start_time": "2023-01-15T08:37:18.328Z"
   },
   {
    "duration": 47,
    "start_time": "2023-01-16T08:40:53.930Z"
   },
   {
    "duration": 1471,
    "start_time": "2023-01-16T08:41:06.219Z"
   },
   {
    "duration": 5,
    "start_time": "2023-01-16T08:41:07.692Z"
   },
   {
    "duration": 16,
    "start_time": "2023-01-16T08:41:07.698Z"
   },
   {
    "duration": 3,
    "start_time": "2023-01-16T08:41:07.716Z"
   },
   {
    "duration": 18,
    "start_time": "2023-01-16T08:41:07.721Z"
   },
   {
    "duration": 28,
    "start_time": "2023-01-16T08:41:07.740Z"
   },
   {
    "duration": 30,
    "start_time": "2023-01-16T08:41:07.770Z"
   },
   {
    "duration": 50,
    "start_time": "2023-01-16T08:41:07.821Z"
   },
   {
    "duration": 15,
    "start_time": "2023-01-16T08:41:07.873Z"
   },
   {
    "duration": 36,
    "start_time": "2023-01-16T08:41:07.890Z"
   },
   {
    "duration": 641,
    "start_time": "2023-01-16T08:41:07.927Z"
   },
   {
    "duration": 4,
    "start_time": "2023-01-16T08:41:08.570Z"
   },
   {
    "duration": 48,
    "start_time": "2023-01-16T08:41:08.577Z"
   },
   {
    "duration": 15,
    "start_time": "2023-01-16T08:41:08.627Z"
   },
   {
    "duration": 27,
    "start_time": "2023-01-16T08:41:08.643Z"
   },
   {
    "duration": 19,
    "start_time": "2023-01-16T08:41:08.672Z"
   },
   {
    "duration": 26,
    "start_time": "2023-01-16T08:41:08.693Z"
   },
   {
    "duration": 10,
    "start_time": "2023-01-16T08:41:08.721Z"
   },
   {
    "duration": 19,
    "start_time": "2023-01-16T08:41:08.732Z"
   },
   {
    "duration": 37,
    "start_time": "2023-01-16T08:41:08.753Z"
   },
   {
    "duration": 23,
    "start_time": "2023-01-16T08:41:08.792Z"
   },
   {
    "duration": 26,
    "start_time": "2023-01-16T08:41:08.817Z"
   },
   {
    "duration": 12,
    "start_time": "2023-01-16T08:41:08.844Z"
   },
   {
    "duration": 23,
    "start_time": "2023-01-16T08:41:08.858Z"
   },
   {
    "duration": 25,
    "start_time": "2023-01-16T08:41:08.882Z"
   },
   {
    "duration": 24,
    "start_time": "2023-01-16T08:41:08.908Z"
   },
   {
    "duration": 36,
    "start_time": "2023-01-16T08:41:08.933Z"
   },
   {
    "duration": 12,
    "start_time": "2023-01-16T08:41:08.973Z"
   },
   {
    "duration": 16,
    "start_time": "2023-01-16T08:41:08.987Z"
   },
   {
    "duration": 23,
    "start_time": "2023-01-16T08:41:09.005Z"
   },
   {
    "duration": 4,
    "start_time": "2023-01-16T08:41:09.029Z"
   },
   {
    "duration": 20,
    "start_time": "2023-01-16T08:41:09.034Z"
   },
   {
    "duration": 4,
    "start_time": "2023-01-16T08:41:09.055Z"
   },
   {
    "duration": 25,
    "start_time": "2023-01-16T08:41:09.060Z"
   },
   {
    "duration": 25,
    "start_time": "2023-01-16T08:41:09.087Z"
   },
   {
    "duration": 24,
    "start_time": "2023-01-16T08:41:09.114Z"
   },
   {
    "duration": 41,
    "start_time": "2023-01-16T08:41:09.140Z"
   },
   {
    "duration": 10,
    "start_time": "2023-01-16T08:41:09.183Z"
   },
   {
    "duration": 32,
    "start_time": "2023-01-16T08:41:09.195Z"
   },
   {
    "duration": 20,
    "start_time": "2023-01-16T08:41:09.229Z"
   },
   {
    "duration": 796,
    "start_time": "2023-01-16T08:41:09.251Z"
   },
   {
    "duration": 8,
    "start_time": "2023-01-16T08:41:10.049Z"
   },
   {
    "duration": 49,
    "start_time": "2023-01-16T08:41:10.059Z"
   },
   {
    "duration": 11,
    "start_time": "2023-01-16T08:41:10.110Z"
   },
   {
    "duration": 12,
    "start_time": "2023-01-16T08:41:10.122Z"
   },
   {
    "duration": 19,
    "start_time": "2023-01-16T08:41:10.136Z"
   },
   {
    "duration": 312,
    "start_time": "2023-01-16T08:41:10.157Z"
   },
   {
    "duration": 271,
    "start_time": "2023-01-16T08:41:10.470Z"
   },
   {
    "duration": 11,
    "start_time": "2023-01-16T08:41:10.742Z"
   },
   {
    "duration": 13,
    "start_time": "2023-01-16T08:41:10.754Z"
   },
   {
    "duration": 12,
    "start_time": "2023-01-16T08:41:10.769Z"
   },
   {
    "duration": 17,
    "start_time": "2023-01-16T08:41:10.783Z"
   },
   {
    "duration": 32,
    "start_time": "2023-01-16T08:41:10.801Z"
   },
   {
    "duration": 21,
    "start_time": "2023-01-16T08:41:10.834Z"
   },
   {
    "duration": 18,
    "start_time": "2023-01-16T08:41:10.856Z"
   },
   {
    "duration": 21,
    "start_time": "2023-01-16T08:41:10.876Z"
   },
   {
    "duration": 16,
    "start_time": "2023-01-16T08:41:10.899Z"
   },
   {
    "duration": 23,
    "start_time": "2023-01-16T08:41:10.916Z"
   },
   {
    "duration": 23,
    "start_time": "2023-01-16T08:41:10.940Z"
   },
   {
    "duration": 16,
    "start_time": "2023-01-16T08:41:10.965Z"
   },
   {
    "duration": 11,
    "start_time": "2023-01-16T08:41:10.982Z"
   },
   {
    "duration": 13,
    "start_time": "2023-01-16T08:41:10.995Z"
   },
   {
    "duration": 11,
    "start_time": "2023-01-16T08:41:11.021Z"
   },
   {
    "duration": 13,
    "start_time": "2023-01-16T08:41:11.033Z"
   },
   {
    "duration": 17,
    "start_time": "2023-01-16T08:41:11.048Z"
   },
   {
    "duration": 17,
    "start_time": "2023-01-16T08:41:11.067Z"
   },
   {
    "duration": 41,
    "start_time": "2023-01-16T08:41:11.086Z"
   },
   {
    "duration": 14,
    "start_time": "2023-01-16T08:41:11.129Z"
   },
   {
    "duration": 10,
    "start_time": "2023-01-16T08:41:11.145Z"
   },
   {
    "duration": 27,
    "start_time": "2023-01-16T08:41:11.156Z"
   },
   {
    "duration": 22,
    "start_time": "2023-01-16T08:41:11.184Z"
   },
   {
    "duration": 259,
    "start_time": "2023-01-16T08:41:11.207Z"
   },
   {
    "duration": 2729,
    "start_time": "2023-01-16T08:41:11.468Z"
   },
   {
    "duration": 23,
    "start_time": "2023-01-16T08:41:14.199Z"
   },
   {
    "duration": 4,
    "start_time": "2023-01-16T08:41:14.223Z"
   },
   {
    "duration": 10,
    "start_time": "2023-01-16T08:41:14.229Z"
   },
   {
    "duration": 5,
    "start_time": "2023-01-16T08:41:14.240Z"
   },
   {
    "duration": 19,
    "start_time": "2023-01-16T08:41:14.247Z"
   },
   {
    "duration": 53,
    "start_time": "2023-01-16T08:41:14.268Z"
   },
   {
    "duration": 5,
    "start_time": "2023-01-16T08:41:14.323Z"
   },
   {
    "duration": 135,
    "start_time": "2023-01-16T08:41:14.329Z"
   },
   {
    "duration": 14,
    "start_time": "2023-01-16T09:58:30.114Z"
   },
   {
    "duration": 1652,
    "start_time": "2023-01-21T08:36:28.420Z"
   },
   {
    "duration": 6,
    "start_time": "2023-01-21T08:36:30.074Z"
   },
   {
    "duration": 31,
    "start_time": "2023-01-21T08:36:30.082Z"
   },
   {
    "duration": 14,
    "start_time": "2023-01-21T08:36:30.115Z"
   },
   {
    "duration": 43,
    "start_time": "2023-01-21T08:36:30.131Z"
   },
   {
    "duration": 37,
    "start_time": "2023-01-21T08:36:30.175Z"
   },
   {
    "duration": 36,
    "start_time": "2023-01-21T08:36:30.213Z"
   },
   {
    "duration": 56,
    "start_time": "2023-01-21T08:36:30.252Z"
   },
   {
    "duration": 35,
    "start_time": "2023-01-21T08:36:30.310Z"
   },
   {
    "duration": 15,
    "start_time": "2023-01-21T08:36:30.347Z"
   },
   {
    "duration": 757,
    "start_time": "2023-01-21T08:36:30.364Z"
   },
   {
    "duration": 5,
    "start_time": "2023-01-21T08:36:31.123Z"
   },
   {
    "duration": 28,
    "start_time": "2023-01-21T08:36:31.137Z"
   },
   {
    "duration": 14,
    "start_time": "2023-01-21T08:36:31.167Z"
   },
   {
    "duration": 25,
    "start_time": "2023-01-21T08:36:31.183Z"
   },
   {
    "duration": 26,
    "start_time": "2023-01-21T08:36:31.210Z"
   },
   {
    "duration": 5,
    "start_time": "2023-01-21T08:36:31.238Z"
   },
   {
    "duration": 11,
    "start_time": "2023-01-21T08:36:31.245Z"
   },
   {
    "duration": 18,
    "start_time": "2023-01-21T08:36:31.258Z"
   },
   {
    "duration": 12,
    "start_time": "2023-01-21T08:36:31.278Z"
   },
   {
    "duration": 27,
    "start_time": "2023-01-21T08:36:31.292Z"
   },
   {
    "duration": 54,
    "start_time": "2023-01-21T08:36:31.322Z"
   },
   {
    "duration": 11,
    "start_time": "2023-01-21T08:36:31.377Z"
   },
   {
    "duration": 19,
    "start_time": "2023-01-21T08:36:31.390Z"
   },
   {
    "duration": 19,
    "start_time": "2023-01-21T08:36:31.411Z"
   },
   {
    "duration": 14,
    "start_time": "2023-01-21T08:36:31.431Z"
   },
   {
    "duration": 23,
    "start_time": "2023-01-21T08:36:31.447Z"
   },
   {
    "duration": 19,
    "start_time": "2023-01-21T08:36:31.476Z"
   },
   {
    "duration": 10,
    "start_time": "2023-01-21T08:36:31.497Z"
   },
   {
    "duration": 24,
    "start_time": "2023-01-21T08:36:31.508Z"
   },
   {
    "duration": 10,
    "start_time": "2023-01-21T08:36:31.534Z"
   },
   {
    "duration": 19,
    "start_time": "2023-01-21T08:36:31.546Z"
   },
   {
    "duration": 13,
    "start_time": "2023-01-21T08:36:31.567Z"
   },
   {
    "duration": 20,
    "start_time": "2023-01-21T08:36:31.581Z"
   },
   {
    "duration": 9,
    "start_time": "2023-01-21T08:36:31.602Z"
   },
   {
    "duration": 9,
    "start_time": "2023-01-21T08:36:31.613Z"
   },
   {
    "duration": 26,
    "start_time": "2023-01-21T08:36:31.623Z"
   },
   {
    "duration": 9,
    "start_time": "2023-01-21T08:36:31.651Z"
   },
   {
    "duration": 6,
    "start_time": "2023-01-21T08:36:31.661Z"
   },
   {
    "duration": 10,
    "start_time": "2023-01-21T08:36:31.668Z"
   },
   {
    "duration": 926,
    "start_time": "2023-01-21T08:36:31.679Z"
   },
   {
    "duration": 9,
    "start_time": "2023-01-21T08:36:32.606Z"
   },
   {
    "duration": 31,
    "start_time": "2023-01-21T08:36:32.616Z"
   },
   {
    "duration": 8,
    "start_time": "2023-01-21T08:36:32.649Z"
   },
   {
    "duration": 8,
    "start_time": "2023-01-21T08:36:32.659Z"
   },
   {
    "duration": 11,
    "start_time": "2023-01-21T08:36:32.669Z"
   },
   {
    "duration": 346,
    "start_time": "2023-01-21T08:36:32.682Z"
   },
   {
    "duration": 304,
    "start_time": "2023-01-21T08:36:33.035Z"
   },
   {
    "duration": 14,
    "start_time": "2023-01-21T08:36:33.341Z"
   },
   {
    "duration": 15,
    "start_time": "2023-01-21T08:36:33.357Z"
   },
   {
    "duration": 9,
    "start_time": "2023-01-21T08:36:33.374Z"
   },
   {
    "duration": 12,
    "start_time": "2023-01-21T08:36:33.384Z"
   },
   {
    "duration": 47,
    "start_time": "2023-01-21T08:36:33.397Z"
   },
   {
    "duration": 14,
    "start_time": "2023-01-21T08:36:33.446Z"
   },
   {
    "duration": 11,
    "start_time": "2023-01-21T08:36:33.462Z"
   },
   {
    "duration": 17,
    "start_time": "2023-01-21T08:36:33.475Z"
   },
   {
    "duration": 44,
    "start_time": "2023-01-21T08:36:33.494Z"
   },
   {
    "duration": 16,
    "start_time": "2023-01-21T08:36:33.540Z"
   },
   {
    "duration": 14,
    "start_time": "2023-01-21T08:36:33.558Z"
   },
   {
    "duration": 18,
    "start_time": "2023-01-21T08:36:33.574Z"
   },
   {
    "duration": 51,
    "start_time": "2023-01-21T08:36:33.593Z"
   },
   {
    "duration": 17,
    "start_time": "2023-01-21T08:36:33.646Z"
   },
   {
    "duration": 11,
    "start_time": "2023-01-21T08:36:33.665Z"
   },
   {
    "duration": 16,
    "start_time": "2023-01-21T08:36:33.678Z"
   },
   {
    "duration": 51,
    "start_time": "2023-01-21T08:36:33.695Z"
   },
   {
    "duration": 19,
    "start_time": "2023-01-21T08:36:33.748Z"
   },
   {
    "duration": 16,
    "start_time": "2023-01-21T08:36:33.769Z"
   },
   {
    "duration": 18,
    "start_time": "2023-01-21T08:36:33.787Z"
   },
   {
    "duration": 39,
    "start_time": "2023-01-21T08:36:33.807Z"
   },
   {
    "duration": 18,
    "start_time": "2023-01-21T08:36:33.848Z"
   },
   {
    "duration": 17,
    "start_time": "2023-01-21T08:36:33.867Z"
   },
   {
    "duration": 293,
    "start_time": "2023-01-21T08:36:33.886Z"
   },
   {
    "duration": 2815,
    "start_time": "2023-01-21T08:36:34.181Z"
   },
   {
    "duration": 27,
    "start_time": "2023-01-21T08:36:36.998Z"
   },
   {
    "duration": 5,
    "start_time": "2023-01-21T08:36:37.027Z"
   },
   {
    "duration": 19,
    "start_time": "2023-01-21T08:36:37.034Z"
   },
   {
    "duration": 5,
    "start_time": "2023-01-21T08:36:37.056Z"
   },
   {
    "duration": 23,
    "start_time": "2023-01-21T08:36:37.063Z"
   },
   {
    "duration": 45,
    "start_time": "2023-01-21T08:36:37.088Z"
   },
   {
    "duration": 0,
    "start_time": "2023-01-21T08:36:37.135Z"
   },
   {
    "duration": 1224,
    "start_time": "2023-01-21T12:31:36.664Z"
   },
   {
    "duration": 1091,
    "start_time": "2023-01-21T12:32:10.321Z"
   },
   {
    "duration": 1109,
    "start_time": "2023-01-21T12:32:55.467Z"
   },
   {
    "duration": 993,
    "start_time": "2023-01-21T12:33:29.094Z"
   },
   {
    "duration": 2788,
    "start_time": "2023-01-21T12:35:17.023Z"
   },
   {
    "duration": 79,
    "start_time": "2023-01-21T12:39:34.422Z"
   },
   {
    "duration": 274,
    "start_time": "2023-01-21T12:39:57.726Z"
   },
   {
    "duration": 167,
    "start_time": "2023-01-21T12:41:41.380Z"
   },
   {
    "duration": 1452,
    "start_time": "2023-01-22T12:57:08.568Z"
   },
   {
    "duration": 5,
    "start_time": "2023-01-22T12:57:10.022Z"
   },
   {
    "duration": 18,
    "start_time": "2023-01-22T12:57:10.029Z"
   },
   {
    "duration": 3,
    "start_time": "2023-01-22T12:57:10.049Z"
   },
   {
    "duration": 20,
    "start_time": "2023-01-22T12:57:10.054Z"
   },
   {
    "duration": 30,
    "start_time": "2023-01-22T12:57:10.075Z"
   },
   {
    "duration": 51,
    "start_time": "2023-01-22T12:57:10.106Z"
   },
   {
    "duration": 53,
    "start_time": "2023-01-22T12:57:10.158Z"
   },
   {
    "duration": 30,
    "start_time": "2023-01-22T12:57:10.212Z"
   },
   {
    "duration": 14,
    "start_time": "2023-01-22T12:57:10.244Z"
   },
   {
    "duration": 630,
    "start_time": "2023-01-22T12:57:10.260Z"
   },
   {
    "duration": 6,
    "start_time": "2023-01-22T12:57:10.892Z"
   },
   {
    "duration": 14,
    "start_time": "2023-01-22T12:57:10.899Z"
   },
   {
    "duration": 21,
    "start_time": "2023-01-22T12:57:10.916Z"
   },
   {
    "duration": 7,
    "start_time": "2023-01-22T12:57:10.939Z"
   },
   {
    "duration": 8,
    "start_time": "2023-01-22T12:57:10.948Z"
   },
   {
    "duration": 4,
    "start_time": "2023-01-22T12:57:10.957Z"
   },
   {
    "duration": 14,
    "start_time": "2023-01-22T12:57:10.962Z"
   },
   {
    "duration": 7,
    "start_time": "2023-01-22T12:57:10.977Z"
   },
   {
    "duration": 11,
    "start_time": "2023-01-22T12:57:10.986Z"
   },
   {
    "duration": 8,
    "start_time": "2023-01-22T12:57:10.998Z"
   },
   {
    "duration": 17,
    "start_time": "2023-01-22T12:57:11.037Z"
   },
   {
    "duration": 5,
    "start_time": "2023-01-22T12:57:11.055Z"
   },
   {
    "duration": 10,
    "start_time": "2023-01-22T12:57:11.061Z"
   },
   {
    "duration": 9,
    "start_time": "2023-01-22T12:57:11.072Z"
   },
   {
    "duration": 13,
    "start_time": "2023-01-22T12:57:11.083Z"
   },
   {
    "duration": 9,
    "start_time": "2023-01-22T12:57:11.098Z"
   },
   {
    "duration": 31,
    "start_time": "2023-01-22T12:57:11.108Z"
   },
   {
    "duration": 10,
    "start_time": "2023-01-22T12:57:11.141Z"
   },
   {
    "duration": 20,
    "start_time": "2023-01-22T12:57:11.152Z"
   },
   {
    "duration": 6,
    "start_time": "2023-01-22T12:57:11.174Z"
   },
   {
    "duration": 21,
    "start_time": "2023-01-22T12:57:11.181Z"
   },
   {
    "duration": 3,
    "start_time": "2023-01-22T12:57:11.204Z"
   },
   {
    "duration": 30,
    "start_time": "2023-01-22T12:57:11.208Z"
   },
   {
    "duration": 9,
    "start_time": "2023-01-22T12:57:11.240Z"
   },
   {
    "duration": 7,
    "start_time": "2023-01-22T12:57:11.250Z"
   },
   {
    "duration": 22,
    "start_time": "2023-01-22T12:57:11.258Z"
   },
   {
    "duration": 4,
    "start_time": "2023-01-22T12:57:11.282Z"
   },
   {
    "duration": 7,
    "start_time": "2023-01-22T12:57:11.288Z"
   },
   {
    "duration": 8,
    "start_time": "2023-01-22T12:57:11.297Z"
   },
   {
    "duration": 901,
    "start_time": "2023-01-22T12:57:11.336Z"
   },
   {
    "duration": 7,
    "start_time": "2023-01-22T12:57:12.239Z"
   },
   {
    "duration": 21,
    "start_time": "2023-01-22T12:57:12.248Z"
   },
   {
    "duration": 7,
    "start_time": "2023-01-22T12:57:12.271Z"
   },
   {
    "duration": 7,
    "start_time": "2023-01-22T12:57:12.280Z"
   },
   {
    "duration": 8,
    "start_time": "2023-01-22T12:57:12.289Z"
   },
   {
    "duration": 332,
    "start_time": "2023-01-22T12:57:12.299Z"
   },
   {
    "duration": 291,
    "start_time": "2023-01-22T12:57:12.637Z"
   },
   {
    "duration": 15,
    "start_time": "2023-01-22T12:57:12.930Z"
   },
   {
    "duration": 12,
    "start_time": "2023-01-22T12:57:12.946Z"
   },
   {
    "duration": 8,
    "start_time": "2023-01-22T12:57:12.960Z"
   },
   {
    "duration": 13,
    "start_time": "2023-01-22T12:57:12.969Z"
   },
   {
    "duration": 14,
    "start_time": "2023-01-22T12:57:12.984Z"
   },
   {
    "duration": 45,
    "start_time": "2023-01-22T12:57:13.000Z"
   },
   {
    "duration": 10,
    "start_time": "2023-01-22T12:57:13.047Z"
   },
   {
    "duration": 15,
    "start_time": "2023-01-22T12:57:13.058Z"
   },
   {
    "duration": 10,
    "start_time": "2023-01-22T12:57:13.074Z"
   },
   {
    "duration": 13,
    "start_time": "2023-01-22T12:57:13.085Z"
   },
   {
    "duration": 49,
    "start_time": "2023-01-22T12:57:13.099Z"
   },
   {
    "duration": 15,
    "start_time": "2023-01-22T12:57:13.150Z"
   },
   {
    "duration": 10,
    "start_time": "2023-01-22T12:57:13.167Z"
   },
   {
    "duration": 15,
    "start_time": "2023-01-22T12:57:13.179Z"
   },
   {
    "duration": 43,
    "start_time": "2023-01-22T12:57:13.195Z"
   },
   {
    "duration": 15,
    "start_time": "2023-01-22T12:57:13.240Z"
   },
   {
    "duration": 16,
    "start_time": "2023-01-22T12:57:13.257Z"
   },
   {
    "duration": 22,
    "start_time": "2023-01-22T12:57:13.274Z"
   },
   {
    "duration": 39,
    "start_time": "2023-01-22T12:57:13.299Z"
   },
   {
    "duration": 17,
    "start_time": "2023-01-22T12:57:13.340Z"
   },
   {
    "duration": 13,
    "start_time": "2023-01-22T12:57:13.359Z"
   },
   {
    "duration": 15,
    "start_time": "2023-01-22T12:57:13.374Z"
   },
   {
    "duration": 15,
    "start_time": "2023-01-22T12:57:13.391Z"
   },
   {
    "duration": 255,
    "start_time": "2023-01-22T12:57:13.437Z"
   },
   {
    "duration": 2581,
    "start_time": "2023-01-22T12:57:13.694Z"
   },
   {
    "duration": 2136,
    "start_time": "2023-01-22T12:57:16.277Z"
   },
   {
    "duration": 28,
    "start_time": "2023-01-22T12:57:18.416Z"
   },
   {
    "duration": 30,
    "start_time": "2023-01-22T12:57:18.446Z"
   },
   {
    "duration": 11,
    "start_time": "2023-01-22T12:57:18.478Z"
   },
   {
    "duration": 15,
    "start_time": "2023-01-22T12:57:18.491Z"
   },
   {
    "duration": 4,
    "start_time": "2023-01-22T12:57:18.508Z"
   },
   {
    "duration": 32,
    "start_time": "2023-01-22T12:57:18.515Z"
   },
   {
    "duration": 37,
    "start_time": "2023-01-22T12:57:18.549Z"
   },
   {
    "duration": 141,
    "start_time": "2023-01-22T12:57:18.587Z"
   },
   {
    "duration": 1893,
    "start_time": "2023-01-23T10:17:01.874Z"
   },
   {
    "duration": 8,
    "start_time": "2023-01-23T10:17:07.329Z"
   },
   {
    "duration": 4,
    "start_time": "2023-01-23T10:28:15.891Z"
   },
   {
    "duration": 15,
    "start_time": "2023-01-23T10:28:17.212Z"
   },
   {
    "duration": 4,
    "start_time": "2023-01-23T10:28:19.222Z"
   },
   {
    "duration": 18,
    "start_time": "2023-01-23T10:28:21.382Z"
   },
   {
    "duration": 30,
    "start_time": "2023-01-23T10:28:22.357Z"
   },
   {
    "duration": 34,
    "start_time": "2023-01-23T10:28:24.061Z"
   },
   {
    "duration": 61,
    "start_time": "2023-01-23T10:28:34.405Z"
   },
   {
    "duration": 15,
    "start_time": "2023-01-23T10:28:39.276Z"
   },
   {
    "duration": 5,
    "start_time": "2023-01-23T10:32:02.197Z"
   },
   {
    "duration": 11,
    "start_time": "2023-01-23T10:32:03.791Z"
   },
   {
    "duration": 7,
    "start_time": "2023-01-23T10:32:04.490Z"
   },
   {
    "duration": 8,
    "start_time": "2023-01-23T10:32:06.390Z"
   },
   {
    "duration": 16,
    "start_time": "2023-01-23T10:32:10.605Z"
   },
   {
    "duration": 77,
    "start_time": "2023-01-23T10:32:46.185Z"
   },
   {
    "duration": 38,
    "start_time": "2023-01-23T10:33:09.662Z"
   },
   {
    "duration": 93,
    "start_time": "2023-01-23T10:38:00.448Z"
   },
   {
    "duration": 16,
    "start_time": "2023-01-23T10:38:05.248Z"
   },
   {
    "duration": 4,
    "start_time": "2023-01-23T10:38:07.871Z"
   },
   {
    "duration": 16,
    "start_time": "2023-01-23T10:39:12.451Z"
   },
   {
    "duration": 5,
    "start_time": "2023-01-23T10:39:20.062Z"
   },
   {
    "duration": 1701,
    "start_time": "2023-01-23T15:59:10.439Z"
   },
   {
    "duration": 5,
    "start_time": "2023-01-23T15:59:12.142Z"
   },
   {
    "duration": 37,
    "start_time": "2023-01-23T15:59:12.148Z"
   },
   {
    "duration": 4,
    "start_time": "2023-01-23T15:59:12.188Z"
   },
   {
    "duration": 32,
    "start_time": "2023-01-23T15:59:12.194Z"
   },
   {
    "duration": 33,
    "start_time": "2023-01-23T15:59:12.228Z"
   },
   {
    "duration": 31,
    "start_time": "2023-01-23T15:59:12.263Z"
   },
   {
    "duration": 68,
    "start_time": "2023-01-23T15:59:12.296Z"
   },
   {
    "duration": 16,
    "start_time": "2023-01-23T15:59:12.366Z"
   },
   {
    "duration": 15,
    "start_time": "2023-01-23T15:59:12.384Z"
   },
   {
    "duration": 690,
    "start_time": "2023-01-23T15:59:12.400Z"
   },
   {
    "duration": 5,
    "start_time": "2023-01-23T15:59:13.093Z"
   },
   {
    "duration": 18,
    "start_time": "2023-01-23T15:59:13.099Z"
   },
   {
    "duration": 11,
    "start_time": "2023-01-23T15:59:13.119Z"
   },
   {
    "duration": 10,
    "start_time": "2023-01-23T15:59:13.143Z"
   },
   {
    "duration": 20,
    "start_time": "2023-01-23T15:59:13.155Z"
   },
   {
    "duration": 28,
    "start_time": "2023-01-23T15:59:13.176Z"
   },
   {
    "duration": 5,
    "start_time": "2023-01-23T15:59:13.206Z"
   },
   {
    "duration": 12,
    "start_time": "2023-01-23T15:59:13.213Z"
   },
   {
    "duration": 10,
    "start_time": "2023-01-23T15:59:13.244Z"
   },
   {
    "duration": 9,
    "start_time": "2023-01-23T15:59:13.256Z"
   },
   {
    "duration": 7,
    "start_time": "2023-01-23T15:59:13.267Z"
   },
   {
    "duration": 12,
    "start_time": "2023-01-23T15:59:13.276Z"
   },
   {
    "duration": 17,
    "start_time": "2023-01-23T15:59:13.290Z"
   },
   {
    "duration": 6,
    "start_time": "2023-01-23T15:59:13.309Z"
   },
   {
    "duration": 31,
    "start_time": "2023-01-23T15:59:13.317Z"
   },
   {
    "duration": 12,
    "start_time": "2023-01-23T15:59:13.350Z"
   },
   {
    "duration": 18,
    "start_time": "2023-01-23T15:59:13.367Z"
   },
   {
    "duration": 8,
    "start_time": "2023-01-23T15:59:13.387Z"
   },
   {
    "duration": 7,
    "start_time": "2023-01-23T15:59:13.397Z"
   },
   {
    "duration": 15,
    "start_time": "2023-01-23T15:59:13.405Z"
   },
   {
    "duration": 36,
    "start_time": "2023-01-23T15:59:13.422Z"
   },
   {
    "duration": 5,
    "start_time": "2023-01-23T15:59:13.459Z"
   },
   {
    "duration": 16,
    "start_time": "2023-01-23T15:59:13.465Z"
   },
   {
    "duration": 26,
    "start_time": "2023-01-23T15:59:13.483Z"
   },
   {
    "duration": 5,
    "start_time": "2023-01-23T15:59:13.510Z"
   },
   {
    "duration": 5,
    "start_time": "2023-01-23T15:59:13.517Z"
   },
   {
    "duration": 22,
    "start_time": "2023-01-23T15:59:13.524Z"
   },
   {
    "duration": 7,
    "start_time": "2023-01-23T15:59:13.548Z"
   },
   {
    "duration": 14,
    "start_time": "2023-01-23T15:59:13.557Z"
   },
   {
    "duration": 32,
    "start_time": "2023-01-23T15:59:13.572Z"
   },
   {
    "duration": 9,
    "start_time": "2023-01-23T15:59:13.606Z"
   },
   {
    "duration": 4,
    "start_time": "2023-01-23T15:59:13.617Z"
   },
   {
    "duration": 26,
    "start_time": "2023-01-23T15:59:13.623Z"
   },
   {
    "duration": 812,
    "start_time": "2023-01-23T15:59:13.650Z"
   },
   {
    "duration": 8,
    "start_time": "2023-01-23T15:59:14.464Z"
   },
   {
    "duration": 18,
    "start_time": "2023-01-23T15:59:14.473Z"
   },
   {
    "duration": 11,
    "start_time": "2023-01-23T15:59:14.492Z"
   },
   {
    "duration": 8,
    "start_time": "2023-01-23T15:59:14.504Z"
   },
   {
    "duration": 12,
    "start_time": "2023-01-23T15:59:14.513Z"
   },
   {
    "duration": 354,
    "start_time": "2023-01-23T15:59:14.526Z"
   },
   {
    "duration": 304,
    "start_time": "2023-01-23T15:59:14.883Z"
   },
   {
    "duration": 10,
    "start_time": "2023-01-23T15:59:15.189Z"
   },
   {
    "duration": 12,
    "start_time": "2023-01-23T15:59:15.201Z"
   },
   {
    "duration": 29,
    "start_time": "2023-01-23T15:59:15.215Z"
   },
   {
    "duration": 13,
    "start_time": "2023-01-23T15:59:15.245Z"
   },
   {
    "duration": 19,
    "start_time": "2023-01-23T15:59:15.259Z"
   },
   {
    "duration": 12,
    "start_time": "2023-01-23T15:59:15.280Z"
   },
   {
    "duration": 9,
    "start_time": "2023-01-23T15:59:15.294Z"
   },
   {
    "duration": 40,
    "start_time": "2023-01-23T15:59:15.305Z"
   },
   {
    "duration": 9,
    "start_time": "2023-01-23T15:59:15.347Z"
   },
   {
    "duration": 13,
    "start_time": "2023-01-23T15:59:15.357Z"
   },
   {
    "duration": 11,
    "start_time": "2023-01-23T15:59:15.371Z"
   },
   {
    "duration": 12,
    "start_time": "2023-01-23T15:59:15.384Z"
   },
   {
    "duration": 9,
    "start_time": "2023-01-23T15:59:15.397Z"
   },
   {
    "duration": 43,
    "start_time": "2023-01-23T15:59:15.407Z"
   },
   {
    "duration": 9,
    "start_time": "2023-01-23T15:59:15.452Z"
   },
   {
    "duration": 16,
    "start_time": "2023-01-23T15:59:15.462Z"
   },
   {
    "duration": 15,
    "start_time": "2023-01-23T15:59:15.479Z"
   },
   {
    "duration": 30,
    "start_time": "2023-01-23T15:59:15.495Z"
   },
   {
    "duration": 26,
    "start_time": "2023-01-23T15:59:15.527Z"
   },
   {
    "duration": 14,
    "start_time": "2023-01-23T15:59:15.555Z"
   },
   {
    "duration": 12,
    "start_time": "2023-01-23T15:59:15.571Z"
   },
   {
    "duration": 17,
    "start_time": "2023-01-23T15:59:15.584Z"
   },
   {
    "duration": 14,
    "start_time": "2023-01-23T15:59:15.602Z"
   },
   {
    "duration": 269,
    "start_time": "2023-01-23T15:59:15.618Z"
   },
   {
    "duration": 2813,
    "start_time": "2023-01-23T15:59:15.889Z"
   },
   {
    "duration": 2289,
    "start_time": "2023-01-23T15:59:18.704Z"
   },
   {
    "duration": 24,
    "start_time": "2023-01-23T15:59:20.994Z"
   },
   {
    "duration": 23,
    "start_time": "2023-01-23T15:59:21.020Z"
   },
   {
    "duration": 3,
    "start_time": "2023-01-23T15:59:21.044Z"
   },
   {
    "duration": 8,
    "start_time": "2023-01-23T15:59:21.053Z"
   },
   {
    "duration": 17,
    "start_time": "2023-01-23T15:59:21.062Z"
   },
   {
    "duration": 20,
    "start_time": "2023-01-23T15:59:21.080Z"
   },
   {
    "duration": 44,
    "start_time": "2023-01-23T15:59:21.101Z"
   },
   {
    "duration": 115,
    "start_time": "2023-01-23T15:59:21.146Z"
   },
   {
    "duration": 1726,
    "start_time": "2023-01-23T21:50:53.353Z"
   },
   {
    "duration": 7,
    "start_time": "2023-01-23T21:50:55.083Z"
   },
   {
    "duration": 19,
    "start_time": "2023-01-23T21:50:55.091Z"
   },
   {
    "duration": 4,
    "start_time": "2023-01-23T21:50:55.113Z"
   },
   {
    "duration": 20,
    "start_time": "2023-01-23T21:50:55.119Z"
   },
   {
    "duration": 30,
    "start_time": "2023-01-23T21:50:55.141Z"
   },
   {
    "duration": 33,
    "start_time": "2023-01-23T21:50:55.172Z"
   },
   {
    "duration": 54,
    "start_time": "2023-01-23T21:50:55.221Z"
   },
   {
    "duration": 16,
    "start_time": "2023-01-23T21:50:55.276Z"
   },
   {
    "duration": 37,
    "start_time": "2023-01-23T21:50:55.295Z"
   },
   {
    "duration": 709,
    "start_time": "2023-01-23T21:50:55.333Z"
   },
   {
    "duration": 6,
    "start_time": "2023-01-23T21:50:56.044Z"
   },
   {
    "duration": 17,
    "start_time": "2023-01-23T21:50:56.051Z"
   },
   {
    "duration": 6,
    "start_time": "2023-01-23T21:50:56.070Z"
   },
   {
    "duration": 7,
    "start_time": "2023-01-23T21:50:56.078Z"
   },
   {
    "duration": 46,
    "start_time": "2023-01-23T21:50:56.087Z"
   },
   {
    "duration": 34,
    "start_time": "2023-01-23T21:50:56.134Z"
   },
   {
    "duration": 6,
    "start_time": "2023-01-23T21:50:56.170Z"
   },
   {
    "duration": 4,
    "start_time": "2023-01-23T21:50:56.177Z"
   },
   {
    "duration": 40,
    "start_time": "2023-01-23T21:50:56.183Z"
   },
   {
    "duration": 7,
    "start_time": "2023-01-23T21:50:56.225Z"
   },
   {
    "duration": 6,
    "start_time": "2023-01-23T21:50:56.234Z"
   },
   {
    "duration": 10,
    "start_time": "2023-01-23T21:50:56.241Z"
   },
   {
    "duration": 17,
    "start_time": "2023-01-23T21:50:56.253Z"
   },
   {
    "duration": 5,
    "start_time": "2023-01-23T21:50:56.272Z"
   },
   {
    "duration": 44,
    "start_time": "2023-01-23T21:50:56.279Z"
   },
   {
    "duration": 21,
    "start_time": "2023-01-23T21:50:56.325Z"
   },
   {
    "duration": 20,
    "start_time": "2023-01-23T21:50:56.351Z"
   },
   {
    "duration": 10,
    "start_time": "2023-01-23T21:50:56.373Z"
   },
   {
    "duration": 13,
    "start_time": "2023-01-23T21:50:56.385Z"
   },
   {
    "duration": 22,
    "start_time": "2023-01-23T21:50:56.400Z"
   },
   {
    "duration": 24,
    "start_time": "2023-01-23T21:50:56.424Z"
   },
   {
    "duration": 24,
    "start_time": "2023-01-23T21:50:56.450Z"
   },
   {
    "duration": 7,
    "start_time": "2023-01-23T21:50:56.476Z"
   },
   {
    "duration": 22,
    "start_time": "2023-01-23T21:50:56.485Z"
   },
   {
    "duration": 16,
    "start_time": "2023-01-23T21:50:56.509Z"
   },
   {
    "duration": 5,
    "start_time": "2023-01-23T21:50:56.526Z"
   },
   {
    "duration": 7,
    "start_time": "2023-01-23T21:50:56.532Z"
   },
   {
    "duration": 6,
    "start_time": "2023-01-23T21:50:56.540Z"
   },
   {
    "duration": 7,
    "start_time": "2023-01-23T21:50:56.548Z"
   },
   {
    "duration": 21,
    "start_time": "2023-01-23T21:50:56.556Z"
   },
   {
    "duration": 5,
    "start_time": "2023-01-23T21:50:56.578Z"
   },
   {
    "duration": 37,
    "start_time": "2023-01-23T21:50:56.584Z"
   },
   {
    "duration": 6,
    "start_time": "2023-01-23T21:50:56.622Z"
   },
   {
    "duration": 909,
    "start_time": "2023-01-23T21:50:56.630Z"
   },
   {
    "duration": 10,
    "start_time": "2023-01-23T21:50:57.540Z"
   },
   {
    "duration": 16,
    "start_time": "2023-01-23T21:50:57.552Z"
   },
   {
    "duration": 6,
    "start_time": "2023-01-23T21:50:57.570Z"
   },
   {
    "duration": 7,
    "start_time": "2023-01-23T21:50:57.578Z"
   },
   {
    "duration": 41,
    "start_time": "2023-01-23T21:50:57.586Z"
   },
   {
    "duration": 341,
    "start_time": "2023-01-23T21:50:57.628Z"
   },
   {
    "duration": 299,
    "start_time": "2023-01-23T21:50:57.970Z"
   },
   {
    "duration": 11,
    "start_time": "2023-01-23T21:50:58.270Z"
   },
   {
    "duration": 11,
    "start_time": "2023-01-23T21:50:58.283Z"
   },
   {
    "duration": 30,
    "start_time": "2023-01-23T21:50:58.296Z"
   },
   {
    "duration": 20,
    "start_time": "2023-01-23T21:50:58.328Z"
   },
   {
    "duration": 15,
    "start_time": "2023-01-23T21:50:58.350Z"
   },
   {
    "duration": 17,
    "start_time": "2023-01-23T21:50:58.367Z"
   },
   {
    "duration": 43,
    "start_time": "2023-01-23T21:50:58.385Z"
   },
   {
    "duration": 16,
    "start_time": "2023-01-23T21:50:58.431Z"
   },
   {
    "duration": 11,
    "start_time": "2023-01-23T21:50:58.449Z"
   },
   {
    "duration": 14,
    "start_time": "2023-01-23T21:50:58.462Z"
   },
   {
    "duration": 44,
    "start_time": "2023-01-23T21:50:58.478Z"
   },
   {
    "duration": 17,
    "start_time": "2023-01-23T21:50:58.524Z"
   },
   {
    "duration": 11,
    "start_time": "2023-01-23T21:50:58.543Z"
   },
   {
    "duration": 14,
    "start_time": "2023-01-23T21:50:58.556Z"
   },
   {
    "duration": 12,
    "start_time": "2023-01-23T21:50:58.572Z"
   },
   {
    "duration": 52,
    "start_time": "2023-01-23T21:50:58.586Z"
   },
   {
    "duration": 18,
    "start_time": "2023-01-23T21:50:58.640Z"
   },
   {
    "duration": 13,
    "start_time": "2023-01-23T21:50:58.660Z"
   },
   {
    "duration": 52,
    "start_time": "2023-01-23T21:50:58.675Z"
   },
   {
    "duration": 20,
    "start_time": "2023-01-23T21:50:58.729Z"
   },
   {
    "duration": 13,
    "start_time": "2023-01-23T21:50:58.751Z"
   },
   {
    "duration": 16,
    "start_time": "2023-01-23T21:50:58.766Z"
   },
   {
    "duration": 42,
    "start_time": "2023-01-23T21:50:58.784Z"
   },
   {
    "duration": 272,
    "start_time": "2023-01-23T21:50:58.828Z"
   },
   {
    "duration": 3189,
    "start_time": "2023-01-23T21:50:59.101Z"
   },
   {
    "duration": 2195,
    "start_time": "2023-01-23T21:51:02.292Z"
   },
   {
    "duration": 31,
    "start_time": "2023-01-23T21:51:04.490Z"
   },
   {
    "duration": 35,
    "start_time": "2023-01-23T21:51:04.524Z"
   },
   {
    "duration": 6,
    "start_time": "2023-01-23T21:51:04.560Z"
   },
   {
    "duration": 25,
    "start_time": "2023-01-23T21:51:04.574Z"
   },
   {
    "duration": 6,
    "start_time": "2023-01-23T21:51:04.601Z"
   },
   {
    "duration": 20,
    "start_time": "2023-01-23T21:51:04.621Z"
   },
   {
    "duration": 36,
    "start_time": "2023-01-23T21:51:04.643Z"
   },
   {
    "duration": 141,
    "start_time": "2023-01-23T21:51:04.681Z"
   },
   {
    "duration": 4,
    "start_time": "2023-01-23T21:53:00.011Z"
   },
   {
    "duration": 12,
    "start_time": "2023-01-23T21:53:07.460Z"
   },
   {
    "duration": 4,
    "start_time": "2023-01-23T21:53:11.848Z"
   },
   {
    "duration": 9,
    "start_time": "2023-01-23T22:02:00.519Z"
   },
   {
    "duration": 4,
    "start_time": "2023-01-23T22:02:06.272Z"
   },
   {
    "duration": 17,
    "start_time": "2023-01-23T22:02:10.933Z"
   },
   {
    "duration": 4,
    "start_time": "2023-01-23T22:02:12.842Z"
   },
   {
    "duration": 3,
    "start_time": "2023-01-23T22:10:51.255Z"
   },
   {
    "duration": 32,
    "start_time": "2023-01-23T22:10:52.461Z"
   },
   {
    "duration": 24029,
    "start_time": "2023-01-23T22:10:54.612Z"
   },
   {
    "duration": 22970,
    "start_time": "2023-01-23T22:13:31.805Z"
   },
   {
    "duration": 24167,
    "start_time": "2023-01-23T22:14:05.274Z"
   },
   {
    "duration": 18057,
    "start_time": "2023-01-23T22:14:36.454Z"
   },
   {
    "duration": 15,
    "start_time": "2023-01-23T22:19:08.303Z"
   },
   {
    "duration": 3,
    "start_time": "2023-01-23T22:21:16.855Z"
   },
   {
    "duration": 3,
    "start_time": "2023-01-23T22:30:09.717Z"
   },
   {
    "duration": 3,
    "start_time": "2023-01-23T22:32:06.377Z"
   },
   {
    "duration": 27,
    "start_time": "2023-01-23T22:32:09.117Z"
   },
   {
    "duration": 6,
    "start_time": "2023-01-23T22:33:17.840Z"
   },
   {
    "duration": 5,
    "start_time": "2023-01-23T22:33:54.500Z"
   },
   {
    "duration": 24,
    "start_time": "2023-01-23T22:34:23.485Z"
   },
   {
    "duration": 24,
    "start_time": "2023-01-23T22:34:32.025Z"
   },
   {
    "duration": 4,
    "start_time": "2023-01-23T22:35:06.299Z"
   },
   {
    "duration": 4,
    "start_time": "2023-01-23T22:35:10.063Z"
   },
   {
    "duration": 5,
    "start_time": "2023-01-23T22:35:17.131Z"
   },
   {
    "duration": 4,
    "start_time": "2023-01-23T22:35:19.456Z"
   },
   {
    "duration": 10,
    "start_time": "2023-01-23T22:36:14.795Z"
   },
   {
    "duration": 31,
    "start_time": "2023-01-23T22:38:06.371Z"
   },
   {
    "duration": 33,
    "start_time": "2023-01-23T22:38:31.293Z"
   },
   {
    "duration": 5,
    "start_time": "2023-01-24T08:40:12.539Z"
   },
   {
    "duration": 40,
    "start_time": "2023-01-24T09:03:44.885Z"
   },
   {
    "duration": 10,
    "start_time": "2023-01-24T09:03:53.084Z"
   },
   {
    "duration": 5,
    "start_time": "2023-01-24T09:03:57.758Z"
   },
   {
    "duration": 25,
    "start_time": "2023-01-24T09:04:10.766Z"
   },
   {
    "duration": 26,
    "start_time": "2023-01-24T09:04:16.968Z"
   },
   {
    "duration": 25,
    "start_time": "2023-01-24T09:04:52.241Z"
   },
   {
    "duration": 32,
    "start_time": "2023-01-24T09:04:56.519Z"
   },
   {
    "duration": 49,
    "start_time": "2023-01-24T09:05:02.715Z"
   },
   {
    "duration": 38,
    "start_time": "2023-01-24T09:05:06.001Z"
   },
   {
    "duration": 1620,
    "start_time": "2023-01-24T11:42:02.394Z"
   },
   {
    "duration": 1380,
    "start_time": "2023-01-24T11:42:11.109Z"
   },
   {
    "duration": 7,
    "start_time": "2023-01-24T11:42:12.492Z"
   },
   {
    "duration": 22,
    "start_time": "2023-01-24T11:42:12.501Z"
   },
   {
    "duration": 5,
    "start_time": "2023-01-24T11:42:12.526Z"
   },
   {
    "duration": 37,
    "start_time": "2023-01-24T11:42:12.533Z"
   },
   {
    "duration": 34,
    "start_time": "2023-01-24T11:42:12.572Z"
   },
   {
    "duration": 65,
    "start_time": "2023-01-24T11:42:12.608Z"
   },
   {
    "duration": 80,
    "start_time": "2023-01-24T11:42:12.675Z"
   },
   {
    "duration": 17,
    "start_time": "2023-01-24T11:42:12.757Z"
   },
   {
    "duration": 16,
    "start_time": "2023-01-24T11:42:12.777Z"
   },
   {
    "duration": 761,
    "start_time": "2023-01-24T11:42:12.795Z"
   },
   {
    "duration": 7,
    "start_time": "2023-01-24T11:42:13.558Z"
   },
   {
    "duration": 22,
    "start_time": "2023-01-24T11:42:13.566Z"
   },
   {
    "duration": 11,
    "start_time": "2023-01-24T11:42:13.590Z"
   },
   {
    "duration": 38,
    "start_time": "2023-01-24T11:42:13.603Z"
   },
   {
    "duration": 26,
    "start_time": "2023-01-24T11:42:13.643Z"
   },
   {
    "duration": 34,
    "start_time": "2023-01-24T11:42:13.671Z"
   },
   {
    "duration": 22,
    "start_time": "2023-01-24T11:42:13.707Z"
   },
   {
    "duration": 9,
    "start_time": "2023-01-24T11:42:13.731Z"
   },
   {
    "duration": 14,
    "start_time": "2023-01-24T11:42:13.742Z"
   },
   {
    "duration": 10,
    "start_time": "2023-01-24T11:42:13.758Z"
   },
   {
    "duration": 8,
    "start_time": "2023-01-24T11:42:13.770Z"
   },
   {
    "duration": 8,
    "start_time": "2023-01-24T11:42:13.780Z"
   },
   {
    "duration": 26,
    "start_time": "2023-01-24T11:42:13.821Z"
   },
   {
    "duration": 6,
    "start_time": "2023-01-24T11:42:13.848Z"
   },
   {
    "duration": 10,
    "start_time": "2023-01-24T11:42:13.856Z"
   },
   {
    "duration": 13,
    "start_time": "2023-01-24T11:42:13.868Z"
   },
   {
    "duration": 24,
    "start_time": "2023-01-24T11:42:13.921Z"
   },
   {
    "duration": 15,
    "start_time": "2023-01-24T11:42:13.947Z"
   },
   {
    "duration": 7,
    "start_time": "2023-01-24T11:42:13.964Z"
   },
   {
    "duration": 10,
    "start_time": "2023-01-24T11:42:13.972Z"
   },
   {
    "duration": 56,
    "start_time": "2023-01-24T11:42:13.984Z"
   },
   {
    "duration": 5,
    "start_time": "2023-01-24T11:42:14.042Z"
   },
   {
    "duration": 17,
    "start_time": "2023-01-24T11:42:14.049Z"
   },
   {
    "duration": 26,
    "start_time": "2023-01-24T11:42:14.068Z"
   },
   {
    "duration": 7,
    "start_time": "2023-01-24T11:42:14.097Z"
   },
   {
    "duration": 8,
    "start_time": "2023-01-24T11:42:14.106Z"
   },
   {
    "duration": 14,
    "start_time": "2023-01-24T11:42:14.121Z"
   },
   {
    "duration": 9,
    "start_time": "2023-01-24T11:42:14.138Z"
   },
   {
    "duration": 10,
    "start_time": "2023-01-24T11:42:14.148Z"
   },
   {
    "duration": 30,
    "start_time": "2023-01-24T11:42:14.159Z"
   },
   {
    "duration": 6,
    "start_time": "2023-01-24T11:42:14.191Z"
   },
   {
    "duration": 8,
    "start_time": "2023-01-24T11:42:14.199Z"
   },
   {
    "duration": 23,
    "start_time": "2023-01-24T11:42:14.208Z"
   },
   {
    "duration": 1136,
    "start_time": "2023-01-24T11:42:14.234Z"
   },
   {
    "duration": 10,
    "start_time": "2023-01-24T11:42:15.371Z"
   },
   {
    "duration": 17,
    "start_time": "2023-01-24T11:42:15.384Z"
   },
   {
    "duration": 7,
    "start_time": "2023-01-24T11:42:15.421Z"
   },
   {
    "duration": 14,
    "start_time": "2023-01-24T11:42:15.430Z"
   },
   {
    "duration": 12,
    "start_time": "2023-01-24T11:42:15.446Z"
   },
   {
    "duration": 384,
    "start_time": "2023-01-24T11:42:15.460Z"
   },
   {
    "duration": 337,
    "start_time": "2023-01-24T11:42:15.846Z"
   },
   {
    "duration": 12,
    "start_time": "2023-01-24T11:42:16.185Z"
   },
   {
    "duration": 35,
    "start_time": "2023-01-24T11:42:16.198Z"
   },
   {
    "duration": 8,
    "start_time": "2023-01-24T11:42:16.236Z"
   },
   {
    "duration": 12,
    "start_time": "2023-01-24T11:42:16.246Z"
   },
   {
    "duration": 13,
    "start_time": "2023-01-24T11:42:16.260Z"
   },
   {
    "duration": 16,
    "start_time": "2023-01-24T11:42:16.274Z"
   },
   {
    "duration": 43,
    "start_time": "2023-01-24T11:42:16.291Z"
   },
   {
    "duration": 29,
    "start_time": "2023-01-24T11:42:16.336Z"
   },
   {
    "duration": 14,
    "start_time": "2023-01-24T11:42:16.367Z"
   },
   {
    "duration": 43,
    "start_time": "2023-01-24T11:42:16.383Z"
   },
   {
    "duration": 18,
    "start_time": "2023-01-24T11:42:16.428Z"
   },
   {
    "duration": 15,
    "start_time": "2023-01-24T11:42:16.448Z"
   },
   {
    "duration": 11,
    "start_time": "2023-01-24T11:42:16.465Z"
   },
   {
    "duration": 46,
    "start_time": "2023-01-24T11:42:16.477Z"
   },
   {
    "duration": 15,
    "start_time": "2023-01-24T11:42:16.526Z"
   },
   {
    "duration": 16,
    "start_time": "2023-01-24T11:42:16.542Z"
   },
   {
    "duration": 17,
    "start_time": "2023-01-24T11:42:16.560Z"
   },
   {
    "duration": 44,
    "start_time": "2023-01-24T11:42:16.579Z"
   },
   {
    "duration": 23,
    "start_time": "2023-01-24T11:42:16.625Z"
   },
   {
    "duration": 15,
    "start_time": "2023-01-24T11:42:16.650Z"
   },
   {
    "duration": 12,
    "start_time": "2023-01-24T11:42:16.667Z"
   },
   {
    "duration": 13,
    "start_time": "2023-01-24T11:42:16.681Z"
   },
   {
    "duration": 24,
    "start_time": "2023-01-24T11:42:16.722Z"
   },
   {
    "duration": 274,
    "start_time": "2023-01-24T11:42:16.747Z"
   },
   {
    "duration": 2309,
    "start_time": "2023-01-24T11:42:17.026Z"
   },
   {
    "duration": 2452,
    "start_time": "2023-01-24T11:42:19.337Z"
   },
   {
    "duration": 26,
    "start_time": "2023-01-24T11:42:21.792Z"
   },
   {
    "duration": 36,
    "start_time": "2023-01-24T11:42:21.821Z"
   },
   {
    "duration": 5,
    "start_time": "2023-01-24T11:42:21.859Z"
   },
   {
    "duration": 24,
    "start_time": "2023-01-24T11:42:21.874Z"
   },
   {
    "duration": 31,
    "start_time": "2023-01-24T11:42:21.900Z"
   },
   {
    "duration": 15,
    "start_time": "2023-01-24T11:42:21.935Z"
   },
   {
    "duration": 25,
    "start_time": "2023-01-24T11:42:21.952Z"
   },
   {
    "duration": 57,
    "start_time": "2023-01-24T11:42:21.980Z"
   },
   {
    "duration": 4,
    "start_time": "2023-01-24T11:42:22.040Z"
   },
   {
    "duration": 21,
    "start_time": "2023-01-24T11:42:22.046Z"
   },
   {
    "duration": 55,
    "start_time": "2023-01-24T11:42:22.069Z"
   },
   {
    "duration": 23166,
    "start_time": "2023-01-24T11:42:22.127Z"
   },
   {
    "duration": 13,
    "start_time": "2023-01-24T11:42:45.295Z"
   },
   {
    "duration": 3,
    "start_time": "2023-01-24T11:42:45.310Z"
   },
   {
    "duration": 5,
    "start_time": "2023-01-24T11:42:45.314Z"
   },
   {
    "duration": 151,
    "start_time": "2023-01-24T11:42:45.321Z"
   },
   {
    "duration": 0,
    "start_time": "2023-01-24T11:42:45.474Z"
   },
   {
    "duration": 0,
    "start_time": "2023-01-24T11:42:45.475Z"
   },
   {
    "duration": 0,
    "start_time": "2023-01-24T11:42:45.477Z"
   },
   {
    "duration": 0,
    "start_time": "2023-01-24T11:42:45.478Z"
   },
   {
    "duration": 0,
    "start_time": "2023-01-24T11:42:45.479Z"
   },
   {
    "duration": 0,
    "start_time": "2023-01-24T11:42:45.480Z"
   },
   {
    "duration": 0,
    "start_time": "2023-01-24T11:42:45.481Z"
   },
   {
    "duration": 0,
    "start_time": "2023-01-24T11:42:45.482Z"
   },
   {
    "duration": 35,
    "start_time": "2023-01-24T11:42:57.705Z"
   },
   {
    "duration": 9,
    "start_time": "2023-01-24T11:43:30.645Z"
   },
   {
    "duration": 26,
    "start_time": "2023-01-24T11:43:35.683Z"
   },
   {
    "duration": 34,
    "start_time": "2023-01-24T11:43:45.034Z"
   },
   {
    "duration": 6,
    "start_time": "2023-01-24T11:43:48.882Z"
   },
   {
    "duration": 5,
    "start_time": "2023-01-24T11:43:50.666Z"
   },
   {
    "duration": 5,
    "start_time": "2023-01-24T11:43:52.648Z"
   },
   {
    "duration": 7,
    "start_time": "2023-01-24T11:44:50.714Z"
   },
   {
    "duration": 10,
    "start_time": "2023-01-24T11:45:00.683Z"
   },
   {
    "duration": 35,
    "start_time": "2023-01-24T12:41:06.835Z"
   },
   {
    "duration": 37,
    "start_time": "2023-01-24T12:41:11.094Z"
   },
   {
    "duration": 319,
    "start_time": "2023-01-24T12:41:18.605Z"
   },
   {
    "duration": 211,
    "start_time": "2023-01-24T12:42:14.453Z"
   },
   {
    "duration": 5,
    "start_time": "2023-01-24T12:54:47.604Z"
   },
   {
    "duration": 60,
    "start_time": "2023-01-24T12:55:12.854Z"
   },
   {
    "duration": 59,
    "start_time": "2023-01-24T12:55:58.568Z"
   },
   {
    "duration": 29,
    "start_time": "2023-01-24T12:56:29.099Z"
   },
   {
    "duration": 28,
    "start_time": "2023-01-24T12:56:38.149Z"
   },
   {
    "duration": 5,
    "start_time": "2023-01-24T13:02:47.340Z"
   },
   {
    "duration": 6,
    "start_time": "2023-01-24T13:02:51.004Z"
   },
   {
    "duration": 5,
    "start_time": "2023-01-24T13:02:54.097Z"
   },
   {
    "duration": 5,
    "start_time": "2023-01-24T13:02:58.096Z"
   },
   {
    "duration": 3,
    "start_time": "2023-01-24T19:09:02.209Z"
   },
   {
    "duration": 10,
    "start_time": "2023-01-24T19:10:07.371Z"
   },
   {
    "duration": 39,
    "start_time": "2023-01-24T19:10:12.292Z"
   },
   {
    "duration": 25,
    "start_time": "2023-01-24T19:10:27.560Z"
   },
   {
    "duration": 123,
    "start_time": "2023-01-24T19:12:12.779Z"
   },
   {
    "duration": 126,
    "start_time": "2023-01-24T19:13:20.461Z"
   },
   {
    "duration": 14,
    "start_time": "2023-01-24T19:24:31.246Z"
   },
   {
    "duration": 5,
    "start_time": "2023-01-24T19:25:23.750Z"
   },
   {
    "duration": 12,
    "start_time": "2023-01-24T21:58:00.735Z"
   },
   {
    "duration": 13,
    "start_time": "2023-01-24T21:58:17.347Z"
   },
   {
    "duration": 3,
    "start_time": "2023-01-24T22:00:14.817Z"
   },
   {
    "duration": 20757,
    "start_time": "2023-01-24T22:56:35.136Z"
   },
   {
    "duration": 11,
    "start_time": "2023-01-24T22:57:36.390Z"
   },
   {
    "duration": 33,
    "start_time": "2023-01-24T22:58:08.953Z"
   },
   {
    "duration": 5,
    "start_time": "2023-01-24T22:58:11.655Z"
   },
   {
    "duration": 11,
    "start_time": "2023-01-24T23:01:36.451Z"
   },
   {
    "duration": 29,
    "start_time": "2023-01-24T23:02:02.917Z"
   },
   {
    "duration": 129,
    "start_time": "2023-01-24T23:02:03.875Z"
   },
   {
    "duration": 3,
    "start_time": "2023-01-24T23:03:34.708Z"
   },
   {
    "duration": 4,
    "start_time": "2023-01-24T23:03:38.719Z"
   },
   {
    "duration": 4,
    "start_time": "2023-01-24T23:04:30.458Z"
   },
   {
    "duration": 4,
    "start_time": "2023-01-24T23:05:58.865Z"
   },
   {
    "duration": 23723,
    "start_time": "2023-01-24T23:14:37.905Z"
   },
   {
    "duration": 23742,
    "start_time": "2023-01-24T23:15:18.143Z"
   },
   {
    "duration": 23187,
    "start_time": "2023-01-24T23:16:38.300Z"
   },
   {
    "duration": 22199,
    "start_time": "2023-01-24T23:17:10.969Z"
   },
   {
    "duration": 9,
    "start_time": "2023-01-24T23:17:41.632Z"
   },
   {
    "duration": 5,
    "start_time": "2023-01-24T23:17:43.819Z"
   },
   {
    "duration": 28,
    "start_time": "2023-01-24T23:19:28.375Z"
   },
   {
    "duration": 6,
    "start_time": "2023-01-24T23:19:31.450Z"
   },
   {
    "duration": 4,
    "start_time": "2023-01-24T23:19:34.031Z"
   },
   {
    "duration": 11,
    "start_time": "2023-01-24T23:19:38.565Z"
   },
   {
    "duration": 21025,
    "start_time": "2023-01-24T23:22:11.604Z"
   },
   {
    "duration": 361,
    "start_time": "2023-01-24T23:23:06.864Z"
   },
   {
    "duration": 20692,
    "start_time": "2023-01-24T23:23:38.475Z"
   },
   {
    "duration": 23509,
    "start_time": "2023-01-25T08:35:34.766Z"
   },
   {
    "duration": 24,
    "start_time": "2023-01-25T08:38:12.613Z"
   },
   {
    "duration": 10,
    "start_time": "2023-01-25T08:38:16.574Z"
   },
   {
    "duration": 20,
    "start_time": "2023-01-25T08:38:30.281Z"
   },
   {
    "duration": 21,
    "start_time": "2023-01-25T09:09:41.854Z"
   },
   {
    "duration": 25,
    "start_time": "2023-01-25T09:10:11.843Z"
   },
   {
    "duration": 7,
    "start_time": "2023-01-25T09:10:17.719Z"
   },
   {
    "duration": 4,
    "start_time": "2023-01-25T09:10:24.180Z"
   },
   {
    "duration": 48,
    "start_time": "2023-01-25T09:14:48.185Z"
   },
   {
    "duration": 4,
    "start_time": "2023-01-25T09:15:10.703Z"
   },
   {
    "duration": 206,
    "start_time": "2023-01-25T09:15:12.335Z"
   },
   {
    "duration": 3,
    "start_time": "2023-01-25T09:16:32.066Z"
   },
   {
    "duration": 213,
    "start_time": "2023-01-25T09:16:33.748Z"
   },
   {
    "duration": 256,
    "start_time": "2023-01-25T09:16:38.297Z"
   },
   {
    "duration": 283,
    "start_time": "2023-01-25T09:18:20.915Z"
   },
   {
    "duration": 224,
    "start_time": "2023-01-25T09:19:08.353Z"
   },
   {
    "duration": 21,
    "start_time": "2023-01-25T09:26:22.388Z"
   },
   {
    "duration": 11,
    "start_time": "2023-01-25T09:26:51.236Z"
   },
   {
    "duration": 7,
    "start_time": "2023-01-25T09:26:55.782Z"
   },
   {
    "duration": 5,
    "start_time": "2023-01-25T09:27:06.472Z"
   },
   {
    "duration": 5,
    "start_time": "2023-01-25T09:27:23.978Z"
   },
   {
    "duration": 25,
    "start_time": "2023-01-25T09:28:50.942Z"
   },
   {
    "duration": 4072,
    "start_time": "2023-01-25T09:29:07.004Z"
   },
   {
    "duration": 53,
    "start_time": "2023-01-25T09:29:15.970Z"
   },
   {
    "duration": 3550,
    "start_time": "2023-01-25T09:29:26.136Z"
   },
   {
    "duration": 9,
    "start_time": "2023-01-25T09:29:29.689Z"
   },
   {
    "duration": 43,
    "start_time": "2023-01-25T09:29:29.700Z"
   },
   {
    "duration": 4,
    "start_time": "2023-01-25T09:29:29.745Z"
   },
   {
    "duration": 22,
    "start_time": "2023-01-25T09:29:29.752Z"
   },
   {
    "duration": 56,
    "start_time": "2023-01-25T09:29:29.775Z"
   },
   {
    "duration": 38,
    "start_time": "2023-01-25T09:29:29.833Z"
   },
   {
    "duration": 136,
    "start_time": "2023-01-25T09:29:29.873Z"
   },
   {
    "duration": 29,
    "start_time": "2023-01-25T09:29:30.012Z"
   },
   {
    "duration": 26,
    "start_time": "2023-01-25T09:29:30.043Z"
   },
   {
    "duration": 944,
    "start_time": "2023-01-25T09:29:30.072Z"
   },
   {
    "duration": 11,
    "start_time": "2023-01-25T09:29:31.018Z"
   },
   {
    "duration": 73,
    "start_time": "2023-01-25T09:29:31.032Z"
   },
   {
    "duration": 37,
    "start_time": "2023-01-25T09:29:31.110Z"
   },
   {
    "duration": 27,
    "start_time": "2023-01-25T09:29:31.150Z"
   },
   {
    "duration": 36,
    "start_time": "2023-01-25T09:29:31.179Z"
   },
   {
    "duration": 60,
    "start_time": "2023-01-25T09:29:31.217Z"
   },
   {
    "duration": 7,
    "start_time": "2023-01-25T09:29:31.279Z"
   },
   {
    "duration": 16,
    "start_time": "2023-01-25T09:29:31.288Z"
   },
   {
    "duration": 31,
    "start_time": "2023-01-25T09:29:31.306Z"
   },
   {
    "duration": 18,
    "start_time": "2023-01-25T09:29:31.340Z"
   },
   {
    "duration": 16,
    "start_time": "2023-01-25T09:29:31.361Z"
   },
   {
    "duration": 23,
    "start_time": "2023-01-25T09:29:31.378Z"
   },
   {
    "duration": 59,
    "start_time": "2023-01-25T09:29:31.403Z"
   },
   {
    "duration": 7,
    "start_time": "2023-01-25T09:29:31.464Z"
   },
   {
    "duration": 23,
    "start_time": "2023-01-25T09:29:31.473Z"
   },
   {
    "duration": 12,
    "start_time": "2023-01-25T09:29:31.499Z"
   },
   {
    "duration": 29,
    "start_time": "2023-01-25T09:29:31.514Z"
   },
   {
    "duration": 25,
    "start_time": "2023-01-25T09:29:31.546Z"
   },
   {
    "duration": 19,
    "start_time": "2023-01-25T09:29:31.574Z"
   },
   {
    "duration": 8,
    "start_time": "2023-01-25T09:29:31.594Z"
   },
   {
    "duration": 31,
    "start_time": "2023-01-25T09:29:31.604Z"
   },
   {
    "duration": 8,
    "start_time": "2023-01-25T09:29:31.638Z"
   },
   {
    "duration": 16,
    "start_time": "2023-01-25T09:29:31.648Z"
   },
   {
    "duration": 24,
    "start_time": "2023-01-25T09:29:31.666Z"
   },
   {
    "duration": 8,
    "start_time": "2023-01-25T09:29:31.693Z"
   },
   {
    "duration": 10,
    "start_time": "2023-01-25T09:29:31.703Z"
   },
   {
    "duration": 24,
    "start_time": "2023-01-25T09:29:31.721Z"
   },
   {
    "duration": 6,
    "start_time": "2023-01-25T09:29:31.747Z"
   },
   {
    "duration": 21,
    "start_time": "2023-01-25T09:29:31.755Z"
   },
   {
    "duration": 24,
    "start_time": "2023-01-25T09:29:31.784Z"
   },
   {
    "duration": 18,
    "start_time": "2023-01-25T09:29:31.828Z"
   },
   {
    "duration": 8,
    "start_time": "2023-01-25T09:29:31.849Z"
   },
   {
    "duration": 18,
    "start_time": "2023-01-25T09:29:31.859Z"
   },
   {
    "duration": 1136,
    "start_time": "2023-01-25T09:29:31.879Z"
   },
   {
    "duration": 24,
    "start_time": "2023-01-25T09:29:33.017Z"
   },
   {
    "duration": 18,
    "start_time": "2023-01-25T09:29:33.044Z"
   },
   {
    "duration": 7,
    "start_time": "2023-01-25T09:29:33.064Z"
   },
   {
    "duration": 8,
    "start_time": "2023-01-25T09:29:33.073Z"
   },
   {
    "duration": 10,
    "start_time": "2023-01-25T09:29:33.084Z"
   },
   {
    "duration": 420,
    "start_time": "2023-01-25T09:29:33.096Z"
   },
   {
    "duration": 348,
    "start_time": "2023-01-25T09:29:33.524Z"
   },
   {
    "duration": 13,
    "start_time": "2023-01-25T09:29:33.874Z"
   },
   {
    "duration": 32,
    "start_time": "2023-01-25T09:29:33.889Z"
   },
   {
    "duration": 19,
    "start_time": "2023-01-25T09:29:33.923Z"
   },
   {
    "duration": 12,
    "start_time": "2023-01-25T09:29:33.944Z"
   },
   {
    "duration": 17,
    "start_time": "2023-01-25T09:29:33.958Z"
   },
   {
    "duration": 17,
    "start_time": "2023-01-25T09:29:33.976Z"
   },
   {
    "duration": 47,
    "start_time": "2023-01-25T09:29:33.994Z"
   },
   {
    "duration": 17,
    "start_time": "2023-01-25T09:29:34.043Z"
   },
   {
    "duration": 15,
    "start_time": "2023-01-25T09:29:34.062Z"
   },
   {
    "duration": 47,
    "start_time": "2023-01-25T09:29:34.079Z"
   },
   {
    "duration": 18,
    "start_time": "2023-01-25T09:29:34.128Z"
   },
   {
    "duration": 21,
    "start_time": "2023-01-25T09:29:34.148Z"
   },
   {
    "duration": 14,
    "start_time": "2023-01-25T09:29:34.171Z"
   },
   {
    "duration": 46,
    "start_time": "2023-01-25T09:29:34.188Z"
   },
   {
    "duration": 16,
    "start_time": "2023-01-25T09:29:34.237Z"
   },
   {
    "duration": 20,
    "start_time": "2023-01-25T09:29:34.255Z"
   },
   {
    "duration": 18,
    "start_time": "2023-01-25T09:29:34.277Z"
   },
   {
    "duration": 52,
    "start_time": "2023-01-25T09:29:34.297Z"
   },
   {
    "duration": 17,
    "start_time": "2023-01-25T09:29:34.351Z"
   },
   {
    "duration": 16,
    "start_time": "2023-01-25T09:29:34.370Z"
   },
   {
    "duration": 39,
    "start_time": "2023-01-25T09:29:34.388Z"
   },
   {
    "duration": 44,
    "start_time": "2023-01-25T09:29:34.428Z"
   },
   {
    "duration": 26,
    "start_time": "2023-01-25T09:29:34.474Z"
   },
   {
    "duration": 2089,
    "start_time": "2023-01-25T09:29:34.502Z"
   },
   {
    "duration": 4058,
    "start_time": "2023-01-25T09:29:36.593Z"
   },
   {
    "duration": 2678,
    "start_time": "2023-01-25T09:29:40.653Z"
   },
   {
    "duration": 226,
    "start_time": "2023-01-25T09:29:43.335Z"
   },
   {
    "duration": 27,
    "start_time": "2023-01-25T09:29:43.562Z"
   },
   {
    "duration": 17,
    "start_time": "2023-01-25T09:29:43.590Z"
   },
   {
    "duration": 38,
    "start_time": "2023-01-25T09:29:43.610Z"
   },
   {
    "duration": 86,
    "start_time": "2023-01-25T09:29:43.649Z"
   },
   {
    "duration": 51,
    "start_time": "2023-01-25T09:29:43.737Z"
   },
   {
    "duration": 50,
    "start_time": "2023-01-25T09:29:43.791Z"
   },
   {
    "duration": 58,
    "start_time": "2023-01-25T09:29:43.843Z"
   },
   {
    "duration": 36,
    "start_time": "2023-01-25T09:29:43.903Z"
   },
   {
    "duration": 41,
    "start_time": "2023-01-25T09:29:43.941Z"
   },
   {
    "duration": 25,
    "start_time": "2023-01-25T09:29:43.985Z"
   },
   {
    "duration": 55,
    "start_time": "2023-01-25T09:29:44.013Z"
   },
   {
    "duration": 226,
    "start_time": "2023-01-25T09:29:44.070Z"
   },
   {
    "duration": 0,
    "start_time": "2023-01-25T09:29:44.298Z"
   },
   {
    "duration": 0,
    "start_time": "2023-01-25T09:29:44.300Z"
   },
   {
    "duration": 0,
    "start_time": "2023-01-25T09:29:44.301Z"
   },
   {
    "duration": 0,
    "start_time": "2023-01-25T09:29:44.302Z"
   },
   {
    "duration": 0,
    "start_time": "2023-01-25T09:29:44.303Z"
   },
   {
    "duration": 0,
    "start_time": "2023-01-25T09:29:44.305Z"
   },
   {
    "duration": 0,
    "start_time": "2023-01-25T09:29:44.322Z"
   },
   {
    "duration": 0,
    "start_time": "2023-01-25T09:29:44.323Z"
   },
   {
    "duration": 0,
    "start_time": "2023-01-25T09:29:44.325Z"
   },
   {
    "duration": 0,
    "start_time": "2023-01-25T09:29:44.326Z"
   },
   {
    "duration": 0,
    "start_time": "2023-01-25T09:29:44.328Z"
   },
   {
    "duration": 0,
    "start_time": "2023-01-25T09:29:44.336Z"
   },
   {
    "duration": 0,
    "start_time": "2023-01-25T09:29:44.337Z"
   },
   {
    "duration": 0,
    "start_time": "2023-01-25T09:29:44.338Z"
   },
   {
    "duration": 0,
    "start_time": "2023-01-25T09:29:44.344Z"
   },
   {
    "duration": 0,
    "start_time": "2023-01-25T09:29:44.345Z"
   },
   {
    "duration": 0,
    "start_time": "2023-01-25T09:29:44.348Z"
   },
   {
    "duration": 0,
    "start_time": "2023-01-25T09:29:44.350Z"
   },
   {
    "duration": 0,
    "start_time": "2023-01-25T09:29:44.352Z"
   },
   {
    "duration": 0,
    "start_time": "2023-01-25T09:29:44.355Z"
   },
   {
    "duration": 0,
    "start_time": "2023-01-25T09:29:44.357Z"
   },
   {
    "duration": 0,
    "start_time": "2023-01-25T09:29:44.358Z"
   },
   {
    "duration": 0,
    "start_time": "2023-01-25T09:29:44.359Z"
   },
   {
    "duration": 6295,
    "start_time": "2023-01-25T09:31:22.079Z"
   },
   {
    "duration": 22,
    "start_time": "2023-01-25T09:31:32.490Z"
   },
   {
    "duration": 4803,
    "start_time": "2023-01-25T09:31:42.315Z"
   },
   {
    "duration": 14,
    "start_time": "2023-01-25T09:31:47.121Z"
   },
   {
    "duration": 28,
    "start_time": "2023-01-25T09:31:47.137Z"
   },
   {
    "duration": 5,
    "start_time": "2023-01-25T09:31:47.169Z"
   },
   {
    "duration": 33,
    "start_time": "2023-01-25T09:31:47.176Z"
   },
   {
    "duration": 43,
    "start_time": "2023-01-25T09:31:47.227Z"
   },
   {
    "duration": 66,
    "start_time": "2023-01-25T09:31:47.272Z"
   },
   {
    "duration": 119,
    "start_time": "2023-01-25T09:31:47.341Z"
   },
   {
    "duration": 19,
    "start_time": "2023-01-25T09:31:47.462Z"
   },
   {
    "duration": 23,
    "start_time": "2023-01-25T09:31:47.485Z"
   },
   {
    "duration": 803,
    "start_time": "2023-01-25T09:31:47.510Z"
   },
   {
    "duration": 20,
    "start_time": "2023-01-25T09:31:48.315Z"
   },
   {
    "duration": 23,
    "start_time": "2023-01-25T09:31:48.337Z"
   },
   {
    "duration": 14,
    "start_time": "2023-01-25T09:31:48.363Z"
   },
   {
    "duration": 14,
    "start_time": "2023-01-25T09:31:48.379Z"
   },
   {
    "duration": 31,
    "start_time": "2023-01-25T09:31:48.396Z"
   },
   {
    "duration": 60,
    "start_time": "2023-01-25T09:31:48.433Z"
   },
   {
    "duration": 9,
    "start_time": "2023-01-25T09:31:48.499Z"
   },
   {
    "duration": 30,
    "start_time": "2023-01-25T09:31:48.510Z"
   },
   {
    "duration": 16,
    "start_time": "2023-01-25T09:31:48.543Z"
   },
   {
    "duration": 12,
    "start_time": "2023-01-25T09:31:48.561Z"
   },
   {
    "duration": 11,
    "start_time": "2023-01-25T09:31:48.575Z"
   },
   {
    "duration": 14,
    "start_time": "2023-01-25T09:31:48.588Z"
   },
   {
    "duration": 49,
    "start_time": "2023-01-25T09:31:48.605Z"
   },
   {
    "duration": 8,
    "start_time": "2023-01-25T09:31:48.656Z"
   },
   {
    "duration": 11,
    "start_time": "2023-01-25T09:31:48.666Z"
   },
   {
    "duration": 13,
    "start_time": "2023-01-25T09:31:48.679Z"
   },
   {
    "duration": 40,
    "start_time": "2023-01-25T09:31:48.697Z"
   },
   {
    "duration": 20,
    "start_time": "2023-01-25T09:31:48.740Z"
   },
   {
    "duration": 6,
    "start_time": "2023-01-25T09:31:48.763Z"
   },
   {
    "duration": 7,
    "start_time": "2023-01-25T09:31:48.771Z"
   },
   {
    "duration": 21,
    "start_time": "2023-01-25T09:31:48.780Z"
   },
   {
    "duration": 39,
    "start_time": "2023-01-25T09:31:48.803Z"
   },
   {
    "duration": 6,
    "start_time": "2023-01-25T09:31:48.844Z"
   },
   {
    "duration": 21,
    "start_time": "2023-01-25T09:31:48.852Z"
   },
   {
    "duration": 5,
    "start_time": "2023-01-25T09:31:48.875Z"
   },
   {
    "duration": 7,
    "start_time": "2023-01-25T09:31:48.882Z"
   },
   {
    "duration": 7,
    "start_time": "2023-01-25T09:31:48.892Z"
   },
   {
    "duration": 35,
    "start_time": "2023-01-25T09:31:48.902Z"
   },
   {
    "duration": 13,
    "start_time": "2023-01-25T09:31:48.940Z"
   },
   {
    "duration": 20,
    "start_time": "2023-01-25T09:31:48.955Z"
   },
   {
    "duration": 6,
    "start_time": "2023-01-25T09:31:48.977Z"
   },
   {
    "duration": 7,
    "start_time": "2023-01-25T09:31:48.985Z"
   },
   {
    "duration": 44,
    "start_time": "2023-01-25T09:31:48.994Z"
   },
   {
    "duration": 1073,
    "start_time": "2023-01-25T09:31:49.040Z"
   },
   {
    "duration": 23,
    "start_time": "2023-01-25T09:31:50.115Z"
   },
   {
    "duration": 35,
    "start_time": "2023-01-25T09:31:50.141Z"
   },
   {
    "duration": 15,
    "start_time": "2023-01-25T09:31:50.178Z"
   },
   {
    "duration": 12,
    "start_time": "2023-01-25T09:31:50.195Z"
   },
   {
    "duration": 24,
    "start_time": "2023-01-25T09:31:50.209Z"
   },
   {
    "duration": 421,
    "start_time": "2023-01-25T09:31:50.236Z"
   },
   {
    "duration": 426,
    "start_time": "2023-01-25T09:31:50.660Z"
   },
   {
    "duration": 17,
    "start_time": "2023-01-25T09:31:51.088Z"
   },
   {
    "duration": 41,
    "start_time": "2023-01-25T09:31:51.128Z"
   },
   {
    "duration": 46,
    "start_time": "2023-01-25T09:31:51.172Z"
   },
   {
    "duration": 39,
    "start_time": "2023-01-25T09:31:51.220Z"
   },
   {
    "duration": 27,
    "start_time": "2023-01-25T09:31:51.262Z"
   },
   {
    "duration": 23,
    "start_time": "2023-01-25T09:31:51.292Z"
   },
   {
    "duration": 44,
    "start_time": "2023-01-25T09:31:51.317Z"
   },
   {
    "duration": 24,
    "start_time": "2023-01-25T09:31:51.364Z"
   },
   {
    "duration": 28,
    "start_time": "2023-01-25T09:31:51.390Z"
   },
   {
    "duration": 58,
    "start_time": "2023-01-25T09:31:51.420Z"
   },
   {
    "duration": 15,
    "start_time": "2023-01-25T09:31:51.480Z"
   },
   {
    "duration": 25,
    "start_time": "2023-01-25T09:31:51.497Z"
   },
   {
    "duration": 53,
    "start_time": "2023-01-25T09:31:51.525Z"
   },
   {
    "duration": 22,
    "start_time": "2023-01-25T09:31:51.580Z"
   },
   {
    "duration": 36,
    "start_time": "2023-01-25T09:31:51.604Z"
   },
   {
    "duration": 44,
    "start_time": "2023-01-25T09:31:51.641Z"
   },
   {
    "duration": 33,
    "start_time": "2023-01-25T09:31:51.687Z"
   },
   {
    "duration": 74,
    "start_time": "2023-01-25T09:31:51.722Z"
   },
   {
    "duration": 62,
    "start_time": "2023-01-25T09:31:51.798Z"
   },
   {
    "duration": 38,
    "start_time": "2023-01-25T09:31:51.863Z"
   },
   {
    "duration": 69,
    "start_time": "2023-01-25T09:31:51.903Z"
   },
   {
    "duration": 65,
    "start_time": "2023-01-25T09:31:51.974Z"
   },
   {
    "duration": 60,
    "start_time": "2023-01-25T09:31:52.041Z"
   },
   {
    "duration": 863,
    "start_time": "2023-01-25T09:31:52.103Z"
   },
   {
    "duration": 2742,
    "start_time": "2023-01-25T09:31:52.969Z"
   },
   {
    "duration": 2793,
    "start_time": "2023-01-25T09:31:55.714Z"
   },
   {
    "duration": 167,
    "start_time": "2023-01-25T09:31:58.510Z"
   },
   {
    "duration": 28,
    "start_time": "2023-01-25T09:31:58.681Z"
   },
   {
    "duration": 5,
    "start_time": "2023-01-25T09:31:58.712Z"
   },
   {
    "duration": 24,
    "start_time": "2023-01-25T09:31:58.725Z"
   },
   {
    "duration": 8,
    "start_time": "2023-01-25T09:31:58.754Z"
   },
   {
    "duration": 20,
    "start_time": "2023-01-25T09:31:58.764Z"
   },
   {
    "duration": 29,
    "start_time": "2023-01-25T09:31:58.786Z"
   },
   {
    "duration": 29,
    "start_time": "2023-01-25T09:31:58.817Z"
   },
   {
    "duration": 22,
    "start_time": "2023-01-25T09:31:58.849Z"
   },
   {
    "duration": 17,
    "start_time": "2023-01-25T09:31:58.873Z"
   },
   {
    "duration": 12,
    "start_time": "2023-01-25T09:31:58.893Z"
   },
   {
    "duration": 22,
    "start_time": "2023-01-25T09:31:58.920Z"
   },
   {
    "duration": 2729,
    "start_time": "2023-01-25T09:31:58.944Z"
   },
   {
    "duration": 231,
    "start_time": "2023-01-25T09:32:01.676Z"
   },
   {
    "duration": 0,
    "start_time": "2023-01-25T09:32:01.909Z"
   },
   {
    "duration": 0,
    "start_time": "2023-01-25T09:32:01.911Z"
   },
   {
    "duration": 0,
    "start_time": "2023-01-25T09:32:01.912Z"
   },
   {
    "duration": 0,
    "start_time": "2023-01-25T09:32:01.914Z"
   },
   {
    "duration": 0,
    "start_time": "2023-01-25T09:32:01.915Z"
   },
   {
    "duration": 0,
    "start_time": "2023-01-25T09:32:01.921Z"
   },
   {
    "duration": 0,
    "start_time": "2023-01-25T09:32:01.922Z"
   },
   {
    "duration": 0,
    "start_time": "2023-01-25T09:32:01.923Z"
   },
   {
    "duration": 0,
    "start_time": "2023-01-25T09:32:01.924Z"
   },
   {
    "duration": 0,
    "start_time": "2023-01-25T09:32:01.925Z"
   },
   {
    "duration": 0,
    "start_time": "2023-01-25T09:32:01.926Z"
   },
   {
    "duration": 0,
    "start_time": "2023-01-25T09:32:01.927Z"
   },
   {
    "duration": 0,
    "start_time": "2023-01-25T09:32:01.928Z"
   },
   {
    "duration": 0,
    "start_time": "2023-01-25T09:32:01.929Z"
   },
   {
    "duration": 0,
    "start_time": "2023-01-25T09:32:01.930Z"
   },
   {
    "duration": 0,
    "start_time": "2023-01-25T09:32:01.932Z"
   },
   {
    "duration": 0,
    "start_time": "2023-01-25T09:32:01.933Z"
   },
   {
    "duration": 0,
    "start_time": "2023-01-25T09:32:01.934Z"
   },
   {
    "duration": 0,
    "start_time": "2023-01-25T09:32:01.935Z"
   },
   {
    "duration": 0,
    "start_time": "2023-01-25T09:32:01.936Z"
   },
   {
    "duration": 0,
    "start_time": "2023-01-25T09:32:01.937Z"
   },
   {
    "duration": 0,
    "start_time": "2023-01-25T09:32:01.941Z"
   },
   {
    "duration": 25,
    "start_time": "2023-01-25T09:32:57.188Z"
   },
   {
    "duration": 27,
    "start_time": "2023-01-25T09:33:23.519Z"
   },
   {
    "duration": 910,
    "start_time": "2023-01-25T09:33:49.221Z"
   },
   {
    "duration": 4,
    "start_time": "2023-01-25T09:37:10.441Z"
   },
   {
    "duration": 24,
    "start_time": "2023-01-25T09:37:11.685Z"
   },
   {
    "duration": 23,
    "start_time": "2023-01-25T09:38:45.044Z"
   },
   {
    "duration": 5,
    "start_time": "2023-01-25T09:39:39.135Z"
   },
   {
    "duration": 16,
    "start_time": "2023-01-25T09:39:40.597Z"
   },
   {
    "duration": 30,
    "start_time": "2023-01-25T09:40:46.042Z"
   },
   {
    "duration": 23,
    "start_time": "2023-01-25T09:41:04.562Z"
   },
   {
    "duration": 4,
    "start_time": "2023-01-25T09:42:52.310Z"
   },
   {
    "duration": 19,
    "start_time": "2023-01-25T09:43:43.242Z"
   },
   {
    "duration": 10,
    "start_time": "2023-01-25T09:50:06.710Z"
   },
   {
    "duration": 618,
    "start_time": "2023-01-25T09:50:45.710Z"
   },
   {
    "duration": 22,
    "start_time": "2023-01-25T09:51:12.996Z"
   },
   {
    "duration": 23,
    "start_time": "2023-01-25T09:51:55.422Z"
   },
   {
    "duration": 3,
    "start_time": "2023-01-25T09:53:06.008Z"
   },
   {
    "duration": 5154,
    "start_time": "2023-01-25T09:53:09.346Z"
   },
   {
    "duration": 5238,
    "start_time": "2023-01-25T09:53:37.373Z"
   },
   {
    "duration": 4,
    "start_time": "2023-01-25T09:53:44.859Z"
   },
   {
    "duration": 14,
    "start_time": "2023-01-25T09:53:45.509Z"
   },
   {
    "duration": 334,
    "start_time": "2023-01-25T09:54:52.666Z"
   },
   {
    "duration": 14,
    "start_time": "2023-01-25T09:55:27.223Z"
   },
   {
    "duration": 13,
    "start_time": "2023-01-25T09:56:21.079Z"
   },
   {
    "duration": 199,
    "start_time": "2023-01-25T09:56:32.234Z"
   },
   {
    "duration": 7017,
    "start_time": "2023-01-25T10:05:53.469Z"
   },
   {
    "duration": 5678,
    "start_time": "2023-01-25T10:06:49.969Z"
   },
   {
    "duration": 6,
    "start_time": "2023-01-25T10:07:29.980Z"
   },
   {
    "duration": 10,
    "start_time": "2023-01-25T10:07:30.456Z"
   },
   {
    "duration": 4,
    "start_time": "2023-01-25T10:07:34.944Z"
   },
   {
    "duration": 7,
    "start_time": "2023-01-25T10:07:37.175Z"
   },
   {
    "duration": 5,
    "start_time": "2023-01-25T10:07:38.272Z"
   },
   {
    "duration": 11,
    "start_time": "2023-01-25T10:07:46.568Z"
   },
   {
    "duration": 5769,
    "start_time": "2023-01-25T10:09:25.340Z"
   },
   {
    "duration": 5636,
    "start_time": "2023-01-25T10:09:39.936Z"
   },
   {
    "duration": 5522,
    "start_time": "2023-01-25T10:10:00.829Z"
   },
   {
    "duration": 5150,
    "start_time": "2023-01-25T10:10:11.716Z"
   },
   {
    "duration": 6030,
    "start_time": "2023-01-25T10:10:20.408Z"
   },
   {
    "duration": 3,
    "start_time": "2023-01-25T10:12:47.083Z"
   },
   {
    "duration": 19,
    "start_time": "2023-01-25T10:14:52.675Z"
   },
   {
    "duration": 17,
    "start_time": "2023-01-25T10:15:05.602Z"
   },
   {
    "duration": 18,
    "start_time": "2023-01-25T10:15:58.445Z"
   },
   {
    "duration": 20,
    "start_time": "2023-01-25T10:17:18.217Z"
   },
   {
    "duration": 27,
    "start_time": "2023-01-25T10:18:20.305Z"
   },
   {
    "duration": 19,
    "start_time": "2023-01-25T10:28:13.665Z"
   },
   {
    "duration": 1895,
    "start_time": "2023-01-26T13:03:38.908Z"
   },
   {
    "duration": 7,
    "start_time": "2023-01-26T13:03:40.806Z"
   },
   {
    "duration": 17,
    "start_time": "2023-01-26T13:03:40.815Z"
   },
   {
    "duration": 5,
    "start_time": "2023-01-26T13:03:40.835Z"
   },
   {
    "duration": 27,
    "start_time": "2023-01-26T13:03:40.841Z"
   },
   {
    "duration": 80,
    "start_time": "2023-01-26T13:03:40.870Z"
   },
   {
    "duration": 42,
    "start_time": "2023-01-26T13:03:40.952Z"
   },
   {
    "duration": 81,
    "start_time": "2023-01-26T13:03:40.996Z"
   },
   {
    "duration": 20,
    "start_time": "2023-01-26T13:03:41.080Z"
   },
   {
    "duration": 18,
    "start_time": "2023-01-26T13:03:41.122Z"
   },
   {
    "duration": 829,
    "start_time": "2023-01-26T13:03:41.143Z"
   },
   {
    "duration": 8,
    "start_time": "2023-01-26T13:03:41.974Z"
   },
   {
    "duration": 17,
    "start_time": "2023-01-26T13:03:41.984Z"
   },
   {
    "duration": 30,
    "start_time": "2023-01-26T13:03:42.003Z"
   },
   {
    "duration": 46,
    "start_time": "2023-01-26T13:03:42.037Z"
   },
   {
    "duration": 41,
    "start_time": "2023-01-26T13:03:42.086Z"
   },
   {
    "duration": 47,
    "start_time": "2023-01-26T13:03:42.131Z"
   },
   {
    "duration": 8,
    "start_time": "2023-01-26T13:03:42.181Z"
   },
   {
    "duration": 32,
    "start_time": "2023-01-26T13:03:42.191Z"
   },
   {
    "duration": 18,
    "start_time": "2023-01-26T13:03:42.225Z"
   },
   {
    "duration": 19,
    "start_time": "2023-01-26T13:03:42.245Z"
   },
   {
    "duration": 9,
    "start_time": "2023-01-26T13:03:42.267Z"
   },
   {
    "duration": 14,
    "start_time": "2023-01-26T13:03:42.279Z"
   },
   {
    "duration": 29,
    "start_time": "2023-01-26T13:03:42.321Z"
   },
   {
    "duration": 10,
    "start_time": "2023-01-26T13:03:42.353Z"
   },
   {
    "duration": 16,
    "start_time": "2023-01-26T13:03:42.365Z"
   },
   {
    "duration": 40,
    "start_time": "2023-01-26T13:03:42.384Z"
   },
   {
    "duration": 22,
    "start_time": "2023-01-26T13:03:42.431Z"
   },
   {
    "duration": 30,
    "start_time": "2023-01-26T13:03:42.456Z"
   },
   {
    "duration": 11,
    "start_time": "2023-01-26T13:03:42.489Z"
   },
   {
    "duration": 27,
    "start_time": "2023-01-26T13:03:42.502Z"
   },
   {
    "duration": 38,
    "start_time": "2023-01-26T13:03:42.531Z"
   },
   {
    "duration": 13,
    "start_time": "2023-01-26T13:03:42.572Z"
   },
   {
    "duration": 11,
    "start_time": "2023-01-26T13:03:42.587Z"
   },
   {
    "duration": 47,
    "start_time": "2023-01-26T13:03:42.600Z"
   },
   {
    "duration": 10,
    "start_time": "2023-01-26T13:03:42.649Z"
   },
   {
    "duration": 7,
    "start_time": "2023-01-26T13:03:42.662Z"
   },
   {
    "duration": 12,
    "start_time": "2023-01-26T13:03:42.671Z"
   },
   {
    "duration": 38,
    "start_time": "2023-01-26T13:03:42.685Z"
   },
   {
    "duration": 8,
    "start_time": "2023-01-26T13:03:42.725Z"
   },
   {
    "duration": 27,
    "start_time": "2023-01-26T13:03:42.736Z"
   },
   {
    "duration": 7,
    "start_time": "2023-01-26T13:03:42.765Z"
   },
   {
    "duration": 9,
    "start_time": "2023-01-26T13:03:42.775Z"
   },
   {
    "duration": 7,
    "start_time": "2023-01-26T13:03:42.824Z"
   },
   {
    "duration": 1373,
    "start_time": "2023-01-26T13:03:42.834Z"
   },
   {
    "duration": 18,
    "start_time": "2023-01-26T13:03:44.209Z"
   },
   {
    "duration": 29,
    "start_time": "2023-01-26T13:03:44.229Z"
   },
   {
    "duration": 13,
    "start_time": "2023-01-26T13:03:44.260Z"
   },
   {
    "duration": 12,
    "start_time": "2023-01-26T13:03:44.275Z"
   },
   {
    "duration": 41,
    "start_time": "2023-01-26T13:03:44.290Z"
   },
   {
    "duration": 568,
    "start_time": "2023-01-26T13:03:44.335Z"
   },
   {
    "duration": 488,
    "start_time": "2023-01-26T13:03:44.907Z"
   },
   {
    "duration": 28,
    "start_time": "2023-01-26T13:03:45.396Z"
   },
   {
    "duration": 15,
    "start_time": "2023-01-26T13:03:45.426Z"
   },
   {
    "duration": 15,
    "start_time": "2023-01-26T13:03:45.443Z"
   },
   {
    "duration": 23,
    "start_time": "2023-01-26T13:03:45.460Z"
   },
   {
    "duration": 47,
    "start_time": "2023-01-26T13:03:45.485Z"
   },
   {
    "duration": 18,
    "start_time": "2023-01-26T13:03:45.534Z"
   },
   {
    "duration": 13,
    "start_time": "2023-01-26T13:03:45.554Z"
   },
   {
    "duration": 16,
    "start_time": "2023-01-26T13:03:45.569Z"
   },
   {
    "duration": 13,
    "start_time": "2023-01-26T13:03:45.621Z"
   },
   {
    "duration": 16,
    "start_time": "2023-01-26T13:03:45.636Z"
   },
   {
    "duration": 15,
    "start_time": "2023-01-26T13:03:45.654Z"
   },
   {
    "duration": 58,
    "start_time": "2023-01-26T13:03:45.671Z"
   },
   {
    "duration": 18,
    "start_time": "2023-01-26T13:03:45.731Z"
   },
   {
    "duration": 25,
    "start_time": "2023-01-26T13:03:45.752Z"
   },
   {
    "duration": 52,
    "start_time": "2023-01-26T13:03:45.779Z"
   },
   {
    "duration": 16,
    "start_time": "2023-01-26T13:03:45.834Z"
   },
   {
    "duration": 19,
    "start_time": "2023-01-26T13:03:45.852Z"
   },
   {
    "duration": 18,
    "start_time": "2023-01-26T13:03:45.873Z"
   },
   {
    "duration": 23,
    "start_time": "2023-01-26T13:03:45.921Z"
   },
   {
    "duration": 23,
    "start_time": "2023-01-26T13:03:45.947Z"
   },
   {
    "duration": 19,
    "start_time": "2023-01-26T13:03:45.972Z"
   },
   {
    "duration": 19,
    "start_time": "2023-01-26T13:03:46.021Z"
   },
   {
    "duration": 17,
    "start_time": "2023-01-26T13:03:46.042Z"
   },
   {
    "duration": 311,
    "start_time": "2023-01-26T13:03:46.061Z"
   },
   {
    "duration": 4016,
    "start_time": "2023-01-26T13:03:46.374Z"
   },
   {
    "duration": 2705,
    "start_time": "2023-01-26T13:03:50.393Z"
   },
   {
    "duration": 38,
    "start_time": "2023-01-26T13:03:53.101Z"
   },
   {
    "duration": 40,
    "start_time": "2023-01-26T13:03:53.142Z"
   },
   {
    "duration": 6,
    "start_time": "2023-01-26T13:03:53.185Z"
   },
   {
    "duration": 13,
    "start_time": "2023-01-26T13:03:53.225Z"
   },
   {
    "duration": 6,
    "start_time": "2023-01-26T13:03:53.241Z"
   },
   {
    "duration": 27,
    "start_time": "2023-01-26T13:03:53.249Z"
   },
   {
    "duration": 51,
    "start_time": "2023-01-26T13:03:53.279Z"
   },
   {
    "duration": 36,
    "start_time": "2023-01-26T13:03:53.332Z"
   },
   {
    "duration": 30,
    "start_time": "2023-01-26T13:03:53.370Z"
   },
   {
    "duration": 21,
    "start_time": "2023-01-26T13:03:53.403Z"
   },
   {
    "duration": 17,
    "start_time": "2023-01-26T13:03:53.428Z"
   },
   {
    "duration": 14,
    "start_time": "2023-01-26T13:03:53.447Z"
   },
   {
    "duration": 209,
    "start_time": "2023-01-26T13:03:53.464Z"
   },
   {
    "duration": 0,
    "start_time": "2023-01-26T13:03:53.675Z"
   },
   {
    "duration": 0,
    "start_time": "2023-01-26T13:03:53.676Z"
   },
   {
    "duration": 0,
    "start_time": "2023-01-26T13:03:53.677Z"
   },
   {
    "duration": 0,
    "start_time": "2023-01-26T13:03:53.679Z"
   },
   {
    "duration": 0,
    "start_time": "2023-01-26T13:03:53.684Z"
   },
   {
    "duration": 0,
    "start_time": "2023-01-26T13:03:53.686Z"
   },
   {
    "duration": 0,
    "start_time": "2023-01-26T13:03:53.688Z"
   },
   {
    "duration": 0,
    "start_time": "2023-01-26T13:03:53.689Z"
   },
   {
    "duration": 0,
    "start_time": "2023-01-26T13:03:53.691Z"
   },
   {
    "duration": 0,
    "start_time": "2023-01-26T13:03:53.693Z"
   },
   {
    "duration": 0,
    "start_time": "2023-01-26T13:03:53.694Z"
   },
   {
    "duration": 0,
    "start_time": "2023-01-26T13:03:53.700Z"
   },
   {
    "duration": 0,
    "start_time": "2023-01-26T13:03:53.721Z"
   },
   {
    "duration": 0,
    "start_time": "2023-01-26T13:03:53.724Z"
   },
   {
    "duration": 0,
    "start_time": "2023-01-26T13:03:53.726Z"
   },
   {
    "duration": 0,
    "start_time": "2023-01-26T13:03:53.727Z"
   },
   {
    "duration": 0,
    "start_time": "2023-01-26T13:03:53.730Z"
   },
   {
    "duration": 0,
    "start_time": "2023-01-26T13:03:53.731Z"
   },
   {
    "duration": 0,
    "start_time": "2023-01-26T13:03:53.733Z"
   },
   {
    "duration": 0,
    "start_time": "2023-01-26T13:03:53.735Z"
   },
   {
    "duration": 0,
    "start_time": "2023-01-26T13:03:53.736Z"
   },
   {
    "duration": 0,
    "start_time": "2023-01-26T13:03:53.738Z"
   },
   {
    "duration": 0,
    "start_time": "2023-01-26T13:03:53.739Z"
   },
   {
    "duration": 0,
    "start_time": "2023-01-26T13:03:53.741Z"
   },
   {
    "duration": 25,
    "start_time": "2023-01-26T13:06:34.981Z"
   },
   {
    "duration": 5,
    "start_time": "2023-01-26T13:06:38.530Z"
   },
   {
    "duration": 11,
    "start_time": "2023-01-26T13:06:39.077Z"
   },
   {
    "duration": 6,
    "start_time": "2023-01-26T13:06:40.761Z"
   },
   {
    "duration": 18,
    "start_time": "2023-01-26T13:07:11.728Z"
   },
   {
    "duration": 22,
    "start_time": "2023-01-26T13:10:58.341Z"
   },
   {
    "duration": 7,
    "start_time": "2023-01-26T13:11:02.454Z"
   },
   {
    "duration": 6,
    "start_time": "2023-01-26T13:11:03.267Z"
   },
   {
    "duration": 6,
    "start_time": "2023-01-26T13:11:04.008Z"
   },
   {
    "duration": 11,
    "start_time": "2023-01-26T13:12:45.645Z"
   },
   {
    "duration": 3024,
    "start_time": "2023-01-26T13:12:57.544Z"
   },
   {
    "duration": 1312,
    "start_time": "2023-01-26T13:13:02.567Z"
   },
   {
    "duration": 9,
    "start_time": "2023-01-26T13:13:37.355Z"
   },
   {
    "duration": 1228,
    "start_time": "2023-01-26T13:13:41.017Z"
   },
   {
    "duration": 24,
    "start_time": "2023-01-26T13:13:51.466Z"
   },
   {
    "duration": 856,
    "start_time": "2023-01-26T13:13:53.666Z"
   },
   {
    "duration": 7,
    "start_time": "2023-01-26T13:19:31.607Z"
   },
   {
    "duration": 6,
    "start_time": "2023-01-26T13:19:48.885Z"
   },
   {
    "duration": 4,
    "start_time": "2023-01-26T13:20:33.062Z"
   },
   {
    "duration": 21,
    "start_time": "2023-01-26T13:22:39.336Z"
   },
   {
    "duration": 5,
    "start_time": "2023-01-26T13:22:52.583Z"
   },
   {
    "duration": 10,
    "start_time": "2023-01-26T13:23:24.169Z"
   },
   {
    "duration": 7,
    "start_time": "2023-01-26T13:24:22.737Z"
   },
   {
    "duration": 10,
    "start_time": "2023-01-26T13:24:39.431Z"
   },
   {
    "duration": 4,
    "start_time": "2023-01-26T13:24:59.309Z"
   },
   {
    "duration": 10,
    "start_time": "2023-01-26T13:25:08.340Z"
   },
   {
    "duration": 8,
    "start_time": "2023-01-26T13:29:05.013Z"
   },
   {
    "duration": 7,
    "start_time": "2023-01-26T13:29:13.592Z"
   },
   {
    "duration": 7,
    "start_time": "2023-01-26T13:29:34.341Z"
   },
   {
    "duration": 6,
    "start_time": "2023-01-26T13:29:59.520Z"
   },
   {
    "duration": 5,
    "start_time": "2023-01-26T13:30:01.283Z"
   },
   {
    "duration": 6,
    "start_time": "2023-01-26T13:30:05.276Z"
   },
   {
    "duration": 5,
    "start_time": "2023-01-26T13:30:06.202Z"
   },
   {
    "duration": 6,
    "start_time": "2023-01-26T13:30:09.535Z"
   },
   {
    "duration": 5,
    "start_time": "2023-01-26T13:30:10.780Z"
   },
   {
    "duration": 63,
    "start_time": "2023-01-26T13:30:28.040Z"
   },
   {
    "duration": 4,
    "start_time": "2023-01-26T13:30:32.198Z"
   },
   {
    "duration": 3,
    "start_time": "2023-01-26T13:30:40.020Z"
   },
   {
    "duration": 3,
    "start_time": "2023-01-26T13:31:03.135Z"
   },
   {
    "duration": 4,
    "start_time": "2023-01-26T13:31:33.766Z"
   },
   {
    "duration": 3,
    "start_time": "2023-01-26T13:33:08.439Z"
   },
   {
    "duration": 5,
    "start_time": "2023-01-26T13:33:33.727Z"
   },
   {
    "duration": 27,
    "start_time": "2023-01-26T13:34:54.276Z"
   },
   {
    "duration": 9,
    "start_time": "2023-01-26T13:35:03.315Z"
   },
   {
    "duration": 10,
    "start_time": "2023-01-26T13:36:19.036Z"
   },
   {
    "duration": 32,
    "start_time": "2023-01-26T13:36:39.084Z"
   },
   {
    "duration": 8,
    "start_time": "2023-01-26T13:37:20.611Z"
   },
   {
    "duration": 9,
    "start_time": "2023-01-26T13:37:33.908Z"
   },
   {
    "duration": 7,
    "start_time": "2023-01-26T13:40:19.566Z"
   },
   {
    "duration": 5,
    "start_time": "2023-01-26T13:41:05.258Z"
   },
   {
    "duration": 4,
    "start_time": "2023-01-26T13:41:12.334Z"
   },
   {
    "duration": 5,
    "start_time": "2023-01-26T13:42:56.646Z"
   },
   {
    "duration": 4,
    "start_time": "2023-01-26T13:42:57.757Z"
   },
   {
    "duration": 4,
    "start_time": "2023-01-26T13:49:15.736Z"
   },
   {
    "duration": 13,
    "start_time": "2023-01-26T13:49:39.388Z"
   },
   {
    "duration": 9,
    "start_time": "2023-01-26T13:49:54.966Z"
   },
   {
    "duration": 9,
    "start_time": "2023-01-26T13:50:03.623Z"
   },
   {
    "duration": 11,
    "start_time": "2023-01-26T13:50:34.983Z"
   },
   {
    "duration": 108,
    "start_time": "2023-01-26T13:54:30.229Z"
   },
   {
    "duration": 17,
    "start_time": "2023-01-26T13:54:44.760Z"
   },
   {
    "duration": 7,
    "start_time": "2023-01-26T13:57:08.210Z"
   },
   {
    "duration": 4,
    "start_time": "2023-01-26T13:57:31.794Z"
   },
   {
    "duration": 35,
    "start_time": "2023-01-26T13:58:12.836Z"
   },
   {
    "duration": 4,
    "start_time": "2023-01-26T13:58:37.052Z"
   },
   {
    "duration": 42,
    "start_time": "2023-01-26T13:58:37.640Z"
   },
   {
    "duration": 1045,
    "start_time": "2023-01-26T13:59:42.647Z"
   },
   {
    "duration": 190,
    "start_time": "2023-01-26T14:00:03.586Z"
   },
   {
    "duration": 1272,
    "start_time": "2023-01-26T14:00:04.604Z"
   },
   {
    "duration": 24,
    "start_time": "2023-01-26T14:00:58.696Z"
   },
   {
    "duration": 9,
    "start_time": "2023-01-26T14:01:32.548Z"
   },
   {
    "duration": 12,
    "start_time": "2023-01-26T14:01:37.410Z"
   },
   {
    "duration": 1014,
    "start_time": "2023-01-26T14:01:41.512Z"
   },
   {
    "duration": 844,
    "start_time": "2023-01-26T14:02:41.448Z"
   },
   {
    "duration": 9,
    "start_time": "2023-01-26T14:03:09.232Z"
   },
   {
    "duration": 4,
    "start_time": "2023-01-26T14:03:09.720Z"
   },
   {
    "duration": 45,
    "start_time": "2023-01-26T14:03:10.436Z"
   },
   {
    "duration": 847,
    "start_time": "2023-01-26T14:03:11.584Z"
   },
   {
    "duration": 11,
    "start_time": "2023-01-26T14:03:56.487Z"
   },
   {
    "duration": 40,
    "start_time": "2023-01-26T14:03:58.184Z"
   },
   {
    "duration": 831,
    "start_time": "2023-01-26T14:04:07.743Z"
   },
   {
    "duration": 8,
    "start_time": "2023-01-26T14:04:40.105Z"
   },
   {
    "duration": 4,
    "start_time": "2023-01-26T14:04:40.760Z"
   },
   {
    "duration": 37,
    "start_time": "2023-01-26T14:04:41.542Z"
   },
   {
    "duration": 895,
    "start_time": "2023-01-26T14:04:54.518Z"
   },
   {
    "duration": 884,
    "start_time": "2023-01-26T14:05:00.925Z"
   },
   {
    "duration": 27,
    "start_time": "2023-01-26T14:05:12.611Z"
   },
   {
    "duration": 13,
    "start_time": "2023-01-26T14:05:29.084Z"
   },
   {
    "duration": 10,
    "start_time": "2023-01-26T14:05:37.601Z"
   },
   {
    "duration": 21,
    "start_time": "2023-01-26T14:06:05.343Z"
   },
   {
    "duration": 5,
    "start_time": "2023-01-26T14:09:12.345Z"
   },
   {
    "duration": 13,
    "start_time": "2023-01-26T14:09:37.343Z"
   },
   {
    "duration": 17,
    "start_time": "2023-01-26T14:09:48.202Z"
   },
   {
    "duration": 1532,
    "start_time": "2023-01-26T15:26:52.151Z"
   },
   {
    "duration": 5,
    "start_time": "2023-01-26T15:26:53.686Z"
   },
   {
    "duration": 16,
    "start_time": "2023-01-26T15:26:53.693Z"
   },
   {
    "duration": 18,
    "start_time": "2023-01-26T15:26:53.711Z"
   },
   {
    "duration": 37,
    "start_time": "2023-01-26T15:26:53.737Z"
   },
   {
    "duration": 31,
    "start_time": "2023-01-26T15:26:53.778Z"
   },
   {
    "duration": 44,
    "start_time": "2023-01-26T15:26:53.811Z"
   },
   {
    "duration": 74,
    "start_time": "2023-01-26T15:26:53.857Z"
   },
   {
    "duration": 20,
    "start_time": "2023-01-26T15:26:53.932Z"
   },
   {
    "duration": 17,
    "start_time": "2023-01-26T15:26:53.954Z"
   },
   {
    "duration": 804,
    "start_time": "2023-01-26T15:26:53.972Z"
   },
   {
    "duration": 5,
    "start_time": "2023-01-26T15:26:54.779Z"
   },
   {
    "duration": 28,
    "start_time": "2023-01-26T15:26:54.786Z"
   },
   {
    "duration": 51,
    "start_time": "2023-01-26T15:26:54.819Z"
   },
   {
    "duration": 17,
    "start_time": "2023-01-26T15:26:54.872Z"
   },
   {
    "duration": 26,
    "start_time": "2023-01-26T15:26:54.891Z"
   },
   {
    "duration": 50,
    "start_time": "2023-01-26T15:26:54.920Z"
   },
   {
    "duration": 7,
    "start_time": "2023-01-26T15:26:54.972Z"
   },
   {
    "duration": 3,
    "start_time": "2023-01-26T15:26:54.981Z"
   },
   {
    "duration": 35,
    "start_time": "2023-01-26T15:26:54.986Z"
   },
   {
    "duration": 34,
    "start_time": "2023-01-26T15:26:55.024Z"
   },
   {
    "duration": 18,
    "start_time": "2023-01-26T15:26:55.060Z"
   },
   {
    "duration": 12,
    "start_time": "2023-01-26T15:26:55.080Z"
   },
   {
    "duration": 25,
    "start_time": "2023-01-26T15:26:55.094Z"
   },
   {
    "duration": 18,
    "start_time": "2023-01-26T15:26:55.121Z"
   },
   {
    "duration": 39,
    "start_time": "2023-01-26T15:26:55.144Z"
   },
   {
    "duration": 8,
    "start_time": "2023-01-26T15:26:55.185Z"
   },
   {
    "duration": 18,
    "start_time": "2023-01-26T15:26:55.194Z"
   },
   {
    "duration": 21,
    "start_time": "2023-01-26T15:26:55.214Z"
   },
   {
    "duration": 20,
    "start_time": "2023-01-26T15:26:55.241Z"
   },
   {
    "duration": 7,
    "start_time": "2023-01-26T15:26:55.263Z"
   },
   {
    "duration": 18,
    "start_time": "2023-01-26T15:26:55.272Z"
   },
   {
    "duration": 4,
    "start_time": "2023-01-26T15:26:55.292Z"
   },
   {
    "duration": 6,
    "start_time": "2023-01-26T15:26:55.298Z"
   },
   {
    "duration": 30,
    "start_time": "2023-01-26T15:26:55.305Z"
   },
   {
    "duration": 4,
    "start_time": "2023-01-26T15:26:55.336Z"
   },
   {
    "duration": 3,
    "start_time": "2023-01-26T15:26:55.342Z"
   },
   {
    "duration": 17,
    "start_time": "2023-01-26T15:26:55.347Z"
   },
   {
    "duration": 8,
    "start_time": "2023-01-26T15:26:55.365Z"
   },
   {
    "duration": 8,
    "start_time": "2023-01-26T15:26:55.374Z"
   },
   {
    "duration": 16,
    "start_time": "2023-01-26T15:26:55.387Z"
   },
   {
    "duration": 19,
    "start_time": "2023-01-26T15:26:55.404Z"
   },
   {
    "duration": 6,
    "start_time": "2023-01-26T15:26:55.425Z"
   },
   {
    "duration": 24,
    "start_time": "2023-01-26T15:26:55.434Z"
   },
   {
    "duration": 931,
    "start_time": "2023-01-26T15:26:55.459Z"
   },
   {
    "duration": 8,
    "start_time": "2023-01-26T15:26:56.392Z"
   },
   {
    "duration": 33,
    "start_time": "2023-01-26T15:26:56.401Z"
   },
   {
    "duration": 27,
    "start_time": "2023-01-26T15:26:56.438Z"
   },
   {
    "duration": 8,
    "start_time": "2023-01-26T15:26:56.467Z"
   },
   {
    "duration": 9,
    "start_time": "2023-01-26T15:26:56.477Z"
   },
   {
    "duration": 351,
    "start_time": "2023-01-26T15:26:56.487Z"
   },
   {
    "duration": 361,
    "start_time": "2023-01-26T15:26:56.840Z"
   },
   {
    "duration": 35,
    "start_time": "2023-01-26T15:26:57.203Z"
   },
   {
    "duration": 14,
    "start_time": "2023-01-26T15:26:57.242Z"
   },
   {
    "duration": 12,
    "start_time": "2023-01-26T15:26:57.258Z"
   },
   {
    "duration": 13,
    "start_time": "2023-01-26T15:26:57.272Z"
   },
   {
    "duration": 15,
    "start_time": "2023-01-26T15:26:57.287Z"
   },
   {
    "duration": 45,
    "start_time": "2023-01-26T15:26:57.304Z"
   },
   {
    "duration": 18,
    "start_time": "2023-01-26T15:26:57.352Z"
   },
   {
    "duration": 14,
    "start_time": "2023-01-26T15:26:57.372Z"
   },
   {
    "duration": 11,
    "start_time": "2023-01-26T15:26:57.387Z"
   },
   {
    "duration": 36,
    "start_time": "2023-01-26T15:26:57.399Z"
   },
   {
    "duration": 19,
    "start_time": "2023-01-26T15:26:57.436Z"
   },
   {
    "duration": 15,
    "start_time": "2023-01-26T15:26:57.457Z"
   },
   {
    "duration": 11,
    "start_time": "2023-01-26T15:26:57.474Z"
   },
   {
    "duration": 39,
    "start_time": "2023-01-26T15:26:57.487Z"
   },
   {
    "duration": 15,
    "start_time": "2023-01-26T15:26:57.529Z"
   },
   {
    "duration": 28,
    "start_time": "2023-01-26T15:26:57.545Z"
   },
   {
    "duration": 17,
    "start_time": "2023-01-26T15:26:57.574Z"
   },
   {
    "duration": 15,
    "start_time": "2023-01-26T15:26:57.593Z"
   },
   {
    "duration": 30,
    "start_time": "2023-01-26T15:26:57.610Z"
   },
   {
    "duration": 28,
    "start_time": "2023-01-26T15:26:57.642Z"
   },
   {
    "duration": 11,
    "start_time": "2023-01-26T15:26:57.671Z"
   },
   {
    "duration": 13,
    "start_time": "2023-01-26T15:26:57.684Z"
   },
   {
    "duration": 40,
    "start_time": "2023-01-26T15:26:57.699Z"
   },
   {
    "duration": 48,
    "start_time": "2023-01-26T15:26:57.741Z"
   },
   {
    "duration": 2681,
    "start_time": "2023-01-26T15:26:57.791Z"
   },
   {
    "duration": 28,
    "start_time": "2023-01-26T15:27:00.475Z"
   },
   {
    "duration": 47,
    "start_time": "2023-01-26T15:27:00.506Z"
   },
   {
    "duration": 8,
    "start_time": "2023-01-26T15:27:00.555Z"
   },
   {
    "duration": 19,
    "start_time": "2023-01-26T15:27:00.566Z"
   },
   {
    "duration": 7,
    "start_time": "2023-01-26T15:27:00.588Z"
   },
   {
    "duration": 78,
    "start_time": "2023-01-26T15:27:00.597Z"
   },
   {
    "duration": 40,
    "start_time": "2023-01-26T15:27:00.677Z"
   },
   {
    "duration": 56,
    "start_time": "2023-01-26T15:27:00.719Z"
   },
   {
    "duration": 47,
    "start_time": "2023-01-26T15:27:00.777Z"
   },
   {
    "duration": 20,
    "start_time": "2023-01-26T15:27:00.828Z"
   },
   {
    "duration": 18,
    "start_time": "2023-01-26T15:27:00.851Z"
   },
   {
    "duration": 29,
    "start_time": "2023-01-26T15:27:00.871Z"
   },
   {
    "duration": 2409,
    "start_time": "2023-01-26T15:27:00.902Z"
   },
   {
    "duration": 778,
    "start_time": "2023-01-26T15:27:03.313Z"
   },
   {
    "duration": 4,
    "start_time": "2023-01-26T15:27:04.093Z"
   },
   {
    "duration": 7,
    "start_time": "2023-01-26T15:27:04.099Z"
   },
   {
    "duration": 1192,
    "start_time": "2023-01-26T15:27:04.108Z"
   },
   {
    "duration": 0,
    "start_time": "2023-01-26T15:27:05.301Z"
   },
   {
    "duration": 0,
    "start_time": "2023-01-26T15:27:05.303Z"
   },
   {
    "duration": 0,
    "start_time": "2023-01-26T15:27:05.304Z"
   },
   {
    "duration": 0,
    "start_time": "2023-01-26T15:27:05.305Z"
   },
   {
    "duration": 0,
    "start_time": "2023-01-26T15:27:05.307Z"
   },
   {
    "duration": 0,
    "start_time": "2023-01-26T15:27:05.308Z"
   },
   {
    "duration": 0,
    "start_time": "2023-01-26T15:27:05.309Z"
   },
   {
    "duration": 0,
    "start_time": "2023-01-26T15:27:05.311Z"
   },
   {
    "duration": 0,
    "start_time": "2023-01-26T15:27:05.312Z"
   },
   {
    "duration": 0,
    "start_time": "2023-01-26T15:27:05.313Z"
   },
   {
    "duration": 0,
    "start_time": "2023-01-26T15:27:05.314Z"
   },
   {
    "duration": 0,
    "start_time": "2023-01-26T15:27:05.315Z"
   },
   {
    "duration": 0,
    "start_time": "2023-01-26T15:27:05.318Z"
   },
   {
    "duration": 0,
    "start_time": "2023-01-26T15:27:05.319Z"
   },
   {
    "duration": 0,
    "start_time": "2023-01-26T15:27:05.321Z"
   },
   {
    "duration": 0,
    "start_time": "2023-01-26T15:27:05.322Z"
   },
   {
    "duration": 0,
    "start_time": "2023-01-26T15:27:05.323Z"
   },
   {
    "duration": 0,
    "start_time": "2023-01-26T15:27:05.324Z"
   },
   {
    "duration": 0,
    "start_time": "2023-01-26T15:27:05.325Z"
   },
   {
    "duration": 0,
    "start_time": "2023-01-26T15:27:05.325Z"
   },
   {
    "duration": 0,
    "start_time": "2023-01-26T15:27:05.327Z"
   },
   {
    "duration": 0,
    "start_time": "2023-01-26T15:27:05.328Z"
   },
   {
    "duration": 0,
    "start_time": "2023-01-26T15:27:05.333Z"
   },
   {
    "duration": 0,
    "start_time": "2023-01-26T15:27:05.334Z"
   },
   {
    "duration": 0,
    "start_time": "2023-01-26T15:27:05.339Z"
   },
   {
    "duration": 0,
    "start_time": "2023-01-26T15:27:05.345Z"
   },
   {
    "duration": 0,
    "start_time": "2023-01-26T15:27:05.346Z"
   },
   {
    "duration": 0,
    "start_time": "2023-01-26T15:27:05.347Z"
   },
   {
    "duration": 0,
    "start_time": "2023-01-26T15:27:05.348Z"
   },
   {
    "duration": 0,
    "start_time": "2023-01-26T15:27:05.349Z"
   },
   {
    "duration": 15,
    "start_time": "2023-01-26T15:28:38.068Z"
   },
   {
    "duration": 14,
    "start_time": "2023-01-26T15:28:48.546Z"
   },
   {
    "duration": 1285,
    "start_time": "2023-01-26T15:28:54.792Z"
   },
   {
    "duration": 6,
    "start_time": "2023-01-26T15:29:26.277Z"
   },
   {
    "duration": 5,
    "start_time": "2023-01-26T15:29:26.860Z"
   },
   {
    "duration": 14,
    "start_time": "2023-01-26T15:29:27.667Z"
   },
   {
    "duration": 16,
    "start_time": "2023-01-26T15:29:38.802Z"
   },
   {
    "duration": 7,
    "start_time": "2023-01-26T15:30:40.642Z"
   },
   {
    "duration": 6,
    "start_time": "2023-01-26T15:30:54.609Z"
   },
   {
    "duration": 11,
    "start_time": "2023-01-26T15:32:19.762Z"
   },
   {
    "duration": 3,
    "start_time": "2023-01-26T15:32:22.648Z"
   },
   {
    "duration": 6498,
    "start_time": "2023-01-26T15:32:23.159Z"
   },
   {
    "duration": 6002,
    "start_time": "2023-01-26T15:32:51.563Z"
   },
   {
    "duration": 6021,
    "start_time": "2023-01-26T15:33:01.470Z"
   },
   {
    "duration": 5778,
    "start_time": "2023-01-26T15:33:13.710Z"
   },
   {
    "duration": 21,
    "start_time": "2023-01-26T15:34:20.297Z"
   },
   {
    "duration": 45,
    "start_time": "2023-01-26T15:35:48.992Z"
   },
   {
    "duration": 27,
    "start_time": "2023-01-26T15:35:55.285Z"
   },
   {
    "duration": 14,
    "start_time": "2023-01-26T15:36:20.558Z"
   },
   {
    "duration": 37,
    "start_time": "2023-01-26T15:39:22.298Z"
   },
   {
    "duration": 20,
    "start_time": "2023-01-26T15:39:24.289Z"
   },
   {
    "duration": 55,
    "start_time": "2023-01-26T15:40:34.710Z"
   },
   {
    "duration": 33,
    "start_time": "2023-01-26T15:41:01.994Z"
   },
   {
    "duration": 15,
    "start_time": "2023-01-26T15:41:02.734Z"
   },
   {
    "duration": 33,
    "start_time": "2023-01-26T15:41:06.547Z"
   },
   {
    "duration": 36,
    "start_time": "2023-01-26T15:43:30.857Z"
   },
   {
    "duration": 39,
    "start_time": "2023-01-26T15:43:37.596Z"
   },
   {
    "duration": 3,
    "start_time": "2023-01-26T15:44:03.915Z"
   },
   {
    "duration": 12,
    "start_time": "2023-01-26T15:44:20.369Z"
   },
   {
    "duration": 96,
    "start_time": "2023-01-26T15:44:37.085Z"
   },
   {
    "duration": 41,
    "start_time": "2023-01-26T15:44:45.449Z"
   },
   {
    "duration": 90,
    "start_time": "2023-01-26T15:45:16.490Z"
   },
   {
    "duration": 369,
    "start_time": "2023-01-26T15:45:23.336Z"
   },
   {
    "duration": 36,
    "start_time": "2023-01-26T15:45:41.663Z"
   },
   {
    "duration": 20,
    "start_time": "2023-01-26T15:45:42.208Z"
   },
   {
    "duration": 17,
    "start_time": "2023-01-26T15:45:48.006Z"
   },
   {
    "duration": 1007,
    "start_time": "2023-01-26T15:46:14.557Z"
   },
   {
    "duration": 10,
    "start_time": "2023-01-26T15:46:16.739Z"
   },
   {
    "duration": 10,
    "start_time": "2023-01-26T15:46:21.229Z"
   },
   {
    "duration": 9,
    "start_time": "2023-01-26T15:46:21.861Z"
   },
   {
    "duration": 15,
    "start_time": "2023-01-26T15:47:09.717Z"
   },
   {
    "duration": 29,
    "start_time": "2023-01-26T15:47:58.953Z"
   },
   {
    "duration": 29,
    "start_time": "2023-01-26T15:48:22.107Z"
   },
   {
    "duration": 11,
    "start_time": "2023-01-26T15:49:06.202Z"
   },
   {
    "duration": 5,
    "start_time": "2023-01-26T15:49:11.263Z"
   },
   {
    "duration": 21,
    "start_time": "2023-01-26T15:49:23.953Z"
   },
   {
    "duration": 14,
    "start_time": "2023-01-26T15:49:30.344Z"
   },
   {
    "duration": 807,
    "start_time": "2023-01-26T15:49:37.452Z"
   },
   {
    "duration": 10,
    "start_time": "2023-01-26T15:50:02.675Z"
   },
   {
    "duration": 5,
    "start_time": "2023-01-26T15:50:03.125Z"
   },
   {
    "duration": 21,
    "start_time": "2023-01-26T15:50:04.091Z"
   },
   {
    "duration": 9,
    "start_time": "2023-01-26T15:50:04.116Z"
   },
   {
    "duration": 6,
    "start_time": "2023-01-26T15:50:05.061Z"
   },
   {
    "duration": 12,
    "start_time": "2023-01-26T15:50:05.730Z"
   },
   {
    "duration": 1041,
    "start_time": "2023-01-26T15:50:06.404Z"
   },
   {
    "duration": 11,
    "start_time": "2023-01-26T15:50:19.326Z"
   },
   {
    "duration": 39,
    "start_time": "2023-01-26T15:50:26.583Z"
   },
   {
    "duration": 1859,
    "start_time": "2023-01-26T15:50:43.709Z"
   },
   {
    "duration": 9,
    "start_time": "2023-01-26T15:50:45.570Z"
   },
   {
    "duration": 27,
    "start_time": "2023-01-26T15:50:45.581Z"
   },
   {
    "duration": 11,
    "start_time": "2023-01-26T15:50:45.611Z"
   },
   {
    "duration": 29,
    "start_time": "2023-01-26T15:50:45.624Z"
   },
   {
    "duration": 77,
    "start_time": "2023-01-26T15:50:45.655Z"
   },
   {
    "duration": 41,
    "start_time": "2023-01-26T15:50:45.734Z"
   },
   {
    "duration": 96,
    "start_time": "2023-01-26T15:50:45.778Z"
   },
   {
    "duration": 16,
    "start_time": "2023-01-26T15:50:45.876Z"
   },
   {
    "duration": 32,
    "start_time": "2023-01-26T15:50:45.896Z"
   },
   {
    "duration": 702,
    "start_time": "2023-01-26T15:50:45.930Z"
   },
   {
    "duration": 7,
    "start_time": "2023-01-26T15:50:46.633Z"
   },
   {
    "duration": 21,
    "start_time": "2023-01-26T15:50:46.642Z"
   },
   {
    "duration": 13,
    "start_time": "2023-01-26T15:50:46.664Z"
   },
   {
    "duration": 47,
    "start_time": "2023-01-26T15:50:46.679Z"
   },
   {
    "duration": 32,
    "start_time": "2023-01-26T15:50:46.736Z"
   },
   {
    "duration": 44,
    "start_time": "2023-01-26T15:50:46.770Z"
   },
   {
    "duration": 7,
    "start_time": "2023-01-26T15:50:46.821Z"
   },
   {
    "duration": 5,
    "start_time": "2023-01-26T15:50:46.829Z"
   },
   {
    "duration": 16,
    "start_time": "2023-01-26T15:50:46.836Z"
   },
   {
    "duration": 11,
    "start_time": "2023-01-26T15:50:46.854Z"
   },
   {
    "duration": 10,
    "start_time": "2023-01-26T15:50:46.869Z"
   },
   {
    "duration": 13,
    "start_time": "2023-01-26T15:50:46.920Z"
   },
   {
    "duration": 33,
    "start_time": "2023-01-26T15:50:46.936Z"
   },
   {
    "duration": 8,
    "start_time": "2023-01-26T15:50:46.972Z"
   },
   {
    "duration": 41,
    "start_time": "2023-01-26T15:50:46.983Z"
   },
   {
    "duration": 12,
    "start_time": "2023-01-26T15:50:47.026Z"
   },
   {
    "duration": 16,
    "start_time": "2023-01-26T15:50:47.045Z"
   },
   {
    "duration": 15,
    "start_time": "2023-01-26T15:50:47.064Z"
   },
   {
    "duration": 7,
    "start_time": "2023-01-26T15:50:47.081Z"
   },
   {
    "duration": 10,
    "start_time": "2023-01-26T15:50:47.120Z"
   },
   {
    "duration": 31,
    "start_time": "2023-01-26T15:50:47.133Z"
   },
   {
    "duration": 6,
    "start_time": "2023-01-26T15:50:47.167Z"
   },
   {
    "duration": 11,
    "start_time": "2023-01-26T15:50:47.175Z"
   },
   {
    "duration": 49,
    "start_time": "2023-01-26T15:50:47.188Z"
   },
   {
    "duration": 9,
    "start_time": "2023-01-26T15:50:47.239Z"
   },
   {
    "duration": 7,
    "start_time": "2023-01-26T15:50:47.250Z"
   },
   {
    "duration": 12,
    "start_time": "2023-01-26T15:50:47.260Z"
   },
   {
    "duration": 9,
    "start_time": "2023-01-26T15:50:47.274Z"
   },
   {
    "duration": 41,
    "start_time": "2023-01-26T15:50:47.285Z"
   },
   {
    "duration": 18,
    "start_time": "2023-01-26T15:50:47.328Z"
   },
   {
    "duration": 6,
    "start_time": "2023-01-26T15:50:47.348Z"
   },
   {
    "duration": 9,
    "start_time": "2023-01-26T15:50:47.357Z"
   },
   {
    "duration": 17,
    "start_time": "2023-01-26T15:50:47.367Z"
   },
   {
    "duration": 1082,
    "start_time": "2023-01-26T15:50:47.385Z"
   },
   {
    "duration": 9,
    "start_time": "2023-01-26T15:50:48.469Z"
   },
   {
    "duration": 18,
    "start_time": "2023-01-26T15:50:48.480Z"
   },
   {
    "duration": 26,
    "start_time": "2023-01-26T15:50:48.500Z"
   },
   {
    "duration": 7,
    "start_time": "2023-01-26T15:50:48.528Z"
   },
   {
    "duration": 9,
    "start_time": "2023-01-26T15:50:48.537Z"
   },
   {
    "duration": 375,
    "start_time": "2023-01-26T15:50:48.548Z"
   },
   {
    "duration": 324,
    "start_time": "2023-01-26T15:50:48.924Z"
   },
   {
    "duration": 14,
    "start_time": "2023-01-26T15:50:49.250Z"
   },
   {
    "duration": 16,
    "start_time": "2023-01-26T15:50:49.266Z"
   },
   {
    "duration": 9,
    "start_time": "2023-01-26T15:50:49.286Z"
   },
   {
    "duration": 38,
    "start_time": "2023-01-26T15:50:49.324Z"
   },
   {
    "duration": 15,
    "start_time": "2023-01-26T15:50:49.364Z"
   },
   {
    "duration": 16,
    "start_time": "2023-01-26T15:50:49.381Z"
   },
   {
    "duration": 16,
    "start_time": "2023-01-26T15:50:49.399Z"
   },
   {
    "duration": 29,
    "start_time": "2023-01-26T15:50:49.418Z"
   },
   {
    "duration": 15,
    "start_time": "2023-01-26T15:50:49.450Z"
   },
   {
    "duration": 22,
    "start_time": "2023-01-26T15:50:49.467Z"
   },
   {
    "duration": 50,
    "start_time": "2023-01-26T15:50:49.491Z"
   },
   {
    "duration": 16,
    "start_time": "2023-01-26T15:50:49.543Z"
   },
   {
    "duration": 10,
    "start_time": "2023-01-26T15:50:49.561Z"
   },
   {
    "duration": 14,
    "start_time": "2023-01-26T15:50:49.573Z"
   },
   {
    "duration": 51,
    "start_time": "2023-01-26T15:50:49.589Z"
   },
   {
    "duration": 16,
    "start_time": "2023-01-26T15:50:49.642Z"
   },
   {
    "duration": 16,
    "start_time": "2023-01-26T15:50:49.660Z"
   },
   {
    "duration": 16,
    "start_time": "2023-01-26T15:50:49.678Z"
   },
   {
    "duration": 49,
    "start_time": "2023-01-26T15:50:49.696Z"
   },
   {
    "duration": 24,
    "start_time": "2023-01-26T15:50:49.747Z"
   },
   {
    "duration": 15,
    "start_time": "2023-01-26T15:50:49.773Z"
   },
   {
    "duration": 38,
    "start_time": "2023-01-26T15:50:49.791Z"
   },
   {
    "duration": 24,
    "start_time": "2023-01-26T15:50:49.836Z"
   },
   {
    "duration": 2428,
    "start_time": "2023-01-26T15:50:49.861Z"
   },
   {
    "duration": 44,
    "start_time": "2023-01-26T15:50:52.293Z"
   },
   {
    "duration": 33,
    "start_time": "2023-01-26T15:50:52.344Z"
   },
   {
    "duration": 4,
    "start_time": "2023-01-26T15:50:52.379Z"
   },
   {
    "duration": 17,
    "start_time": "2023-01-26T15:50:52.384Z"
   },
   {
    "duration": 8,
    "start_time": "2023-01-26T15:50:52.403Z"
   },
   {
    "duration": 21,
    "start_time": "2023-01-26T15:50:52.418Z"
   },
   {
    "duration": 26,
    "start_time": "2023-01-26T15:50:52.443Z"
   },
   {
    "duration": 20,
    "start_time": "2023-01-26T15:50:52.471Z"
   },
   {
    "duration": 33,
    "start_time": "2023-01-26T15:50:52.493Z"
   },
   {
    "duration": 6,
    "start_time": "2023-01-26T15:50:52.536Z"
   },
   {
    "duration": 6,
    "start_time": "2023-01-26T15:50:52.544Z"
   },
   {
    "duration": 8,
    "start_time": "2023-01-26T15:50:52.552Z"
   },
   {
    "duration": 2527,
    "start_time": "2023-01-26T15:50:52.562Z"
   },
   {
    "duration": 1025,
    "start_time": "2023-01-26T15:50:55.092Z"
   },
   {
    "duration": 4,
    "start_time": "2023-01-26T15:50:56.119Z"
   },
   {
    "duration": 24,
    "start_time": "2023-01-26T15:50:56.125Z"
   },
   {
    "duration": 20,
    "start_time": "2023-01-26T15:50:56.150Z"
   },
   {
    "duration": 16,
    "start_time": "2023-01-26T15:50:56.173Z"
   },
   {
    "duration": 10,
    "start_time": "2023-01-26T15:50:56.191Z"
   },
   {
    "duration": 21,
    "start_time": "2023-01-26T15:50:56.203Z"
   },
   {
    "duration": 36,
    "start_time": "2023-01-26T15:50:56.234Z"
   },
   {
    "duration": 10,
    "start_time": "2023-01-26T15:50:56.272Z"
   },
   {
    "duration": 15,
    "start_time": "2023-01-26T15:50:56.284Z"
   },
   {
    "duration": 18,
    "start_time": "2023-01-26T15:50:56.301Z"
   },
   {
    "duration": 14,
    "start_time": "2023-01-26T15:50:56.321Z"
   },
   {
    "duration": 43,
    "start_time": "2023-01-26T15:50:56.341Z"
   },
   {
    "duration": 23,
    "start_time": "2023-01-26T15:50:56.387Z"
   },
   {
    "duration": 3,
    "start_time": "2023-01-26T15:50:56.413Z"
   },
   {
    "duration": 30,
    "start_time": "2023-01-26T15:50:56.419Z"
   },
   {
    "duration": 5,
    "start_time": "2023-01-26T15:50:56.452Z"
   },
   {
    "duration": 5635,
    "start_time": "2023-01-26T15:50:56.459Z"
   },
   {
    "duration": 205,
    "start_time": "2023-01-26T15:51:02.096Z"
   },
   {
    "duration": 18,
    "start_time": "2023-01-26T15:51:02.304Z"
   },
   {
    "duration": 21,
    "start_time": "2023-01-26T15:51:02.326Z"
   },
   {
    "duration": 32,
    "start_time": "2023-01-26T15:51:02.350Z"
   },
   {
    "duration": 24,
    "start_time": "2023-01-26T15:51:02.383Z"
   },
   {
    "duration": 3,
    "start_time": "2023-01-26T15:51:02.409Z"
   },
   {
    "duration": 49,
    "start_time": "2023-01-26T15:51:02.414Z"
   },
   {
    "duration": 127,
    "start_time": "2023-01-26T15:51:02.465Z"
   },
   {
    "duration": 0,
    "start_time": "2023-01-26T15:51:02.594Z"
   },
   {
    "duration": 0,
    "start_time": "2023-01-26T15:51:02.595Z"
   },
   {
    "duration": 0,
    "start_time": "2023-01-26T15:51:02.596Z"
   },
   {
    "duration": 0,
    "start_time": "2023-01-26T15:51:02.597Z"
   },
   {
    "duration": 0,
    "start_time": "2023-01-26T15:51:02.598Z"
   },
   {
    "duration": 0,
    "start_time": "2023-01-26T15:51:02.600Z"
   },
   {
    "duration": 0,
    "start_time": "2023-01-26T15:51:02.601Z"
   },
   {
    "duration": 0,
    "start_time": "2023-01-26T15:51:02.602Z"
   },
   {
    "duration": 0,
    "start_time": "2023-01-26T15:51:02.603Z"
   },
   {
    "duration": 0,
    "start_time": "2023-01-26T15:51:02.604Z"
   },
   {
    "duration": 0,
    "start_time": "2023-01-26T15:51:02.605Z"
   },
   {
    "duration": 0,
    "start_time": "2023-01-26T15:51:02.624Z"
   },
   {
    "duration": 0,
    "start_time": "2023-01-26T15:51:02.625Z"
   },
   {
    "duration": 0,
    "start_time": "2023-01-26T15:51:02.626Z"
   },
   {
    "duration": 0,
    "start_time": "2023-01-26T15:51:02.627Z"
   },
   {
    "duration": 0,
    "start_time": "2023-01-26T15:51:02.628Z"
   },
   {
    "duration": 0,
    "start_time": "2023-01-26T15:51:02.629Z"
   },
   {
    "duration": 0,
    "start_time": "2023-01-26T15:51:02.630Z"
   },
   {
    "duration": 181,
    "start_time": "2023-01-26T15:51:27.565Z"
   },
   {
    "duration": 10,
    "start_time": "2023-01-26T15:51:36.843Z"
   },
   {
    "duration": 21,
    "start_time": "2023-01-26T15:51:45.736Z"
   },
   {
    "duration": 10,
    "start_time": "2023-01-26T15:53:32.751Z"
   },
   {
    "duration": 5,
    "start_time": "2023-01-26T15:53:33.231Z"
   },
   {
    "duration": 21,
    "start_time": "2023-01-26T15:53:33.701Z"
   },
   {
    "duration": 10,
    "start_time": "2023-01-26T15:53:34.166Z"
   },
   {
    "duration": 806,
    "start_time": "2023-01-26T15:53:39.506Z"
   },
   {
    "duration": 1828,
    "start_time": "2023-01-26T15:53:48.211Z"
   },
   {
    "duration": 9,
    "start_time": "2023-01-26T15:53:50.041Z"
   },
   {
    "duration": 22,
    "start_time": "2023-01-26T15:53:50.051Z"
   },
   {
    "duration": 4,
    "start_time": "2023-01-26T15:53:50.076Z"
   },
   {
    "duration": 52,
    "start_time": "2023-01-26T15:53:50.082Z"
   },
   {
    "duration": 32,
    "start_time": "2023-01-26T15:53:50.136Z"
   },
   {
    "duration": 66,
    "start_time": "2023-01-26T15:53:50.169Z"
   },
   {
    "duration": 102,
    "start_time": "2023-01-26T15:53:50.241Z"
   },
   {
    "duration": 24,
    "start_time": "2023-01-26T15:53:50.347Z"
   },
   {
    "duration": 17,
    "start_time": "2023-01-26T15:53:50.375Z"
   },
   {
    "duration": 718,
    "start_time": "2023-01-26T15:53:50.394Z"
   },
   {
    "duration": 19,
    "start_time": "2023-01-26T15:53:51.114Z"
   },
   {
    "duration": 44,
    "start_time": "2023-01-26T15:53:51.139Z"
   },
   {
    "duration": 8,
    "start_time": "2023-01-26T15:53:51.185Z"
   },
   {
    "duration": 11,
    "start_time": "2023-01-26T15:53:51.195Z"
   },
   {
    "duration": 28,
    "start_time": "2023-01-26T15:53:51.208Z"
   },
   {
    "duration": 49,
    "start_time": "2023-01-26T15:53:51.241Z"
   },
   {
    "duration": 7,
    "start_time": "2023-01-26T15:53:51.292Z"
   },
   {
    "duration": 9,
    "start_time": "2023-01-26T15:53:51.301Z"
   },
   {
    "duration": 31,
    "start_time": "2023-01-26T15:53:51.313Z"
   },
   {
    "duration": 11,
    "start_time": "2023-01-26T15:53:51.346Z"
   },
   {
    "duration": 9,
    "start_time": "2023-01-26T15:53:51.360Z"
   },
   {
    "duration": 13,
    "start_time": "2023-01-26T15:53:51.370Z"
   },
   {
    "duration": 46,
    "start_time": "2023-01-26T15:53:51.385Z"
   },
   {
    "duration": 10,
    "start_time": "2023-01-26T15:53:51.432Z"
   },
   {
    "duration": 12,
    "start_time": "2023-01-26T15:53:51.445Z"
   },
   {
    "duration": 12,
    "start_time": "2023-01-26T15:53:51.459Z"
   },
   {
    "duration": 24,
    "start_time": "2023-01-26T15:53:51.477Z"
   },
   {
    "duration": 13,
    "start_time": "2023-01-26T15:53:51.520Z"
   },
   {
    "duration": 13,
    "start_time": "2023-01-26T15:53:51.535Z"
   },
   {
    "duration": 8,
    "start_time": "2023-01-26T15:53:51.549Z"
   },
   {
    "duration": 27,
    "start_time": "2023-01-26T15:53:51.558Z"
   },
   {
    "duration": 6,
    "start_time": "2023-01-26T15:53:51.588Z"
   },
   {
    "duration": 29,
    "start_time": "2023-01-26T15:53:51.598Z"
   },
   {
    "duration": 30,
    "start_time": "2023-01-26T15:53:51.628Z"
   },
   {
    "duration": 10,
    "start_time": "2023-01-26T15:53:51.661Z"
   },
   {
    "duration": 8,
    "start_time": "2023-01-26T15:53:51.673Z"
   },
   {
    "duration": 7,
    "start_time": "2023-01-26T15:53:51.683Z"
   },
   {
    "duration": 8,
    "start_time": "2023-01-26T15:53:51.693Z"
   },
   {
    "duration": 22,
    "start_time": "2023-01-26T15:53:51.703Z"
   },
   {
    "duration": 38,
    "start_time": "2023-01-26T15:53:51.727Z"
   },
   {
    "duration": 6,
    "start_time": "2023-01-26T15:53:51.767Z"
   },
   {
    "duration": 7,
    "start_time": "2023-01-26T15:53:51.775Z"
   },
   {
    "duration": 9,
    "start_time": "2023-01-26T15:53:51.784Z"
   },
   {
    "duration": 979,
    "start_time": "2023-01-26T15:53:51.795Z"
   },
   {
    "duration": 9,
    "start_time": "2023-01-26T15:53:52.776Z"
   },
   {
    "duration": 17,
    "start_time": "2023-01-26T15:53:52.787Z"
   },
   {
    "duration": 37,
    "start_time": "2023-01-26T15:53:52.806Z"
   },
   {
    "duration": 8,
    "start_time": "2023-01-26T15:53:52.845Z"
   },
   {
    "duration": 10,
    "start_time": "2023-01-26T15:53:52.855Z"
   },
   {
    "duration": 374,
    "start_time": "2023-01-26T15:53:52.868Z"
   },
   {
    "duration": 332,
    "start_time": "2023-01-26T15:53:53.245Z"
   },
   {
    "duration": 12,
    "start_time": "2023-01-26T15:53:53.579Z"
   },
   {
    "duration": 41,
    "start_time": "2023-01-26T15:53:53.593Z"
   },
   {
    "duration": 12,
    "start_time": "2023-01-26T15:53:53.636Z"
   },
   {
    "duration": 17,
    "start_time": "2023-01-26T15:53:53.650Z"
   },
   {
    "duration": 16,
    "start_time": "2023-01-26T15:53:53.670Z"
   },
   {
    "duration": 48,
    "start_time": "2023-01-26T15:53:53.689Z"
   },
   {
    "duration": 18,
    "start_time": "2023-01-26T15:53:53.744Z"
   },
   {
    "duration": 25,
    "start_time": "2023-01-26T15:53:53.764Z"
   },
   {
    "duration": 17,
    "start_time": "2023-01-26T15:53:53.791Z"
   },
   {
    "duration": 24,
    "start_time": "2023-01-26T15:53:53.825Z"
   },
   {
    "duration": 19,
    "start_time": "2023-01-26T15:53:53.852Z"
   },
   {
    "duration": 21,
    "start_time": "2023-01-26T15:53:53.873Z"
   },
   {
    "duration": 41,
    "start_time": "2023-01-26T15:53:53.896Z"
   },
   {
    "duration": 21,
    "start_time": "2023-01-26T15:53:53.939Z"
   },
   {
    "duration": 11,
    "start_time": "2023-01-26T15:53:53.962Z"
   },
   {
    "duration": 15,
    "start_time": "2023-01-26T15:53:53.975Z"
   },
   {
    "duration": 56,
    "start_time": "2023-01-26T15:53:53.992Z"
   },
   {
    "duration": 15,
    "start_time": "2023-01-26T15:53:54.050Z"
   },
   {
    "duration": 17,
    "start_time": "2023-01-26T15:53:54.067Z"
   },
   {
    "duration": 49,
    "start_time": "2023-01-26T15:53:54.087Z"
   },
   {
    "duration": 22,
    "start_time": "2023-01-26T15:53:54.139Z"
   },
   {
    "duration": 12,
    "start_time": "2023-01-26T15:53:54.163Z"
   },
   {
    "duration": 21,
    "start_time": "2023-01-26T15:53:54.177Z"
   },
   {
    "duration": 2569,
    "start_time": "2023-01-26T15:53:54.201Z"
   },
   {
    "duration": 23,
    "start_time": "2023-01-26T15:53:56.773Z"
   },
   {
    "duration": 38,
    "start_time": "2023-01-26T15:53:56.797Z"
   },
   {
    "duration": 7,
    "start_time": "2023-01-26T15:53:56.836Z"
   },
   {
    "duration": 13,
    "start_time": "2023-01-26T15:53:56.845Z"
   },
   {
    "duration": 9,
    "start_time": "2023-01-26T15:53:56.860Z"
   },
   {
    "duration": 16,
    "start_time": "2023-01-26T15:53:56.876Z"
   },
   {
    "duration": 20,
    "start_time": "2023-01-26T15:53:56.894Z"
   },
   {
    "duration": 29,
    "start_time": "2023-01-26T15:53:56.916Z"
   },
   {
    "duration": 28,
    "start_time": "2023-01-26T15:53:56.947Z"
   },
   {
    "duration": 6,
    "start_time": "2023-01-26T15:53:56.977Z"
   },
   {
    "duration": 6,
    "start_time": "2023-01-26T15:53:56.984Z"
   },
   {
    "duration": 34,
    "start_time": "2023-01-26T15:53:56.992Z"
   },
   {
    "duration": 2409,
    "start_time": "2023-01-26T15:53:57.030Z"
   },
   {
    "duration": 966,
    "start_time": "2023-01-26T15:53:59.441Z"
   },
   {
    "duration": 17,
    "start_time": "2023-01-26T15:54:00.410Z"
   },
   {
    "duration": 42,
    "start_time": "2023-01-26T15:54:00.430Z"
   },
   {
    "duration": 19,
    "start_time": "2023-01-26T15:54:00.475Z"
   },
   {
    "duration": 33,
    "start_time": "2023-01-26T15:54:00.496Z"
   },
   {
    "duration": 48,
    "start_time": "2023-01-26T15:54:00.530Z"
   },
   {
    "duration": 38,
    "start_time": "2023-01-26T15:54:00.580Z"
   },
   {
    "duration": 60,
    "start_time": "2023-01-26T15:54:00.620Z"
   },
   {
    "duration": 31,
    "start_time": "2023-01-26T15:54:00.682Z"
   },
   {
    "duration": 22,
    "start_time": "2023-01-26T15:54:00.716Z"
   },
   {
    "duration": 28,
    "start_time": "2023-01-26T15:54:00.740Z"
   },
   {
    "duration": 23,
    "start_time": "2023-01-26T15:54:00.770Z"
   },
   {
    "duration": 6020,
    "start_time": "2023-01-26T15:54:00.795Z"
   },
   {
    "duration": 197,
    "start_time": "2023-01-26T15:54:06.817Z"
   },
   {
    "duration": 183,
    "start_time": "2023-01-26T15:54:07.022Z"
   },
   {
    "duration": 29,
    "start_time": "2023-01-26T15:54:07.207Z"
   },
   {
    "duration": 10,
    "start_time": "2023-01-26T15:54:07.240Z"
   },
   {
    "duration": 20,
    "start_time": "2023-01-26T15:54:07.252Z"
   },
   {
    "duration": 35,
    "start_time": "2023-01-26T15:54:07.274Z"
   },
   {
    "duration": 25,
    "start_time": "2023-01-26T15:54:07.310Z"
   },
   {
    "duration": 40,
    "start_time": "2023-01-26T15:54:07.337Z"
   },
   {
    "duration": 163,
    "start_time": "2023-01-26T15:54:07.380Z"
   },
   {
    "duration": 0,
    "start_time": "2023-01-26T15:54:07.545Z"
   },
   {
    "duration": 0,
    "start_time": "2023-01-26T15:54:07.547Z"
   },
   {
    "duration": 0,
    "start_time": "2023-01-26T15:54:07.548Z"
   },
   {
    "duration": 0,
    "start_time": "2023-01-26T15:54:07.549Z"
   },
   {
    "duration": 0,
    "start_time": "2023-01-26T15:54:07.550Z"
   },
   {
    "duration": 0,
    "start_time": "2023-01-26T15:54:07.551Z"
   },
   {
    "duration": 0,
    "start_time": "2023-01-26T15:54:07.552Z"
   },
   {
    "duration": 0,
    "start_time": "2023-01-26T15:54:07.554Z"
   },
   {
    "duration": 0,
    "start_time": "2023-01-26T15:54:07.555Z"
   },
   {
    "duration": 0,
    "start_time": "2023-01-26T15:54:07.556Z"
   },
   {
    "duration": 0,
    "start_time": "2023-01-26T15:54:07.558Z"
   },
   {
    "duration": 0,
    "start_time": "2023-01-26T15:54:07.559Z"
   },
   {
    "duration": 0,
    "start_time": "2023-01-26T15:54:07.560Z"
   },
   {
    "duration": 0,
    "start_time": "2023-01-26T15:54:07.562Z"
   },
   {
    "duration": 0,
    "start_time": "2023-01-26T15:54:07.563Z"
   },
   {
    "duration": 0,
    "start_time": "2023-01-26T15:54:07.564Z"
   },
   {
    "duration": 0,
    "start_time": "2023-01-26T15:54:07.565Z"
   },
   {
    "duration": 0,
    "start_time": "2023-01-26T15:54:07.566Z"
   },
   {
    "duration": 7,
    "start_time": "2023-01-26T15:55:02.740Z"
   },
   {
    "duration": 5,
    "start_time": "2023-01-26T15:55:08.407Z"
   },
   {
    "duration": 6,
    "start_time": "2023-01-26T15:55:13.911Z"
   },
   {
    "duration": 5,
    "start_time": "2023-01-26T15:55:23.758Z"
   },
   {
    "duration": 26,
    "start_time": "2023-01-26T15:56:40.905Z"
   },
   {
    "duration": 5,
    "start_time": "2023-01-26T15:57:30.841Z"
   },
   {
    "duration": 3,
    "start_time": "2023-01-26T15:58:38.471Z"
   },
   {
    "duration": 17,
    "start_time": "2023-01-26T15:58:57.182Z"
   },
   {
    "duration": 6,
    "start_time": "2023-01-26T15:59:04.749Z"
   },
   {
    "duration": 6,
    "start_time": "2023-01-26T16:04:07.310Z"
   },
   {
    "duration": 28,
    "start_time": "2023-01-26T16:04:15.615Z"
   },
   {
    "duration": 3,
    "start_time": "2023-01-26T16:24:47.756Z"
   },
   {
    "duration": 5708,
    "start_time": "2023-01-26T16:24:49.177Z"
   },
   {
    "duration": 191,
    "start_time": "2023-01-26T16:24:57.151Z"
   },
   {
    "duration": 13,
    "start_time": "2023-01-26T16:25:07.721Z"
   },
   {
    "duration": 23,
    "start_time": "2023-01-26T16:25:15.320Z"
   },
   {
    "duration": 3,
    "start_time": "2023-01-26T16:25:24.184Z"
   },
   {
    "duration": 4,
    "start_time": "2023-01-26T16:25:25.655Z"
   },
   {
    "duration": 2727,
    "start_time": "2023-01-26T16:25:27.952Z"
   },
   {
    "duration": 3928,
    "start_time": "2023-01-26T16:26:41.968Z"
   },
   {
    "duration": 3,
    "start_time": "2023-01-26T16:27:11.680Z"
   },
   {
    "duration": 2421,
    "start_time": "2023-01-26T16:27:15.147Z"
   },
   {
    "duration": 3,
    "start_time": "2023-01-26T16:27:45.683Z"
   },
   {
    "duration": 35,
    "start_time": "2023-01-26T16:27:47.575Z"
   },
   {
    "duration": 23675,
    "start_time": "2023-01-26T16:31:12.790Z"
   },
   {
    "duration": 28234,
    "start_time": "2023-01-26T16:31:40.974Z"
   },
   {
    "duration": 239,
    "start_time": "2023-01-26T16:32:27.131Z"
   },
   {
    "duration": 215,
    "start_time": "2023-01-26T16:32:39.776Z"
   },
   {
    "duration": 23440,
    "start_time": "2023-01-26T16:33:01.838Z"
   },
   {
    "duration": 36,
    "start_time": "2023-01-26T16:34:03.902Z"
   },
   {
    "duration": 8,
    "start_time": "2023-01-26T16:34:22.154Z"
   },
   {
    "duration": 11,
    "start_time": "2023-01-26T16:34:47.698Z"
   },
   {
    "duration": 4,
    "start_time": "2023-01-26T16:34:51.649Z"
   },
   {
    "duration": 7,
    "start_time": "2023-01-26T16:34:52.149Z"
   },
   {
    "duration": 13,
    "start_time": "2023-01-26T16:35:34.082Z"
   },
   {
    "duration": 15,
    "start_time": "2023-01-26T16:35:42.293Z"
   },
   {
    "duration": 24472,
    "start_time": "2023-01-26T16:35:58.088Z"
   },
   {
    "duration": 26,
    "start_time": "2023-01-26T16:36:28.030Z"
   },
   {
    "duration": 9,
    "start_time": "2023-01-26T16:36:30.559Z"
   },
   {
    "duration": 5,
    "start_time": "2023-01-26T16:36:31.281Z"
   },
   {
    "duration": 5,
    "start_time": "2023-01-26T16:36:36.305Z"
   },
   {
    "duration": 5,
    "start_time": "2023-01-26T16:36:37.082Z"
   },
   {
    "duration": 165,
    "start_time": "2023-01-26T16:36:57.347Z"
   },
   {
    "duration": 146,
    "start_time": "2023-01-26T16:37:07.455Z"
   },
   {
    "duration": 33,
    "start_time": "2023-01-26T16:54:39.218Z"
   },
   {
    "duration": 19,
    "start_time": "2023-01-26T16:54:48.885Z"
   },
   {
    "duration": 93,
    "start_time": "2023-01-26T18:19:23.580Z"
   },
   {
    "duration": 28,
    "start_time": "2023-01-26T18:19:28.956Z"
   },
   {
    "duration": 17,
    "start_time": "2023-01-26T18:19:45.254Z"
   },
   {
    "duration": 9,
    "start_time": "2023-01-26T18:19:45.640Z"
   },
   {
    "duration": 6,
    "start_time": "2023-01-26T18:19:47.282Z"
   },
   {
    "duration": 5,
    "start_time": "2023-01-26T18:19:47.778Z"
   },
   {
    "duration": 6,
    "start_time": "2023-01-26T18:20:02.407Z"
   },
   {
    "duration": 24,
    "start_time": "2023-01-26T18:20:54.048Z"
   },
   {
    "duration": 9,
    "start_time": "2023-01-26T18:23:57.604Z"
   },
   {
    "duration": 7,
    "start_time": "2023-01-26T18:24:28.250Z"
   },
   {
    "duration": 6,
    "start_time": "2023-01-26T18:26:58.848Z"
   },
   {
    "duration": 6,
    "start_time": "2023-01-26T18:27:26.786Z"
   },
   {
    "duration": 6,
    "start_time": "2023-01-26T18:27:41.759Z"
   },
   {
    "duration": 18,
    "start_time": "2023-01-26T18:33:50.628Z"
   },
   {
    "duration": 7,
    "start_time": "2023-01-26T18:33:54.764Z"
   },
   {
    "duration": 6,
    "start_time": "2023-01-26T18:33:57.197Z"
   },
   {
    "duration": 7,
    "start_time": "2023-01-26T18:33:59.779Z"
   },
   {
    "duration": 27,
    "start_time": "2023-01-26T18:34:02.732Z"
   },
   {
    "duration": 4,
    "start_time": "2023-01-26T18:34:11.566Z"
   },
   {
    "duration": 5,
    "start_time": "2023-01-26T18:34:16.959Z"
   },
   {
    "duration": 8,
    "start_time": "2023-01-26T18:34:20.191Z"
   },
   {
    "duration": 13,
    "start_time": "2023-01-26T18:34:27.424Z"
   },
   {
    "duration": 5,
    "start_time": "2023-01-26T18:34:32.058Z"
   },
   {
    "duration": 15,
    "start_time": "2023-01-26T18:34:35.044Z"
   },
   {
    "duration": 9,
    "start_time": "2023-01-26T18:34:37.356Z"
   },
   {
    "duration": 10,
    "start_time": "2023-01-26T18:34:44.658Z"
   },
   {
    "duration": 6,
    "start_time": "2023-01-26T18:34:48.985Z"
   },
   {
    "duration": 11,
    "start_time": "2023-01-26T18:34:59.217Z"
   },
   {
    "duration": 5,
    "start_time": "2023-01-26T18:35:05.509Z"
   },
   {
    "duration": 5,
    "start_time": "2023-01-26T18:35:11.487Z"
   },
   {
    "duration": 6,
    "start_time": "2023-01-26T18:35:14.347Z"
   },
   {
    "duration": 6,
    "start_time": "2023-01-26T18:35:16.479Z"
   },
   {
    "duration": 7,
    "start_time": "2023-01-26T18:35:20.444Z"
   },
   {
    "duration": 11,
    "start_time": "2023-01-26T18:35:22.425Z"
   },
   {
    "duration": 10,
    "start_time": "2023-01-26T18:35:25.846Z"
   },
   {
    "duration": 5,
    "start_time": "2023-01-26T18:35:29.992Z"
   },
   {
    "duration": 7,
    "start_time": "2023-01-26T18:35:32.374Z"
   },
   {
    "duration": 14,
    "start_time": "2023-01-26T18:35:34.744Z"
   },
   {
    "duration": 10,
    "start_time": "2023-01-26T18:35:37.096Z"
   },
   {
    "duration": 13,
    "start_time": "2023-01-26T18:35:42.029Z"
   },
   {
    "duration": 5,
    "start_time": "2023-01-26T18:35:45.660Z"
   },
   {
    "duration": 12,
    "start_time": "2023-01-26T18:35:48.849Z"
   },
   {
    "duration": 9,
    "start_time": "2023-01-26T18:35:52.443Z"
   },
   {
    "duration": 7,
    "start_time": "2023-01-26T18:36:26.186Z"
   },
   {
    "duration": 6,
    "start_time": "2023-01-26T18:37:05.963Z"
   },
   {
    "duration": 7,
    "start_time": "2023-01-26T18:37:06.653Z"
   },
   {
    "duration": 8,
    "start_time": "2023-01-26T18:37:13.497Z"
   },
   {
    "duration": 7,
    "start_time": "2023-01-26T18:37:14.561Z"
   },
   {
    "duration": 10,
    "start_time": "2023-01-26T18:37:50.753Z"
   },
   {
    "duration": 8,
    "start_time": "2023-01-26T18:38:16.482Z"
   },
   {
    "duration": 10,
    "start_time": "2023-01-26T18:38:33.280Z"
   },
   {
    "duration": 5,
    "start_time": "2023-01-26T18:39:22.265Z"
   },
   {
    "duration": 5,
    "start_time": "2023-01-26T18:39:34.569Z"
   },
   {
    "duration": 6,
    "start_time": "2023-01-26T18:39:41.748Z"
   },
   {
    "duration": 10,
    "start_time": "2023-01-26T18:40:10.033Z"
   },
   {
    "duration": 41,
    "start_time": "2023-01-26T18:40:52.227Z"
   },
   {
    "duration": 35,
    "start_time": "2023-01-26T18:43:21.709Z"
   },
   {
    "duration": 6,
    "start_time": "2023-01-26T18:43:42.370Z"
   },
   {
    "duration": 9,
    "start_time": "2023-01-26T18:44:05.070Z"
   },
   {
    "duration": 9,
    "start_time": "2023-01-26T18:44:28.833Z"
   },
   {
    "duration": 7,
    "start_time": "2023-01-26T18:44:40.601Z"
   },
   {
    "duration": 7,
    "start_time": "2023-01-26T18:44:48.349Z"
   },
   {
    "duration": 7,
    "start_time": "2023-01-26T18:44:48.941Z"
   },
   {
    "duration": 4,
    "start_time": "2023-01-26T18:44:59.560Z"
   },
   {
    "duration": 178,
    "start_time": "2023-01-26T18:45:53.155Z"
   },
   {
    "duration": 198,
    "start_time": "2023-01-26T18:46:03.837Z"
   },
   {
    "duration": 5,
    "start_time": "2023-01-26T18:49:40.165Z"
   },
   {
    "duration": 10,
    "start_time": "2023-01-26T18:49:54.922Z"
   },
   {
    "duration": 21,
    "start_time": "2023-01-26T18:49:55.492Z"
   },
   {
    "duration": 6,
    "start_time": "2023-01-26T18:49:56.124Z"
   },
   {
    "duration": 4,
    "start_time": "2023-01-26T18:49:56.925Z"
   },
   {
    "duration": 6,
    "start_time": "2023-01-26T18:49:57.517Z"
   },
   {
    "duration": 4,
    "start_time": "2023-01-26T18:50:04.040Z"
   },
   {
    "duration": 9,
    "start_time": "2023-01-26T18:50:29.482Z"
   },
   {
    "duration": 7,
    "start_time": "2023-01-26T18:51:05.920Z"
   },
   {
    "duration": 4,
    "start_time": "2023-01-26T18:51:19.917Z"
   },
   {
    "duration": 15,
    "start_time": "2023-01-26T18:52:28.057Z"
   },
   {
    "duration": 12,
    "start_time": "2023-01-26T18:53:07.664Z"
   },
   {
    "duration": 14,
    "start_time": "2023-01-26T18:53:25.160Z"
   },
   {
    "duration": 6,
    "start_time": "2023-01-26T19:58:29.702Z"
   },
   {
    "duration": 7,
    "start_time": "2023-01-26T19:58:30.254Z"
   },
   {
    "duration": 8,
    "start_time": "2023-01-26T19:58:31.013Z"
   },
   {
    "duration": 6,
    "start_time": "2023-01-26T19:58:31.939Z"
   },
   {
    "duration": 13,
    "start_time": "2023-01-26T19:58:32.632Z"
   },
   {
    "duration": 5,
    "start_time": "2023-01-26T19:58:36.016Z"
   },
   {
    "duration": 7,
    "start_time": "2023-01-26T19:58:46.617Z"
   },
   {
    "duration": 53,
    "start_time": "2023-01-26T20:00:12.526Z"
   },
   {
    "duration": 12,
    "start_time": "2023-01-26T20:00:31.515Z"
   },
   {
    "duration": 8,
    "start_time": "2023-01-26T20:00:48.695Z"
   },
   {
    "duration": 4,
    "start_time": "2023-01-26T20:00:57.429Z"
   },
   {
    "duration": 6,
    "start_time": "2023-01-26T20:01:09.500Z"
   },
   {
    "duration": 5,
    "start_time": "2023-01-26T20:01:10.101Z"
   },
   {
    "duration": 7,
    "start_time": "2023-01-26T20:01:10.927Z"
   },
   {
    "duration": 9,
    "start_time": "2023-01-26T20:01:11.655Z"
   },
   {
    "duration": 14,
    "start_time": "2023-01-26T20:01:13.032Z"
   },
   {
    "duration": 6,
    "start_time": "2023-01-26T21:59:30.281Z"
   },
   {
    "duration": 5,
    "start_time": "2023-01-26T21:59:34.813Z"
   },
   {
    "duration": 5,
    "start_time": "2023-01-26T21:59:38.821Z"
   },
   {
    "duration": 5,
    "start_time": "2023-01-26T22:01:18.649Z"
   },
   {
    "duration": 6,
    "start_time": "2023-01-26T22:01:23.745Z"
   },
   {
    "duration": 6,
    "start_time": "2023-01-26T22:01:35.490Z"
   },
   {
    "duration": 5,
    "start_time": "2023-01-27T06:17:59.758Z"
   },
   {
    "duration": 7,
    "start_time": "2023-01-27T06:18:03.643Z"
   },
   {
    "duration": 5,
    "start_time": "2023-01-27T06:18:06.003Z"
   },
   {
    "duration": 6,
    "start_time": "2023-01-27T06:18:08.078Z"
   },
   {
    "duration": 5,
    "start_time": "2023-01-27T06:18:10.294Z"
   },
   {
    "duration": 6,
    "start_time": "2023-01-27T06:18:16.174Z"
   },
   {
    "duration": 6,
    "start_time": "2023-01-27T06:18:19.872Z"
   },
   {
    "duration": 6,
    "start_time": "2023-01-27T06:18:22.383Z"
   },
   {
    "duration": 6,
    "start_time": "2023-01-27T06:18:25.137Z"
   },
   {
    "duration": 6,
    "start_time": "2023-01-27T06:18:27.734Z"
   },
   {
    "duration": 6,
    "start_time": "2023-01-27T06:18:30.902Z"
   },
   {
    "duration": 8,
    "start_time": "2023-01-27T06:18:37.184Z"
   },
   {
    "duration": 5,
    "start_time": "2023-01-27T06:18:41.127Z"
   },
   {
    "duration": 6,
    "start_time": "2023-01-27T06:18:43.881Z"
   },
   {
    "duration": 9,
    "start_time": "2023-01-27T06:18:44.437Z"
   },
   {
    "duration": 7,
    "start_time": "2023-01-27T06:18:45.652Z"
   },
   {
    "duration": 12,
    "start_time": "2023-01-27T06:18:46.236Z"
   },
   {
    "duration": 4,
    "start_time": "2023-01-27T06:19:10.054Z"
   },
   {
    "duration": 6,
    "start_time": "2023-01-27T06:19:10.849Z"
   },
   {
    "duration": 4,
    "start_time": "2023-01-27T06:19:12.293Z"
   },
   {
    "duration": 3,
    "start_time": "2023-01-27T06:20:04.797Z"
   },
   {
    "duration": 5,
    "start_time": "2023-01-27T06:20:21.102Z"
   },
   {
    "duration": 3,
    "start_time": "2023-01-27T06:20:32.013Z"
   },
   {
    "duration": 5,
    "start_time": "2023-01-27T06:20:32.460Z"
   },
   {
    "duration": 2,
    "start_time": "2023-01-27T06:20:42.730Z"
   },
   {
    "duration": 5,
    "start_time": "2023-01-27T06:20:42.909Z"
   },
   {
    "duration": 9,
    "start_time": "2023-01-27T06:42:00.353Z"
   },
   {
    "duration": 11,
    "start_time": "2023-01-27T06:42:16.743Z"
   },
   {
    "duration": 8,
    "start_time": "2023-01-27T06:42:37.373Z"
   },
   {
    "duration": 3,
    "start_time": "2023-01-27T06:42:41.534Z"
   },
   {
    "duration": 4,
    "start_time": "2023-01-27T06:42:50.927Z"
   },
   {
    "duration": 7,
    "start_time": "2023-01-27T06:42:51.362Z"
   },
   {
    "duration": 8,
    "start_time": "2023-01-27T06:43:02.759Z"
   },
   {
    "duration": 7,
    "start_time": "2023-01-27T07:05:59.841Z"
   },
   {
    "duration": 7,
    "start_time": "2023-01-27T07:06:40.089Z"
   },
   {
    "duration": 6,
    "start_time": "2023-01-27T07:07:01.675Z"
   },
   {
    "duration": 4,
    "start_time": "2023-01-27T07:07:38.817Z"
   },
   {
    "duration": 10,
    "start_time": "2023-01-27T07:40:33.439Z"
   },
   {
    "duration": 10,
    "start_time": "2023-01-27T07:40:35.633Z"
   },
   {
    "duration": 13,
    "start_time": "2023-01-27T07:40:36.339Z"
   },
   {
    "duration": 4,
    "start_time": "2023-01-27T07:41:11.754Z"
   },
   {
    "duration": 30,
    "start_time": "2023-01-27T07:41:12.433Z"
   },
   {
    "duration": 11308,
    "start_time": "2023-01-27T07:41:33.239Z"
   },
   {
    "duration": 7,
    "start_time": "2023-01-27T07:42:28.235Z"
   },
   {
    "duration": 11962,
    "start_time": "2023-01-27T07:42:56.140Z"
   },
   {
    "duration": 11,
    "start_time": "2023-01-27T07:43:31.910Z"
   },
   {
    "duration": 14,
    "start_time": "2023-01-27T07:43:49.644Z"
   },
   {
    "duration": 4,
    "start_time": "2023-01-27T07:44:07.265Z"
   },
   {
    "duration": 16,
    "start_time": "2023-01-27T07:44:09.318Z"
   },
   {
    "duration": 12,
    "start_time": "2023-01-27T07:44:24.489Z"
   },
   {
    "duration": 14,
    "start_time": "2023-01-27T07:44:34.683Z"
   },
   {
    "duration": 10,
    "start_time": "2023-01-27T07:45:39.436Z"
   },
   {
    "duration": 9,
    "start_time": "2023-01-27T07:46:02.845Z"
   },
   {
    "duration": 6,
    "start_time": "2023-01-27T07:46:30.746Z"
   },
   {
    "duration": 7,
    "start_time": "2023-01-27T07:51:58.671Z"
   },
   {
    "duration": 8,
    "start_time": "2023-01-27T07:52:05.763Z"
   },
   {
    "duration": 7,
    "start_time": "2023-01-27T07:52:09.379Z"
   },
   {
    "duration": 10,
    "start_time": "2023-01-27T08:06:13.869Z"
   },
   {
    "duration": 9,
    "start_time": "2023-01-27T08:06:23.383Z"
   },
   {
    "duration": 28,
    "start_time": "2023-01-27T08:06:33.891Z"
   },
   {
    "duration": 8,
    "start_time": "2023-01-27T09:46:30.567Z"
   },
   {
    "duration": 4,
    "start_time": "2023-01-27T09:46:32.539Z"
   },
   {
    "duration": 4,
    "start_time": "2023-01-27T10:27:18.402Z"
   },
   {
    "duration": 9,
    "start_time": "2023-01-27T10:27:26.536Z"
   },
   {
    "duration": 5,
    "start_time": "2023-01-27T10:28:06.489Z"
   },
   {
    "duration": 7,
    "start_time": "2023-01-27T10:28:10.600Z"
   },
   {
    "duration": 5,
    "start_time": "2023-01-27T10:33:53.137Z"
   },
   {
    "duration": 7,
    "start_time": "2023-01-27T10:34:07.187Z"
   },
   {
    "duration": 6,
    "start_time": "2023-01-27T10:34:20.008Z"
   },
   {
    "duration": 4,
    "start_time": "2023-01-27T10:34:59.276Z"
   },
   {
    "duration": 8,
    "start_time": "2023-01-27T10:35:16.507Z"
   },
   {
    "duration": 12,
    "start_time": "2023-01-27T10:35:18.888Z"
   },
   {
    "duration": 4,
    "start_time": "2023-01-27T10:35:23.805Z"
   },
   {
    "duration": 4,
    "start_time": "2023-01-27T10:35:25.109Z"
   },
   {
    "duration": 12,
    "start_time": "2023-01-27T11:03:27.854Z"
   },
   {
    "duration": 11,
    "start_time": "2023-01-27T11:03:50.807Z"
   },
   {
    "duration": 2,
    "start_time": "2023-01-27T11:03:56.234Z"
   },
   {
    "duration": 10738,
    "start_time": "2023-01-27T11:03:57.685Z"
   },
   {
    "duration": 4,
    "start_time": "2023-01-27T11:06:15.958Z"
   },
   {
    "duration": 5,
    "start_time": "2023-01-27T11:06:40.704Z"
   },
   {
    "duration": 1401,
    "start_time": "2023-01-27T11:07:12.755Z"
   },
   {
    "duration": 5,
    "start_time": "2023-01-27T11:07:28.488Z"
   },
   {
    "duration": 12,
    "start_time": "2023-01-27T11:16:18.420Z"
   },
   {
    "duration": 11,
    "start_time": "2023-01-27T11:16:38.117Z"
   },
   {
    "duration": 4,
    "start_time": "2023-01-27T11:17:00.823Z"
   },
   {
    "duration": 9,
    "start_time": "2023-01-27T11:17:07.445Z"
   },
   {
    "duration": 13,
    "start_time": "2023-01-27T11:22:10.333Z"
   },
   {
    "duration": 14,
    "start_time": "2023-01-27T11:22:15.539Z"
   },
   {
    "duration": 16,
    "start_time": "2023-01-27T11:22:24.564Z"
   },
   {
    "duration": 1228,
    "start_time": "2023-01-27T11:25:19.150Z"
   },
   {
    "duration": 18,
    "start_time": "2023-01-27T11:25:24.737Z"
   },
   {
    "duration": 185,
    "start_time": "2023-01-27T11:25:29.007Z"
   },
   {
    "duration": 152,
    "start_time": "2023-01-27T11:25:35.986Z"
   },
   {
    "duration": 185,
    "start_time": "2023-01-27T11:32:39.052Z"
   },
   {
    "duration": 1679,
    "start_time": "2023-01-27T11:39:54.550Z"
   },
   {
    "duration": 6,
    "start_time": "2023-01-27T11:39:56.231Z"
   },
   {
    "duration": 41,
    "start_time": "2023-01-27T11:39:56.239Z"
   },
   {
    "duration": 36,
    "start_time": "2023-01-27T11:39:56.283Z"
   },
   {
    "duration": 36,
    "start_time": "2023-01-27T11:39:56.321Z"
   },
   {
    "duration": 35,
    "start_time": "2023-01-27T11:39:56.359Z"
   },
   {
    "duration": 50,
    "start_time": "2023-01-27T11:39:56.396Z"
   },
   {
    "duration": 59,
    "start_time": "2023-01-27T11:39:56.447Z"
   },
   {
    "duration": 17,
    "start_time": "2023-01-27T11:39:56.522Z"
   },
   {
    "duration": 16,
    "start_time": "2023-01-27T11:39:56.541Z"
   },
   {
    "duration": 717,
    "start_time": "2023-01-27T11:39:56.559Z"
   },
   {
    "duration": 7,
    "start_time": "2023-01-27T11:39:57.278Z"
   },
   {
    "duration": 15,
    "start_time": "2023-01-27T11:39:57.287Z"
   },
   {
    "duration": 18,
    "start_time": "2023-01-27T11:39:57.304Z"
   },
   {
    "duration": 10,
    "start_time": "2023-01-27T11:39:57.324Z"
   },
   {
    "duration": 19,
    "start_time": "2023-01-27T11:39:57.336Z"
   },
   {
    "duration": 64,
    "start_time": "2023-01-27T11:39:57.357Z"
   },
   {
    "duration": 7,
    "start_time": "2023-01-27T11:39:57.423Z"
   },
   {
    "duration": 4,
    "start_time": "2023-01-27T11:39:57.432Z"
   },
   {
    "duration": 12,
    "start_time": "2023-01-27T11:39:57.438Z"
   },
   {
    "duration": 8,
    "start_time": "2023-01-27T11:39:57.452Z"
   },
   {
    "duration": 6,
    "start_time": "2023-01-27T11:39:57.462Z"
   },
   {
    "duration": 15,
    "start_time": "2023-01-27T11:39:57.470Z"
   },
   {
    "duration": 18,
    "start_time": "2023-01-27T11:39:57.522Z"
   },
   {
    "duration": 7,
    "start_time": "2023-01-27T11:39:57.542Z"
   },
   {
    "duration": 8,
    "start_time": "2023-01-27T11:39:57.551Z"
   },
   {
    "duration": 7,
    "start_time": "2023-01-27T11:39:57.561Z"
   },
   {
    "duration": 49,
    "start_time": "2023-01-27T11:39:57.572Z"
   },
   {
    "duration": 10,
    "start_time": "2023-01-27T11:39:57.623Z"
   },
   {
    "duration": 6,
    "start_time": "2023-01-27T11:39:57.635Z"
   },
   {
    "duration": 7,
    "start_time": "2023-01-27T11:39:57.643Z"
   },
   {
    "duration": 20,
    "start_time": "2023-01-27T11:39:57.651Z"
   },
   {
    "duration": 5,
    "start_time": "2023-01-27T11:39:57.673Z"
   },
   {
    "duration": 41,
    "start_time": "2023-01-27T11:39:57.680Z"
   },
   {
    "duration": 18,
    "start_time": "2023-01-27T11:39:57.723Z"
   },
   {
    "duration": 7,
    "start_time": "2023-01-27T11:39:57.743Z"
   },
   {
    "duration": 8,
    "start_time": "2023-01-27T11:39:57.751Z"
   },
   {
    "duration": 10,
    "start_time": "2023-01-27T11:39:57.761Z"
   },
   {
    "duration": 6,
    "start_time": "2023-01-27T11:39:57.772Z"
   },
   {
    "duration": 7,
    "start_time": "2023-01-27T11:39:57.779Z"
   },
   {
    "duration": 45,
    "start_time": "2023-01-27T11:39:57.787Z"
   },
   {
    "duration": 6,
    "start_time": "2023-01-27T11:39:57.834Z"
   },
   {
    "duration": 5,
    "start_time": "2023-01-27T11:39:57.842Z"
   },
   {
    "duration": 11,
    "start_time": "2023-01-27T11:39:57.848Z"
   },
   {
    "duration": 915,
    "start_time": "2023-01-27T11:39:57.860Z"
   },
   {
    "duration": 8,
    "start_time": "2023-01-27T11:39:58.777Z"
   },
   {
    "duration": 23,
    "start_time": "2023-01-27T11:39:58.787Z"
   },
   {
    "duration": 4,
    "start_time": "2023-01-27T11:39:58.822Z"
   },
   {
    "duration": 8,
    "start_time": "2023-01-27T11:39:58.828Z"
   },
   {
    "duration": 8,
    "start_time": "2023-01-27T11:39:58.837Z"
   },
   {
    "duration": 368,
    "start_time": "2023-01-27T11:39:58.847Z"
   },
   {
    "duration": 314,
    "start_time": "2023-01-27T11:39:59.221Z"
   },
   {
    "duration": 14,
    "start_time": "2023-01-27T11:39:59.537Z"
   },
   {
    "duration": 14,
    "start_time": "2023-01-27T11:39:59.553Z"
   },
   {
    "duration": 12,
    "start_time": "2023-01-27T11:39:59.569Z"
   },
   {
    "duration": 47,
    "start_time": "2023-01-27T11:39:59.583Z"
   },
   {
    "duration": 12,
    "start_time": "2023-01-27T11:39:59.632Z"
   },
   {
    "duration": 17,
    "start_time": "2023-01-27T11:39:59.645Z"
   },
   {
    "duration": 13,
    "start_time": "2023-01-27T11:39:59.664Z"
   },
   {
    "duration": 46,
    "start_time": "2023-01-27T11:39:59.679Z"
   },
   {
    "duration": 11,
    "start_time": "2023-01-27T11:39:59.727Z"
   },
   {
    "duration": 15,
    "start_time": "2023-01-27T11:39:59.740Z"
   },
   {
    "duration": 15,
    "start_time": "2023-01-27T11:39:59.757Z"
   },
   {
    "duration": 52,
    "start_time": "2023-01-27T11:39:59.774Z"
   },
   {
    "duration": 13,
    "start_time": "2023-01-27T11:39:59.828Z"
   },
   {
    "duration": 15,
    "start_time": "2023-01-27T11:39:59.843Z"
   },
   {
    "duration": 11,
    "start_time": "2023-01-27T11:39:59.860Z"
   },
   {
    "duration": 51,
    "start_time": "2023-01-27T11:39:59.873Z"
   },
   {
    "duration": 18,
    "start_time": "2023-01-27T11:39:59.926Z"
   },
   {
    "duration": 13,
    "start_time": "2023-01-27T11:39:59.946Z"
   },
   {
    "duration": 21,
    "start_time": "2023-01-27T11:39:59.961Z"
   },
   {
    "duration": 45,
    "start_time": "2023-01-27T11:39:59.984Z"
   },
   {
    "duration": 143,
    "start_time": "2023-01-27T11:40:00.031Z"
   },
   {
    "duration": 0,
    "start_time": "2023-01-27T11:40:00.178Z"
   },
   {
    "duration": 0,
    "start_time": "2023-01-27T11:40:00.180Z"
   },
   {
    "duration": 0,
    "start_time": "2023-01-27T11:40:00.181Z"
   },
   {
    "duration": 0,
    "start_time": "2023-01-27T11:40:00.182Z"
   },
   {
    "duration": 0,
    "start_time": "2023-01-27T11:40:00.183Z"
   },
   {
    "duration": 0,
    "start_time": "2023-01-27T11:40:00.184Z"
   },
   {
    "duration": 0,
    "start_time": "2023-01-27T11:40:00.186Z"
   },
   {
    "duration": 0,
    "start_time": "2023-01-27T11:40:00.187Z"
   },
   {
    "duration": 0,
    "start_time": "2023-01-27T11:40:00.188Z"
   },
   {
    "duration": 0,
    "start_time": "2023-01-27T11:40:00.189Z"
   },
   {
    "duration": 0,
    "start_time": "2023-01-27T11:40:00.190Z"
   },
   {
    "duration": 0,
    "start_time": "2023-01-27T11:40:00.191Z"
   },
   {
    "duration": 0,
    "start_time": "2023-01-27T11:40:00.192Z"
   },
   {
    "duration": 0,
    "start_time": "2023-01-27T11:40:00.193Z"
   },
   {
    "duration": 0,
    "start_time": "2023-01-27T11:40:00.194Z"
   },
   {
    "duration": 0,
    "start_time": "2023-01-27T11:40:00.194Z"
   },
   {
    "duration": 0,
    "start_time": "2023-01-27T11:40:00.221Z"
   },
   {
    "duration": 0,
    "start_time": "2023-01-27T11:40:00.222Z"
   },
   {
    "duration": 0,
    "start_time": "2023-01-27T11:40:00.223Z"
   },
   {
    "duration": 1,
    "start_time": "2023-01-27T11:40:00.224Z"
   },
   {
    "duration": 0,
    "start_time": "2023-01-27T11:40:00.225Z"
   },
   {
    "duration": 0,
    "start_time": "2023-01-27T11:40:00.226Z"
   },
   {
    "duration": 0,
    "start_time": "2023-01-27T11:40:00.227Z"
   },
   {
    "duration": 0,
    "start_time": "2023-01-27T11:40:00.229Z"
   },
   {
    "duration": 0,
    "start_time": "2023-01-27T11:40:00.230Z"
   },
   {
    "duration": 0,
    "start_time": "2023-01-27T11:40:00.231Z"
   },
   {
    "duration": 0,
    "start_time": "2023-01-27T11:40:00.232Z"
   },
   {
    "duration": 0,
    "start_time": "2023-01-27T11:40:00.233Z"
   },
   {
    "duration": 0,
    "start_time": "2023-01-27T11:40:00.234Z"
   },
   {
    "duration": 0,
    "start_time": "2023-01-27T11:40:00.235Z"
   },
   {
    "duration": 0,
    "start_time": "2023-01-27T11:40:00.236Z"
   },
   {
    "duration": 0,
    "start_time": "2023-01-27T11:40:00.238Z"
   },
   {
    "duration": 0,
    "start_time": "2023-01-27T11:40:00.239Z"
   },
   {
    "duration": 0,
    "start_time": "2023-01-27T11:40:00.240Z"
   },
   {
    "duration": 0,
    "start_time": "2023-01-27T11:40:00.242Z"
   },
   {
    "duration": 0,
    "start_time": "2023-01-27T11:40:00.243Z"
   },
   {
    "duration": 0,
    "start_time": "2023-01-27T11:40:00.244Z"
   },
   {
    "duration": 0,
    "start_time": "2023-01-27T11:40:00.245Z"
   },
   {
    "duration": 0,
    "start_time": "2023-01-27T11:40:00.247Z"
   },
   {
    "duration": 0,
    "start_time": "2023-01-27T11:40:00.248Z"
   },
   {
    "duration": 0,
    "start_time": "2023-01-27T11:40:00.250Z"
   },
   {
    "duration": 0,
    "start_time": "2023-01-27T11:40:00.251Z"
   },
   {
    "duration": 0,
    "start_time": "2023-01-27T11:40:00.252Z"
   },
   {
    "duration": 0,
    "start_time": "2023-01-27T11:40:00.253Z"
   },
   {
    "duration": 0,
    "start_time": "2023-01-27T11:40:00.254Z"
   },
   {
    "duration": 0,
    "start_time": "2023-01-27T11:40:00.255Z"
   },
   {
    "duration": 0,
    "start_time": "2023-01-27T11:40:00.256Z"
   },
   {
    "duration": 0,
    "start_time": "2023-01-27T11:40:00.257Z"
   },
   {
    "duration": 0,
    "start_time": "2023-01-27T11:40:00.323Z"
   },
   {
    "duration": 0,
    "start_time": "2023-01-27T11:40:00.324Z"
   },
   {
    "duration": 0,
    "start_time": "2023-01-27T11:40:00.325Z"
   },
   {
    "duration": 0,
    "start_time": "2023-01-27T11:40:00.326Z"
   },
   {
    "duration": 0,
    "start_time": "2023-01-27T11:40:00.327Z"
   },
   {
    "duration": 0,
    "start_time": "2023-01-27T11:40:00.328Z"
   },
   {
    "duration": 0,
    "start_time": "2023-01-27T11:40:00.329Z"
   },
   {
    "duration": 0,
    "start_time": "2023-01-27T11:40:00.330Z"
   },
   {
    "duration": 0,
    "start_time": "2023-01-27T11:40:00.331Z"
   },
   {
    "duration": 0,
    "start_time": "2023-01-27T11:40:00.332Z"
   },
   {
    "duration": 0,
    "start_time": "2023-01-27T11:40:00.333Z"
   },
   {
    "duration": 0,
    "start_time": "2023-01-27T11:40:00.340Z"
   },
   {
    "duration": 0,
    "start_time": "2023-01-27T11:40:00.341Z"
   },
   {
    "duration": 0,
    "start_time": "2023-01-27T11:40:00.342Z"
   },
   {
    "duration": 0,
    "start_time": "2023-01-27T11:40:00.344Z"
   },
   {
    "duration": 0,
    "start_time": "2023-01-27T11:40:00.345Z"
   },
   {
    "duration": 0,
    "start_time": "2023-01-27T11:40:00.347Z"
   },
   {
    "duration": 0,
    "start_time": "2023-01-27T11:40:00.348Z"
   },
   {
    "duration": 0,
    "start_time": "2023-01-27T11:40:00.350Z"
   },
   {
    "duration": 0,
    "start_time": "2023-01-27T11:40:00.351Z"
   },
   {
    "duration": 0,
    "start_time": "2023-01-27T11:40:00.352Z"
   },
   {
    "duration": 0,
    "start_time": "2023-01-27T11:40:00.353Z"
   },
   {
    "duration": 0,
    "start_time": "2023-01-27T11:40:00.355Z"
   },
   {
    "duration": 0,
    "start_time": "2023-01-27T11:40:00.356Z"
   },
   {
    "duration": 0,
    "start_time": "2023-01-27T11:40:00.357Z"
   },
   {
    "duration": 0,
    "start_time": "2023-01-27T11:40:00.358Z"
   },
   {
    "duration": 0,
    "start_time": "2023-01-27T11:40:00.421Z"
   },
   {
    "duration": 0,
    "start_time": "2023-01-27T11:40:00.422Z"
   },
   {
    "duration": 0,
    "start_time": "2023-01-27T11:40:00.424Z"
   },
   {
    "duration": 0,
    "start_time": "2023-01-27T11:40:00.425Z"
   },
   {
    "duration": 0,
    "start_time": "2023-01-27T11:40:00.426Z"
   },
   {
    "duration": 0,
    "start_time": "2023-01-27T11:40:00.427Z"
   },
   {
    "duration": 18,
    "start_time": "2023-01-27T11:40:24.504Z"
   },
   {
    "duration": 12,
    "start_time": "2023-01-27T11:40:28.817Z"
   },
   {
    "duration": 16,
    "start_time": "2023-01-27T11:40:30.082Z"
   },
   {
    "duration": 20,
    "start_time": "2023-01-27T11:40:40.157Z"
   },
   {
    "duration": 5,
    "start_time": "2023-01-27T11:40:45.078Z"
   },
   {
    "duration": 10,
    "start_time": "2023-01-27T11:40:45.549Z"
   },
   {
    "duration": 5,
    "start_time": "2023-01-27T11:40:46.313Z"
   },
   {
    "duration": 9,
    "start_time": "2023-01-27T11:41:05.526Z"
   },
   {
    "duration": 19,
    "start_time": "2023-01-27T11:41:05.776Z"
   },
   {
    "duration": 19,
    "start_time": "2023-01-27T11:41:08.826Z"
   },
   {
    "duration": 17,
    "start_time": "2023-01-27T11:41:12.279Z"
   },
   {
    "duration": 5,
    "start_time": "2023-01-27T11:41:12.971Z"
   },
   {
    "duration": 7,
    "start_time": "2023-01-27T11:41:13.624Z"
   },
   {
    "duration": 5,
    "start_time": "2023-01-27T11:41:14.181Z"
   },
   {
    "duration": 427,
    "start_time": "2023-01-27T11:42:16.826Z"
   },
   {
    "duration": 333,
    "start_time": "2023-01-27T11:42:22.051Z"
   },
   {
    "duration": 340,
    "start_time": "2023-01-27T11:42:32.707Z"
   },
   {
    "duration": 320,
    "start_time": "2023-01-27T11:42:39.690Z"
   },
   {
    "duration": 5,
    "start_time": "2023-01-27T11:43:28.445Z"
   },
   {
    "duration": 11,
    "start_time": "2023-01-27T11:43:29.821Z"
   },
   {
    "duration": 823,
    "start_time": "2023-01-27T11:43:33.727Z"
   },
   {
    "duration": 7,
    "start_time": "2023-01-27T11:43:38.412Z"
   },
   {
    "duration": 3,
    "start_time": "2023-01-27T11:43:40.821Z"
   },
   {
    "duration": 17,
    "start_time": "2023-01-27T11:43:42.288Z"
   },
   {
    "duration": 10,
    "start_time": "2023-01-27T11:43:43.827Z"
   },
   {
    "duration": 10,
    "start_time": "2023-01-27T11:43:44.292Z"
   },
   {
    "duration": 26,
    "start_time": "2023-01-27T11:43:45.167Z"
   },
   {
    "duration": 14,
    "start_time": "2023-01-27T11:43:48.249Z"
   },
   {
    "duration": 32,
    "start_time": "2023-01-27T11:43:49.983Z"
   },
   {
    "duration": 5,
    "start_time": "2023-01-27T11:43:50.923Z"
   },
   {
    "duration": 3,
    "start_time": "2023-01-27T11:44:02.372Z"
   },
   {
    "duration": 4016,
    "start_time": "2023-01-27T11:44:04.624Z"
   },
   {
    "duration": 218,
    "start_time": "2023-01-27T11:44:11.517Z"
   },
   {
    "duration": 188,
    "start_time": "2023-01-27T11:44:13.219Z"
   },
   {
    "duration": 10,
    "start_time": "2023-01-27T11:44:15.857Z"
   },
   {
    "duration": 10,
    "start_time": "2023-01-27T11:44:18.224Z"
   },
   {
    "duration": 13,
    "start_time": "2023-01-27T11:44:20.379Z"
   },
   {
    "duration": 4,
    "start_time": "2023-01-27T11:44:21.271Z"
   },
   {
    "duration": 3,
    "start_time": "2023-01-27T11:44:22.557Z"
   },
   {
    "duration": 34,
    "start_time": "2023-01-27T11:44:25.086Z"
   },
   {
    "duration": 6,
    "start_time": "2023-01-27T11:44:42.940Z"
   },
   {
    "duration": 4,
    "start_time": "2023-01-27T11:45:57.210Z"
   },
   {
    "duration": 3,
    "start_time": "2023-01-27T11:45:58.236Z"
   },
   {
    "duration": 33,
    "start_time": "2023-01-27T11:45:59.056Z"
   },
   {
    "duration": 18610,
    "start_time": "2023-01-27T11:45:59.985Z"
   },
   {
    "duration": 18877,
    "start_time": "2023-01-27T11:47:40.205Z"
   },
   {
    "duration": 327,
    "start_time": "2023-01-27T11:48:02.429Z"
   },
   {
    "duration": 186,
    "start_time": "2023-01-27T11:48:09.480Z"
   },
   {
    "duration": 22,
    "start_time": "2023-01-27T11:48:17.303Z"
   },
   {
    "duration": 10,
    "start_time": "2023-01-27T11:48:18.752Z"
   },
   {
    "duration": 128,
    "start_time": "2023-01-27T11:48:20.138Z"
   },
   {
    "duration": 13,
    "start_time": "2023-01-27T11:48:23.901Z"
   },
   {
    "duration": 23,
    "start_time": "2023-01-27T11:49:15.757Z"
   },
   {
    "duration": 12,
    "start_time": "2023-01-27T11:49:21.105Z"
   },
   {
    "duration": 7,
    "start_time": "2023-01-27T11:49:32.005Z"
   },
   {
    "duration": 4,
    "start_time": "2023-01-27T11:49:32.535Z"
   },
   {
    "duration": 5,
    "start_time": "2023-01-27T11:49:48.532Z"
   },
   {
    "duration": 772,
    "start_time": "2023-01-27T11:49:49.419Z"
   },
   {
    "duration": 5,
    "start_time": "2023-01-27T11:49:50.871Z"
   },
   {
    "duration": 791,
    "start_time": "2023-01-27T11:49:51.801Z"
   },
   {
    "duration": 5,
    "start_time": "2023-01-27T11:49:54.092Z"
   },
   {
    "duration": 878,
    "start_time": "2023-01-27T11:49:54.631Z"
   },
   {
    "duration": 24,
    "start_time": "2023-01-27T11:51:17.331Z"
   },
   {
    "duration": 8,
    "start_time": "2023-01-27T11:51:24.361Z"
   },
   {
    "duration": 21,
    "start_time": "2023-01-27T11:53:55.340Z"
   },
   {
    "duration": 10,
    "start_time": "2023-01-27T11:53:57.485Z"
   },
   {
    "duration": 59,
    "start_time": "2023-01-27T11:54:18.403Z"
   },
   {
    "duration": 30,
    "start_time": "2023-01-27T11:54:25.783Z"
   },
   {
    "duration": 5,
    "start_time": "2023-01-27T12:03:52.289Z"
   },
   {
    "duration": 943,
    "start_time": "2023-01-27T12:03:53.007Z"
   },
   {
    "duration": 41,
    "start_time": "2023-01-27T12:18:42.023Z"
   },
   {
    "duration": 5,
    "start_time": "2023-01-27T12:19:01.684Z"
   },
   {
    "duration": 922,
    "start_time": "2023-01-27T12:19:31.113Z"
   },
   {
    "duration": 24,
    "start_time": "2023-01-27T12:19:44.217Z"
   },
   {
    "duration": 10,
    "start_time": "2023-01-27T12:19:56.209Z"
   },
   {
    "duration": 14,
    "start_time": "2023-01-27T12:20:02.752Z"
   },
   {
    "duration": 17,
    "start_time": "2023-01-27T12:20:10.108Z"
   },
   {
    "duration": 10,
    "start_time": "2023-01-27T12:20:15.618Z"
   },
   {
    "duration": 5,
    "start_time": "2023-01-27T12:20:24.456Z"
   },
   {
    "duration": 0,
    "start_time": "2023-01-27T12:24:22.154Z"
   },
   {
    "duration": 0,
    "start_time": "2023-01-27T12:24:22.155Z"
   },
   {
    "duration": 10,
    "start_time": "2023-01-27T12:27:38.961Z"
   },
   {
    "duration": 9,
    "start_time": "2023-01-27T12:27:39.806Z"
   },
   {
    "duration": 8,
    "start_time": "2023-01-27T12:50:59.135Z"
   },
   {
    "duration": 13,
    "start_time": "2023-01-27T12:50:59.609Z"
   },
   {
    "duration": 12,
    "start_time": "2023-01-27T12:51:15.912Z"
   },
   {
    "duration": 4,
    "start_time": "2023-01-27T12:51:28.071Z"
   },
   {
    "duration": 926,
    "start_time": "2023-01-27T12:51:29.024Z"
   },
   {
    "duration": 7,
    "start_time": "2023-01-27T12:51:40.234Z"
   },
   {
    "duration": 4,
    "start_time": "2023-01-27T12:51:46.707Z"
   },
   {
    "duration": 8,
    "start_time": "2023-01-27T12:51:58.241Z"
   },
   {
    "duration": 4,
    "start_time": "2023-01-27T12:52:00.462Z"
   },
   {
    "duration": 4,
    "start_time": "2023-01-27T12:52:15.873Z"
   },
   {
    "duration": 8,
    "start_time": "2023-01-27T12:52:17.762Z"
   },
   {
    "duration": 6,
    "start_time": "2023-01-27T12:52:22.668Z"
   },
   {
    "duration": 840,
    "start_time": "2023-01-27T12:52:23.409Z"
   },
   {
    "duration": 0,
    "start_time": "2023-01-27T12:52:24.250Z"
   },
   {
    "duration": 6,
    "start_time": "2023-01-27T12:52:30.558Z"
   },
   {
    "duration": 5,
    "start_time": "2023-01-27T12:52:33.607Z"
   },
   {
    "duration": 12,
    "start_time": "2023-01-27T12:52:38.236Z"
   },
   {
    "duration": 165,
    "start_time": "2023-01-27T12:52:39.219Z"
   },
   {
    "duration": 18,
    "start_time": "2023-01-27T12:52:46.622Z"
   },
   {
    "duration": 172,
    "start_time": "2023-01-27T12:52:47.509Z"
   },
   {
    "duration": 204,
    "start_time": "2023-01-27T12:52:49.874Z"
   },
   {
    "duration": 50,
    "start_time": "2023-01-27T12:52:53.165Z"
   },
   {
    "duration": 10,
    "start_time": "2023-01-27T12:53:04.612Z"
   },
   {
    "duration": 3,
    "start_time": "2023-01-27T12:53:09.610Z"
   },
   {
    "duration": 1109,
    "start_time": "2023-01-27T12:53:10.082Z"
   },
   {
    "duration": 15,
    "start_time": "2023-01-27T12:53:14.518Z"
   },
   {
    "duration": 12,
    "start_time": "2023-01-27T12:53:19.073Z"
   },
   {
    "duration": 1401,
    "start_time": "2023-01-27T12:53:32.520Z"
   },
   {
    "duration": 13,
    "start_time": "2023-01-27T12:53:35.059Z"
   },
   {
    "duration": 15,
    "start_time": "2023-01-27T12:53:40.122Z"
   },
   {
    "duration": 1088,
    "start_time": "2023-01-27T12:53:55.047Z"
   },
   {
    "duration": 7,
    "start_time": "2023-01-27T12:54:18.180Z"
   },
   {
    "duration": 4,
    "start_time": "2023-01-27T12:54:20.181Z"
   },
   {
    "duration": 814,
    "start_time": "2023-01-27T12:54:22.548Z"
   },
   {
    "duration": 11,
    "start_time": "2023-01-27T12:54:29.265Z"
   },
   {
    "duration": 7,
    "start_time": "2023-01-27T12:55:08.610Z"
   },
   {
    "duration": 5,
    "start_time": "2023-01-27T12:55:13.373Z"
   },
   {
    "duration": 11,
    "start_time": "2023-01-27T12:55:18.467Z"
   },
   {
    "duration": 13,
    "start_time": "2023-01-27T12:55:25.846Z"
   },
   {
    "duration": 9,
    "start_time": "2023-01-27T12:56:59.361Z"
   },
   {
    "duration": 202,
    "start_time": "2023-01-27T12:58:33.987Z"
   },
   {
    "duration": 174,
    "start_time": "2023-01-27T15:31:23.809Z"
   },
   {
    "duration": 55,
    "start_time": "2023-01-27T16:00:41.538Z"
   },
   {
    "duration": 56,
    "start_time": "2023-01-27T16:01:36.406Z"
   },
   {
    "duration": 50,
    "start_time": "2023-01-27T16:01:49.517Z"
   },
   {
    "duration": 9,
    "start_time": "2023-01-27T16:02:36.848Z"
   },
   {
    "duration": 1002,
    "start_time": "2023-01-27T16:02:54.564Z"
   },
   {
    "duration": 76,
    "start_time": "2023-01-28T13:08:31.748Z"
   },
   {
    "duration": 5,
    "start_time": "2023-01-28T13:08:35.060Z"
   },
   {
    "duration": 18,
    "start_time": "2023-01-28T13:08:36.851Z"
   },
   {
    "duration": 4,
    "start_time": "2023-01-28T13:08:39.310Z"
   },
   {
    "duration": 19,
    "start_time": "2023-01-28T13:08:41.905Z"
   },
   {
    "duration": 33,
    "start_time": "2023-01-28T13:08:44.036Z"
   },
   {
    "duration": 35,
    "start_time": "2023-01-28T13:08:48.403Z"
   },
   {
    "duration": 76,
    "start_time": "2023-01-28T14:10:52.143Z"
   },
   {
    "duration": 4,
    "start_time": "2023-01-28T14:10:53.115Z"
   },
   {
    "duration": 13,
    "start_time": "2023-01-28T14:10:53.629Z"
   },
   {
    "duration": 6,
    "start_time": "2023-01-28T14:10:54.474Z"
   },
   {
    "duration": 19,
    "start_time": "2023-01-28T14:10:55.657Z"
   },
   {
    "duration": 32,
    "start_time": "2023-01-28T14:10:56.179Z"
   },
   {
    "duration": 33,
    "start_time": "2023-01-28T14:10:57.869Z"
   },
   {
    "duration": 18,
    "start_time": "2023-01-28T14:10:59.280Z"
   },
   {
    "duration": 21,
    "start_time": "2023-01-28T14:11:00.145Z"
   },
   {
    "duration": 16,
    "start_time": "2023-01-28T14:11:02.086Z"
   },
   {
    "duration": 967,
    "start_time": "2023-01-28T14:14:08.650Z"
   },
   {
    "duration": 735,
    "start_time": "2023-01-28T14:14:09.619Z"
   },
   {
    "duration": 20,
    "start_time": "2023-01-28T16:28:39.632Z"
   },
   {
    "duration": 18,
    "start_time": "2023-01-28T16:29:14.624Z"
   },
   {
    "duration": 437,
    "start_time": "2023-01-28T16:29:21.797Z"
   },
   {
    "duration": 226,
    "start_time": "2023-01-28T16:29:36.737Z"
   },
   {
    "duration": 418,
    "start_time": "2023-01-28T16:29:45.140Z"
   },
   {
    "duration": 7,
    "start_time": "2023-01-28T16:31:10.597Z"
   },
   {
    "duration": 5,
    "start_time": "2023-01-28T16:33:57.432Z"
   },
   {
    "duration": 12,
    "start_time": "2023-01-28T16:33:58.548Z"
   },
   {
    "duration": 8,
    "start_time": "2023-01-28T16:33:58.975Z"
   },
   {
    "duration": 9,
    "start_time": "2023-01-28T16:33:59.223Z"
   },
   {
    "duration": 19,
    "start_time": "2023-01-28T16:33:59.532Z"
   },
   {
    "duration": 35,
    "start_time": "2023-01-28T16:34:00.250Z"
   },
   {
    "duration": 6,
    "start_time": "2023-01-28T16:34:01.348Z"
   },
   {
    "duration": 3,
    "start_time": "2023-01-28T16:34:02.256Z"
   },
   {
    "duration": 8,
    "start_time": "2023-01-28T16:34:02.455Z"
   },
   {
    "duration": 7,
    "start_time": "2023-01-28T16:34:02.831Z"
   },
   {
    "duration": 6,
    "start_time": "2023-01-28T16:34:04.064Z"
   },
   {
    "duration": 8,
    "start_time": "2023-01-28T16:34:04.309Z"
   },
   {
    "duration": 17,
    "start_time": "2023-01-28T16:34:04.732Z"
   },
   {
    "duration": 6,
    "start_time": "2023-01-28T16:34:06.585Z"
   },
   {
    "duration": 8,
    "start_time": "2023-01-28T16:34:07.225Z"
   },
   {
    "duration": 6,
    "start_time": "2023-01-28T16:34:09.013Z"
   },
   {
    "duration": 15,
    "start_time": "2023-01-28T16:34:09.793Z"
   },
   {
    "duration": 9,
    "start_time": "2023-01-28T16:34:10.273Z"
   },
   {
    "duration": 6,
    "start_time": "2023-01-28T16:34:12.094Z"
   },
   {
    "duration": 6,
    "start_time": "2023-01-28T16:34:13.510Z"
   },
   {
    "duration": 18,
    "start_time": "2023-01-28T16:34:42.864Z"
   },
   {
    "duration": 5,
    "start_time": "2023-01-28T16:34:43.658Z"
   },
   {
    "duration": 4,
    "start_time": "2023-01-28T16:34:45.025Z"
   },
   {
    "duration": 18,
    "start_time": "2023-01-28T16:34:53.004Z"
   },
   {
    "duration": 7,
    "start_time": "2023-01-28T16:34:54.515Z"
   },
   {
    "duration": 5,
    "start_time": "2023-01-28T16:35:00.765Z"
   },
   {
    "duration": 6,
    "start_time": "2023-01-28T16:35:01.347Z"
   },
   {
    "duration": 5,
    "start_time": "2023-01-28T16:35:03.635Z"
   },
   {
    "duration": 8,
    "start_time": "2023-01-28T16:35:05.014Z"
   },
   {
    "duration": 18,
    "start_time": "2023-01-28T16:35:06.044Z"
   },
   {
    "duration": 4,
    "start_time": "2023-01-28T16:37:49.591Z"
   },
   {
    "duration": 7,
    "start_time": "2023-01-28T16:38:01.047Z"
   },
   {
    "duration": 9,
    "start_time": "2023-01-28T16:40:12.092Z"
   },
   {
    "duration": 1234,
    "start_time": "2023-01-28T16:41:02.810Z"
   },
   {
    "duration": 6,
    "start_time": "2023-01-28T16:41:29.372Z"
   },
   {
    "duration": 4,
    "start_time": "2023-01-28T16:41:35.637Z"
   },
   {
    "duration": 5,
    "start_time": "2023-01-28T16:43:57.349Z"
   },
   {
    "duration": 530,
    "start_time": "2023-01-28T16:44:51.088Z"
   },
   {
    "duration": 5,
    "start_time": "2023-01-28T16:45:10.886Z"
   },
   {
    "duration": 24,
    "start_time": "2023-01-28T16:45:21.116Z"
   },
   {
    "duration": 11,
    "start_time": "2023-01-28T16:45:23.580Z"
   },
   {
    "duration": 6,
    "start_time": "2023-01-28T16:45:24.299Z"
   },
   {
    "duration": 4,
    "start_time": "2023-01-28T16:45:25.254Z"
   },
   {
    "duration": 22,
    "start_time": "2023-01-28T16:45:27.311Z"
   },
   {
    "duration": 5,
    "start_time": "2023-01-28T16:45:37.173Z"
   },
   {
    "duration": 6,
    "start_time": "2023-01-28T16:45:42.488Z"
   },
   {
    "duration": 5,
    "start_time": "2023-01-28T16:45:56.959Z"
   },
   {
    "duration": 10,
    "start_time": "2023-01-28T16:46:03.890Z"
   },
   {
    "duration": 9,
    "start_time": "2023-01-28T16:46:04.460Z"
   },
   {
    "duration": 10,
    "start_time": "2023-01-28T16:46:16.202Z"
   },
   {
    "duration": 6,
    "start_time": "2023-01-28T16:46:16.506Z"
   },
   {
    "duration": 5,
    "start_time": "2023-01-28T16:46:17.787Z"
   },
   {
    "duration": 5,
    "start_time": "2023-01-28T16:46:18.294Z"
   },
   {
    "duration": 11,
    "start_time": "2023-01-28T16:46:30.756Z"
   },
   {
    "duration": 5,
    "start_time": "2023-01-28T16:46:31.622Z"
   },
   {
    "duration": 5,
    "start_time": "2023-01-28T16:46:32.303Z"
   },
   {
    "duration": 5,
    "start_time": "2023-01-28T16:46:34.035Z"
   },
   {
    "duration": 1749,
    "start_time": "2023-01-28T16:46:43.617Z"
   },
   {
    "duration": 7,
    "start_time": "2023-01-28T16:46:45.368Z"
   },
   {
    "duration": 26,
    "start_time": "2023-01-28T16:46:45.376Z"
   },
   {
    "duration": 5,
    "start_time": "2023-01-28T16:46:45.405Z"
   },
   {
    "duration": 21,
    "start_time": "2023-01-28T16:46:45.420Z"
   },
   {
    "duration": 38,
    "start_time": "2023-01-28T16:46:45.443Z"
   },
   {
    "duration": 69,
    "start_time": "2023-01-28T16:46:45.483Z"
   },
   {
    "duration": 69,
    "start_time": "2023-01-28T16:46:45.554Z"
   },
   {
    "duration": 19,
    "start_time": "2023-01-28T16:46:45.624Z"
   },
   {
    "duration": 19,
    "start_time": "2023-01-28T16:46:45.646Z"
   },
   {
    "duration": 709,
    "start_time": "2023-01-28T16:46:45.667Z"
   },
   {
    "duration": 791,
    "start_time": "2023-01-28T16:46:46.378Z"
   },
   {
    "duration": 449,
    "start_time": "2023-01-28T16:46:47.171Z"
   },
   {
    "duration": 7,
    "start_time": "2023-01-28T16:46:47.622Z"
   },
   {
    "duration": 14,
    "start_time": "2023-01-28T16:46:47.630Z"
   },
   {
    "duration": 11,
    "start_time": "2023-01-28T16:46:47.646Z"
   },
   {
    "duration": 9,
    "start_time": "2023-01-28T16:46:47.659Z"
   },
   {
    "duration": 17,
    "start_time": "2023-01-28T16:46:47.669Z"
   },
   {
    "duration": 50,
    "start_time": "2023-01-28T16:46:47.689Z"
   },
   {
    "duration": 38,
    "start_time": "2023-01-28T16:46:47.742Z"
   },
   {
    "duration": 7,
    "start_time": "2023-01-28T16:46:47.781Z"
   },
   {
    "duration": 4,
    "start_time": "2023-01-28T16:46:47.790Z"
   },
   {
    "duration": 32,
    "start_time": "2023-01-28T16:46:47.796Z"
   },
   {
    "duration": 11,
    "start_time": "2023-01-28T16:46:47.829Z"
   },
   {
    "duration": 8,
    "start_time": "2023-01-28T16:46:47.841Z"
   },
   {
    "duration": 12,
    "start_time": "2023-01-28T16:46:47.851Z"
   },
   {
    "duration": 22,
    "start_time": "2023-01-28T16:46:47.864Z"
   },
   {
    "duration": 6,
    "start_time": "2023-01-28T16:46:47.890Z"
   },
   {
    "duration": 29,
    "start_time": "2023-01-28T16:46:47.898Z"
   },
   {
    "duration": 15,
    "start_time": "2023-01-28T16:46:47.928Z"
   },
   {
    "duration": 14,
    "start_time": "2023-01-28T16:46:47.944Z"
   },
   {
    "duration": 10,
    "start_time": "2023-01-28T16:46:47.960Z"
   },
   {
    "duration": 7,
    "start_time": "2023-01-28T16:46:47.972Z"
   },
   {
    "duration": 8,
    "start_time": "2023-01-28T16:46:47.980Z"
   },
   {
    "duration": 47,
    "start_time": "2023-01-28T16:46:47.989Z"
   },
   {
    "duration": 5,
    "start_time": "2023-01-28T16:46:48.037Z"
   },
   {
    "duration": 9,
    "start_time": "2023-01-28T16:46:48.043Z"
   },
   {
    "duration": 23,
    "start_time": "2023-01-28T16:46:48.053Z"
   },
   {
    "duration": 9,
    "start_time": "2023-01-28T16:46:48.078Z"
   },
   {
    "duration": 6,
    "start_time": "2023-01-28T16:46:48.089Z"
   },
   {
    "duration": 26,
    "start_time": "2023-01-28T16:46:48.097Z"
   },
   {
    "duration": 7,
    "start_time": "2023-01-28T16:46:48.125Z"
   },
   {
    "duration": 10,
    "start_time": "2023-01-28T16:46:48.134Z"
   },
   {
    "duration": 19,
    "start_time": "2023-01-28T16:46:48.146Z"
   },
   {
    "duration": 8,
    "start_time": "2023-01-28T16:46:48.167Z"
   },
   {
    "duration": 9,
    "start_time": "2023-01-28T16:46:48.176Z"
   },
   {
    "duration": 40,
    "start_time": "2023-01-28T16:46:48.187Z"
   },
   {
    "duration": 7,
    "start_time": "2023-01-28T16:46:48.230Z"
   },
   {
    "duration": 6,
    "start_time": "2023-01-28T16:46:48.239Z"
   },
   {
    "duration": 8,
    "start_time": "2023-01-28T16:46:48.247Z"
   },
   {
    "duration": 9,
    "start_time": "2023-01-28T16:46:48.257Z"
   },
   {
    "duration": 850,
    "start_time": "2023-01-28T16:46:48.268Z"
   },
   {
    "duration": 9,
    "start_time": "2023-01-28T16:46:49.121Z"
   },
   {
    "duration": 18,
    "start_time": "2023-01-28T16:46:49.132Z"
   },
   {
    "duration": 11,
    "start_time": "2023-01-28T16:46:49.151Z"
   },
   {
    "duration": 10,
    "start_time": "2023-01-28T16:46:49.164Z"
   },
   {
    "duration": 13,
    "start_time": "2023-01-28T16:46:49.175Z"
   },
   {
    "duration": 354,
    "start_time": "2023-01-28T16:46:49.190Z"
   },
   {
    "duration": 422,
    "start_time": "2023-01-28T16:46:49.545Z"
   },
   {
    "duration": 12,
    "start_time": "2023-01-28T16:46:49.969Z"
   },
   {
    "duration": 12,
    "start_time": "2023-01-28T16:46:49.983Z"
   },
   {
    "duration": 30,
    "start_time": "2023-01-28T16:46:49.996Z"
   },
   {
    "duration": 16,
    "start_time": "2023-01-28T16:46:50.027Z"
   },
   {
    "duration": 17,
    "start_time": "2023-01-28T16:46:50.045Z"
   },
   {
    "duration": 15,
    "start_time": "2023-01-28T16:46:50.064Z"
   },
   {
    "duration": 11,
    "start_time": "2023-01-28T16:46:50.081Z"
   },
   {
    "duration": 17,
    "start_time": "2023-01-28T16:46:50.121Z"
   },
   {
    "duration": 11,
    "start_time": "2023-01-28T16:46:50.140Z"
   },
   {
    "duration": 14,
    "start_time": "2023-01-28T16:46:50.152Z"
   },
   {
    "duration": 14,
    "start_time": "2023-01-28T16:46:50.168Z"
   },
   {
    "duration": 50,
    "start_time": "2023-01-28T16:46:50.183Z"
   },
   {
    "duration": 11,
    "start_time": "2023-01-28T16:46:50.235Z"
   },
   {
    "duration": 16,
    "start_time": "2023-01-28T16:46:50.247Z"
   },
   {
    "duration": 11,
    "start_time": "2023-01-28T16:46:50.265Z"
   },
   {
    "duration": 54,
    "start_time": "2023-01-28T16:46:50.279Z"
   },
   {
    "duration": 21,
    "start_time": "2023-01-28T16:46:50.335Z"
   },
   {
    "duration": 21,
    "start_time": "2023-01-28T16:46:50.358Z"
   },
   {
    "duration": 16,
    "start_time": "2023-01-28T16:46:50.381Z"
   },
   {
    "duration": 38,
    "start_time": "2023-01-28T16:46:50.399Z"
   },
   {
    "duration": 13,
    "start_time": "2023-01-28T16:46:50.438Z"
   },
   {
    "duration": 17,
    "start_time": "2023-01-28T16:46:50.453Z"
   },
   {
    "duration": 44,
    "start_time": "2023-01-28T16:46:50.478Z"
   },
   {
    "duration": 2348,
    "start_time": "2023-01-28T16:46:50.524Z"
   },
   {
    "duration": 26,
    "start_time": "2023-01-28T16:46:52.875Z"
   },
   {
    "duration": 4,
    "start_time": "2023-01-28T16:46:52.902Z"
   },
   {
    "duration": 15,
    "start_time": "2023-01-28T16:46:52.908Z"
   },
   {
    "duration": 3,
    "start_time": "2023-01-28T16:46:52.925Z"
   },
   {
    "duration": 17,
    "start_time": "2023-01-28T16:46:52.930Z"
   },
   {
    "duration": 24,
    "start_time": "2023-01-28T16:46:52.948Z"
   },
   {
    "duration": 19,
    "start_time": "2023-01-28T16:46:52.973Z"
   },
   {
    "duration": 39,
    "start_time": "2023-01-28T16:46:52.993Z"
   },
   {
    "duration": 5,
    "start_time": "2023-01-28T16:46:53.034Z"
   },
   {
    "duration": 863,
    "start_time": "2023-01-28T16:46:53.041Z"
   },
   {
    "duration": 5,
    "start_time": "2023-01-28T16:46:53.906Z"
   },
   {
    "duration": 24,
    "start_time": "2023-01-28T16:46:53.912Z"
   },
   {
    "duration": 7,
    "start_time": "2023-01-28T16:46:53.938Z"
   },
   {
    "duration": 21,
    "start_time": "2023-01-28T16:46:53.947Z"
   },
   {
    "duration": 10,
    "start_time": "2023-01-28T16:46:53.971Z"
   },
   {
    "duration": 16,
    "start_time": "2023-01-28T16:46:53.983Z"
   },
   {
    "duration": 43,
    "start_time": "2023-01-28T16:46:54.001Z"
   },
   {
    "duration": 20,
    "start_time": "2023-01-28T16:46:54.046Z"
   },
   {
    "duration": 3,
    "start_time": "2023-01-28T16:46:54.067Z"
   },
   {
    "duration": 14,
    "start_time": "2023-01-28T16:46:54.073Z"
   },
   {
    "duration": 11,
    "start_time": "2023-01-28T16:46:54.088Z"
   },
   {
    "duration": 4275,
    "start_time": "2023-01-28T16:46:54.101Z"
   },
   {
    "duration": 184,
    "start_time": "2023-01-28T16:46:58.378Z"
   },
   {
    "duration": 183,
    "start_time": "2023-01-28T16:46:58.565Z"
   },
   {
    "duration": 9,
    "start_time": "2023-01-28T16:46:58.750Z"
   },
   {
    "duration": 8,
    "start_time": "2023-01-28T16:46:58.761Z"
   },
   {
    "duration": 13,
    "start_time": "2023-01-28T16:46:58.771Z"
   },
   {
    "duration": 5,
    "start_time": "2023-01-28T16:46:58.785Z"
   },
   {
    "duration": 31,
    "start_time": "2023-01-28T16:46:58.791Z"
   },
   {
    "duration": 7,
    "start_time": "2023-01-28T16:46:58.824Z"
   },
   {
    "duration": 37,
    "start_time": "2023-01-28T16:46:58.832Z"
   },
   {
    "duration": 19132,
    "start_time": "2023-01-28T16:46:58.871Z"
   },
   {
    "duration": 277,
    "start_time": "2023-01-28T16:47:18.005Z"
   },
   {
    "duration": 212,
    "start_time": "2023-01-28T16:47:18.285Z"
   },
   {
    "duration": 38,
    "start_time": "2023-01-28T16:47:18.499Z"
   },
   {
    "duration": 11,
    "start_time": "2023-01-28T16:47:18.539Z"
   },
   {
    "duration": 827,
    "start_time": "2023-01-28T16:47:18.552Z"
   },
   {
    "duration": 0,
    "start_time": "2023-01-28T16:47:19.381Z"
   },
   {
    "duration": 0,
    "start_time": "2023-01-28T16:47:19.383Z"
   },
   {
    "duration": 0,
    "start_time": "2023-01-28T16:47:19.385Z"
   },
   {
    "duration": 0,
    "start_time": "2023-01-28T16:47:19.387Z"
   },
   {
    "duration": 0,
    "start_time": "2023-01-28T16:47:19.389Z"
   },
   {
    "duration": 1,
    "start_time": "2023-01-28T16:47:19.390Z"
   },
   {
    "duration": 0,
    "start_time": "2023-01-28T16:47:19.392Z"
   },
   {
    "duration": 0,
    "start_time": "2023-01-28T16:47:19.394Z"
   },
   {
    "duration": 0,
    "start_time": "2023-01-28T16:47:19.395Z"
   },
   {
    "duration": 0,
    "start_time": "2023-01-28T16:47:19.397Z"
   },
   {
    "duration": 0,
    "start_time": "2023-01-28T16:47:19.398Z"
   },
   {
    "duration": 0,
    "start_time": "2023-01-28T16:47:19.400Z"
   },
   {
    "duration": 0,
    "start_time": "2023-01-28T16:47:19.401Z"
   },
   {
    "duration": 0,
    "start_time": "2023-01-28T16:47:19.403Z"
   },
   {
    "duration": 0,
    "start_time": "2023-01-28T16:47:19.405Z"
   },
   {
    "duration": 0,
    "start_time": "2023-01-28T16:47:19.406Z"
   },
   {
    "duration": 0,
    "start_time": "2023-01-28T16:47:19.408Z"
   },
   {
    "duration": 0,
    "start_time": "2023-01-28T16:47:19.409Z"
   },
   {
    "duration": 0,
    "start_time": "2023-01-28T16:47:19.411Z"
   },
   {
    "duration": 0,
    "start_time": "2023-01-28T16:47:19.412Z"
   },
   {
    "duration": 0,
    "start_time": "2023-01-28T16:47:19.414Z"
   },
   {
    "duration": 0,
    "start_time": "2023-01-28T16:47:19.415Z"
   },
   {
    "duration": 0,
    "start_time": "2023-01-28T16:47:19.417Z"
   },
   {
    "duration": 0,
    "start_time": "2023-01-28T16:47:19.418Z"
   },
   {
    "duration": 0,
    "start_time": "2023-01-28T16:47:19.419Z"
   },
   {
    "duration": 0,
    "start_time": "2023-01-28T16:47:19.421Z"
   },
   {
    "duration": 0,
    "start_time": "2023-01-28T16:47:19.422Z"
   },
   {
    "duration": 0,
    "start_time": "2023-01-28T16:47:19.424Z"
   },
   {
    "duration": 0,
    "start_time": "2023-01-28T16:47:19.425Z"
   },
   {
    "duration": 0,
    "start_time": "2023-01-28T16:47:19.426Z"
   },
   {
    "duration": 80,
    "start_time": "2023-01-28T16:53:19.412Z"
   },
   {
    "duration": 4,
    "start_time": "2023-01-28T16:53:20.937Z"
   },
   {
    "duration": 14,
    "start_time": "2023-01-28T16:53:21.450Z"
   },
   {
    "duration": 5,
    "start_time": "2023-01-28T16:53:22.118Z"
   },
   {
    "duration": 19,
    "start_time": "2023-01-28T16:53:23.057Z"
   },
   {
    "duration": 33,
    "start_time": "2023-01-28T16:53:23.424Z"
   },
   {
    "duration": 36,
    "start_time": "2023-01-28T16:53:23.961Z"
   },
   {
    "duration": 22,
    "start_time": "2023-01-28T16:53:24.479Z"
   },
   {
    "duration": 17,
    "start_time": "2023-01-28T16:53:24.862Z"
   },
   {
    "duration": 16,
    "start_time": "2023-01-28T16:53:25.484Z"
   },
   {
    "duration": 752,
    "start_time": "2023-01-28T16:53:25.682Z"
   },
   {
    "duration": 728,
    "start_time": "2023-01-28T16:53:26.436Z"
   },
   {
    "duration": 430,
    "start_time": "2023-01-28T16:53:27.166Z"
   },
   {
    "duration": 6,
    "start_time": "2023-01-28T16:53:27.598Z"
   },
   {
    "duration": 6,
    "start_time": "2023-01-28T16:53:28.764Z"
   },
   {
    "duration": 14,
    "start_time": "2023-01-28T16:53:29.736Z"
   },
   {
    "duration": 8,
    "start_time": "2023-01-28T16:53:30.280Z"
   },
   {
    "duration": 9,
    "start_time": "2023-01-28T16:53:30.786Z"
   },
   {
    "duration": 17,
    "start_time": "2023-01-28T16:53:31.655Z"
   },
   {
    "duration": 33,
    "start_time": "2023-01-28T16:53:32.999Z"
   },
   {
    "duration": 7,
    "start_time": "2023-01-28T16:53:34.113Z"
   },
   {
    "duration": 4,
    "start_time": "2023-01-28T16:53:34.796Z"
   },
   {
    "duration": 9,
    "start_time": "2023-01-28T16:53:35.233Z"
   },
   {
    "duration": 10,
    "start_time": "2023-01-28T16:53:35.453Z"
   },
   {
    "duration": 6,
    "start_time": "2023-01-28T16:53:36.578Z"
   },
   {
    "duration": 7,
    "start_time": "2023-01-28T16:53:37.095Z"
   },
   {
    "duration": 16,
    "start_time": "2023-01-28T16:53:37.702Z"
   },
   {
    "duration": 6,
    "start_time": "2023-01-28T16:53:39.223Z"
   },
   {
    "duration": 8,
    "start_time": "2023-01-28T16:53:39.464Z"
   },
   {
    "duration": 7,
    "start_time": "2023-01-28T16:53:41.119Z"
   },
   {
    "duration": 14,
    "start_time": "2023-01-28T16:53:41.511Z"
   },
   {
    "duration": 9,
    "start_time": "2023-01-28T16:53:42.162Z"
   },
   {
    "duration": 7,
    "start_time": "2023-01-28T16:53:44.438Z"
   },
   {
    "duration": 9,
    "start_time": "2023-01-28T16:53:45.049Z"
   },
   {
    "duration": 18,
    "start_time": "2023-01-28T16:53:46.218Z"
   },
   {
    "duration": 5,
    "start_time": "2023-01-28T16:53:46.410Z"
   },
   {
    "duration": 5,
    "start_time": "2023-01-28T16:53:46.906Z"
   },
   {
    "duration": 25,
    "start_time": "2023-01-28T16:53:47.424Z"
   },
   {
    "duration": 5,
    "start_time": "2023-01-28T16:53:47.652Z"
   },
   {
    "duration": 5,
    "start_time": "2023-01-28T16:53:50.333Z"
   },
   {
    "duration": 7,
    "start_time": "2023-01-28T16:53:50.804Z"
   },
   {
    "duration": 4,
    "start_time": "2023-01-28T16:53:57.335Z"
   },
   {
    "duration": 8,
    "start_time": "2023-01-28T16:53:57.833Z"
   },
   {
    "duration": 7,
    "start_time": "2023-01-28T16:54:02.234Z"
   },
   {
    "duration": 5,
    "start_time": "2023-01-28T16:54:02.982Z"
   },
   {
    "duration": 20,
    "start_time": "2023-01-28T16:54:03.366Z"
   },
   {
    "duration": 9,
    "start_time": "2023-01-28T16:54:10.058Z"
   },
   {
    "duration": 7,
    "start_time": "2023-01-28T16:54:10.746Z"
   },
   {
    "duration": 10,
    "start_time": "2023-01-28T16:54:24.815Z"
   },
   {
    "duration": 7,
    "start_time": "2023-01-28T16:54:25.352Z"
   },
   {
    "duration": 6,
    "start_time": "2023-01-28T16:54:49.516Z"
   },
   {
    "duration": 3,
    "start_time": "2023-01-28T16:54:51.742Z"
   },
   {
    "duration": 7,
    "start_time": "2023-01-28T16:54:53.125Z"
   },
   {
    "duration": 930,
    "start_time": "2023-01-28T16:54:57.938Z"
   },
   {
    "duration": 12,
    "start_time": "2023-01-28T16:54:59.694Z"
   },
   {
    "duration": 24,
    "start_time": "2023-01-28T16:55:10.018Z"
   },
   {
    "duration": 5,
    "start_time": "2023-01-28T16:55:12.712Z"
   },
   {
    "duration": 6,
    "start_time": "2023-01-28T16:56:17.893Z"
   },
   {
    "duration": 19,
    "start_time": "2023-01-28T16:56:58.326Z"
   },
   {
    "duration": 9,
    "start_time": "2023-01-28T16:57:02.049Z"
   },
   {
    "duration": 13,
    "start_time": "2023-01-28T16:59:13.462Z"
   },
   {
    "duration": 13,
    "start_time": "2023-01-28T16:59:36.385Z"
   },
   {
    "duration": 15,
    "start_time": "2023-01-28T17:02:55.012Z"
   },
   {
    "duration": 36,
    "start_time": "2023-01-28T17:03:54.538Z"
   },
   {
    "duration": 16,
    "start_time": "2023-01-28T17:04:07.905Z"
   },
   {
    "duration": 10,
    "start_time": "2023-01-28T17:04:18.030Z"
   },
   {
    "duration": 9,
    "start_time": "2023-01-28T17:04:22.392Z"
   },
   {
    "duration": 10,
    "start_time": "2023-01-28T17:04:40.064Z"
   },
   {
    "duration": 9,
    "start_time": "2023-01-28T17:04:43.378Z"
   },
   {
    "duration": 15,
    "start_time": "2023-01-28T17:05:02.409Z"
   },
   {
    "duration": 14,
    "start_time": "2023-01-28T17:05:22.222Z"
   },
   {
    "duration": 29,
    "start_time": "2023-01-28T17:05:30.707Z"
   },
   {
    "duration": 17,
    "start_time": "2023-01-28T17:06:15.921Z"
   },
   {
    "duration": 4,
    "start_time": "2023-01-28T17:06:29.429Z"
   },
   {
    "duration": 17,
    "start_time": "2023-01-28T17:07:23.989Z"
   },
   {
    "duration": 7,
    "start_time": "2023-01-28T17:08:16.334Z"
   },
   {
    "duration": 7,
    "start_time": "2023-01-28T17:08:24.346Z"
   },
   {
    "duration": 5,
    "start_time": "2023-01-28T19:03:36.858Z"
   },
   {
    "duration": 15,
    "start_time": "2023-01-28T19:03:48.936Z"
   },
   {
    "duration": 37,
    "start_time": "2023-01-28T19:03:55.717Z"
   },
   {
    "duration": 5,
    "start_time": "2023-01-29T07:42:24.991Z"
   },
   {
    "duration": 73,
    "start_time": "2023-01-29T07:42:28.175Z"
   },
   {
    "duration": 4,
    "start_time": "2023-01-29T07:42:30.138Z"
   },
   {
    "duration": 12,
    "start_time": "2023-01-29T07:42:31.635Z"
   },
   {
    "duration": 5,
    "start_time": "2023-01-29T07:42:33.216Z"
   },
   {
    "duration": 18,
    "start_time": "2023-01-29T07:42:34.876Z"
   },
   {
    "duration": 30,
    "start_time": "2023-01-29T07:42:35.371Z"
   },
   {
    "duration": 31,
    "start_time": "2023-01-29T07:42:36.964Z"
   },
   {
    "duration": 16,
    "start_time": "2023-01-29T07:42:37.716Z"
   },
   {
    "duration": 16,
    "start_time": "2023-01-29T07:42:39.091Z"
   },
   {
    "duration": 5,
    "start_time": "2023-01-29T07:43:02.378Z"
   },
   {
    "duration": 12,
    "start_time": "2023-01-29T07:43:03.848Z"
   },
   {
    "duration": 8,
    "start_time": "2023-01-29T07:43:04.241Z"
   },
   {
    "duration": 16,
    "start_time": "2023-01-29T07:43:04.987Z"
   },
   {
    "duration": 142,
    "start_time": "2023-01-29T08:00:36.350Z"
   },
   {
    "duration": 146,
    "start_time": "2023-01-29T08:00:52.037Z"
   },
   {
    "duration": 142,
    "start_time": "2023-01-29T08:01:57.659Z"
   },
   {
    "duration": 14,
    "start_time": "2023-01-29T08:02:15.612Z"
   },
   {
    "duration": 12,
    "start_time": "2023-01-29T08:02:19.722Z"
   },
   {
    "duration": 146,
    "start_time": "2023-01-29T08:02:26.638Z"
   },
   {
    "duration": 11,
    "start_time": "2023-01-29T08:02:30.098Z"
   },
   {
    "duration": 6,
    "start_time": "2023-01-29T08:03:33.809Z"
   },
   {
    "duration": 4,
    "start_time": "2023-01-29T08:03:35.110Z"
   },
   {
    "duration": 9,
    "start_time": "2023-01-29T08:03:36.425Z"
   },
   {
    "duration": 11,
    "start_time": "2023-01-29T08:03:37.417Z"
   },
   {
    "duration": 4,
    "start_time": "2023-01-29T08:04:07.938Z"
   },
   {
    "duration": 54,
    "start_time": "2023-01-29T08:04:40.174Z"
   },
   {
    "duration": 6,
    "start_time": "2023-01-29T08:04:49.523Z"
   },
   {
    "duration": 11,
    "start_time": "2023-01-29T08:04:50.035Z"
   },
   {
    "duration": 20,
    "start_time": "2023-01-29T08:04:51.966Z"
   },
   {
    "duration": 5,
    "start_time": "2023-01-29T08:05:47.685Z"
   },
   {
    "duration": 10,
    "start_time": "2023-01-29T08:05:48.248Z"
   },
   {
    "duration": 6,
    "start_time": "2023-01-30T08:31:52.741Z"
   },
   {
    "duration": 75,
    "start_time": "2023-01-30T08:32:28.351Z"
   },
   {
    "duration": 4,
    "start_time": "2023-01-30T08:33:35.599Z"
   },
   {
    "duration": 24,
    "start_time": "2023-01-30T08:33:45.209Z"
   },
   {
    "duration": 4,
    "start_time": "2023-01-30T08:34:08.163Z"
   },
   {
    "duration": 18,
    "start_time": "2023-01-30T08:34:19.697Z"
   },
   {
    "duration": 40,
    "start_time": "2023-01-30T08:34:22.213Z"
   },
   {
    "duration": 38,
    "start_time": "2023-01-30T08:34:24.821Z"
   },
   {
    "duration": 24,
    "start_time": "2023-01-30T08:34:29.017Z"
   },
   {
    "duration": 5,
    "start_time": "2023-01-30T08:48:12.941Z"
   },
   {
    "duration": 17,
    "start_time": "2023-01-30T08:48:14.556Z"
   },
   {
    "duration": 7,
    "start_time": "2023-01-30T08:48:16.066Z"
   },
   {
    "duration": 13,
    "start_time": "2023-01-30T08:48:16.653Z"
   },
   {
    "duration": 7,
    "start_time": "2023-01-30T08:48:20.836Z"
   },
   {
    "duration": 4,
    "start_time": "2023-01-30T08:48:22.387Z"
   },
   {
    "duration": 15,
    "start_time": "2023-01-30T08:48:24.313Z"
   },
   {
    "duration": 12,
    "start_time": "2023-01-30T08:48:24.781Z"
   },
   {
    "duration": 6,
    "start_time": "2023-01-30T08:48:29.730Z"
   },
   {
    "duration": 14,
    "start_time": "2023-01-30T08:49:04.792Z"
   },
   {
    "duration": 11,
    "start_time": "2023-01-30T08:49:10.950Z"
   },
   {
    "duration": 7,
    "start_time": "2023-01-30T08:49:14.141Z"
   },
   {
    "duration": 15,
    "start_time": "2023-01-30T08:49:15.089Z"
   },
   {
    "duration": 7,
    "start_time": "2023-01-30T08:49:44.674Z"
   },
   {
    "duration": 10,
    "start_time": "2023-01-30T08:49:45.554Z"
   },
   {
    "duration": 17,
    "start_time": "2023-01-30T08:49:52.448Z"
   },
   {
    "duration": 5,
    "start_time": "2023-01-30T08:50:14.001Z"
   },
   {
    "duration": 5,
    "start_time": "2023-01-30T08:50:14.880Z"
   },
   {
    "duration": 19,
    "start_time": "2023-01-30T08:50:22.660Z"
   },
   {
    "duration": 5,
    "start_time": "2023-01-30T08:50:24.744Z"
   },
   {
    "duration": 4,
    "start_time": "2023-01-30T08:50:35.895Z"
   },
   {
    "duration": 9,
    "start_time": "2023-01-30T08:50:36.462Z"
   },
   {
    "duration": 6,
    "start_time": "2023-01-30T08:50:41.602Z"
   },
   {
    "duration": 18,
    "start_time": "2023-01-30T08:50:43.375Z"
   },
   {
    "duration": 17,
    "start_time": "2023-01-30T08:50:47.543Z"
   },
   {
    "duration": 10,
    "start_time": "2023-01-30T08:51:15.014Z"
   },
   {
    "duration": 6,
    "start_time": "2023-01-30T08:51:17.498Z"
   },
   {
    "duration": 9,
    "start_time": "2023-01-30T08:51:18.009Z"
   },
   {
    "duration": 6,
    "start_time": "2023-01-30T08:51:18.468Z"
   },
   {
    "duration": 6,
    "start_time": "2023-01-30T08:51:22.191Z"
   },
   {
    "duration": 5,
    "start_time": "2023-01-30T08:51:24.486Z"
   },
   {
    "duration": 5,
    "start_time": "2023-01-30T08:51:24.899Z"
   },
   {
    "duration": 972,
    "start_time": "2023-01-30T08:51:29.360Z"
   },
   {
    "duration": 9,
    "start_time": "2023-01-30T08:52:12.584Z"
   },
   {
    "duration": 305,
    "start_time": "2023-01-30T08:53:13.885Z"
   },
   {
    "duration": 11,
    "start_time": "2023-01-30T08:54:13.419Z"
   },
   {
    "duration": 9,
    "start_time": "2023-01-30T08:54:35.187Z"
   },
   {
    "duration": 18,
    "start_time": "2023-01-30T08:55:11.414Z"
   },
   {
    "duration": 20,
    "start_time": "2023-01-30T08:55:25.020Z"
   },
   {
    "duration": 14,
    "start_time": "2023-01-30T08:55:37.128Z"
   },
   {
    "duration": 5,
    "start_time": "2023-01-30T08:56:06.646Z"
   },
   {
    "duration": 45,
    "start_time": "2023-01-30T08:57:43.406Z"
   },
   {
    "duration": 5,
    "start_time": "2023-01-30T09:03:54.386Z"
   },
   {
    "duration": 216,
    "start_time": "2023-01-30T09:04:23.972Z"
   },
   {
    "duration": 239,
    "start_time": "2023-01-30T09:04:29.411Z"
   },
   {
    "duration": 242,
    "start_time": "2023-01-30T09:04:44.198Z"
   },
   {
    "duration": 162,
    "start_time": "2023-01-30T09:04:57.253Z"
   },
   {
    "duration": 284,
    "start_time": "2023-01-30T09:05:14.100Z"
   },
   {
    "duration": 281,
    "start_time": "2023-01-30T09:05:24.722Z"
   },
   {
    "duration": 4,
    "start_time": "2023-01-30T09:05:43.039Z"
   },
   {
    "duration": 232,
    "start_time": "2023-01-30T09:05:43.590Z"
   },
   {
    "duration": 424,
    "start_time": "2023-01-30T09:05:44.576Z"
   },
   {
    "duration": 5,
    "start_time": "2023-01-30T09:05:55.966Z"
   },
   {
    "duration": 239,
    "start_time": "2023-01-30T09:05:56.707Z"
   },
   {
    "duration": 262,
    "start_time": "2023-01-30T09:05:59.052Z"
   },
   {
    "duration": 4,
    "start_time": "2023-01-30T09:06:09.830Z"
   },
   {
    "duration": 256,
    "start_time": "2023-01-30T09:06:22.129Z"
   },
   {
    "duration": 311,
    "start_time": "2023-01-30T09:07:17.842Z"
   },
   {
    "duration": 49,
    "start_time": "2023-01-30T09:08:43.145Z"
   },
   {
    "duration": 51,
    "start_time": "2023-01-30T09:09:05.088Z"
   },
   {
    "duration": 12,
    "start_time": "2023-01-30T09:10:43.605Z"
   },
   {
    "duration": 10,
    "start_time": "2023-01-30T09:10:48.444Z"
   },
   {
    "duration": 12,
    "start_time": "2023-01-30T09:10:55.520Z"
   },
   {
    "duration": 80,
    "start_time": "2023-01-30T09:10:56.983Z"
   },
   {
    "duration": 4,
    "start_time": "2023-01-30T09:10:57.346Z"
   },
   {
    "duration": 15,
    "start_time": "2023-01-30T09:10:57.700Z"
   },
   {
    "duration": 4,
    "start_time": "2023-01-30T09:10:58.164Z"
   },
   {
    "duration": 18,
    "start_time": "2023-01-30T09:10:58.941Z"
   },
   {
    "duration": 18,
    "start_time": "2023-01-30T09:10:59.195Z"
   },
   {
    "duration": 37,
    "start_time": "2023-01-30T09:11:00.072Z"
   },
   {
    "duration": 18,
    "start_time": "2023-01-30T09:11:00.633Z"
   },
   {
    "duration": 25,
    "start_time": "2023-01-30T09:11:02.206Z"
   },
   {
    "duration": 18,
    "start_time": "2023-01-30T09:11:02.909Z"
   },
   {
    "duration": 659,
    "start_time": "2023-01-30T09:11:03.133Z"
   },
   {
    "duration": 860,
    "start_time": "2023-01-30T09:11:04.019Z"
   },
   {
    "duration": 476,
    "start_time": "2023-01-30T09:11:04.882Z"
   },
   {
    "duration": 7,
    "start_time": "2023-01-30T09:11:05.360Z"
   },
   {
    "duration": 7,
    "start_time": "2023-01-30T09:11:05.742Z"
   },
   {
    "duration": 19,
    "start_time": "2023-01-30T09:11:06.220Z"
   },
   {
    "duration": 8,
    "start_time": "2023-01-30T09:11:06.505Z"
   },
   {
    "duration": 19,
    "start_time": "2023-01-30T09:11:06.708Z"
   },
   {
    "duration": 12,
    "start_time": "2023-01-30T09:11:07.219Z"
   },
   {
    "duration": 4,
    "start_time": "2023-01-30T09:11:07.580Z"
   },
   {
    "duration": 13,
    "start_time": "2023-01-30T09:11:07.762Z"
   },
   {
    "duration": 16,
    "start_time": "2023-01-30T09:11:07.918Z"
   },
   {
    "duration": 6,
    "start_time": "2023-01-30T09:11:08.675Z"
   },
   {
    "duration": 10,
    "start_time": "2023-01-30T09:11:08.889Z"
   },
   {
    "duration": 18,
    "start_time": "2023-01-30T09:11:09.276Z"
   },
   {
    "duration": 11,
    "start_time": "2023-01-30T09:11:09.636Z"
   },
   {
    "duration": 6,
    "start_time": "2023-01-30T09:11:09.988Z"
   },
   {
    "duration": 11,
    "start_time": "2023-01-30T09:11:10.218Z"
   },
   {
    "duration": 6,
    "start_time": "2023-01-30T09:11:10.758Z"
   },
   {
    "duration": 14,
    "start_time": "2023-01-30T09:11:10.950Z"
   },
   {
    "duration": 10,
    "start_time": "2023-01-30T09:11:11.148Z"
   },
   {
    "duration": 5,
    "start_time": "2023-01-30T09:11:11.656Z"
   },
   {
    "duration": 9,
    "start_time": "2023-01-30T09:11:12.037Z"
   },
   {
    "duration": 18,
    "start_time": "2023-01-30T09:11:12.383Z"
   },
   {
    "duration": 5,
    "start_time": "2023-01-30T09:11:12.571Z"
   },
   {
    "duration": 5,
    "start_time": "2023-01-30T09:11:12.896Z"
   },
   {
    "duration": 18,
    "start_time": "2023-01-30T09:11:13.255Z"
   },
   {
    "duration": 5,
    "start_time": "2023-01-30T09:11:13.429Z"
   },
   {
    "duration": 5,
    "start_time": "2023-01-30T09:11:13.762Z"
   },
   {
    "duration": 9,
    "start_time": "2023-01-30T09:11:13.947Z"
   },
   {
    "duration": 6,
    "start_time": "2023-01-30T09:11:14.326Z"
   },
   {
    "duration": 5,
    "start_time": "2023-01-30T09:11:14.708Z"
   },
   {
    "duration": 24,
    "start_time": "2023-01-30T09:11:14.886Z"
   },
   {
    "duration": 10,
    "start_time": "2023-01-30T09:11:15.245Z"
   },
   {
    "duration": 8,
    "start_time": "2023-01-30T09:11:15.410Z"
   },
   {
    "duration": 9,
    "start_time": "2023-01-30T09:11:15.587Z"
   },
   {
    "duration": 5,
    "start_time": "2023-01-30T09:11:15.765Z"
   },
   {
    "duration": 7,
    "start_time": "2023-01-30T09:11:16.119Z"
   },
   {
    "duration": 4,
    "start_time": "2023-01-30T09:11:16.512Z"
   },
   {
    "duration": 7,
    "start_time": "2023-01-30T09:11:16.727Z"
   },
   {
    "duration": 960,
    "start_time": "2023-01-30T09:11:17.078Z"
   },
   {
    "duration": 11,
    "start_time": "2023-01-30T09:11:18.041Z"
   },
   {
    "duration": 13,
    "start_time": "2023-01-30T09:11:18.054Z"
   },
   {
    "duration": 10,
    "start_time": "2023-01-30T09:11:18.639Z"
   },
   {
    "duration": 319,
    "start_time": "2023-01-30T09:11:19.205Z"
   },
   {
    "duration": 13,
    "start_time": "2023-01-30T09:11:19.886Z"
   },
   {
    "duration": 4,
    "start_time": "2023-01-30T09:11:20.796Z"
   },
   {
    "duration": 247,
    "start_time": "2023-01-30T09:11:22.242Z"
   },
   {
    "duration": 253,
    "start_time": "2023-01-30T09:11:22.735Z"
   },
   {
    "duration": 312,
    "start_time": "2023-01-30T09:11:26.512Z"
   },
   {
    "duration": 46,
    "start_time": "2023-01-30T09:11:29.404Z"
   },
   {
    "duration": 60,
    "start_time": "2023-01-30T09:11:40.979Z"
   },
   {
    "duration": 21,
    "start_time": "2023-01-30T09:11:55.705Z"
   },
   {
    "duration": 12,
    "start_time": "2023-01-30T09:12:17.673Z"
   },
   {
    "duration": 14,
    "start_time": "2023-01-30T09:12:20.497Z"
   },
   {
    "duration": 11,
    "start_time": "2023-01-30T09:12:22.604Z"
   },
   {
    "duration": 183,
    "start_time": "2023-01-30T09:12:25.780Z"
   },
   {
    "duration": 11,
    "start_time": "2023-01-30T09:12:26.386Z"
   },
   {
    "duration": 16,
    "start_time": "2023-01-30T09:12:27.871Z"
   },
   {
    "duration": 11,
    "start_time": "2023-01-30T09:12:30.090Z"
   },
   {
    "duration": 15,
    "start_time": "2023-01-30T09:12:31.698Z"
   },
   {
    "duration": 10,
    "start_time": "2023-01-30T09:12:33.454Z"
   },
   {
    "duration": 14,
    "start_time": "2023-01-30T09:12:33.991Z"
   },
   {
    "duration": 13,
    "start_time": "2023-01-30T09:12:35.404Z"
   },
   {
    "duration": 15,
    "start_time": "2023-01-30T09:12:35.778Z"
   },
   {
    "duration": 13,
    "start_time": "2023-01-30T09:12:36.571Z"
   },
   {
    "duration": 15,
    "start_time": "2023-01-30T09:12:36.795Z"
   },
   {
    "duration": 12,
    "start_time": "2023-01-30T09:12:37.482Z"
   },
   {
    "duration": 15,
    "start_time": "2023-01-30T09:12:37.690Z"
   },
   {
    "duration": 12,
    "start_time": "2023-01-30T09:12:46.962Z"
   },
   {
    "duration": 17,
    "start_time": "2023-01-30T09:12:47.207Z"
   },
   {
    "duration": 12,
    "start_time": "2023-01-30T09:12:48.459Z"
   },
   {
    "duration": 15,
    "start_time": "2023-01-30T09:12:48.757Z"
   },
   {
    "duration": 13,
    "start_time": "2023-01-30T09:12:49.432Z"
   },
   {
    "duration": 17,
    "start_time": "2023-01-30T09:12:49.749Z"
   },
   {
    "duration": 12,
    "start_time": "2023-01-30T09:12:50.377Z"
   },
   {
    "duration": 15,
    "start_time": "2023-01-30T09:12:50.586Z"
   },
   {
    "duration": 12,
    "start_time": "2023-01-30T09:12:51.193Z"
   },
   {
    "duration": 15,
    "start_time": "2023-01-30T09:12:51.393Z"
   },
   {
    "duration": 17,
    "start_time": "2023-01-30T09:12:52.722Z"
   },
   {
    "duration": 14,
    "start_time": "2023-01-30T09:12:53.265Z"
   },
   {
    "duration": 15,
    "start_time": "2023-01-30T09:12:53.451Z"
   },
   {
    "duration": 5,
    "start_time": "2023-01-30T09:13:20.809Z"
   },
   {
    "duration": 15,
    "start_time": "2023-01-30T09:13:21.329Z"
   },
   {
    "duration": 15,
    "start_time": "2023-01-30T09:13:22.325Z"
   },
   {
    "duration": 17,
    "start_time": "2023-01-30T09:13:23.713Z"
   },
   {
    "duration": 21,
    "start_time": "2023-01-30T09:14:06.156Z"
   },
   {
    "duration": 4,
    "start_time": "2023-01-30T09:14:09.517Z"
   },
   {
    "duration": 17,
    "start_time": "2023-01-30T09:14:12.336Z"
   },
   {
    "duration": 4,
    "start_time": "2023-01-30T09:14:13.553Z"
   },
   {
    "duration": 10,
    "start_time": "2023-01-30T09:14:26.520Z"
   },
   {
    "duration": 20,
    "start_time": "2023-01-30T09:14:27.472Z"
   },
   {
    "duration": 20,
    "start_time": "2023-01-30T09:14:32.173Z"
   },
   {
    "duration": 18,
    "start_time": "2023-01-30T09:14:35.757Z"
   },
   {
    "duration": 21,
    "start_time": "2023-01-30T09:14:38.205Z"
   },
   {
    "duration": 6,
    "start_time": "2023-01-30T09:14:40.295Z"
   },
   {
    "duration": 13,
    "start_time": "2023-01-30T09:14:46.116Z"
   },
   {
    "duration": 7,
    "start_time": "2023-01-30T09:16:13.829Z"
   },
   {
    "duration": 6,
    "start_time": "2023-01-30T09:16:15.567Z"
   },
   {
    "duration": 12,
    "start_time": "2023-01-30T09:16:17.536Z"
   },
   {
    "duration": 13,
    "start_time": "2023-01-30T09:16:31.784Z"
   },
   {
    "duration": 10,
    "start_time": "2023-01-30T09:16:32.501Z"
   },
   {
    "duration": 10,
    "start_time": "2023-01-30T09:16:33.262Z"
   },
   {
    "duration": 30,
    "start_time": "2023-01-30T09:16:40.060Z"
   },
   {
    "duration": 14,
    "start_time": "2023-01-30T09:16:41.185Z"
   },
   {
    "duration": 3,
    "start_time": "2023-01-30T09:16:46.444Z"
   },
   {
    "duration": 4,
    "start_time": "2023-01-30T09:16:47.394Z"
   },
   {
    "duration": 6,
    "start_time": "2023-01-30T09:17:24.549Z"
   },
   {
    "duration": 3,
    "start_time": "2023-01-30T09:17:25.118Z"
   },
   {
    "duration": 4859,
    "start_time": "2023-01-30T09:17:27.318Z"
   },
   {
    "duration": 4,
    "start_time": "2023-01-30T09:58:17.137Z"
   },
   {
    "duration": 23,
    "start_time": "2023-01-30T09:58:43.387Z"
   },
   {
    "duration": 3,
    "start_time": "2023-01-30T09:59:50.898Z"
   },
   {
    "duration": 17,
    "start_time": "2023-01-30T09:59:52.669Z"
   },
   {
    "duration": 5,
    "start_time": "2023-01-30T10:00:18.145Z"
   },
   {
    "duration": 4,
    "start_time": "2023-01-30T10:00:29.526Z"
   },
   {
    "duration": 21,
    "start_time": "2023-01-30T10:00:31.388Z"
   },
   {
    "duration": 39,
    "start_time": "2023-01-30T10:01:14.530Z"
   },
   {
    "duration": 143,
    "start_time": "2023-01-30T10:01:48.917Z"
   },
   {
    "duration": 190,
    "start_time": "2023-01-30T10:01:57.115Z"
   },
   {
    "duration": 3,
    "start_time": "2023-01-30T10:03:19.538Z"
   },
   {
    "duration": 4833,
    "start_time": "2023-01-30T10:03:20.127Z"
   },
   {
    "duration": 197,
    "start_time": "2023-01-30T10:04:01.465Z"
   },
   {
    "duration": 167,
    "start_time": "2023-01-30T10:04:02.440Z"
   },
   {
    "duration": 11,
    "start_time": "2023-01-30T10:04:34.132Z"
   },
   {
    "duration": 19,
    "start_time": "2023-01-30T10:04:46.764Z"
   },
   {
    "duration": 3,
    "start_time": "2023-01-30T10:04:58.889Z"
   },
   {
    "duration": 14,
    "start_time": "2023-01-30T10:05:03.757Z"
   },
   {
    "duration": 18,
    "start_time": "2023-01-30T10:08:42.476Z"
   },
   {
    "duration": 7,
    "start_time": "2023-01-30T10:10:14.127Z"
   },
   {
    "duration": 6,
    "start_time": "2023-01-30T10:10:19.893Z"
   },
   {
    "duration": 8,
    "start_time": "2023-01-30T10:10:31.135Z"
   },
   {
    "duration": 6,
    "start_time": "2023-01-30T10:10:57.984Z"
   },
   {
    "duration": 4,
    "start_time": "2023-01-30T10:11:09.752Z"
   },
   {
    "duration": 11,
    "start_time": "2023-01-30T10:11:29.404Z"
   },
   {
    "duration": 16,
    "start_time": "2023-01-30T10:11:30.837Z"
   },
   {
    "duration": 16,
    "start_time": "2023-01-30T10:11:32.671Z"
   },
   {
    "duration": 5,
    "start_time": "2023-01-30T10:11:43.099Z"
   },
   {
    "duration": 5,
    "start_time": "2023-01-30T10:12:00.594Z"
   },
   {
    "duration": 6,
    "start_time": "2023-01-30T10:12:06.640Z"
   },
   {
    "duration": 178,
    "start_time": "2023-01-30T10:12:10.321Z"
   },
   {
    "duration": 6,
    "start_time": "2023-01-30T10:12:20.452Z"
   },
   {
    "duration": 7,
    "start_time": "2023-01-30T10:12:27.958Z"
   },
   {
    "duration": 11,
    "start_time": "2023-01-30T10:12:31.741Z"
   },
   {
    "duration": 16,
    "start_time": "2023-01-30T10:12:32.247Z"
   },
   {
    "duration": 18,
    "start_time": "2023-01-30T10:12:32.873Z"
   },
   {
    "duration": 183,
    "start_time": "2023-01-30T10:12:33.861Z"
   },
   {
    "duration": 6,
    "start_time": "2023-01-30T10:12:36.305Z"
   },
   {
    "duration": 6,
    "start_time": "2023-01-30T10:12:43.061Z"
   },
   {
    "duration": 4,
    "start_time": "2023-01-30T10:12:59.157Z"
   },
   {
    "duration": 6,
    "start_time": "2023-01-30T10:13:02.945Z"
   },
   {
    "duration": 6,
    "start_time": "2023-01-30T10:13:05.707Z"
   },
   {
    "duration": 16,
    "start_time": "2023-01-30T10:13:20.444Z"
   },
   {
    "duration": 13,
    "start_time": "2023-01-30T10:13:51.539Z"
   },
   {
    "duration": 5,
    "start_time": "2023-01-30T10:14:04.388Z"
   },
   {
    "duration": 4,
    "start_time": "2023-01-30T10:15:22.605Z"
   },
   {
    "duration": 3,
    "start_time": "2023-01-30T10:15:44.442Z"
   },
   {
    "duration": 39,
    "start_time": "2023-01-30T10:15:47.910Z"
   },
   {
    "duration": 24423,
    "start_time": "2023-01-30T10:16:13.807Z"
   },
   {
    "duration": 22252,
    "start_time": "2023-01-30T10:16:43.421Z"
   },
   {
    "duration": 215,
    "start_time": "2023-01-30T10:17:50.767Z"
   },
   {
    "duration": 181,
    "start_time": "2023-01-30T10:17:53.679Z"
   },
   {
    "duration": 22,
    "start_time": "2023-01-30T10:18:06.345Z"
   },
   {
    "duration": 150,
    "start_time": "2023-01-30T10:18:41.507Z"
   },
   {
    "duration": 9,
    "start_time": "2023-01-30T10:19:13.572Z"
   },
   {
    "duration": 6,
    "start_time": "2023-01-30T10:19:30.460Z"
   },
   {
    "duration": 6,
    "start_time": "2023-01-30T10:19:33.395Z"
   },
   {
    "duration": 11,
    "start_time": "2023-01-30T10:20:00.407Z"
   },
   {
    "duration": 4,
    "start_time": "2023-01-30T10:20:27.314Z"
   },
   {
    "duration": 13,
    "start_time": "2023-01-30T10:20:29.937Z"
   },
   {
    "duration": 838,
    "start_time": "2023-01-30T10:20:51.356Z"
   },
   {
    "duration": 9,
    "start_time": "2023-01-30T10:20:59.933Z"
   },
   {
    "duration": 14,
    "start_time": "2023-01-30T10:21:29.037Z"
   },
   {
    "duration": 4,
    "start_time": "2023-01-30T12:50:32.021Z"
   },
   {
    "duration": 76,
    "start_time": "2023-01-30T12:50:33.533Z"
   },
   {
    "duration": 5,
    "start_time": "2023-01-30T12:50:34.581Z"
   },
   {
    "duration": 4,
    "start_time": "2023-01-30T12:51:31.913Z"
   },
   {
    "duration": 74,
    "start_time": "2023-01-30T12:51:33.798Z"
   },
   {
    "duration": 4,
    "start_time": "2023-01-30T12:51:34.670Z"
   },
   {
    "duration": 13,
    "start_time": "2023-01-30T12:51:35.613Z"
   },
   {
    "duration": 5,
    "start_time": "2023-01-30T12:51:36.946Z"
   },
   {
    "duration": 21,
    "start_time": "2023-01-30T12:51:38.617Z"
   },
   {
    "duration": 17,
    "start_time": "2023-01-30T12:51:39.309Z"
   },
   {
    "duration": 40,
    "start_time": "2023-01-30T12:52:14.601Z"
   },
   {
    "duration": 35,
    "start_time": "2023-01-30T12:52:15.975Z"
   },
   {
    "duration": 17,
    "start_time": "2023-01-30T12:52:16.946Z"
   },
   {
    "duration": 17,
    "start_time": "2023-01-30T12:52:17.479Z"
   },
   {
    "duration": 15,
    "start_time": "2023-01-30T12:52:18.561Z"
   },
   {
    "duration": 650,
    "start_time": "2023-01-30T12:52:18.819Z"
   },
   {
    "duration": 752,
    "start_time": "2023-01-30T12:52:19.947Z"
   },
   {
    "duration": 420,
    "start_time": "2023-01-30T12:52:20.701Z"
   },
   {
    "duration": 6,
    "start_time": "2023-01-30T12:52:21.123Z"
   },
   {
    "duration": 6,
    "start_time": "2023-01-30T12:52:28.226Z"
   },
   {
    "duration": 13,
    "start_time": "2023-01-30T12:52:28.578Z"
   },
   {
    "duration": 8,
    "start_time": "2023-01-30T12:52:28.983Z"
   },
   {
    "duration": 13,
    "start_time": "2023-01-30T12:52:29.337Z"
   },
   {
    "duration": 7,
    "start_time": "2023-01-30T12:52:30.258Z"
   },
   {
    "duration": 4,
    "start_time": "2023-01-30T12:52:30.845Z"
   },
   {
    "duration": 9,
    "start_time": "2023-01-30T12:52:31.182Z"
   },
   {
    "duration": 12,
    "start_time": "2023-01-30T12:52:31.462Z"
   },
   {
    "duration": 5,
    "start_time": "2023-01-30T12:52:32.480Z"
   },
   {
    "duration": 11,
    "start_time": "2023-01-30T12:52:32.749Z"
   },
   {
    "duration": 17,
    "start_time": "2023-01-30T12:52:33.409Z"
   },
   {
    "duration": 10,
    "start_time": "2023-01-30T12:52:33.956Z"
   },
   {
    "duration": 7,
    "start_time": "2023-01-30T12:52:34.903Z"
   },
   {
    "duration": 11,
    "start_time": "2023-01-30T12:52:35.363Z"
   },
   {
    "duration": 6,
    "start_time": "2023-01-30T12:52:36.225Z"
   },
   {
    "duration": 15,
    "start_time": "2023-01-30T12:52:36.484Z"
   },
   {
    "duration": 10,
    "start_time": "2023-01-30T12:52:36.795Z"
   },
   {
    "duration": 5,
    "start_time": "2023-01-30T12:52:37.904Z"
   },
   {
    "duration": 9,
    "start_time": "2023-01-30T12:52:38.577Z"
   },
   {
    "duration": 17,
    "start_time": "2023-01-30T12:52:39.531Z"
   },
   {
    "duration": 4,
    "start_time": "2023-01-30T12:52:39.857Z"
   },
   {
    "duration": 4,
    "start_time": "2023-01-30T12:52:40.588Z"
   },
   {
    "duration": 17,
    "start_time": "2023-01-30T12:52:41.114Z"
   },
   {
    "duration": 6,
    "start_time": "2023-01-30T12:52:41.474Z"
   },
   {
    "duration": 4,
    "start_time": "2023-01-30T12:52:42.745Z"
   },
   {
    "duration": 9,
    "start_time": "2023-01-30T12:52:42.989Z"
   },
   {
    "duration": 6,
    "start_time": "2023-01-30T12:52:43.418Z"
   },
   {
    "duration": 6,
    "start_time": "2023-01-30T12:52:43.874Z"
   },
   {
    "duration": 18,
    "start_time": "2023-01-30T12:52:44.134Z"
   },
   {
    "duration": 11,
    "start_time": "2023-01-30T12:52:44.583Z"
   },
   {
    "duration": 6,
    "start_time": "2023-01-30T12:52:45.026Z"
   },
   {
    "duration": 10,
    "start_time": "2023-01-30T12:52:45.315Z"
   },
   {
    "duration": 6,
    "start_time": "2023-01-30T12:52:46.453Z"
   },
   {
    "duration": 6,
    "start_time": "2023-01-30T12:52:48.932Z"
   },
   {
    "duration": 4,
    "start_time": "2023-01-30T12:52:50.074Z"
   },
   {
    "duration": 5,
    "start_time": "2023-01-30T12:52:50.558Z"
   },
   {
    "duration": 972,
    "start_time": "2023-01-30T12:52:50.992Z"
   },
   {
    "duration": 9,
    "start_time": "2023-01-30T12:52:51.966Z"
   },
   {
    "duration": 10,
    "start_time": "2023-01-30T12:52:53.409Z"
   },
   {
    "duration": 9,
    "start_time": "2023-01-30T12:52:54.696Z"
   },
   {
    "duration": 352,
    "start_time": "2023-01-30T12:52:55.119Z"
   },
   {
    "duration": 14,
    "start_time": "2023-01-30T12:52:55.947Z"
   },
   {
    "duration": 4,
    "start_time": "2023-01-30T12:52:57.015Z"
   },
   {
    "duration": 237,
    "start_time": "2023-01-30T12:52:57.656Z"
   },
   {
    "duration": 257,
    "start_time": "2023-01-30T12:52:58.197Z"
   },
   {
    "duration": 310,
    "start_time": "2023-01-30T12:53:06.849Z"
   },
   {
    "duration": 470,
    "start_time": "2023-01-30T12:53:45.928Z"
   },
   {
    "duration": 323,
    "start_time": "2023-01-30T12:53:50.047Z"
   },
   {
    "duration": 307,
    "start_time": "2023-01-30T12:53:58.988Z"
   },
   {
    "duration": 335,
    "start_time": "2023-01-30T12:54:04.164Z"
   },
   {
    "duration": 516,
    "start_time": "2023-01-30T12:54:16.033Z"
   },
   {
    "duration": 77,
    "start_time": "2023-01-30T12:55:03.016Z"
   },
   {
    "duration": 14,
    "start_time": "2023-01-30T12:55:16.397Z"
   },
   {
    "duration": 15,
    "start_time": "2023-01-30T12:55:18.350Z"
   },
   {
    "duration": 11,
    "start_time": "2023-01-30T12:55:19.876Z"
   },
   {
    "duration": 16,
    "start_time": "2023-01-30T12:55:22.186Z"
   },
   {
    "duration": 12,
    "start_time": "2023-01-30T12:55:22.900Z"
   },
   {
    "duration": 17,
    "start_time": "2023-01-30T12:55:24.043Z"
   },
   {
    "duration": 14,
    "start_time": "2023-01-30T12:55:25.935Z"
   },
   {
    "duration": 16,
    "start_time": "2023-01-30T12:55:26.911Z"
   },
   {
    "duration": 13,
    "start_time": "2023-01-30T12:55:28.914Z"
   },
   {
    "duration": 16,
    "start_time": "2023-01-30T12:55:29.408Z"
   },
   {
    "duration": 14,
    "start_time": "2023-01-30T12:55:31.028Z"
   },
   {
    "duration": 18,
    "start_time": "2023-01-30T12:55:31.633Z"
   },
   {
    "duration": 14,
    "start_time": "2023-01-30T12:55:32.529Z"
   },
   {
    "duration": 29,
    "start_time": "2023-01-30T12:55:32.736Z"
   },
   {
    "duration": 14,
    "start_time": "2023-01-30T12:55:33.585Z"
   },
   {
    "duration": 17,
    "start_time": "2023-01-30T12:55:33.824Z"
   },
   {
    "duration": 19,
    "start_time": "2023-01-30T12:55:35.918Z"
   },
   {
    "duration": 13,
    "start_time": "2023-01-30T12:55:36.417Z"
   },
   {
    "duration": 17,
    "start_time": "2023-01-30T12:55:36.670Z"
   },
   {
    "duration": 5,
    "start_time": "2023-01-30T12:55:38.573Z"
   },
   {
    "duration": 15,
    "start_time": "2023-01-30T12:55:38.938Z"
   },
   {
    "duration": 14,
    "start_time": "2023-01-30T12:55:39.521Z"
   },
   {
    "duration": 16,
    "start_time": "2023-01-30T12:55:39.880Z"
   },
   {
    "duration": 5,
    "start_time": "2023-01-30T12:56:21.413Z"
   },
   {
    "duration": 25,
    "start_time": "2023-01-30T12:56:57.907Z"
   },
   {
    "duration": 17,
    "start_time": "2023-01-30T12:57:50.071Z"
   },
   {
    "duration": 33,
    "start_time": "2023-01-30T12:57:55.910Z"
   },
   {
    "duration": 12,
    "start_time": "2023-01-30T12:58:06.645Z"
   },
   {
    "duration": 5,
    "start_time": "2023-01-30T13:06:23.152Z"
   },
   {
    "duration": 20,
    "start_time": "2023-01-30T13:10:28.232Z"
   },
   {
    "duration": 18,
    "start_time": "2023-01-30T13:10:58.950Z"
   },
   {
    "duration": 21,
    "start_time": "2023-01-30T13:11:51.845Z"
   },
   {
    "duration": 6,
    "start_time": "2023-01-30T13:11:52.580Z"
   },
   {
    "duration": 5,
    "start_time": "2023-01-30T13:13:01.209Z"
   },
   {
    "duration": 4,
    "start_time": "2023-01-30T13:13:55.008Z"
   },
   {
    "duration": 3,
    "start_time": "2023-01-30T13:13:57.101Z"
   },
   {
    "duration": 13,
    "start_time": "2023-01-30T13:15:55.329Z"
   },
   {
    "duration": 8,
    "start_time": "2023-01-30T13:16:04.036Z"
   },
   {
    "duration": 12,
    "start_time": "2023-01-30T13:16:47.393Z"
   },
   {
    "duration": 7,
    "start_time": "2023-01-30T13:16:50.454Z"
   },
   {
    "duration": 4,
    "start_time": "2023-01-30T13:16:51.920Z"
   },
   {
    "duration": 13,
    "start_time": "2023-01-30T13:18:15.212Z"
   },
   {
    "duration": 58,
    "start_time": "2023-01-30T13:18:26.182Z"
   },
   {
    "duration": 49,
    "start_time": "2023-01-30T13:19:17.000Z"
   },
   {
    "duration": 4,
    "start_time": "2023-01-30T13:19:37.791Z"
   },
   {
    "duration": 9,
    "start_time": "2023-01-30T13:19:43.537Z"
   },
   {
    "duration": 11,
    "start_time": "2023-01-30T13:19:50.981Z"
   },
   {
    "duration": 11,
    "start_time": "2023-01-30T13:19:52.963Z"
   },
   {
    "duration": 20,
    "start_time": "2023-01-30T13:20:02.048Z"
   },
   {
    "duration": 6,
    "start_time": "2023-01-30T14:00:00.743Z"
   },
   {
    "duration": 7,
    "start_time": "2023-01-30T14:00:04.850Z"
   },
   {
    "duration": 6,
    "start_time": "2023-01-30T14:00:10.551Z"
   },
   {
    "duration": 6,
    "start_time": "2023-01-30T14:00:16.857Z"
   },
   {
    "duration": 8,
    "start_time": "2023-01-30T14:00:20.469Z"
   },
   {
    "duration": 6,
    "start_time": "2023-01-30T14:00:23.166Z"
   },
   {
    "duration": 7,
    "start_time": "2023-01-30T14:00:26.440Z"
   },
   {
    "duration": 6,
    "start_time": "2023-01-30T14:01:09.412Z"
   },
   {
    "duration": 9,
    "start_time": "2023-01-30T14:01:16.923Z"
   },
   {
    "duration": 9,
    "start_time": "2023-01-30T14:01:20.097Z"
   },
   {
    "duration": 6,
    "start_time": "2023-01-30T14:01:23.372Z"
   },
   {
    "duration": 6,
    "start_time": "2023-01-30T14:01:26.095Z"
   },
   {
    "duration": 7,
    "start_time": "2023-01-30T14:01:32.011Z"
   },
   {
    "duration": 913,
    "start_time": "2023-01-30T14:02:26.685Z"
   },
   {
    "duration": 28,
    "start_time": "2023-01-30T14:02:44.419Z"
   },
   {
    "duration": 29,
    "start_time": "2023-01-30T14:02:57.019Z"
   },
   {
    "duration": 5,
    "start_time": "2023-01-30T14:03:16.501Z"
   },
   {
    "duration": 4,
    "start_time": "2023-01-30T14:03:28.229Z"
   },
   {
    "duration": 4,
    "start_time": "2023-01-30T14:03:34.407Z"
   },
   {
    "duration": 11,
    "start_time": "2023-01-30T14:05:03.643Z"
   },
   {
    "duration": 19,
    "start_time": "2023-01-30T14:05:22.585Z"
   },
   {
    "duration": 56,
    "start_time": "2023-01-30T14:05:30.803Z"
   },
   {
    "duration": 20,
    "start_time": "2023-01-30T14:05:37.301Z"
   },
   {
    "duration": 28,
    "start_time": "2023-01-30T14:05:45.041Z"
   },
   {
    "duration": 8,
    "start_time": "2023-01-30T14:07:48.645Z"
   },
   {
    "duration": 19,
    "start_time": "2023-01-30T14:07:56.010Z"
   },
   {
    "duration": 4,
    "start_time": "2023-01-30T14:08:20.929Z"
   },
   {
    "duration": 19,
    "start_time": "2023-01-30T14:08:33.321Z"
   },
   {
    "duration": 7,
    "start_time": "2023-01-30T14:09:11.422Z"
   },
   {
    "duration": 9,
    "start_time": "2023-01-30T14:09:24.861Z"
   },
   {
    "duration": 6,
    "start_time": "2023-01-30T14:09:56.820Z"
   },
   {
    "duration": 13,
    "start_time": "2023-01-30T14:10:40.757Z"
   },
   {
    "duration": 13,
    "start_time": "2023-01-30T14:10:54.349Z"
   },
   {
    "duration": 5,
    "start_time": "2023-01-30T14:11:08.434Z"
   },
   {
    "duration": 65,
    "start_time": "2023-01-30T14:12:21.801Z"
   },
   {
    "duration": 19,
    "start_time": "2023-01-30T14:12:53.945Z"
   },
   {
    "duration": 4,
    "start_time": "2023-01-30T14:13:23.223Z"
   },
   {
    "duration": 3,
    "start_time": "2023-01-30T14:13:25.295Z"
   },
   {
    "duration": 4806,
    "start_time": "2023-01-30T14:13:27.183Z"
   },
   {
    "duration": 191,
    "start_time": "2023-01-30T14:13:49.455Z"
   },
   {
    "duration": 10,
    "start_time": "2023-01-30T14:13:57.333Z"
   },
   {
    "duration": 355,
    "start_time": "2023-01-30T14:14:16.779Z"
   },
   {
    "duration": 162,
    "start_time": "2023-01-30T14:14:28.837Z"
   },
   {
    "duration": 1686,
    "start_time": "2023-01-30T14:15:30.427Z"
   },
   {
    "duration": 81,
    "start_time": "2023-01-30T14:15:32.118Z"
   },
   {
    "duration": 4,
    "start_time": "2023-01-30T14:15:32.201Z"
   },
   {
    "duration": 29,
    "start_time": "2023-01-30T14:15:32.207Z"
   },
   {
    "duration": 6,
    "start_time": "2023-01-30T14:15:32.237Z"
   },
   {
    "duration": 24,
    "start_time": "2023-01-30T14:15:32.245Z"
   },
   {
    "duration": 55,
    "start_time": "2023-01-30T14:15:32.271Z"
   },
   {
    "duration": 50,
    "start_time": "2023-01-30T14:15:32.328Z"
   },
   {
    "duration": 83,
    "start_time": "2023-01-30T14:15:32.381Z"
   },
   {
    "duration": 25,
    "start_time": "2023-01-30T14:15:32.466Z"
   },
   {
    "duration": 34,
    "start_time": "2023-01-30T14:15:32.493Z"
   },
   {
    "duration": 682,
    "start_time": "2023-01-30T14:15:32.528Z"
   },
   {
    "duration": 888,
    "start_time": "2023-01-30T14:15:33.220Z"
   },
   {
    "duration": 508,
    "start_time": "2023-01-30T14:15:34.110Z"
   },
   {
    "duration": 8,
    "start_time": "2023-01-30T14:15:34.621Z"
   },
   {
    "duration": 45,
    "start_time": "2023-01-30T14:15:34.631Z"
   },
   {
    "duration": 44,
    "start_time": "2023-01-30T14:15:34.678Z"
   },
   {
    "duration": 44,
    "start_time": "2023-01-30T14:15:34.725Z"
   },
   {
    "duration": 26,
    "start_time": "2023-01-30T14:15:34.771Z"
   },
   {
    "duration": 42,
    "start_time": "2023-01-30T14:15:34.799Z"
   },
   {
    "duration": 34,
    "start_time": "2023-01-30T14:15:34.843Z"
   },
   {
    "duration": 56,
    "start_time": "2023-01-30T14:15:34.879Z"
   },
   {
    "duration": 39,
    "start_time": "2023-01-30T14:15:34.937Z"
   },
   {
    "duration": 45,
    "start_time": "2023-01-30T14:15:34.978Z"
   },
   {
    "duration": 54,
    "start_time": "2023-01-30T14:15:35.025Z"
   },
   {
    "duration": 58,
    "start_time": "2023-01-30T14:15:35.081Z"
   },
   {
    "duration": 40,
    "start_time": "2023-01-30T14:15:35.145Z"
   },
   {
    "duration": 31,
    "start_time": "2023-01-30T14:15:35.187Z"
   },
   {
    "duration": 37,
    "start_time": "2023-01-30T14:15:35.220Z"
   },
   {
    "duration": 36,
    "start_time": "2023-01-30T14:15:35.258Z"
   },
   {
    "duration": 43,
    "start_time": "2023-01-30T14:15:35.296Z"
   },
   {
    "duration": 36,
    "start_time": "2023-01-30T14:15:35.341Z"
   },
   {
    "duration": 15,
    "start_time": "2023-01-30T14:15:35.379Z"
   },
   {
    "duration": 47,
    "start_time": "2023-01-30T14:15:35.396Z"
   },
   {
    "duration": 46,
    "start_time": "2023-01-30T14:15:35.445Z"
   },
   {
    "duration": 33,
    "start_time": "2023-01-30T14:15:35.493Z"
   },
   {
    "duration": 28,
    "start_time": "2023-01-30T14:15:35.528Z"
   },
   {
    "duration": 37,
    "start_time": "2023-01-30T14:15:35.558Z"
   },
   {
    "duration": 39,
    "start_time": "2023-01-30T14:15:35.597Z"
   },
   {
    "duration": 27,
    "start_time": "2023-01-30T14:15:35.638Z"
   },
   {
    "duration": 47,
    "start_time": "2023-01-30T14:15:35.667Z"
   },
   {
    "duration": 45,
    "start_time": "2023-01-30T14:15:35.716Z"
   },
   {
    "duration": 19,
    "start_time": "2023-01-30T14:15:35.763Z"
   },
   {
    "duration": 22,
    "start_time": "2023-01-30T14:15:35.784Z"
   },
   {
    "duration": 45,
    "start_time": "2023-01-30T14:15:35.808Z"
   },
   {
    "duration": 19,
    "start_time": "2023-01-30T14:15:35.855Z"
   },
   {
    "duration": 43,
    "start_time": "2023-01-30T14:15:35.875Z"
   },
   {
    "duration": 30,
    "start_time": "2023-01-30T14:15:35.920Z"
   },
   {
    "duration": 41,
    "start_time": "2023-01-30T14:15:35.952Z"
   },
   {
    "duration": 40,
    "start_time": "2023-01-30T14:15:35.995Z"
   },
   {
    "duration": 31,
    "start_time": "2023-01-30T14:15:36.036Z"
   },
   {
    "duration": 920,
    "start_time": "2023-01-30T14:15:36.069Z"
   },
   {
    "duration": 9,
    "start_time": "2023-01-30T14:15:36.992Z"
   },
   {
    "duration": 30,
    "start_time": "2023-01-30T14:15:37.003Z"
   },
   {
    "duration": 51,
    "start_time": "2023-01-30T14:15:37.035Z"
   },
   {
    "duration": 358,
    "start_time": "2023-01-30T14:15:37.088Z"
   },
   {
    "duration": 14,
    "start_time": "2023-01-30T14:15:37.448Z"
   },
   {
    "duration": 6,
    "start_time": "2023-01-30T14:15:37.464Z"
   },
   {
    "duration": 245,
    "start_time": "2023-01-30T14:15:37.472Z"
   },
   {
    "duration": 389,
    "start_time": "2023-01-30T14:15:37.719Z"
   },
   {
    "duration": 471,
    "start_time": "2023-01-30T14:15:38.110Z"
   },
   {
    "duration": 79,
    "start_time": "2023-01-30T14:15:38.583Z"
   },
   {
    "duration": 13,
    "start_time": "2023-01-30T14:15:38.664Z"
   },
   {
    "duration": 14,
    "start_time": "2023-01-30T14:15:38.679Z"
   },
   {
    "duration": 32,
    "start_time": "2023-01-30T14:15:38.696Z"
   },
   {
    "duration": 17,
    "start_time": "2023-01-30T14:15:38.730Z"
   },
   {
    "duration": 16,
    "start_time": "2023-01-30T14:15:38.749Z"
   },
   {
    "duration": 16,
    "start_time": "2023-01-30T14:15:38.767Z"
   },
   {
    "duration": 43,
    "start_time": "2023-01-30T14:15:38.785Z"
   },
   {
    "duration": 15,
    "start_time": "2023-01-30T14:15:38.830Z"
   },
   {
    "duration": 11,
    "start_time": "2023-01-30T14:15:38.846Z"
   },
   {
    "duration": 14,
    "start_time": "2023-01-30T14:15:38.859Z"
   },
   {
    "duration": 47,
    "start_time": "2023-01-30T14:15:38.875Z"
   },
   {
    "duration": 17,
    "start_time": "2023-01-30T14:15:38.924Z"
   },
   {
    "duration": 11,
    "start_time": "2023-01-30T14:15:38.942Z"
   },
   {
    "duration": 15,
    "start_time": "2023-01-30T14:15:38.955Z"
   },
   {
    "duration": 53,
    "start_time": "2023-01-30T14:15:38.972Z"
   },
   {
    "duration": 16,
    "start_time": "2023-01-30T14:15:39.027Z"
   },
   {
    "duration": 16,
    "start_time": "2023-01-30T14:15:39.045Z"
   },
   {
    "duration": 12,
    "start_time": "2023-01-30T14:15:39.063Z"
   },
   {
    "duration": 46,
    "start_time": "2023-01-30T14:15:39.083Z"
   },
   {
    "duration": 4,
    "start_time": "2023-01-30T14:15:39.131Z"
   },
   {
    "duration": 16,
    "start_time": "2023-01-30T14:15:39.137Z"
   },
   {
    "duration": 15,
    "start_time": "2023-01-30T14:15:39.155Z"
   },
   {
    "duration": 51,
    "start_time": "2023-01-30T14:15:39.171Z"
   },
   {
    "duration": 4,
    "start_time": "2023-01-30T14:15:39.224Z"
   },
   {
    "duration": 27,
    "start_time": "2023-01-30T14:15:39.229Z"
   },
   {
    "duration": 4,
    "start_time": "2023-01-30T14:15:39.258Z"
   },
   {
    "duration": 18,
    "start_time": "2023-01-30T14:15:39.264Z"
   },
   {
    "duration": 38,
    "start_time": "2023-01-30T14:15:39.284Z"
   },
   {
    "duration": 10,
    "start_time": "2023-01-30T14:15:39.324Z"
   },
   {
    "duration": 7,
    "start_time": "2023-01-30T14:15:39.336Z"
   },
   {
    "duration": 13,
    "start_time": "2023-01-30T14:15:39.346Z"
   },
   {
    "duration": 20,
    "start_time": "2023-01-30T14:15:39.360Z"
   },
   {
    "duration": 55,
    "start_time": "2023-01-30T14:15:39.382Z"
   },
   {
    "duration": 19,
    "start_time": "2023-01-30T14:15:39.439Z"
   },
   {
    "duration": 5,
    "start_time": "2023-01-30T14:15:39.460Z"
   },
   {
    "duration": 7,
    "start_time": "2023-01-30T14:15:39.467Z"
   },
   {
    "duration": 5,
    "start_time": "2023-01-30T14:15:39.476Z"
   },
   {
    "duration": 39,
    "start_time": "2023-01-30T14:15:39.482Z"
   },
   {
    "duration": 9,
    "start_time": "2023-01-30T14:15:39.523Z"
   },
   {
    "duration": 10,
    "start_time": "2023-01-30T14:15:39.533Z"
   },
   {
    "duration": 22,
    "start_time": "2023-01-30T14:15:39.545Z"
   },
   {
    "duration": 12,
    "start_time": "2023-01-30T14:15:39.569Z"
   },
   {
    "duration": 52,
    "start_time": "2023-01-30T14:15:39.584Z"
   },
   {
    "duration": 139,
    "start_time": "2023-01-30T14:15:39.637Z"
   },
   {
    "duration": 0,
    "start_time": "2023-01-30T14:15:39.778Z"
   },
   {
    "duration": 0,
    "start_time": "2023-01-30T14:15:39.779Z"
   },
   {
    "duration": 0,
    "start_time": "2023-01-30T14:15:39.780Z"
   },
   {
    "duration": 0,
    "start_time": "2023-01-30T14:15:39.782Z"
   },
   {
    "duration": 0,
    "start_time": "2023-01-30T14:15:39.783Z"
   },
   {
    "duration": 0,
    "start_time": "2023-01-30T14:15:39.784Z"
   },
   {
    "duration": 0,
    "start_time": "2023-01-30T14:15:39.785Z"
   },
   {
    "duration": 0,
    "start_time": "2023-01-30T14:15:39.787Z"
   },
   {
    "duration": 0,
    "start_time": "2023-01-30T14:15:39.788Z"
   },
   {
    "duration": 0,
    "start_time": "2023-01-30T14:15:39.789Z"
   },
   {
    "duration": 0,
    "start_time": "2023-01-30T14:15:39.790Z"
   },
   {
    "duration": 0,
    "start_time": "2023-01-30T14:15:39.820Z"
   },
   {
    "duration": 0,
    "start_time": "2023-01-30T14:15:39.822Z"
   },
   {
    "duration": 0,
    "start_time": "2023-01-30T14:15:39.823Z"
   },
   {
    "duration": 0,
    "start_time": "2023-01-30T14:15:39.825Z"
   },
   {
    "duration": 0,
    "start_time": "2023-01-30T14:15:39.826Z"
   },
   {
    "duration": 0,
    "start_time": "2023-01-30T14:15:39.828Z"
   },
   {
    "duration": 0,
    "start_time": "2023-01-30T14:15:39.829Z"
   },
   {
    "duration": 0,
    "start_time": "2023-01-30T14:15:39.831Z"
   },
   {
    "duration": 0,
    "start_time": "2023-01-30T14:15:39.832Z"
   },
   {
    "duration": 0,
    "start_time": "2023-01-30T14:15:39.834Z"
   },
   {
    "duration": 0,
    "start_time": "2023-01-30T14:15:39.836Z"
   },
   {
    "duration": 0,
    "start_time": "2023-01-30T14:15:39.837Z"
   },
   {
    "duration": 0,
    "start_time": "2023-01-30T14:15:39.839Z"
   },
   {
    "duration": 0,
    "start_time": "2023-01-30T14:15:39.841Z"
   },
   {
    "duration": 0,
    "start_time": "2023-01-30T14:15:39.842Z"
   },
   {
    "duration": 0,
    "start_time": "2023-01-30T14:15:39.843Z"
   },
   {
    "duration": 0,
    "start_time": "2023-01-30T14:15:39.844Z"
   },
   {
    "duration": 0,
    "start_time": "2023-01-30T14:15:39.846Z"
   },
   {
    "duration": 0,
    "start_time": "2023-01-30T14:15:39.847Z"
   },
   {
    "duration": 0,
    "start_time": "2023-01-30T14:15:39.848Z"
   },
   {
    "duration": 0,
    "start_time": "2023-01-30T14:15:39.849Z"
   },
   {
    "duration": 0,
    "start_time": "2023-01-30T14:15:39.850Z"
   },
   {
    "duration": 0,
    "start_time": "2023-01-30T14:15:39.852Z"
   },
   {
    "duration": 0,
    "start_time": "2023-01-30T14:15:39.853Z"
   },
   {
    "duration": 0,
    "start_time": "2023-01-30T14:15:39.855Z"
   },
   {
    "duration": 0,
    "start_time": "2023-01-30T14:15:39.857Z"
   },
   {
    "duration": 0,
    "start_time": "2023-01-30T14:15:39.858Z"
   },
   {
    "duration": 0,
    "start_time": "2023-01-30T14:15:39.922Z"
   },
   {
    "duration": 0,
    "start_time": "2023-01-30T14:15:39.924Z"
   },
   {
    "duration": 0,
    "start_time": "2023-01-30T14:15:39.925Z"
   },
   {
    "duration": 0,
    "start_time": "2023-01-30T14:15:39.926Z"
   },
   {
    "duration": 0,
    "start_time": "2023-01-30T14:15:39.928Z"
   },
   {
    "duration": 0,
    "start_time": "2023-01-30T14:15:39.929Z"
   },
   {
    "duration": 0,
    "start_time": "2023-01-30T14:15:39.931Z"
   },
   {
    "duration": 0,
    "start_time": "2023-01-30T14:15:39.933Z"
   },
   {
    "duration": 0,
    "start_time": "2023-01-30T14:15:39.934Z"
   },
   {
    "duration": 0,
    "start_time": "2023-01-30T14:15:39.936Z"
   },
   {
    "duration": 0,
    "start_time": "2023-01-30T14:15:39.937Z"
   },
   {
    "duration": 0,
    "start_time": "2023-01-30T14:15:39.939Z"
   },
   {
    "duration": 0,
    "start_time": "2023-01-30T14:15:39.940Z"
   },
   {
    "duration": 1110,
    "start_time": "2023-01-30T14:19:23.415Z"
   },
   {
    "duration": 824,
    "start_time": "2023-01-30T14:20:22.202Z"
   },
   {
    "duration": 966,
    "start_time": "2023-01-30T14:20:29.784Z"
   },
   {
    "duration": 7,
    "start_time": "2023-01-30T14:21:14.666Z"
   },
   {
    "duration": 6,
    "start_time": "2023-01-30T14:21:19.551Z"
   },
   {
    "duration": 4,
    "start_time": "2023-01-30T14:21:23.770Z"
   },
   {
    "duration": 11,
    "start_time": "2023-01-30T14:21:26.094Z"
   },
   {
    "duration": 14,
    "start_time": "2023-01-30T14:21:34.979Z"
   },
   {
    "duration": 14,
    "start_time": "2023-01-30T14:22:11.732Z"
   },
   {
    "duration": 5,
    "start_time": "2023-01-30T14:22:15.133Z"
   },
   {
    "duration": 3,
    "start_time": "2023-01-30T14:22:16.644Z"
   },
   {
    "duration": 4633,
    "start_time": "2023-01-30T14:22:17.312Z"
   },
   {
    "duration": 218,
    "start_time": "2023-01-30T14:34:35.130Z"
   },
   {
    "duration": 25,
    "start_time": "2023-01-30T14:34:55.385Z"
   },
   {
    "duration": 172,
    "start_time": "2023-01-30T14:35:02.253Z"
   },
   {
    "duration": 9,
    "start_time": "2023-01-30T14:35:19.611Z"
   },
   {
    "duration": 9,
    "start_time": "2023-01-30T14:35:23.382Z"
   },
   {
    "duration": 165,
    "start_time": "2023-01-30T14:35:25.106Z"
   },
   {
    "duration": 8,
    "start_time": "2023-01-30T14:35:44.123Z"
   },
   {
    "duration": 4,
    "start_time": "2023-01-30T14:36:04.223Z"
   },
   {
    "duration": 14,
    "start_time": "2023-01-30T14:36:10.314Z"
   },
   {
    "duration": 13,
    "start_time": "2023-01-30T14:56:08.897Z"
   },
   {
    "duration": 7,
    "start_time": "2023-01-30T14:56:35.062Z"
   },
   {
    "duration": 47,
    "start_time": "2023-01-30T17:00:28.195Z"
   },
   {
    "duration": 0,
    "start_time": "2023-01-30T17:00:28.244Z"
   },
   {
    "duration": 0,
    "start_time": "2023-01-30T17:00:28.245Z"
   },
   {
    "duration": 0,
    "start_time": "2023-01-30T17:00:28.246Z"
   },
   {
    "duration": 0,
    "start_time": "2023-01-30T17:00:28.247Z"
   },
   {
    "duration": 0,
    "start_time": "2023-01-30T17:00:28.248Z"
   },
   {
    "duration": 0,
    "start_time": "2023-01-30T17:00:28.249Z"
   },
   {
    "duration": 0,
    "start_time": "2023-01-30T17:00:28.250Z"
   },
   {
    "duration": 59,
    "start_time": "2023-01-30T17:00:28.252Z"
   },
   {
    "duration": 0,
    "start_time": "2023-01-30T17:00:28.313Z"
   },
   {
    "duration": 0,
    "start_time": "2023-01-30T17:00:28.314Z"
   },
   {
    "duration": 0,
    "start_time": "2023-01-30T17:00:28.315Z"
   },
   {
    "duration": 0,
    "start_time": "2023-01-30T17:00:28.317Z"
   },
   {
    "duration": 0,
    "start_time": "2023-01-30T17:00:28.319Z"
   },
   {
    "duration": 0,
    "start_time": "2023-01-30T17:00:28.320Z"
   },
   {
    "duration": 0,
    "start_time": "2023-01-30T17:00:28.321Z"
   },
   {
    "duration": 0,
    "start_time": "2023-01-30T17:00:28.321Z"
   },
   {
    "duration": 0,
    "start_time": "2023-01-30T17:00:28.322Z"
   },
   {
    "duration": 0,
    "start_time": "2023-01-30T17:00:28.323Z"
   },
   {
    "duration": 0,
    "start_time": "2023-01-30T17:00:28.324Z"
   },
   {
    "duration": 0,
    "start_time": "2023-01-30T17:00:28.325Z"
   },
   {
    "duration": 0,
    "start_time": "2023-01-30T17:00:28.326Z"
   },
   {
    "duration": 0,
    "start_time": "2023-01-30T17:00:28.327Z"
   },
   {
    "duration": 6,
    "start_time": "2023-01-30T17:00:28.330Z"
   },
   {
    "duration": 0,
    "start_time": "2023-01-30T17:00:28.338Z"
   },
   {
    "duration": 0,
    "start_time": "2023-01-30T17:00:28.339Z"
   },
   {
    "duration": 0,
    "start_time": "2023-01-30T17:00:28.340Z"
   },
   {
    "duration": 0,
    "start_time": "2023-01-30T17:00:28.342Z"
   },
   {
    "duration": 0,
    "start_time": "2023-01-30T17:00:28.343Z"
   },
   {
    "duration": 58,
    "start_time": "2023-01-30T17:00:28.344Z"
   },
   {
    "duration": 0,
    "start_time": "2023-01-30T17:00:28.404Z"
   },
   {
    "duration": 0,
    "start_time": "2023-01-30T17:00:28.405Z"
   },
   {
    "duration": 42,
    "start_time": "2023-01-30T17:00:28.407Z"
   },
   {
    "duration": 0,
    "start_time": "2023-01-30T17:00:28.451Z"
   },
   {
    "duration": 0,
    "start_time": "2023-01-30T17:00:28.453Z"
   },
   {
    "duration": 0,
    "start_time": "2023-01-30T17:00:28.454Z"
   },
   {
    "duration": 0,
    "start_time": "2023-01-30T17:00:28.456Z"
   },
   {
    "duration": 0,
    "start_time": "2023-01-30T17:00:28.458Z"
   },
   {
    "duration": 0,
    "start_time": "2023-01-30T17:00:28.459Z"
   },
   {
    "duration": 0,
    "start_time": "2023-01-30T17:00:28.460Z"
   },
   {
    "duration": 0,
    "start_time": "2023-01-30T17:00:28.462Z"
   },
   {
    "duration": 0,
    "start_time": "2023-01-30T17:00:28.463Z"
   },
   {
    "duration": 0,
    "start_time": "2023-01-30T17:00:28.464Z"
   },
   {
    "duration": 0,
    "start_time": "2023-01-30T17:00:28.500Z"
   },
   {
    "duration": 0,
    "start_time": "2023-01-30T17:00:28.501Z"
   },
   {
    "duration": 1,
    "start_time": "2023-01-30T17:00:28.502Z"
   },
   {
    "duration": 0,
    "start_time": "2023-01-30T17:00:28.504Z"
   },
   {
    "duration": 0,
    "start_time": "2023-01-30T17:00:28.505Z"
   },
   {
    "duration": 0,
    "start_time": "2023-01-30T17:00:28.506Z"
   },
   {
    "duration": 0,
    "start_time": "2023-01-30T17:00:28.507Z"
   },
   {
    "duration": 1,
    "start_time": "2023-01-30T17:00:28.508Z"
   },
   {
    "duration": 0,
    "start_time": "2023-01-30T17:00:28.511Z"
   },
   {
    "duration": 0,
    "start_time": "2023-01-30T17:00:28.512Z"
   },
   {
    "duration": 0,
    "start_time": "2023-01-30T17:00:28.513Z"
   },
   {
    "duration": 0,
    "start_time": "2023-01-30T17:00:28.514Z"
   },
   {
    "duration": 0,
    "start_time": "2023-01-30T17:00:28.516Z"
   },
   {
    "duration": 0,
    "start_time": "2023-01-30T17:00:28.517Z"
   },
   {
    "duration": 6,
    "start_time": "2023-01-30T17:00:28.521Z"
   },
   {
    "duration": 72,
    "start_time": "2023-01-30T17:00:28.529Z"
   },
   {
    "duration": 0,
    "start_time": "2023-01-30T17:00:28.603Z"
   },
   {
    "duration": 0,
    "start_time": "2023-01-30T17:00:28.604Z"
   },
   {
    "duration": 0,
    "start_time": "2023-01-30T17:00:28.605Z"
   },
   {
    "duration": 0,
    "start_time": "2023-01-30T17:00:28.607Z"
   },
   {
    "duration": 0,
    "start_time": "2023-01-30T17:00:28.608Z"
   },
   {
    "duration": 0,
    "start_time": "2023-01-30T17:00:28.610Z"
   },
   {
    "duration": 0,
    "start_time": "2023-01-30T17:00:28.611Z"
   },
   {
    "duration": 0,
    "start_time": "2023-01-30T17:00:28.612Z"
   },
   {
    "duration": 0,
    "start_time": "2023-01-30T17:00:28.614Z"
   },
   {
    "duration": 0,
    "start_time": "2023-01-30T17:00:28.615Z"
   },
   {
    "duration": 0,
    "start_time": "2023-01-30T17:00:28.616Z"
   },
   {
    "duration": 0,
    "start_time": "2023-01-30T17:00:28.617Z"
   },
   {
    "duration": 0,
    "start_time": "2023-01-30T17:00:28.619Z"
   },
   {
    "duration": 0,
    "start_time": "2023-01-30T17:00:28.621Z"
   },
   {
    "duration": 0,
    "start_time": "2023-01-30T17:00:28.622Z"
   },
   {
    "duration": 0,
    "start_time": "2023-01-30T17:00:28.623Z"
   },
   {
    "duration": 0,
    "start_time": "2023-01-30T17:00:28.624Z"
   },
   {
    "duration": 0,
    "start_time": "2023-01-30T17:00:28.626Z"
   },
   {
    "duration": 0,
    "start_time": "2023-01-30T17:00:28.628Z"
   },
   {
    "duration": 72,
    "start_time": "2023-01-30T17:00:28.634Z"
   },
   {
    "duration": 0,
    "start_time": "2023-01-30T17:00:28.709Z"
   },
   {
    "duration": 0,
    "start_time": "2023-01-30T17:00:28.711Z"
   },
   {
    "duration": 0,
    "start_time": "2023-01-30T17:00:28.711Z"
   },
   {
    "duration": 0,
    "start_time": "2023-01-30T17:00:28.713Z"
   },
   {
    "duration": 0,
    "start_time": "2023-01-30T17:00:28.714Z"
   },
   {
    "duration": 0,
    "start_time": "2023-01-30T17:00:28.716Z"
   },
   {
    "duration": 0,
    "start_time": "2023-01-30T17:00:28.717Z"
   },
   {
    "duration": 0,
    "start_time": "2023-01-30T17:00:28.718Z"
   },
   {
    "duration": 0,
    "start_time": "2023-01-30T17:00:28.720Z"
   },
   {
    "duration": 0,
    "start_time": "2023-01-30T17:00:28.722Z"
   },
   {
    "duration": 0,
    "start_time": "2023-01-30T17:00:28.723Z"
   },
   {
    "duration": 0,
    "start_time": "2023-01-30T17:00:28.724Z"
   },
   {
    "duration": 0,
    "start_time": "2023-01-30T17:00:28.726Z"
   },
   {
    "duration": 0,
    "start_time": "2023-01-30T17:00:28.727Z"
   },
   {
    "duration": 0,
    "start_time": "2023-01-30T17:00:28.729Z"
   },
   {
    "duration": 0,
    "start_time": "2023-01-30T17:00:28.730Z"
   },
   {
    "duration": 0,
    "start_time": "2023-01-30T17:00:28.731Z"
   },
   {
    "duration": 0,
    "start_time": "2023-01-30T17:00:28.733Z"
   },
   {
    "duration": 0,
    "start_time": "2023-01-30T17:00:28.734Z"
   },
   {
    "duration": 0,
    "start_time": "2023-01-30T17:00:28.735Z"
   },
   {
    "duration": 0,
    "start_time": "2023-01-30T17:00:28.737Z"
   },
   {
    "duration": 0,
    "start_time": "2023-01-30T17:00:28.738Z"
   },
   {
    "duration": 0,
    "start_time": "2023-01-30T17:00:28.740Z"
   },
   {
    "duration": 0,
    "start_time": "2023-01-30T17:00:28.801Z"
   },
   {
    "duration": 0,
    "start_time": "2023-01-30T17:00:28.803Z"
   },
   {
    "duration": 0,
    "start_time": "2023-01-30T17:00:28.804Z"
   },
   {
    "duration": 0,
    "start_time": "2023-01-30T17:00:28.805Z"
   },
   {
    "duration": 0,
    "start_time": "2023-01-30T17:00:28.814Z"
   },
   {
    "duration": 0,
    "start_time": "2023-01-30T17:00:28.815Z"
   },
   {
    "duration": 0,
    "start_time": "2023-01-30T17:00:28.816Z"
   },
   {
    "duration": 0,
    "start_time": "2023-01-30T17:00:28.817Z"
   },
   {
    "duration": 0,
    "start_time": "2023-01-30T17:00:28.818Z"
   },
   {
    "duration": 0,
    "start_time": "2023-01-30T17:00:28.819Z"
   },
   {
    "duration": 0,
    "start_time": "2023-01-30T17:00:28.820Z"
   },
   {
    "duration": 0,
    "start_time": "2023-01-30T17:00:28.821Z"
   },
   {
    "duration": 0,
    "start_time": "2023-01-30T17:00:28.822Z"
   },
   {
    "duration": 0,
    "start_time": "2023-01-30T17:00:28.824Z"
   },
   {
    "duration": 0,
    "start_time": "2023-01-30T17:00:28.824Z"
   },
   {
    "duration": 0,
    "start_time": "2023-01-30T17:00:28.825Z"
   },
   {
    "duration": 0,
    "start_time": "2023-01-30T17:00:28.825Z"
   },
   {
    "duration": 0,
    "start_time": "2023-01-30T17:00:28.826Z"
   },
   {
    "duration": 0,
    "start_time": "2023-01-30T17:00:28.826Z"
   },
   {
    "duration": 11,
    "start_time": "2023-01-30T17:00:28.831Z"
   },
   {
    "duration": 0,
    "start_time": "2023-01-30T17:00:28.843Z"
   },
   {
    "duration": 0,
    "start_time": "2023-01-30T17:00:28.899Z"
   },
   {
    "duration": 0,
    "start_time": "2023-01-30T17:00:28.900Z"
   },
   {
    "duration": 0,
    "start_time": "2023-01-30T17:00:28.901Z"
   },
   {
    "duration": 0,
    "start_time": "2023-01-30T17:00:28.903Z"
   },
   {
    "duration": 0,
    "start_time": "2023-01-30T17:00:28.904Z"
   },
   {
    "duration": 0,
    "start_time": "2023-01-30T17:00:28.905Z"
   },
   {
    "duration": 0,
    "start_time": "2023-01-30T17:00:28.906Z"
   },
   {
    "duration": 0,
    "start_time": "2023-01-30T17:00:28.907Z"
   },
   {
    "duration": 0,
    "start_time": "2023-01-30T17:00:28.908Z"
   },
   {
    "duration": 0,
    "start_time": "2023-01-30T17:00:28.909Z"
   },
   {
    "duration": 0,
    "start_time": "2023-01-30T17:00:28.911Z"
   },
   {
    "duration": 0,
    "start_time": "2023-01-30T17:00:28.912Z"
   },
   {
    "duration": 0,
    "start_time": "2023-01-30T17:00:28.914Z"
   },
   {
    "duration": 0,
    "start_time": "2023-01-30T17:00:28.916Z"
   },
   {
    "duration": 0,
    "start_time": "2023-01-30T17:00:28.917Z"
   },
   {
    "duration": 0,
    "start_time": "2023-01-30T17:00:28.919Z"
   },
   {
    "duration": 0,
    "start_time": "2023-01-30T17:00:28.920Z"
   },
   {
    "duration": 0,
    "start_time": "2023-01-30T17:00:28.921Z"
   },
   {
    "duration": 0,
    "start_time": "2023-01-30T17:00:28.922Z"
   },
   {
    "duration": 0,
    "start_time": "2023-01-30T17:00:28.923Z"
   },
   {
    "duration": 0,
    "start_time": "2023-01-30T17:00:28.924Z"
   },
   {
    "duration": 0,
    "start_time": "2023-01-30T17:00:28.925Z"
   },
   {
    "duration": 0,
    "start_time": "2023-01-30T17:00:28.926Z"
   },
   {
    "duration": 0,
    "start_time": "2023-01-30T17:00:28.928Z"
   },
   {
    "duration": 0,
    "start_time": "2023-01-30T17:00:28.929Z"
   },
   {
    "duration": 0,
    "start_time": "2023-01-30T17:00:28.930Z"
   },
   {
    "duration": 0,
    "start_time": "2023-01-30T17:00:28.932Z"
   },
   {
    "duration": 0,
    "start_time": "2023-01-30T17:00:28.933Z"
   },
   {
    "duration": 0,
    "start_time": "2023-01-30T17:00:28.934Z"
   },
   {
    "duration": 0,
    "start_time": "2023-01-30T17:00:28.935Z"
   },
   {
    "duration": 0,
    "start_time": "2023-01-30T17:00:28.936Z"
   },
   {
    "duration": 0,
    "start_time": "2023-01-30T17:00:28.936Z"
   },
   {
    "duration": 682,
    "start_time": "2023-01-30T17:00:49.215Z"
   },
   {
    "duration": 63,
    "start_time": "2023-01-30T17:01:03.236Z"
   },
   {
    "duration": 0,
    "start_time": "2023-01-30T17:01:03.301Z"
   },
   {
    "duration": 0,
    "start_time": "2023-01-30T17:01:03.302Z"
   },
   {
    "duration": 0,
    "start_time": "2023-01-30T17:01:03.303Z"
   },
   {
    "duration": 0,
    "start_time": "2023-01-30T17:01:03.304Z"
   },
   {
    "duration": 0,
    "start_time": "2023-01-30T17:01:03.305Z"
   },
   {
    "duration": 0,
    "start_time": "2023-01-30T17:01:03.306Z"
   },
   {
    "duration": 0,
    "start_time": "2023-01-30T17:01:03.307Z"
   },
   {
    "duration": 0,
    "start_time": "2023-01-30T17:01:03.309Z"
   },
   {
    "duration": 0,
    "start_time": "2023-01-30T17:01:03.310Z"
   },
   {
    "duration": 0,
    "start_time": "2023-01-30T17:01:03.311Z"
   },
   {
    "duration": 0,
    "start_time": "2023-01-30T17:01:03.312Z"
   },
   {
    "duration": 7,
    "start_time": "2023-01-30T17:01:03.315Z"
   },
   {
    "duration": 0,
    "start_time": "2023-01-30T17:01:03.323Z"
   },
   {
    "duration": 0,
    "start_time": "2023-01-30T17:01:03.325Z"
   },
   {
    "duration": 1,
    "start_time": "2023-01-30T17:01:03.325Z"
   },
   {
    "duration": 0,
    "start_time": "2023-01-30T17:01:03.327Z"
   },
   {
    "duration": 0,
    "start_time": "2023-01-30T17:01:03.327Z"
   },
   {
    "duration": 71,
    "start_time": "2023-01-30T17:01:03.329Z"
   },
   {
    "duration": 0,
    "start_time": "2023-01-30T17:01:03.402Z"
   },
   {
    "duration": 0,
    "start_time": "2023-01-30T17:01:03.403Z"
   },
   {
    "duration": 0,
    "start_time": "2023-01-30T17:01:03.406Z"
   },
   {
    "duration": 0,
    "start_time": "2023-01-30T17:01:03.407Z"
   },
   {
    "duration": 0,
    "start_time": "2023-01-30T17:01:03.408Z"
   },
   {
    "duration": 0,
    "start_time": "2023-01-30T17:01:03.409Z"
   },
   {
    "duration": 0,
    "start_time": "2023-01-30T17:01:03.410Z"
   },
   {
    "duration": 0,
    "start_time": "2023-01-30T17:01:03.411Z"
   },
   {
    "duration": 0,
    "start_time": "2023-01-30T17:01:03.412Z"
   },
   {
    "duration": 0,
    "start_time": "2023-01-30T17:01:03.414Z"
   },
   {
    "duration": 0,
    "start_time": "2023-01-30T17:01:03.415Z"
   },
   {
    "duration": 0,
    "start_time": "2023-01-30T17:01:03.416Z"
   },
   {
    "duration": 21,
    "start_time": "2023-01-30T17:01:03.419Z"
   },
   {
    "duration": 0,
    "start_time": "2023-01-30T17:01:03.442Z"
   },
   {
    "duration": 0,
    "start_time": "2023-01-30T17:01:03.442Z"
   },
   {
    "duration": 0,
    "start_time": "2023-01-30T17:01:03.443Z"
   },
   {
    "duration": 0,
    "start_time": "2023-01-30T17:01:03.444Z"
   },
   {
    "duration": 0,
    "start_time": "2023-01-30T17:01:03.445Z"
   },
   {
    "duration": 0,
    "start_time": "2023-01-30T17:01:03.447Z"
   },
   {
    "duration": 0,
    "start_time": "2023-01-30T17:01:03.499Z"
   },
   {
    "duration": 0,
    "start_time": "2023-01-30T17:01:03.500Z"
   },
   {
    "duration": 0,
    "start_time": "2023-01-30T17:01:03.502Z"
   },
   {
    "duration": 0,
    "start_time": "2023-01-30T17:01:03.503Z"
   },
   {
    "duration": 0,
    "start_time": "2023-01-30T17:01:03.504Z"
   },
   {
    "duration": 0,
    "start_time": "2023-01-30T17:01:03.505Z"
   },
   {
    "duration": 0,
    "start_time": "2023-01-30T17:01:03.506Z"
   },
   {
    "duration": 0,
    "start_time": "2023-01-30T17:01:03.508Z"
   },
   {
    "duration": 0,
    "start_time": "2023-01-30T17:01:03.509Z"
   },
   {
    "duration": 0,
    "start_time": "2023-01-30T17:01:03.510Z"
   },
   {
    "duration": 6,
    "start_time": "2023-01-30T17:01:03.515Z"
   },
   {
    "duration": 0,
    "start_time": "2023-01-30T17:01:03.523Z"
   },
   {
    "duration": 0,
    "start_time": "2023-01-30T17:01:03.524Z"
   },
   {
    "duration": 0,
    "start_time": "2023-01-30T17:01:03.525Z"
   },
   {
    "duration": 0,
    "start_time": "2023-01-30T17:01:03.526Z"
   },
   {
    "duration": 0,
    "start_time": "2023-01-30T17:01:03.527Z"
   },
   {
    "duration": 0,
    "start_time": "2023-01-30T17:01:03.528Z"
   },
   {
    "duration": 0,
    "start_time": "2023-01-30T17:01:03.529Z"
   },
   {
    "duration": 0,
    "start_time": "2023-01-30T17:01:03.530Z"
   },
   {
    "duration": 0,
    "start_time": "2023-01-30T17:01:03.531Z"
   },
   {
    "duration": 0,
    "start_time": "2023-01-30T17:01:03.532Z"
   },
   {
    "duration": 0,
    "start_time": "2023-01-30T17:01:03.533Z"
   },
   {
    "duration": 0,
    "start_time": "2023-01-30T17:01:03.534Z"
   },
   {
    "duration": 0,
    "start_time": "2023-01-30T17:01:03.535Z"
   },
   {
    "duration": 0,
    "start_time": "2023-01-30T17:01:03.536Z"
   },
   {
    "duration": 0,
    "start_time": "2023-01-30T17:01:03.537Z"
   },
   {
    "duration": 0,
    "start_time": "2023-01-30T17:01:03.538Z"
   },
   {
    "duration": 0,
    "start_time": "2023-01-30T17:01:03.599Z"
   },
   {
    "duration": 0,
    "start_time": "2023-01-30T17:01:03.600Z"
   },
   {
    "duration": 6,
    "start_time": "2023-01-30T17:01:03.603Z"
   },
   {
    "duration": 0,
    "start_time": "2023-01-30T17:01:03.610Z"
   },
   {
    "duration": 0,
    "start_time": "2023-01-30T17:01:03.612Z"
   },
   {
    "duration": 0,
    "start_time": "2023-01-30T17:01:03.613Z"
   },
   {
    "duration": 0,
    "start_time": "2023-01-30T17:01:03.614Z"
   },
   {
    "duration": 0,
    "start_time": "2023-01-30T17:01:03.615Z"
   },
   {
    "duration": 0,
    "start_time": "2023-01-30T17:01:03.616Z"
   },
   {
    "duration": 0,
    "start_time": "2023-01-30T17:01:03.629Z"
   },
   {
    "duration": 0,
    "start_time": "2023-01-30T17:01:03.631Z"
   },
   {
    "duration": 0,
    "start_time": "2023-01-30T17:01:03.632Z"
   },
   {
    "duration": 0,
    "start_time": "2023-01-30T17:01:03.633Z"
   },
   {
    "duration": 0,
    "start_time": "2023-01-30T17:01:03.634Z"
   },
   {
    "duration": 0,
    "start_time": "2023-01-30T17:01:03.635Z"
   },
   {
    "duration": 0,
    "start_time": "2023-01-30T17:01:03.636Z"
   },
   {
    "duration": 0,
    "start_time": "2023-01-30T17:01:03.637Z"
   },
   {
    "duration": 0,
    "start_time": "2023-01-30T17:01:03.638Z"
   },
   {
    "duration": 0,
    "start_time": "2023-01-30T17:01:03.639Z"
   },
   {
    "duration": 1,
    "start_time": "2023-01-30T17:01:03.640Z"
   },
   {
    "duration": 0,
    "start_time": "2023-01-30T17:01:03.642Z"
   },
   {
    "duration": 16,
    "start_time": "2023-01-30T17:01:03.699Z"
   },
   {
    "duration": 0,
    "start_time": "2023-01-30T17:01:03.717Z"
   },
   {
    "duration": 0,
    "start_time": "2023-01-30T17:01:03.718Z"
   },
   {
    "duration": 0,
    "start_time": "2023-01-30T17:01:03.719Z"
   },
   {
    "duration": 0,
    "start_time": "2023-01-30T17:01:03.719Z"
   },
   {
    "duration": 0,
    "start_time": "2023-01-30T17:01:03.720Z"
   },
   {
    "duration": 0,
    "start_time": "2023-01-30T17:01:03.721Z"
   },
   {
    "duration": 0,
    "start_time": "2023-01-30T17:01:03.722Z"
   },
   {
    "duration": 0,
    "start_time": "2023-01-30T17:01:03.723Z"
   },
   {
    "duration": 0,
    "start_time": "2023-01-30T17:01:03.724Z"
   },
   {
    "duration": 0,
    "start_time": "2023-01-30T17:01:03.725Z"
   },
   {
    "duration": 0,
    "start_time": "2023-01-30T17:01:03.726Z"
   },
   {
    "duration": 0,
    "start_time": "2023-01-30T17:01:03.728Z"
   },
   {
    "duration": 0,
    "start_time": "2023-01-30T17:01:03.729Z"
   },
   {
    "duration": 0,
    "start_time": "2023-01-30T17:01:03.729Z"
   },
   {
    "duration": 0,
    "start_time": "2023-01-30T17:01:03.730Z"
   },
   {
    "duration": 0,
    "start_time": "2023-01-30T17:01:03.731Z"
   },
   {
    "duration": 1,
    "start_time": "2023-01-30T17:01:03.733Z"
   },
   {
    "duration": 0,
    "start_time": "2023-01-30T17:01:03.734Z"
   },
   {
    "duration": 0,
    "start_time": "2023-01-30T17:01:03.736Z"
   },
   {
    "duration": 0,
    "start_time": "2023-01-30T17:01:03.737Z"
   },
   {
    "duration": 0,
    "start_time": "2023-01-30T17:01:03.738Z"
   },
   {
    "duration": 0,
    "start_time": "2023-01-30T17:01:03.739Z"
   },
   {
    "duration": 0,
    "start_time": "2023-01-30T17:01:03.740Z"
   },
   {
    "duration": 0,
    "start_time": "2023-01-30T17:01:03.798Z"
   },
   {
    "duration": 0,
    "start_time": "2023-01-30T17:01:03.800Z"
   },
   {
    "duration": 9,
    "start_time": "2023-01-30T17:01:03.803Z"
   },
   {
    "duration": 0,
    "start_time": "2023-01-30T17:01:03.813Z"
   },
   {
    "duration": 0,
    "start_time": "2023-01-30T17:01:03.815Z"
   },
   {
    "duration": 0,
    "start_time": "2023-01-30T17:01:03.816Z"
   },
   {
    "duration": 0,
    "start_time": "2023-01-30T17:01:03.817Z"
   },
   {
    "duration": 0,
    "start_time": "2023-01-30T17:01:03.818Z"
   },
   {
    "duration": 0,
    "start_time": "2023-01-30T17:01:03.819Z"
   },
   {
    "duration": 0,
    "start_time": "2023-01-30T17:01:03.820Z"
   },
   {
    "duration": 0,
    "start_time": "2023-01-30T17:01:03.821Z"
   },
   {
    "duration": 0,
    "start_time": "2023-01-30T17:01:03.822Z"
   },
   {
    "duration": 0,
    "start_time": "2023-01-30T17:01:03.823Z"
   },
   {
    "duration": 0,
    "start_time": "2023-01-30T17:01:03.824Z"
   },
   {
    "duration": 0,
    "start_time": "2023-01-30T17:01:03.825Z"
   },
   {
    "duration": 0,
    "start_time": "2023-01-30T17:01:03.826Z"
   },
   {
    "duration": 0,
    "start_time": "2023-01-30T17:01:03.827Z"
   },
   {
    "duration": 0,
    "start_time": "2023-01-30T17:01:03.828Z"
   },
   {
    "duration": 0,
    "start_time": "2023-01-30T17:01:03.829Z"
   },
   {
    "duration": 0,
    "start_time": "2023-01-30T17:01:03.830Z"
   },
   {
    "duration": 0,
    "start_time": "2023-01-30T17:01:03.832Z"
   },
   {
    "duration": 0,
    "start_time": "2023-01-30T17:01:03.833Z"
   },
   {
    "duration": 0,
    "start_time": "2023-01-30T17:01:03.834Z"
   },
   {
    "duration": 0,
    "start_time": "2023-01-30T17:01:03.835Z"
   },
   {
    "duration": 0,
    "start_time": "2023-01-30T17:01:03.836Z"
   },
   {
    "duration": 0,
    "start_time": "2023-01-30T17:01:03.837Z"
   },
   {
    "duration": 0,
    "start_time": "2023-01-30T17:01:03.900Z"
   },
   {
    "duration": 0,
    "start_time": "2023-01-30T17:01:03.903Z"
   },
   {
    "duration": 0,
    "start_time": "2023-01-30T17:01:03.905Z"
   },
   {
    "duration": 0,
    "start_time": "2023-01-30T17:01:03.906Z"
   },
   {
    "duration": 7,
    "start_time": "2023-01-30T17:01:03.910Z"
   },
   {
    "duration": 0,
    "start_time": "2023-01-30T17:01:03.918Z"
   },
   {
    "duration": 0,
    "start_time": "2023-01-30T17:01:03.920Z"
   },
   {
    "duration": 0,
    "start_time": "2023-01-30T17:01:03.922Z"
   },
   {
    "duration": 0,
    "start_time": "2023-01-30T17:01:03.923Z"
   },
   {
    "duration": 0,
    "start_time": "2023-01-30T17:01:03.924Z"
   },
   {
    "duration": 0,
    "start_time": "2023-01-30T17:01:03.925Z"
   },
   {
    "duration": 0,
    "start_time": "2023-01-30T17:01:03.926Z"
   },
   {
    "duration": 0,
    "start_time": "2023-01-30T17:01:03.928Z"
   },
   {
    "duration": 0,
    "start_time": "2023-01-30T17:01:03.929Z"
   },
   {
    "duration": 0,
    "start_time": "2023-01-30T17:01:03.932Z"
   },
   {
    "duration": 0,
    "start_time": "2023-01-30T17:01:03.933Z"
   },
   {
    "duration": 0,
    "start_time": "2023-01-30T17:01:03.934Z"
   },
   {
    "duration": 0,
    "start_time": "2023-01-30T17:01:03.936Z"
   },
   {
    "duration": 0,
    "start_time": "2023-01-30T17:01:03.937Z"
   },
   {
    "duration": 2975,
    "start_time": "2023-01-30T17:01:38.131Z"
   },
   {
    "duration": 1716,
    "start_time": "2023-01-30T17:01:41.640Z"
   },
   {
    "duration": 1965,
    "start_time": "2023-01-30T17:01:49.220Z"
   },
   {
    "duration": 1411,
    "start_time": "2023-01-30T17:01:51.187Z"
   },
   {
    "duration": 114,
    "start_time": "2023-01-30T17:01:52.599Z"
   },
   {
    "duration": 3,
    "start_time": "2023-01-30T17:01:52.715Z"
   },
   {
    "duration": 20,
    "start_time": "2023-01-30T17:01:52.720Z"
   },
   {
    "duration": 4,
    "start_time": "2023-01-30T17:01:52.742Z"
   },
   {
    "duration": 32,
    "start_time": "2023-01-30T17:01:52.747Z"
   },
   {
    "duration": 30,
    "start_time": "2023-01-30T17:01:52.780Z"
   },
   {
    "duration": 30,
    "start_time": "2023-01-30T17:01:52.812Z"
   },
   {
    "duration": 60,
    "start_time": "2023-01-30T17:01:52.845Z"
   },
   {
    "duration": 15,
    "start_time": "2023-01-30T17:01:52.907Z"
   },
   {
    "duration": 13,
    "start_time": "2023-01-30T17:01:52.923Z"
   },
   {
    "duration": 584,
    "start_time": "2023-01-30T17:01:52.938Z"
   },
   {
    "duration": 772,
    "start_time": "2023-01-30T17:01:53.524Z"
   },
   {
    "duration": 376,
    "start_time": "2023-01-30T17:01:54.298Z"
   },
   {
    "duration": 5,
    "start_time": "2023-01-30T17:01:54.676Z"
   },
   {
    "duration": 34,
    "start_time": "2023-01-30T17:01:54.682Z"
   },
   {
    "duration": 20,
    "start_time": "2023-01-30T17:01:54.717Z"
   },
   {
    "duration": 18,
    "start_time": "2023-01-30T17:01:54.738Z"
   },
   {
    "duration": 22,
    "start_time": "2023-01-30T17:01:54.758Z"
   },
   {
    "duration": 38,
    "start_time": "2023-01-30T17:01:54.782Z"
   },
   {
    "duration": 18,
    "start_time": "2023-01-30T17:01:54.822Z"
   },
   {
    "duration": 25,
    "start_time": "2023-01-30T17:01:54.841Z"
   },
   {
    "duration": 23,
    "start_time": "2023-01-30T17:01:54.867Z"
   },
   {
    "duration": 21,
    "start_time": "2023-01-30T17:01:54.891Z"
   },
   {
    "duration": 26,
    "start_time": "2023-01-30T17:01:54.913Z"
   },
   {
    "duration": 53,
    "start_time": "2023-01-30T17:01:54.940Z"
   },
   {
    "duration": 19,
    "start_time": "2023-01-30T17:01:54.997Z"
   },
   {
    "duration": 25,
    "start_time": "2023-01-30T17:01:55.017Z"
   },
   {
    "duration": 27,
    "start_time": "2023-01-30T17:01:55.044Z"
   },
   {
    "duration": 21,
    "start_time": "2023-01-30T17:01:55.073Z"
   },
   {
    "duration": 23,
    "start_time": "2023-01-30T17:01:55.096Z"
   },
   {
    "duration": 19,
    "start_time": "2023-01-30T17:01:55.121Z"
   },
   {
    "duration": 26,
    "start_time": "2023-01-30T17:01:55.142Z"
   },
   {
    "duration": 23,
    "start_time": "2023-01-30T17:01:55.169Z"
   },
   {
    "duration": 41,
    "start_time": "2023-01-30T17:01:55.194Z"
   },
   {
    "duration": 11,
    "start_time": "2023-01-30T17:01:55.237Z"
   },
   {
    "duration": 35,
    "start_time": "2023-01-30T17:01:55.250Z"
   },
   {
    "duration": 51,
    "start_time": "2023-01-30T17:01:55.286Z"
   },
   {
    "duration": 12,
    "start_time": "2023-01-30T17:01:55.338Z"
   },
   {
    "duration": 17,
    "start_time": "2023-01-30T17:01:55.352Z"
   },
   {
    "duration": 38,
    "start_time": "2023-01-30T17:01:55.370Z"
   },
   {
    "duration": 17,
    "start_time": "2023-01-30T17:01:55.410Z"
   },
   {
    "duration": 35,
    "start_time": "2023-01-30T17:01:55.429Z"
   },
   {
    "duration": 37,
    "start_time": "2023-01-30T17:01:55.466Z"
   },
   {
    "duration": 7,
    "start_time": "2023-01-30T17:01:55.505Z"
   },
   {
    "duration": 41,
    "start_time": "2023-01-30T17:01:55.513Z"
   },
   {
    "duration": 18,
    "start_time": "2023-01-30T17:01:55.555Z"
   },
   {
    "duration": 21,
    "start_time": "2023-01-30T17:01:55.575Z"
   },
   {
    "duration": 17,
    "start_time": "2023-01-30T17:01:55.597Z"
   },
   {
    "duration": 15,
    "start_time": "2023-01-30T17:01:55.616Z"
   },
   {
    "duration": 35,
    "start_time": "2023-01-30T17:01:55.633Z"
   },
   {
    "duration": 749,
    "start_time": "2023-01-30T17:01:55.670Z"
   },
   {
    "duration": 9,
    "start_time": "2023-01-30T17:01:56.422Z"
   },
   {
    "duration": 44,
    "start_time": "2023-01-30T17:01:56.433Z"
   },
   {
    "duration": 32,
    "start_time": "2023-01-30T17:01:56.479Z"
   },
   {
    "duration": 308,
    "start_time": "2023-01-30T17:01:56.513Z"
   },
   {
    "duration": 11,
    "start_time": "2023-01-30T17:01:56.822Z"
   },
   {
    "duration": 33,
    "start_time": "2023-01-30T17:01:56.835Z"
   },
   {
    "duration": 237,
    "start_time": "2023-01-30T17:01:56.870Z"
   },
   {
    "duration": 348,
    "start_time": "2023-01-30T17:01:57.108Z"
   },
   {
    "duration": 413,
    "start_time": "2023-01-30T17:01:57.458Z"
   },
   {
    "duration": 65,
    "start_time": "2023-01-30T17:01:57.873Z"
   },
   {
    "duration": 11,
    "start_time": "2023-01-30T17:01:57.940Z"
   },
   {
    "duration": 26,
    "start_time": "2023-01-30T17:01:57.953Z"
   },
   {
    "duration": 15,
    "start_time": "2023-01-30T17:01:57.981Z"
   },
   {
    "duration": 31,
    "start_time": "2023-01-30T17:01:57.999Z"
   },
   {
    "duration": 34,
    "start_time": "2023-01-30T17:01:58.032Z"
   },
   {
    "duration": 49,
    "start_time": "2023-01-30T17:01:58.068Z"
   },
   {
    "duration": 24,
    "start_time": "2023-01-30T17:01:58.119Z"
   },
   {
    "duration": 42,
    "start_time": "2023-01-30T17:01:58.145Z"
   },
   {
    "duration": 45,
    "start_time": "2023-01-30T17:01:58.189Z"
   },
   {
    "duration": 42,
    "start_time": "2023-01-30T17:01:58.235Z"
   },
   {
    "duration": 11,
    "start_time": "2023-01-30T17:01:58.279Z"
   },
   {
    "duration": 20,
    "start_time": "2023-01-30T17:01:58.292Z"
   },
   {
    "duration": 43,
    "start_time": "2023-01-30T17:01:58.314Z"
   },
   {
    "duration": 36,
    "start_time": "2023-01-30T17:01:58.359Z"
   },
   {
    "duration": 52,
    "start_time": "2023-01-30T17:01:58.397Z"
   },
   {
    "duration": 33,
    "start_time": "2023-01-30T17:01:58.451Z"
   },
   {
    "duration": 14,
    "start_time": "2023-01-30T17:01:58.485Z"
   },
   {
    "duration": 28,
    "start_time": "2023-01-30T17:01:58.500Z"
   },
   {
    "duration": 35,
    "start_time": "2023-01-30T17:01:58.536Z"
   },
   {
    "duration": 17,
    "start_time": "2023-01-30T17:01:58.573Z"
   },
   {
    "duration": 42,
    "start_time": "2023-01-30T17:01:58.592Z"
   },
   {
    "duration": 48,
    "start_time": "2023-01-30T17:01:58.636Z"
   },
   {
    "duration": 42,
    "start_time": "2023-01-30T17:01:58.685Z"
   },
   {
    "duration": 31,
    "start_time": "2023-01-30T17:01:58.729Z"
   },
   {
    "duration": 50,
    "start_time": "2023-01-30T17:01:58.762Z"
   },
   {
    "duration": 19,
    "start_time": "2023-01-30T17:01:58.814Z"
   },
   {
    "duration": 67,
    "start_time": "2023-01-30T17:01:58.835Z"
   },
   {
    "duration": 29,
    "start_time": "2023-01-30T17:01:58.904Z"
   },
   {
    "duration": 35,
    "start_time": "2023-01-30T17:01:58.934Z"
   },
   {
    "duration": 28,
    "start_time": "2023-01-30T17:01:58.970Z"
   },
   {
    "duration": 43,
    "start_time": "2023-01-30T17:01:59.000Z"
   },
   {
    "duration": 52,
    "start_time": "2023-01-30T17:01:59.045Z"
   },
   {
    "duration": 51,
    "start_time": "2023-01-30T17:01:59.099Z"
   },
   {
    "duration": 24,
    "start_time": "2023-01-30T17:01:59.151Z"
   },
   {
    "duration": 6,
    "start_time": "2023-01-30T17:01:59.177Z"
   },
   {
    "duration": 48,
    "start_time": "2023-01-30T17:01:59.185Z"
   },
   {
    "duration": 28,
    "start_time": "2023-01-30T17:01:59.235Z"
   },
   {
    "duration": 41,
    "start_time": "2023-01-30T17:01:59.265Z"
   },
   {
    "duration": 41,
    "start_time": "2023-01-30T17:01:59.308Z"
   },
   {
    "duration": 55,
    "start_time": "2023-01-30T17:01:59.350Z"
   },
   {
    "duration": 70,
    "start_time": "2023-01-30T17:01:59.406Z"
   },
   {
    "duration": 53,
    "start_time": "2023-01-30T17:01:59.478Z"
   },
   {
    "duration": 35,
    "start_time": "2023-01-30T17:01:59.533Z"
   },
   {
    "duration": 16,
    "start_time": "2023-01-30T17:01:59.570Z"
   },
   {
    "duration": 16,
    "start_time": "2023-01-30T17:01:59.587Z"
   },
   {
    "duration": 21,
    "start_time": "2023-01-30T17:01:59.605Z"
   },
   {
    "duration": 32,
    "start_time": "2023-01-30T17:01:59.628Z"
   },
   {
    "duration": 20,
    "start_time": "2023-01-30T17:01:59.662Z"
   },
   {
    "duration": 4668,
    "start_time": "2023-01-30T17:01:59.684Z"
   },
   {
    "duration": 163,
    "start_time": "2023-01-30T17:02:04.354Z"
   },
   {
    "duration": 162,
    "start_time": "2023-01-30T17:02:04.519Z"
   },
   {
    "duration": 20,
    "start_time": "2023-01-30T17:02:04.682Z"
   },
   {
    "duration": 166,
    "start_time": "2023-01-30T17:02:04.704Z"
   },
   {
    "duration": 6,
    "start_time": "2023-01-30T17:02:04.872Z"
   },
   {
    "duration": 24,
    "start_time": "2023-01-30T17:02:04.880Z"
   },
   {
    "duration": 13,
    "start_time": "2023-01-30T17:02:04.905Z"
   },
   {
    "duration": 5,
    "start_time": "2023-01-30T17:02:04.919Z"
   },
   {
    "duration": 7,
    "start_time": "2023-01-30T17:02:04.925Z"
   },
   {
    "duration": 157,
    "start_time": "2023-01-30T17:02:04.933Z"
   },
   {
    "duration": 0,
    "start_time": "2023-01-30T17:02:05.092Z"
   },
   {
    "duration": 0,
    "start_time": "2023-01-30T17:02:05.094Z"
   },
   {
    "duration": 0,
    "start_time": "2023-01-30T17:02:05.095Z"
   },
   {
    "duration": 0,
    "start_time": "2023-01-30T17:02:05.096Z"
   },
   {
    "duration": 0,
    "start_time": "2023-01-30T17:02:05.097Z"
   },
   {
    "duration": 0,
    "start_time": "2023-01-30T17:02:05.098Z"
   },
   {
    "duration": 0,
    "start_time": "2023-01-30T17:02:05.100Z"
   },
   {
    "duration": 1,
    "start_time": "2023-01-30T17:02:05.100Z"
   },
   {
    "duration": 0,
    "start_time": "2023-01-30T17:02:05.102Z"
   },
   {
    "duration": 0,
    "start_time": "2023-01-30T17:02:05.103Z"
   },
   {
    "duration": 0,
    "start_time": "2023-01-30T17:02:05.104Z"
   },
   {
    "duration": 0,
    "start_time": "2023-01-30T17:02:05.105Z"
   },
   {
    "duration": 0,
    "start_time": "2023-01-30T17:02:05.107Z"
   },
   {
    "duration": 0,
    "start_time": "2023-01-30T17:02:05.108Z"
   },
   {
    "duration": 0,
    "start_time": "2023-01-30T17:02:05.109Z"
   },
   {
    "duration": 0,
    "start_time": "2023-01-30T17:02:05.110Z"
   },
   {
    "duration": 0,
    "start_time": "2023-01-30T17:02:05.112Z"
   },
   {
    "duration": 0,
    "start_time": "2023-01-30T17:02:05.113Z"
   },
   {
    "duration": 0,
    "start_time": "2023-01-30T17:02:05.114Z"
   },
   {
    "duration": 0,
    "start_time": "2023-01-30T17:02:05.115Z"
   },
   {
    "duration": 0,
    "start_time": "2023-01-30T17:02:05.116Z"
   },
   {
    "duration": 0,
    "start_time": "2023-01-30T17:02:05.116Z"
   },
   {
    "duration": 0,
    "start_time": "2023-01-30T17:02:05.118Z"
   },
   {
    "duration": 0,
    "start_time": "2023-01-30T17:02:05.119Z"
   },
   {
    "duration": 0,
    "start_time": "2023-01-30T17:02:05.120Z"
   },
   {
    "duration": 0,
    "start_time": "2023-01-30T17:02:05.121Z"
   },
   {
    "duration": 0,
    "start_time": "2023-01-30T17:02:05.122Z"
   },
   {
    "duration": 0,
    "start_time": "2023-01-30T17:02:05.124Z"
   },
   {
    "duration": 0,
    "start_time": "2023-01-30T17:02:05.126Z"
   },
   {
    "duration": 0,
    "start_time": "2023-01-30T17:02:05.127Z"
   },
   {
    "duration": 0,
    "start_time": "2023-01-30T17:02:05.129Z"
   },
   {
    "duration": 0,
    "start_time": "2023-01-30T17:02:05.130Z"
   },
   {
    "duration": 0,
    "start_time": "2023-01-30T17:02:05.132Z"
   },
   {
    "duration": 0,
    "start_time": "2023-01-30T17:02:05.133Z"
   },
   {
    "duration": 3,
    "start_time": "2023-01-30T17:02:28.720Z"
   },
   {
    "duration": 37,
    "start_time": "2023-01-30T17:02:29.540Z"
   },
   {
    "duration": 23329,
    "start_time": "2023-01-30T17:02:30.511Z"
   },
   {
    "duration": 198,
    "start_time": "2023-01-30T17:03:52.224Z"
   },
   {
    "duration": 163,
    "start_time": "2023-01-30T17:03:55.116Z"
   },
   {
    "duration": 20,
    "start_time": "2023-01-30T17:03:58.236Z"
   },
   {
    "duration": 162,
    "start_time": "2023-01-30T17:03:59.054Z"
   },
   {
    "duration": 6,
    "start_time": "2023-01-30T17:03:59.880Z"
   },
   {
    "duration": 11,
    "start_time": "2023-01-30T17:04:00.805Z"
   },
   {
    "duration": 10,
    "start_time": "2023-01-30T17:04:01.858Z"
   },
   {
    "duration": 8,
    "start_time": "2023-01-30T17:04:06.175Z"
   },
   {
    "duration": 5,
    "start_time": "2023-01-30T17:04:07.084Z"
   },
   {
    "duration": 1168,
    "start_time": "2023-01-30T17:04:07.526Z"
   },
   {
    "duration": 7,
    "start_time": "2023-01-30T17:04:14.517Z"
   },
   {
    "duration": 7,
    "start_time": "2023-01-30T17:04:18.445Z"
   },
   {
    "duration": 10,
    "start_time": "2023-01-30T17:04:25.171Z"
   },
   {
    "duration": 7,
    "start_time": "2023-01-30T17:04:25.656Z"
   },
   {
    "duration": 4,
    "start_time": "2023-01-30T17:04:26.136Z"
   },
   {
    "duration": 7,
    "start_time": "2023-01-30T17:04:26.357Z"
   },
   {
    "duration": 4,
    "start_time": "2023-01-30T17:04:26.795Z"
   },
   {
    "duration": 7,
    "start_time": "2023-01-30T17:04:27.002Z"
   },
   {
    "duration": 5,
    "start_time": "2023-01-30T17:04:27.512Z"
   },
   {
    "duration": 8,
    "start_time": "2023-01-30T17:04:27.857Z"
   },
   {
    "duration": 4,
    "start_time": "2023-01-30T17:04:28.552Z"
   },
   {
    "duration": 1221,
    "start_time": "2023-01-30T17:04:29.132Z"
   },
   {
    "duration": 0,
    "start_time": "2023-01-30T17:04:30.355Z"
   },
   {
    "duration": 6,
    "start_time": "2023-01-30T17:04:34.194Z"
   },
   {
    "duration": 4,
    "start_time": "2023-01-30T17:04:34.687Z"
   },
   {
    "duration": 13,
    "start_time": "2023-01-30T17:04:35.211Z"
   },
   {
    "duration": 10,
    "start_time": "2023-01-30T17:04:35.456Z"
   },
   {
    "duration": 9,
    "start_time": "2023-01-30T17:04:35.975Z"
   },
   {
    "duration": 12,
    "start_time": "2023-01-30T17:04:43.386Z"
   },
   {
    "duration": 136,
    "start_time": "2023-01-30T17:04:46.212Z"
   },
   {
    "duration": 260,
    "start_time": "2023-01-30T17:04:48.855Z"
   },
   {
    "duration": 12,
    "start_time": "2023-01-30T17:04:56.050Z"
   },
   {
    "duration": 7,
    "start_time": "2023-01-30T17:04:58.325Z"
   },
   {
    "duration": 1352,
    "start_time": "2023-01-30T17:04:58.905Z"
   },
   {
    "duration": 10,
    "start_time": "2023-01-30T17:05:01.750Z"
   },
   {
    "duration": 11,
    "start_time": "2023-01-30T17:05:07.451Z"
   },
   {
    "duration": 7,
    "start_time": "2023-01-30T17:05:10.268Z"
   },
   {
    "duration": 9,
    "start_time": "2023-01-30T17:05:31.930Z"
   },
   {
    "duration": 162,
    "start_time": "2023-01-30T17:05:34.720Z"
   }
  ],
  "kernelspec": {
   "display_name": "Python 3 (ipykernel)",
   "language": "python",
   "name": "python3"
  },
  "language_info": {
   "codemirror_mode": {
    "name": "ipython",
    "version": 3
   },
   "file_extension": ".py",
   "mimetype": "text/x-python",
   "name": "python",
   "nbconvert_exporter": "python",
   "pygments_lexer": "ipython3",
   "version": "3.9.5"
  },
  "toc": {
   "base_numbering": 1,
   "nav_menu": {},
   "number_sections": true,
   "sideBar": true,
   "skip_h1_title": true,
   "title_cell": "Table of Contents",
   "title_sidebar": "Contents",
   "toc_cell": false,
   "toc_position": {},
   "toc_section_display": true,
   "toc_window_display": false
  }
 },
 "nbformat": 4,
 "nbformat_minor": 5
}
